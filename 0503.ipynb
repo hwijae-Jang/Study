{
 "cells": [
  {
   "cell_type": "markdown",
   "id": "07b58861-1707-4673-977f-810c01856f68",
   "metadata": {},
   "source": [
    "# 1교시 : 과제"
   ]
  },
  {
   "cell_type": "code",
   "execution_count": 3,
   "id": "af293e09-6fce-4d5b-b8dc-22803fa18ede",
   "metadata": {},
   "outputs": [],
   "source": [
    "import pandas as pd\n",
    "import numpy as np"
   ]
  },
  {
   "cell_type": "markdown",
   "id": "4ac94012-777e-4e44-bafa-0796d900798c",
   "metadata": {},
   "source": [
    "## 1. 다항 회귀의 차수를 높일수록 과적합의 문제가 크게 발생한다"
   ]
  },
  {
   "cell_type": "markdown",
   "id": "f02ad3d1-47e1-4cef-8d75-fe04a193dac6",
   "metadata": {},
   "source": [
    "-> O"
   ]
  },
  {
   "cell_type": "markdown",
   "id": "29f2e675-7a57-4477-8450-8eee7e09cbfb",
   "metadata": {},
   "source": [
    "## 2. 편향-분산 트레이드오프에서 일반적으로 편향과 분산은 한쪽이 높아져도 다른 한쪽은 영향을 받지 않는다?"
   ]
  },
  {
   "cell_type": "markdown",
   "id": "eb1bae3b-840d-4fb1-95ec-21cfb84dabe1",
   "metadata": {},
   "source": [
    "-> X"
   ]
  },
  {
   "cell_type": "markdown",
   "id": "a031afc0-91a0-42c7-94de-4983fbeffef3",
   "metadata": {},
   "source": [
    "## 3. 분류와 회귀의 큰 차이는 분류의 예측값은 _____ 이고, 회귀의 예측값은 _____ 라는 것이다."
   ]
  },
  {
   "cell_type": "markdown",
   "id": "0cfcb1c2-b9a3-4e6b-84f2-85a15325142f",
   "metadata": {},
   "source": [
    "-> 범주형, 숫자형"
   ]
  },
  {
   "cell_type": "markdown",
   "id": "4222b1c4-e2e0-4df7-b811-20766cfdc3fa",
   "metadata": {},
   "source": [
    "## 4. 회귀에서 학습이 얼마나 잘 되었는가를 평가하는 지표는?"
   ]
  },
  {
   "cell_type": "markdown",
   "id": "1fca1958-27c1-4cea-ab2b-57ee626da613",
   "metadata": {},
   "source": [
    "MAE <br/>MSE <br/>RMSE <br/>R^2"
   ]
  },
  {
   "cell_type": "markdown",
   "id": "3f87c0bf-e32e-447f-ba0b-5664653e6bd4",
   "metadata": {},
   "source": [
    "## 5. 다음 중 틀린것은?"
   ]
  },
  {
   "cell_type": "markdown",
   "id": "a7e9c74f-bd33-471d-99b5-a37ebdb4e7a8",
   "metadata": {},
   "source": [
    "1. 학습데이터 값이 심하게 왜곡되어 있는 경우 log 스케일링이 도움 된다.\n",
    "2. 다항 회귀는 선형 회귀의 일종이다\n",
    "3. 회귀는 경사하강법을 통해 오류를 줄이는 쪽으로 학습한다\n",
    "4. 릿지, 릿소, 엘라스틱 규제를 적절히 사용하면 오버피팅을 막을 수 있다\n",
    "5. 확률적 경사하강법은 일반 경사하강법에 비해 속도가 느리다"
   ]
  },
  {
   "cell_type": "markdown",
   "id": "8a967e54-b59c-4be2-a6be-1cced4ddaa30",
   "metadata": {},
   "source": [
    "-> 5번"
   ]
  },
  {
   "cell_type": "markdown",
   "id": "1942ea8a-4192-48a2-88e6-13310e8392ee",
   "metadata": {},
   "source": [
    "## 6. 릿지 규제 모델과 랏소 규제 모델의 공통점과 차이는?"
   ]
  },
  {
   "cell_type": "markdown",
   "id": "c79ecf2f-16fd-4ff8-a860-5d5d794a6ae8",
   "metadata": {},
   "source": [
    "L1 = Lasso - 절댓값에 규제 적용\n",
    "\n",
    "L2 = Ridge - 제곱의 합에 규제 적용\n",
    "\n",
    "공통점 : W(계수) 의 크기를 규제\n",
    "\n",
    "규제의 강도 : alpha(=lambda) = 패널티"
   ]
  },
  {
   "cell_type": "markdown",
   "id": "557dbf50-15f4-45fe-a8b7-13c5964c05bc",
   "metadata": {},
   "source": [
    "## 7. 다음과 같은 X와 y가 주어졌을 때, 다항 회귀 코드를 작성해 채워보세요"
   ]
  },
  {
   "cell_type": "code",
   "execution_count": 38,
   "id": "e4a6f05a-95be-475d-aeb1-45922f834e9c",
   "metadata": {},
   "outputs": [],
   "source": [
    "from sklearn.preprocessing import PolynomialFeatures\n",
    "import numpy as np\n",
    "import seaborn as sns\n",
    "from sklearn.linear_model import LinearRegression "
   ]
  },
  {
   "cell_type": "code",
   "execution_count": 39,
   "id": "3ce4300d-98a8-4903-9664-e43463ddb819",
   "metadata": {},
   "outputs": [],
   "source": [
    "np.random.seed = 1234\n",
    "X = np.arange(-10, 10)\n",
    "y = 1 + 4*X + X**2 + np.random.randn(20)"
   ]
  },
  {
   "cell_type": "code",
   "execution_count": 40,
   "id": "0ba22ec1-9aaf-45a3-9ce9-680d97c718db",
   "metadata": {},
   "outputs": [
    {
     "data": {
      "text/plain": [
       "array([ 63.12519347,  47.76754179,  35.08420335,  21.21880117,\n",
       "        12.82797088,   4.43487916,   1.3255024 ,  -3.00541973,\n",
       "        -1.57326406,  -0.34647865,   2.3211452 ,   5.98696123,\n",
       "        13.06620622,  21.93709086,  31.97338885,  46.25490033,\n",
       "        59.42704932,  78.22950313,  96.89987655, 116.63456753])"
      ]
     },
     "execution_count": 40,
     "metadata": {},
     "output_type": "execute_result"
    }
   ],
   "source": [
    "y"
   ]
  },
  {
   "cell_type": "code",
   "execution_count": 27,
   "id": "15800085-deaf-4038-ae74-bf0bdb28d2ab",
   "metadata": {
    "collapsed": true,
    "jupyter": {
     "outputs_hidden": true
    },
    "tags": []
   },
   "outputs": [
    {
     "data": {
      "text/plain": [
       "array([[2, 2, 2],\n",
       "       [2, 2, 2]])"
      ]
     },
     "execution_count": 27,
     "metadata": {},
     "output_type": "execute_result"
    }
   ],
   "source": [
    "np.random.randint(2,3,(2,3))"
   ]
  },
  {
   "cell_type": "code",
   "execution_count": 25,
   "id": "fd14805f-ec48-40bf-83ab-ccbf1828909e",
   "metadata": {
    "collapsed": true,
    "jupyter": {
     "outputs_hidden": true
    },
    "tags": []
   },
   "outputs": [
    {
     "data": {
      "text/plain": [
       "array([0.89644078, 0.86863586, 0.03212436, 0.4944179 , 0.42764469,\n",
       "       0.77699514, 0.56961919, 0.4223653 , 0.35200032, 0.6807514 ,\n",
       "       0.2218511 , 0.20268044, 0.52810549, 0.82172122, 0.75822384,\n",
       "       0.48975136, 0.43359558, 0.36291488, 0.55865919, 0.88579927])"
      ]
     },
     "execution_count": 25,
     "metadata": {},
     "output_type": "execute_result"
    }
   ],
   "source": [
    "np.random.rand(20)\n",
    "# np.random.random(20)\n",
    "# np.random.uniform(size=20)"
   ]
  },
  {
   "cell_type": "code",
   "execution_count": 42,
   "id": "91c55af1-89c7-4180-bc76-2a9c3ecba2d3",
   "metadata": {
    "collapsed": true,
    "jupyter": {
     "outputs_hidden": true
    },
    "tags": []
   },
   "outputs": [
    {
     "data": {
      "text/plain": [
       "<Axes: >"
      ]
     },
     "execution_count": 42,
     "metadata": {},
     "output_type": "execute_result"
    },
    {
     "data": {
      "image/png": "[encoded data removed]",
      "text/plain": [
       "<Figure size 640x480 with 1 Axes>"
      ]
     },
     "metadata": {},
     "output_type": "display_data"
    }
   ],
   "source": [
    "sns.scatterplot(x=X,y=y)"
   ]
  },
  {
   "cell_type": "code",
   "execution_count": 43,
   "id": "f4e38b95-75f1-47c7-81f2-171393b2ca36",
   "metadata": {},
   "outputs": [
    {
     "data": {
      "text/html": [
       "<style>#sk-container-id-1 {color: black;background-color: white;}#sk-container-id-1 pre{padding: 0;}#sk-container-id-1 div.sk-toggleable {background-color: white;}#sk-container-id-1 label.sk-toggleable__label {cursor: pointer;display: block;width: 100%;margin-bottom: 0;padding: 0.3em;box-sizing: border-box;text-align: center;}#sk-container-id-1 label.sk-toggleable__label-arrow:before {content: \"▸\";float: left;margin-right: 0.25em;color: #696969;}#sk-container-id-1 label.sk-toggleable__label-arrow:hover:before {color: black;}#sk-container-id-1 div.sk-estimator:hover label.sk-toggleable__label-arrow:before {color: black;}#sk-container-id-1 div.sk-toggleable__content {max-height: 0;max-width: 0;overflow: hidden;text-align: left;background-color: #f0f8ff;}#sk-container-id-1 div.sk-toggleable__content pre {margin: 0.2em;color: black;border-radius: 0.25em;background-color: #f0f8ff;}#sk-container-id-1 input.sk-toggleable__control:checked~div.sk-toggleable__content {max-height: 200px;max-width: 100%;overflow: auto;}#sk-container-id-1 input.sk-toggleable__control:checked~label.sk-toggleable__label-arrow:before {content: \"▾\";}#sk-container-id-1 div.sk-estimator input.sk-toggleable__control:checked~label.sk-toggleable__label {background-color: #d4ebff;}#sk-container-id-1 div.sk-label input.sk-toggleable__control:checked~label.sk-toggleable__label {background-color: #d4ebff;}#sk-container-id-1 input.sk-hidden--visually {border: 0;clip: rect(1px 1px 1px 1px);clip: rect(1px, 1px, 1px, 1px);height: 1px;margin: -1px;overflow: hidden;padding: 0;position: absolute;width: 1px;}#sk-container-id-1 div.sk-estimator {font-family: monospace;background-color: #f0f8ff;border: 1px dotted black;border-radius: 0.25em;box-sizing: border-box;margin-bottom: 0.5em;}#sk-container-id-1 div.sk-estimator:hover {background-color: #d4ebff;}#sk-container-id-1 div.sk-parallel-item::after {content: \"\";width: 100%;border-bottom: 1px solid gray;flex-grow: 1;}#sk-container-id-1 div.sk-label:hover label.sk-toggleable__label {background-color: #d4ebff;}#sk-container-id-1 div.sk-serial::before {content: \"\";position: absolute;border-left: 1px solid gray;box-sizing: border-box;top: 0;bottom: 0;left: 50%;z-index: 0;}#sk-container-id-1 div.sk-serial {display: flex;flex-direction: column;align-items: center;background-color: white;padding-right: 0.2em;padding-left: 0.2em;position: relative;}#sk-container-id-1 div.sk-item {position: relative;z-index: 1;}#sk-container-id-1 div.sk-parallel {display: flex;align-items: stretch;justify-content: center;background-color: white;position: relative;}#sk-container-id-1 div.sk-item::before, #sk-container-id-1 div.sk-parallel-item::before {content: \"\";position: absolute;border-left: 1px solid gray;box-sizing: border-box;top: 0;bottom: 0;left: 50%;z-index: -1;}#sk-container-id-1 div.sk-parallel-item {display: flex;flex-direction: column;z-index: 1;position: relative;background-color: white;}#sk-container-id-1 div.sk-parallel-item:first-child::after {align-self: flex-end;width: 50%;}#sk-container-id-1 div.sk-parallel-item:last-child::after {align-self: flex-start;width: 50%;}#sk-container-id-1 div.sk-parallel-item:only-child::after {width: 0;}#sk-container-id-1 div.sk-dashed-wrapped {border: 1px dashed gray;margin: 0 0.4em 0.5em 0.4em;box-sizing: border-box;padding-bottom: 0.4em;background-color: white;}#sk-container-id-1 div.sk-label label {font-family: monospace;font-weight: bold;display: inline-block;line-height: 1.2em;}#sk-container-id-1 div.sk-label-container {text-align: center;}#sk-container-id-1 div.sk-container {/* jupyter's `normalize.less` sets `[hidden] { display: none; }` but bootstrap.min.css set `[hidden] { display: none !important; }` so we also need the `!important` here to be able to override the default hidden behavior on the sphinx rendered scikit-learn.org. See: https://github.com/scikit-learn/scikit-learn/issues/21755 */display: inline-block !important;position: relative;}#sk-container-id-1 div.sk-text-repr-fallback {display: none;}</style><div id=\"sk-container-id-1\" class=\"sk-top-container\"><div class=\"sk-text-repr-fallback\"><pre>PolynomialFeatures()</pre><b>In a Jupyter environment, please rerun this cell to show the HTML representation or trust the notebook. <br />On GitHub, the HTML representation is unable to render, please try loading this page with nbviewer.org.</b></div><div class=\"sk-container\" hidden><div class=\"sk-item\"><div class=\"sk-estimator sk-toggleable\"><input class=\"sk-toggleable__control sk-hidden--visually\" id=\"sk-estimator-id-1\" type=\"checkbox\" checked><label for=\"sk-estimator-id-1\" class=\"sk-toggleable__label sk-toggleable__label-arrow\">PolynomialFeatures</label><div class=\"sk-toggleable__content\"><pre>PolynomialFeatures()</pre></div></div></div></div></div>"
      ],
      "text/plain": [
       "PolynomialFeatures()"
      ]
     },
     "execution_count": 43,
     "metadata": {},
     "output_type": "execute_result"
    }
   ],
   "source": [
    "PolynomialFeatures()"
   ]
  },
  {
   "cell_type": "code",
   "execution_count": 44,
   "id": "d139571e-2c3b-44f3-a9ba-f7f1dfc8bd08",
   "metadata": {},
   "outputs": [
    {
     "data": {
      "text/plain": [
       "array([-10,  -9,  -8,  -7,  -6,  -5,  -4,  -3,  -2,  -1,   0,   1,   2,\n",
       "         3,   4,   5,   6,   7,   8,   9])"
      ]
     },
     "execution_count": 44,
     "metadata": {},
     "output_type": "execute_result"
    }
   ],
   "source": [
    "X"
   ]
  },
  {
   "cell_type": "code",
   "execution_count": 51,
   "id": "0534c747-a6ba-4235-80fa-26a15f5a68db",
   "metadata": {},
   "outputs": [
    {
     "data": {
      "text/plain": [
       "array([[0],\n",
       "       [1],\n",
       "       [2],\n",
       "       [3]])"
      ]
     },
     "execution_count": 51,
     "metadata": {},
     "output_type": "execute_result"
    }
   ],
   "source": [
    "X = np.arange(4)[:, np.newaxis] # 객체생성\n",
    "X"
   ]
  },
  {
   "cell_type": "code",
   "execution_count": 52,
   "id": "2886afba-a604-44e2-a47f-f180ded40e23",
   "metadata": {},
   "outputs": [
    {
     "data": {
      "text/plain": [
       "array([[1., 0., 0.],\n",
       "       [1., 1., 1.],\n",
       "       [1., 2., 4.],\n",
       "       [1., 3., 9.]])"
      ]
     },
     "execution_count": 52,
     "metadata": {},
     "output_type": "execute_result"
    }
   ],
   "source": [
    "poly = PolynomialFeatures(degree=2) # 2차식으로 만들어주겠다\n",
    "poly_ftr = poly.fit_transform(X)\n",
    "poly_ftr"
   ]
  },
  {
   "cell_type": "code",
   "execution_count": 53,
   "id": "ed19aa23-a73e-425b-8abc-6dc288e2eb36",
   "metadata": {},
   "outputs": [],
   "source": [
    "# 정답에 해당하는 함수 만들기\n",
    "def polynomial_func(X):\n",
    "      y = 1 + 4*X + X**2 + np.random.randn(20)\n",
    "      return y"
   ]
  },
  {
   "cell_type": "code",
   "execution_count": 59,
   "id": "bae81931-2048-4792-a0c8-ad926a0f78bd",
   "metadata": {
    "collapsed": true,
    "jupyter": {
     "outputs_hidden": true
    },
    "tags": []
   },
   "outputs": [
    {
     "data": {
      "text/plain": [
       "array([[ 1.99580257,  0.22191839,  1.81677023,  0.58522322,  0.56725714,\n",
       "         1.0099872 ,  0.3115744 ,  2.29051244,  2.33583448,  1.33465712,\n",
       "         0.3135792 ,  3.52338965,  0.58553975,  1.91786418,  0.2810585 ,\n",
       "         1.46162481,  3.43595234,  0.91392341,  0.09828622,  0.98727121],\n",
       "       [ 6.99580257,  5.22191839,  6.81677023,  5.58522322,  5.56725714,\n",
       "         6.0099872 ,  5.3115744 ,  7.29051244,  7.33583448,  6.33465712,\n",
       "         5.3135792 ,  8.52338965,  5.58553975,  6.91786418,  5.2810585 ,\n",
       "         6.46162481,  8.43595234,  5.91392341,  5.09828622,  5.98727121],\n",
       "       [13.99580257, 12.22191839, 13.81677023, 12.58522322, 12.56725714,\n",
       "        13.0099872 , 12.3115744 , 14.29051244, 14.33583448, 13.33465712,\n",
       "        12.3135792 , 15.52338965, 12.58553975, 13.91786418, 12.2810585 ,\n",
       "        13.46162481, 15.43595234, 12.91392341, 12.09828622, 12.98727121],\n",
       "       [22.99580257, 21.22191839, 22.81677023, 21.58522322, 21.56725714,\n",
       "        22.0099872 , 21.3115744 , 23.29051244, 23.33583448, 22.33465712,\n",
       "        21.3135792 , 24.52338965, 21.58553975, 22.91786418, 21.2810585 ,\n",
       "        22.46162481, 24.43595234, 21.91392341, 21.09828622, 21.98727121]])"
      ]
     },
     "execution_count": 59,
     "metadata": {},
     "output_type": "execute_result"
    }
   ],
   "source": [
    "y = polynomial_func(X)\n",
    "y"
   ]
  },
  {
   "cell_type": "code",
   "execution_count": 60,
   "id": "f9bdac11-d67e-4369-86ee-b13170966567",
   "metadata": {},
   "outputs": [
    {
     "data": {
      "text/html": [
       "<style>#sk-container-id-2 {color: black;background-color: white;}#sk-container-id-2 pre{padding: 0;}#sk-container-id-2 div.sk-toggleable {background-color: white;}#sk-container-id-2 label.sk-toggleable__label {cursor: pointer;display: block;width: 100%;margin-bottom: 0;padding: 0.3em;box-sizing: border-box;text-align: center;}#sk-container-id-2 label.sk-toggleable__label-arrow:before {content: \"▸\";float: left;margin-right: 0.25em;color: #696969;}#sk-container-id-2 label.sk-toggleable__label-arrow:hover:before {color: black;}#sk-container-id-2 div.sk-estimator:hover label.sk-toggleable__label-arrow:before {color: black;}#sk-container-id-2 div.sk-toggleable__content {max-height: 0;max-width: 0;overflow: hidden;text-align: left;background-color: #f0f8ff;}#sk-container-id-2 div.sk-toggleable__content pre {margin: 0.2em;color: black;border-radius: 0.25em;background-color: #f0f8ff;}#sk-container-id-2 input.sk-toggleable__control:checked~div.sk-toggleable__content {max-height: 200px;max-width: 100%;overflow: auto;}#sk-container-id-2 input.sk-toggleable__control:checked~label.sk-toggleable__label-arrow:before {content: \"▾\";}#sk-container-id-2 div.sk-estimator input.sk-toggleable__control:checked~label.sk-toggleable__label {background-color: #d4ebff;}#sk-container-id-2 div.sk-label input.sk-toggleable__control:checked~label.sk-toggleable__label {background-color: #d4ebff;}#sk-container-id-2 input.sk-hidden--visually {border: 0;clip: rect(1px 1px 1px 1px);clip: rect(1px, 1px, 1px, 1px);height: 1px;margin: -1px;overflow: hidden;padding: 0;position: absolute;width: 1px;}#sk-container-id-2 div.sk-estimator {font-family: monospace;background-color: #f0f8ff;border: 1px dotted black;border-radius: 0.25em;box-sizing: border-box;margin-bottom: 0.5em;}#sk-container-id-2 div.sk-estimator:hover {background-color: #d4ebff;}#sk-container-id-2 div.sk-parallel-item::after {content: \"\";width: 100%;border-bottom: 1px solid gray;flex-grow: 1;}#sk-container-id-2 div.sk-label:hover label.sk-toggleable__label {background-color: #d4ebff;}#sk-container-id-2 div.sk-serial::before {content: \"\";position: absolute;border-left: 1px solid gray;box-sizing: border-box;top: 0;bottom: 0;left: 50%;z-index: 0;}#sk-container-id-2 div.sk-serial {display: flex;flex-direction: column;align-items: center;background-color: white;padding-right: 0.2em;padding-left: 0.2em;position: relative;}#sk-container-id-2 div.sk-item {position: relative;z-index: 1;}#sk-container-id-2 div.sk-parallel {display: flex;align-items: stretch;justify-content: center;background-color: white;position: relative;}#sk-container-id-2 div.sk-item::before, #sk-container-id-2 div.sk-parallel-item::before {content: \"\";position: absolute;border-left: 1px solid gray;box-sizing: border-box;top: 0;bottom: 0;left: 50%;z-index: -1;}#sk-container-id-2 div.sk-parallel-item {display: flex;flex-direction: column;z-index: 1;position: relative;background-color: white;}#sk-container-id-2 div.sk-parallel-item:first-child::after {align-self: flex-end;width: 50%;}#sk-container-id-2 div.sk-parallel-item:last-child::after {align-self: flex-start;width: 50%;}#sk-container-id-2 div.sk-parallel-item:only-child::after {width: 0;}#sk-container-id-2 div.sk-dashed-wrapped {border: 1px dashed gray;margin: 0 0.4em 0.5em 0.4em;box-sizing: border-box;padding-bottom: 0.4em;background-color: white;}#sk-container-id-2 div.sk-label label {font-family: monospace;font-weight: bold;display: inline-block;line-height: 1.2em;}#sk-container-id-2 div.sk-label-container {text-align: center;}#sk-container-id-2 div.sk-container {/* jupyter's `normalize.less` sets `[hidden] { display: none; }` but bootstrap.min.css set `[hidden] { display: none !important; }` so we also need the `!important` here to be able to override the default hidden behavior on the sphinx rendered scikit-learn.org. See: https://github.com/scikit-learn/scikit-learn/issues/21755 */display: inline-block !important;position: relative;}#sk-container-id-2 div.sk-text-repr-fallback {display: none;}</style><div id=\"sk-container-id-2\" class=\"sk-top-container\"><div class=\"sk-text-repr-fallback\"><pre>LinearRegression()</pre><b>In a Jupyter environment, please rerun this cell to show the HTML representation or trust the notebook. <br />On GitHub, the HTML representation is unable to render, please try loading this page with nbviewer.org.</b></div><div class=\"sk-container\" hidden><div class=\"sk-item\"><div class=\"sk-estimator sk-toggleable\"><input class=\"sk-toggleable__control sk-hidden--visually\" id=\"sk-estimator-id-2\" type=\"checkbox\" checked><label for=\"sk-estimator-id-2\" class=\"sk-toggleable__label sk-toggleable__label-arrow\">LinearRegression</label><div class=\"sk-toggleable__content\"><pre>LinearRegression()</pre></div></div></div></div></div>"
      ],
      "text/plain": [
       "LinearRegression()"
      ]
     },
     "execution_count": 60,
     "metadata": {},
     "output_type": "execute_result"
    }
   ],
   "source": [
    "model = LinearRegression()\n",
    "model.fit(poly_ftr,y)"
   ]
  },
  {
   "cell_type": "code",
   "execution_count": 65,
   "id": "f49ce979-3d76-41ab-ad70-6accfb4bc9bd",
   "metadata": {},
   "outputs": [
    {
     "data": {
      "text/plain": [
       "array([[0., 4., 1.],\n",
       "       [0., 4., 1.],\n",
       "       [0., 4., 1.],\n",
       "       [0., 4., 1.],\n",
       "       [0., 4., 1.],\n",
       "       [0., 4., 1.],\n",
       "       [0., 4., 1.],\n",
       "       [0., 4., 1.],\n",
       "       [0., 4., 1.],\n",
       "       [0., 4., 1.],\n",
       "       [0., 4., 1.],\n",
       "       [0., 4., 1.],\n",
       "       [0., 4., 1.],\n",
       "       [0., 4., 1.],\n",
       "       [0., 4., 1.],\n",
       "       [0., 4., 1.],\n",
       "       [0., 4., 1.],\n",
       "       [0., 4., 1.],\n",
       "       [0., 4., 1.],\n",
       "       [0., 4., 1.]])"
      ]
     },
     "execution_count": 65,
     "metadata": {},
     "output_type": "execute_result"
    }
   ],
   "source": [
    "model.coef_\n",
    "# 계수는 0, 4, 1"
   ]
  },
  {
   "cell_type": "code",
   "execution_count": 64,
   "id": "a948f8fd-b55d-465e-a149-ef9079d7c39a",
   "metadata": {},
   "outputs": [],
   "source": [
    "\n",
    "# poly_features = PolynomialFeatures(degree = 2)\n",
    "# X_poly = poly_features.fit_transform(X.reshape(-1,1))\n",
    "\n",
    "# lin_reg = LinearRegression()\n",
    "# lin_reg.fit(X_poly, y)\n",
    "# print(lin_reg.coef_) \n",
    "\n"
   ]
  },
  {
   "cell_type": "markdown",
   "id": "5927f899-e981-4c36-9520-23f3971cdf73",
   "metadata": {},
   "source": [
    "## 8. "
   ]
  },
  {
   "cell_type": "markdown",
   "id": "b29b3845-5280-4eba-a7bf-b389d12f241c",
   "metadata": {},
   "source": [
    "## 9. 회귀 평가 지표를 아래 설명에 맞게 괄호 안에 넣으세요"
   ]
  },
  {
   "cell_type": "markdown",
   "id": "c53af7c4-00b9-4128-847d-8a38ce6b8e71",
   "metadata": {},
   "source": [
    "1) MSE에 루트를 씌운 것 (______)\n",
    "-> RMSE\n",
    "2) 실제값과 예측값의 차이를 절댓값으로 변환해 평균한 것 (______)\n",
    "-> MAE\n",
    "3) 실제값의 분산 대비 에측값의 분산 비율을 지표로 하며, 1에 가까울수록 예측정확도가 높다. (______)\n",
    "-> R^2\n",
    "4) 실제값과 예측값의 차이를 제곱해 평균한 것 (______) \n",
    "-> MSE"
   ]
  },
  {
   "cell_type": "markdown",
   "id": "d32f9c16-5893-41ad-8eb2-6b1d2cdb645e",
   "metadata": {},
   "source": [
    "## 10. 머신러닝에서 목적함수와 동의어라 정의할 수 있는 함수를 모두 쓰시오"
   ]
  },
  {
   "cell_type": "raw",
   "id": "ab7746ea-8516-4db0-9cce-5c6a2b18b753",
   "metadata": {},
   "source": [
    "손실함수 : loss function\n",
    "비용함수 : cost function\n",
    "오차함수 : error function"
   ]
  },
  {
   "cell_type": "markdown",
   "id": "7d7feb95-2241-45b4-a767-10648a1be6d0",
   "metadata": {},
   "source": [
    "## 11. 릿지 회귀에서 회귀계수를 추정할 때 값이 커지지 않도록 (______) 을 부여한다."
   ]
  },
  {
   "cell_type": "raw",
   "id": "0b4d7174-76f0-4c99-930a-e046b2511c39",
   "metadata": {},
   "source": [
    "-> L2 panalty (규제 패널티)"
   ]
  },
  {
   "cell_type": "markdown",
   "id": "8f90ff5b-8a74-4242-8891-ceaabb9b33fc",
   "metadata": {},
   "source": [
    "## 12. 시그모이드 함수식을 쓰세요"
   ]
  },
  {
   "cell_type": "markdown",
   "id": "243aff9b-5519-4f62-a94d-8421cd40370e",
   "metadata": {},
   "source": [
    "### $ \\frac{1}{(1+e^-x)} $"
   ]
  },
  {
   "cell_type": "markdown",
   "id": "9f97fc8f-4e1c-471b-9728-9ac920d36830",
   "metadata": {},
   "source": [
    "## 13. 시그모이드 함수를 그리세요"
   ]
  },
  {
   "cell_type": "code",
   "execution_count": 92,
   "id": "dd844eee-bdae-4833-9aeb-a953604ebaaf",
   "metadata": {},
   "outputs": [
    {
     "data": {
      "text/plain": [
       "[<matplotlib.lines.Line2D at 0x14f76f19ae0>]"
      ]
     },
     "execution_count": 92,
     "metadata": {},
     "output_type": "execute_result"
    },
    {
     "data": {
      "image/png": "[encoded data removed]",
      "text/plain": [
       "<Figure size 640x480 with 1 Axes>"
      ]
     },
     "metadata": {},
     "output_type": "display_data"
    }
   ],
   "source": [
    "x = np.arange(-10, 10, 0.1)\n",
    "\n",
    "e = np.exp(3)\n",
    "\n",
    "y = 1/(1+np.exp(-x))\n",
    "\n",
    "import matplotlib.pyplot as plt\n",
    "\n",
    "plt.plot(x,y)"
   ]
  },
  {
   "cell_type": "markdown",
   "id": "9c86f0c1-ae14-4fc1-963c-27c254e7e786",
   "metadata": {},
   "source": [
    "## 14. 10개의 변수로 전역 탐색을 할 경우 2차 상호작용까지 고려한 조합의 가지수는?"
   ]
  },
  {
   "cell_type": "markdown",
   "id": "7555269a-6261-4335-bce7-eda824e5a83d",
   "metadata": {},
   "source": [
    "10 + (10x9)/2 = 45\n",
    "\n",
    "10 + $C^{2}_{10}$ = 45"
   ]
  },
  {
   "cell_type": "markdown",
   "id": "eaef20e8-3f34-49e7-8751-590f8e47192e",
   "metadata": {},
   "source": [
    "## 15. 다음이 설명하는 것은?"
   ]
  },
  {
   "cell_type": "raw",
   "id": "bd9fe872-f75b-46fe-8855-33025eac92a2",
   "metadata": {},
   "source": [
    "편향 ↑ -> 분산 ↓\n",
    "편향 ↓ -> 분산 ↑"
   ]
  },
  {
   "cell_type": "raw",
   "id": "2214e027-d192-4ae9-ac0f-3b4405c49511",
   "metadata": {},
   "source": [
    "편향-분산 트레이드오프"
   ]
  },
  {
   "cell_type": "markdown",
   "id": "5c0bd09c-3749-40bf-b35b-76c0aaeed07d",
   "metadata": {},
   "source": [
    "# 2교시 : 로지스틱 회귀 : 350p ~ "
   ]
  },
  {
   "cell_type": "code",
   "execution_count": 104,
   "id": "4979962f-3f43-4f5f-94f8-eff1e29488bf",
   "metadata": {},
   "outputs": [],
   "source": [
    "from sklearn.datasets import load_breast_cancer\n",
    "from sklearn.linear_model import LogisticRegression\n",
    "cancer = load_breast_cancer()"
   ]
  },
  {
   "cell_type": "code",
   "execution_count": 105,
   "id": "656d4646-d3d4-484b-98bf-c45a2434a795",
   "metadata": {},
   "outputs": [],
   "source": [
    "from sklearn.preprocessing import StandardScaler\n",
    "from sklearn.model_selection import train_test_split\n",
    "\n",
    "scaler = StandardScaler()\n",
    "scaled = scaler.fit_transform(cancer.data)"
   ]
  },
  {
   "cell_type": "code",
   "execution_count": 107,
   "id": "d169efeb-ccfc-412f-99fb-d19ad4cdd0e4",
   "metadata": {},
   "outputs": [],
   "source": [
    "X_train, X_test, y_train, y_test = train_test_split(scaled, cancer.target, test_size=0.3, random_state=0)"
   ]
  },
  {
   "cell_type": "code",
   "execution_count": 108,
   "id": "7e4c39ff-88b1-4aa1-aeda-b093f4b95162",
   "metadata": {},
   "outputs": [
    {
     "name": "stdout",
     "output_type": "stream",
     "text": [
      "정확도: 0.9766081871345029, AUC: 0.9715608465608465\n"
     ]
    }
   ],
   "source": [
    "from sklearn.metrics import accuracy_score, roc_auc_score\n",
    "lr_clf = LogisticRegression()\n",
    "lr_clf.fit(X_train, y_train)\n",
    "pred = lr_clf.predict(X_test)\n",
    "acc = accuracy_score(y_test, pred)\n",
    "auc = roc_auc_score(y_test, pred)\n",
    "print(f'정확도: {acc}, AUC: {auc}')"
   ]
  },
  {
   "cell_type": "code",
   "execution_count": 109,
   "id": "aa563511-fec7-4681-890e-9ad897fb32a0",
   "metadata": {},
   "outputs": [
    {
     "data": {
      "text/plain": [
       "(569, 30)"
      ]
     },
     "execution_count": 109,
     "metadata": {},
     "output_type": "execute_result"
    }
   ],
   "source": [
    "cancer.data.shape"
   ]
  },
  {
   "cell_type": "code",
   "execution_count": 110,
   "id": "6640ca44-b1a1-4eb2-b385-5b37771d85f7",
   "metadata": {},
   "outputs": [
    {
     "data": {
      "text/plain": [
       "(569, 5)"
      ]
     },
     "execution_count": 110,
     "metadata": {},
     "output_type": "execute_result"
    }
   ],
   "source": [
    "X = cancer.data[:, :5]\n",
    "X.shape"
   ]
  },
  {
   "cell_type": "code",
   "execution_count": 112,
   "id": "d7a2af41-1c68-47d8-b7e3-00e53087869e",
   "metadata": {},
   "outputs": [
    {
     "name": "stdout",
     "output_type": "stream",
     "text": [
      "정확도: 0.9766081871345029, AUC: 0.9715608465608465\n",
      "정확도: 0.9824561403508771, AUC: 0.9794973544973544\n",
      "정확도: 0.9766081871345029, AUC: 0.9715608465608465\n",
      "정확도: 0.9824561403508771, AUC: 0.9794973544973544\n",
      "정확도: 0.9824561403508771, AUC: 0.9794973544973544\n"
     ]
    },
    {
     "name": "stderr",
     "output_type": "stream",
     "text": [
      "C:\\Users\\user\\anaconda3\\lib\\site-packages\\sklearn\\linear_model\\_sag.py:350: ConvergenceWarning: The max_iter was reached which means the coef_ did not converge\n",
      "  warnings.warn(\n",
      "C:\\Users\\user\\anaconda3\\lib\\site-packages\\sklearn\\linear_model\\_sag.py:350: ConvergenceWarning: The max_iter was reached which means the coef_ did not converge\n",
      "  warnings.warn(\n"
     ]
    }
   ],
   "source": [
    "solvers = ['lbfgs', 'liblinear', 'newton-cg', 'sag', 'saga']\n",
    "for solver in solvers:\n",
    "\n",
    "      lr_clf = LogisticRegression(solver=solver)\n",
    "      lr_clf.fit(X_train, y_train)\n",
    "      pred = lr_clf.predict(X_test)\n",
    "      acc = accuracy_score(y_test, pred)\n",
    "      auc = roc_auc_score(y_test, pred)\n",
    "      print(f'정확도: {acc}, AUC: {auc}')"
   ]
  },
  {
   "cell_type": "markdown",
   "id": "dacfb4ce-b6ff-449c-9207-78d5b98d6dd4",
   "metadata": {},
   "source": [
    "## GridSearch를 하여, 최적의 solver, penalty, C 값을 찾아봅시다. 그 때의 정확도는?"
   ]
  },
  {
   "cell_type": "code",
   "execution_count": 114,
   "id": "638730f6-7f3d-413d-a47d-cd1db3e9adb0",
   "metadata": {},
   "outputs": [],
   "source": [
    "from sklearn.model_selection import GridSearchCV"
   ]
  },
  {
   "cell_type": "code",
   "execution_count": 117,
   "id": "e1e2cb1c-cc73-41b7-afa0-694ad02ce426",
   "metadata": {},
   "outputs": [],
   "source": [
    "scaler = StandardScaler()\n",
    "scaled = scaler.fit_transform(cancer.data[:, 10:12])"
   ]
  },
  {
   "cell_type": "code",
   "execution_count": 119,
   "id": "0ebce90d-4df3-452d-8656-50c93d749b0a",
   "metadata": {},
   "outputs": [
    {
     "name": "stdout",
     "output_type": "stream",
     "text": [
      "최적 하이퍼 파라미터:{'C': 0.5, 'penalty': 'l2', 'solver': 'lbfgs'}, 최적 평균 정확도:0.835\n"
     ]
    },
    {
     "name": "stderr",
     "output_type": "stream",
     "text": [
      "C:\\Users\\user\\anaconda3\\lib\\site-packages\\sklearn\\model_selection\\_validation.py:378: FitFailedWarning: \n",
      "21 fits failed out of a total of 84.\n",
      "The score on these train-test partitions for these parameters will be set to nan.\n",
      "If these failures are not expected, you can try to debug them by setting error_score='raise'.\n",
      "\n",
      "Below are more details about the failures:\n",
      "--------------------------------------------------------------------------------\n",
      "21 fits failed with the following error:\n",
      "Traceback (most recent call last):\n",
      "  File \"C:\\Users\\user\\anaconda3\\lib\\site-packages\\sklearn\\model_selection\\_validation.py\", line 686, in _fit_and_score\n",
      "    estimator.fit(X_train, y_train, **fit_params)\n",
      "  File \"C:\\Users\\user\\anaconda3\\lib\\site-packages\\sklearn\\linear_model\\_logistic.py\", line 1162, in fit\n",
      "    solver = _check_solver(self.solver, self.penalty, self.dual)\n",
      "  File \"C:\\Users\\user\\anaconda3\\lib\\site-packages\\sklearn\\linear_model\\_logistic.py\", line 54, in _check_solver\n",
      "    raise ValueError(\n",
      "ValueError: Solver lbfgs supports only 'l2' or 'none' penalties, got l1 penalty.\n",
      "\n",
      "  warnings.warn(some_fits_failed_message, FitFailedWarning)\n",
      "C:\\Users\\user\\anaconda3\\lib\\site-packages\\sklearn\\model_selection\\_search.py:952: UserWarning: One or more of the test scores are non-finite: [0.79970296 0.74868653 0.6602989         nan 0.82780098 0.8172561\n",
      " 0.8313376         nan 0.83309199 0.83485566 0.82958322        nan\n",
      " 0.8313376  0.8313376  0.82782883        nan 0.8313376  0.8313376\n",
      " 0.82782883        nan 0.82782883 0.82782883 0.82782883        nan\n",
      " 0.82782883 0.82782883 0.82782883        nan]\n",
      "  warnings.warn(\n"
     ]
    }
   ],
   "source": [
    "\n",
    "params={'solver':['liblinear', 'lbfgs'],\n",
    "        'penalty':['l2', 'l1'],\n",
    "        'C':[0.01, 0.1,0.5, 1, 1, 5, 10]}\n",
    "\n",
    "lr_clf = LogisticRegression()\n",
    "\n",
    "grid_clf = GridSearchCV(lr_clf, param_grid=params, scoring='accuracy', cv=3 )\n",
    "grid_clf.fit(scaled, cancer.target)\n",
    "print('최적 하이퍼 파라미터:{0}, 최적 평균 정확도:{1:.3f}'.format(grid_clf.best_params_,\n",
    "                                                  grid_clf.best_score_)) "
   ]
  },
  {
   "cell_type": "markdown",
   "id": "3f0a7402-1f0f-404e-ac19-99b2ac6260bf",
   "metadata": {},
   "source": [
    "# 3교시 : 회귀 트리 355p ~"
   ]
  },
  {
   "cell_type": "code",
   "execution_count": 122,
   "id": "867f9ee3-1f12-44f2-952e-86d37cb4fa2c",
   "metadata": {},
   "outputs": [],
   "source": [
    "import pandas as pd\n",
    "url = \"https://archive.ics.uci.edu/ml/machine-learning-databases/housing/housing.data\"\n",
    "names = [\"CRIM\", \"ZN\", \"INDUS\", \"CHAS\", \"NOX\", \"RM\", \"AGE\", \"DIS\", \"RAD\", \"TAX\", \"PTRATIO\", \"B\", \"LSTAT\", \"MEDV\"]\n",
    "data = pd.read_csv(url, delim_whitespace=True, names=names) "
   ]
  },
  {
   "cell_type": "code",
   "execution_count": 123,
   "id": "de2ce2ab-e5b3-40b4-8ab2-a9e460e00594",
   "metadata": {},
   "outputs": [
    {
     "data": {
      "text/html": [
       "<div>\n",
       "<style scoped>\n",
       "    .dataframe tbody tr th:only-of-type {\n",
       "        vertical-align: middle;\n",
       "    }\n",
       "\n",
       "    .dataframe tbody tr th {\n",
       "        vertical-align: top;\n",
       "    }\n",
       "\n",
       "    .dataframe thead th {\n",
       "        text-align: right;\n",
       "    }\n",
       "</style>\n",
       "<table border=\"1\" class=\"dataframe\">\n",
       "  <thead>\n",
       "    <tr style=\"text-align: right;\">\n",
       "      <th></th>\n",
       "      <th>CRIM</th>\n",
       "      <th>ZN</th>\n",
       "      <th>INDUS</th>\n",
       "      <th>CHAS</th>\n",
       "      <th>NOX</th>\n",
       "      <th>RM</th>\n",
       "      <th>AGE</th>\n",
       "      <th>DIS</th>\n",
       "      <th>RAD</th>\n",
       "      <th>TAX</th>\n",
       "      <th>PTRATIO</th>\n",
       "      <th>B</th>\n",
       "      <th>LSTAT</th>\n",
       "      <th>MEDV</th>\n",
       "    </tr>\n",
       "  </thead>\n",
       "  <tbody>\n",
       "    <tr>\n",
       "      <th>0</th>\n",
       "      <td>0.00632</td>\n",
       "      <td>18.0</td>\n",
       "      <td>2.31</td>\n",
       "      <td>0</td>\n",
       "      <td>0.538</td>\n",
       "      <td>6.575</td>\n",
       "      <td>65.2</td>\n",
       "      <td>4.0900</td>\n",
       "      <td>1</td>\n",
       "      <td>296.0</td>\n",
       "      <td>15.3</td>\n",
       "      <td>396.90</td>\n",
       "      <td>4.98</td>\n",
       "      <td>24.0</td>\n",
       "    </tr>\n",
       "    <tr>\n",
       "      <th>1</th>\n",
       "      <td>0.02731</td>\n",
       "      <td>0.0</td>\n",
       "      <td>7.07</td>\n",
       "      <td>0</td>\n",
       "      <td>0.469</td>\n",
       "      <td>6.421</td>\n",
       "      <td>78.9</td>\n",
       "      <td>4.9671</td>\n",
       "      <td>2</td>\n",
       "      <td>242.0</td>\n",
       "      <td>17.8</td>\n",
       "      <td>396.90</td>\n",
       "      <td>9.14</td>\n",
       "      <td>21.6</td>\n",
       "    </tr>\n",
       "    <tr>\n",
       "      <th>2</th>\n",
       "      <td>0.02729</td>\n",
       "      <td>0.0</td>\n",
       "      <td>7.07</td>\n",
       "      <td>0</td>\n",
       "      <td>0.469</td>\n",
       "      <td>7.185</td>\n",
       "      <td>61.1</td>\n",
       "      <td>4.9671</td>\n",
       "      <td>2</td>\n",
       "      <td>242.0</td>\n",
       "      <td>17.8</td>\n",
       "      <td>392.83</td>\n",
       "      <td>4.03</td>\n",
       "      <td>34.7</td>\n",
       "    </tr>\n",
       "    <tr>\n",
       "      <th>3</th>\n",
       "      <td>0.03237</td>\n",
       "      <td>0.0</td>\n",
       "      <td>2.18</td>\n",
       "      <td>0</td>\n",
       "      <td>0.458</td>\n",
       "      <td>6.998</td>\n",
       "      <td>45.8</td>\n",
       "      <td>6.0622</td>\n",
       "      <td>3</td>\n",
       "      <td>222.0</td>\n",
       "      <td>18.7</td>\n",
       "      <td>394.63</td>\n",
       "      <td>2.94</td>\n",
       "      <td>33.4</td>\n",
       "    </tr>\n",
       "    <tr>\n",
       "      <th>4</th>\n",
       "      <td>0.06905</td>\n",
       "      <td>0.0</td>\n",
       "      <td>2.18</td>\n",
       "      <td>0</td>\n",
       "      <td>0.458</td>\n",
       "      <td>7.147</td>\n",
       "      <td>54.2</td>\n",
       "      <td>6.0622</td>\n",
       "      <td>3</td>\n",
       "      <td>222.0</td>\n",
       "      <td>18.7</td>\n",
       "      <td>396.90</td>\n",
       "      <td>5.33</td>\n",
       "      <td>36.2</td>\n",
       "    </tr>\n",
       "    <tr>\n",
       "      <th>...</th>\n",
       "      <td>...</td>\n",
       "      <td>...</td>\n",
       "      <td>...</td>\n",
       "      <td>...</td>\n",
       "      <td>...</td>\n",
       "      <td>...</td>\n",
       "      <td>...</td>\n",
       "      <td>...</td>\n",
       "      <td>...</td>\n",
       "      <td>...</td>\n",
       "      <td>...</td>\n",
       "      <td>...</td>\n",
       "      <td>...</td>\n",
       "      <td>...</td>\n",
       "    </tr>\n",
       "    <tr>\n",
       "      <th>501</th>\n",
       "      <td>0.06263</td>\n",
       "      <td>0.0</td>\n",
       "      <td>11.93</td>\n",
       "      <td>0</td>\n",
       "      <td>0.573</td>\n",
       "      <td>6.593</td>\n",
       "      <td>69.1</td>\n",
       "      <td>2.4786</td>\n",
       "      <td>1</td>\n",
       "      <td>273.0</td>\n",
       "      <td>21.0</td>\n",
       "      <td>391.99</td>\n",
       "      <td>9.67</td>\n",
       "      <td>22.4</td>\n",
       "    </tr>\n",
       "    <tr>\n",
       "      <th>502</th>\n",
       "      <td>0.04527</td>\n",
       "      <td>0.0</td>\n",
       "      <td>11.93</td>\n",
       "      <td>0</td>\n",
       "      <td>0.573</td>\n",
       "      <td>6.120</td>\n",
       "      <td>76.7</td>\n",
       "      <td>2.2875</td>\n",
       "      <td>1</td>\n",
       "      <td>273.0</td>\n",
       "      <td>21.0</td>\n",
       "      <td>396.90</td>\n",
       "      <td>9.08</td>\n",
       "      <td>20.6</td>\n",
       "    </tr>\n",
       "    <tr>\n",
       "      <th>503</th>\n",
       "      <td>0.06076</td>\n",
       "      <td>0.0</td>\n",
       "      <td>11.93</td>\n",
       "      <td>0</td>\n",
       "      <td>0.573</td>\n",
       "      <td>6.976</td>\n",
       "      <td>91.0</td>\n",
       "      <td>2.1675</td>\n",
       "      <td>1</td>\n",
       "      <td>273.0</td>\n",
       "      <td>21.0</td>\n",
       "      <td>396.90</td>\n",
       "      <td>5.64</td>\n",
       "      <td>23.9</td>\n",
       "    </tr>\n",
       "    <tr>\n",
       "      <th>504</th>\n",
       "      <td>0.10959</td>\n",
       "      <td>0.0</td>\n",
       "      <td>11.93</td>\n",
       "      <td>0</td>\n",
       "      <td>0.573</td>\n",
       "      <td>6.794</td>\n",
       "      <td>89.3</td>\n",
       "      <td>2.3889</td>\n",
       "      <td>1</td>\n",
       "      <td>273.0</td>\n",
       "      <td>21.0</td>\n",
       "      <td>393.45</td>\n",
       "      <td>6.48</td>\n",
       "      <td>22.0</td>\n",
       "    </tr>\n",
       "    <tr>\n",
       "      <th>505</th>\n",
       "      <td>0.04741</td>\n",
       "      <td>0.0</td>\n",
       "      <td>11.93</td>\n",
       "      <td>0</td>\n",
       "      <td>0.573</td>\n",
       "      <td>6.030</td>\n",
       "      <td>80.8</td>\n",
       "      <td>2.5050</td>\n",
       "      <td>1</td>\n",
       "      <td>273.0</td>\n",
       "      <td>21.0</td>\n",
       "      <td>396.90</td>\n",
       "      <td>7.88</td>\n",
       "      <td>11.9</td>\n",
       "    </tr>\n",
       "  </tbody>\n",
       "</table>\n",
       "<p>506 rows × 14 columns</p>\n",
       "</div>"
      ],
      "text/plain": [
       "        CRIM    ZN  INDUS  CHAS    NOX     RM   AGE     DIS  RAD    TAX  \\\n",
       "0    0.00632  18.0   2.31     0  0.538  6.575  65.2  4.0900    1  296.0   \n",
       "1    0.02731   0.0   7.07     0  0.469  6.421  78.9  4.9671    2  242.0   \n",
       "2    0.02729   0.0   7.07     0  0.469  7.185  61.1  4.9671    2  242.0   \n",
       "3    0.03237   0.0   2.18     0  0.458  6.998  45.8  6.0622    3  222.0   \n",
       "4    0.06905   0.0   2.18     0  0.458  7.147  54.2  6.0622    3  222.0   \n",
       "..       ...   ...    ...   ...    ...    ...   ...     ...  ...    ...   \n",
       "501  0.06263   0.0  11.93     0  0.573  6.593  69.1  2.4786    1  273.0   \n",
       "502  0.04527   0.0  11.93     0  0.573  6.120  76.7  2.2875    1  273.0   \n",
       "503  0.06076   0.0  11.93     0  0.573  6.976  91.0  2.1675    1  273.0   \n",
       "504  0.10959   0.0  11.93     0  0.573  6.794  89.3  2.3889    1  273.0   \n",
       "505  0.04741   0.0  11.93     0  0.573  6.030  80.8  2.5050    1  273.0   \n",
       "\n",
       "     PTRATIO       B  LSTAT  MEDV  \n",
       "0       15.3  396.90   4.98  24.0  \n",
       "1       17.8  396.90   9.14  21.6  \n",
       "2       17.8  392.83   4.03  34.7  \n",
       "3       18.7  394.63   2.94  33.4  \n",
       "4       18.7  396.90   5.33  36.2  \n",
       "..       ...     ...    ...   ...  \n",
       "501     21.0  391.99   9.67  22.4  \n",
       "502     21.0  396.90   9.08  20.6  \n",
       "503     21.0  396.90   5.64  23.9  \n",
       "504     21.0  393.45   6.48  22.0  \n",
       "505     21.0  396.90   7.88  11.9  \n",
       "\n",
       "[506 rows x 14 columns]"
      ]
     },
     "execution_count": 123,
     "metadata": {},
     "output_type": "execute_result"
    }
   ],
   "source": [
    "data"
   ]
  },
  {
   "cell_type": "code",
   "execution_count": 124,
   "id": "f98e435c-bcf1-4694-814d-d429683fa0a4",
   "metadata": {},
   "outputs": [],
   "source": [
    "# MEDV를 PRICE로 이름을 바꾸어 봅시다"
   ]
  },
  {
   "cell_type": "code",
   "execution_count": 130,
   "id": "bd4e20d6-ac49-4b76-8b78-0c99177e4b43",
   "metadata": {},
   "outputs": [],
   "source": [
    "data.rename(columns={'MEDV':'PRICE'}, inplace = True)"
   ]
  },
  {
   "cell_type": "code",
   "execution_count": 133,
   "id": "ef8f4d76-b512-4b20-876a-a39c495dc3d6",
   "metadata": {},
   "outputs": [],
   "source": [
    "# 모든 칼럼이름을 소문자로 바꾸어 봅시다\n",
    "data.columns = data.columns.str.lower()"
   ]
  },
  {
   "cell_type": "code",
   "execution_count": 134,
   "id": "31991d4e-fa9d-4361-b43e-62ea08db6628",
   "metadata": {},
   "outputs": [
    {
     "data": {
      "text/plain": [
       "Index(['crim', 'zn', 'indus', 'chas', 'nox', 'rm', 'age', 'dis', 'rad', 'tax',\n",
       "       'ptratio', 'b', 'lstat', 'price'],\n",
       "      dtype='object')"
      ]
     },
     "execution_count": 134,
     "metadata": {},
     "output_type": "execute_result"
    }
   ],
   "source": [
    "data.columns"
   ]
  },
  {
   "cell_type": "code",
   "execution_count": 137,
   "id": "a78418fc-88fa-49e6-8f93-fc3a407cdf5b",
   "metadata": {},
   "outputs": [],
   "source": [
    "X_train, X_test, y_train, y_test = train_test_split(data.iloc[:,:-1], data.iloc[:,-1], test_size=0.3, random_state=0)"
   ]
  },
  {
   "cell_type": "code",
   "execution_count": 138,
   "id": "ea0cae91-e510-4816-9325-549e49374e17",
   "metadata": {},
   "outputs": [
    {
     "data": {
      "text/plain": [
       "329    22.6\n",
       "371    50.0\n",
       "219    23.0\n",
       "403     8.3\n",
       "78     21.2\n",
       "       ... \n",
       "4      36.2\n",
       "428    11.0\n",
       "385     7.2\n",
       "308    22.8\n",
       "5      28.7\n",
       "Name: price, Length: 152, dtype: float64"
      ]
     },
     "execution_count": 138,
     "metadata": {},
     "output_type": "execute_result"
    }
   ],
   "source": [
    "y_test"
   ]
  },
  {
   "cell_type": "code",
   "execution_count": 139,
   "id": "0b47ea6c-93cb-44b8-832e-ac194b1b4c46",
   "metadata": {},
   "outputs": [],
   "source": [
    "from sklearn.ensemble import RandomForestRegressor"
   ]
  },
  {
   "cell_type": "code",
   "execution_count": 140,
   "id": "ad862ce3-1d8b-410d-a897-987f6069197f",
   "metadata": {
    "collapsed": true,
    "jupyter": {
     "outputs_hidden": true
    },
    "tags": []
   },
   "outputs": [
    {
     "name": "stderr",
     "output_type": "stream",
     "text": [
      "[Parallel(n_jobs=1)]: Using backend SequentialBackend with 1 concurrent workers.\n",
      "[Parallel(n_jobs=1)]: Done 100 out of 100 | elapsed:    0.2s finished\n",
      "[Parallel(n_jobs=1)]: Using backend SequentialBackend with 1 concurrent workers.\n",
      "[Parallel(n_jobs=1)]: Done 100 out of 100 | elapsed:    0.0s finished\n"
     ]
    },
    {
     "data": {
      "text/plain": [
       "array([23.867, 29.381, 22.052, 10.864, 20.443, 20.832, 21.147, 20.318,\n",
       "       19.698, 18.227,  8.187, 14.564, 14.719,  9.178, 48.021, 33.775,\n",
       "       21.115, 34.801, 26.315, 21.209, 23.672, 22.196, 19.291, 24.138,\n",
       "       20.711, 18.046, 18.771, 15.757, 43.37 , 18.653, 15.02 , 17.473,\n",
       "       20.158, 20.916, 22.825, 17.139,  8.6  , 29.492, 14.136, 14.72 ,\n",
       "       22.65 , 20.889, 22.491, 15.935, 23.714, 22.467, 20.535, 16.436,\n",
       "       14.705, 24.966, 16.239, 20.158, 20.505, 39.652, 15.039, 20.179,\n",
       "       19.586, 18.583, 23.247, 19.918, 21.634, 21.283, 33.061, 29.661,\n",
       "       18.855, 27.516, 16.031, 17.767, 17.912, 21.835, 20.188, 22.67 ,\n",
       "       24.633, 30.946, 28.091,  9.282, 43.047, 21.893, 22.715, 19.506,\n",
       "       26.811, 17.886, 22.856, 42.659, 42.028, 24.175, 23.319, 14.865,\n",
       "       25.267, 16.265, 18.689, 13.031, 22.591, 30.288, 21.05 , 22.015,\n",
       "       11.696, 23.336, 15.094, 18.976, 23.566, 19.98 , 28.457, 20.857,\n",
       "       28.287, 20.593,  9.258, 18.991, 21.906, 23.103, 33.767, 12.978,\n",
       "       18.107, 18.427, 16.875, 21.233, 10.202, 19.456, 11.165, 47.035,\n",
       "       30.223, 10.458, 19.013, 20.612, 20.254, 18.454, 33.832, 19.381,\n",
       "       20.724, 34.688, 13.611, 10.982, 14.441, 20.072, 12.015, 34.74 ,\n",
       "       20.609, 15.42 , 26.673,  9.252, 11.047, 20.67 , 32.187, 24.336,\n",
       "       24.465, 17.147, 34.868, 33.78 , 11.169,  9.117, 29.26 , 24.151])"
      ]
     },
     "execution_count": 140,
     "metadata": {},
     "output_type": "execute_result"
    }
   ],
   "source": [
    "rf_reg = RandomForestRegressor(random_state=0, verbose=1)\n",
    "rf_reg.fit(X_train, y_train)\n",
    "pred = rf_reg.predict(X_test)\n",
    "pred"
   ]
  },
  {
   "cell_type": "code",
   "execution_count": 144,
   "id": "a59e8dc8-1da0-44d8-b076-b61e501a9a37",
   "metadata": {},
   "outputs": [
    {
     "data": {
      "text/plain": [
       "14.497125473684216"
      ]
     },
     "execution_count": 144,
     "metadata": {},
     "output_type": "execute_result"
    }
   ],
   "source": [
    "from sklearn.metrics import mean_squared_error\n",
    "np.mean((pred -y_test) ** 2) # mean_squared_error(y_test, pred)\n",
    "# pred -y_test : error \n",
    "# (pred -y_test) ** 2 : squared error\n",
    "# np.mean((pred -y_test) ** 2) : MSE"
   ]
  },
  {
   "cell_type": "code",
   "execution_count": 146,
   "id": "d764e491-a1d6-4acb-b709-e85327b6d682",
   "metadata": {},
   "outputs": [
    {
     "name": "stderr",
     "output_type": "stream",
     "text": [
      "[Parallel(n_jobs=1)]: Using backend SequentialBackend with 1 concurrent workers.\n",
      "[Parallel(n_jobs=1)]: Done 100 out of 100 | elapsed:    0.0s finished\n"
     ]
    },
    {
     "data": {
      "text/plain": [
       "array([ 8.187, 14.564])"
      ]
     },
     "execution_count": 146,
     "metadata": {},
     "output_type": "execute_result"
    }
   ],
   "source": [
    "rf_reg.predict(X_test[10:12])"
   ]
  },
  {
   "cell_type": "markdown",
   "id": "2abdcca6-a037-470e-9c88-7a4100fef92b",
   "metadata": {},
   "source": [
    "## DecisionTree, XGboost, lightGBM 의 MSE 를 비교해봅시다."
   ]
  },
  {
   "cell_type": "code",
   "execution_count": 171,
   "id": "1e7aab15-b9e8-48a1-89db-535e08bc3874",
   "metadata": {},
   "outputs": [
    {
     "name": "stdout",
     "output_type": "stream",
     "text": [
      "26.352039473684208\n",
      "17.680459460938792\n",
      "18.510691778258064\n"
     ]
    }
   ],
   "source": [
    "# DecisionTree\n",
    "\n",
    "from sklearn.tree import DecisionTreeRegressor\n",
    "dt_reg = DecisionTreeRegressor(random_state=0) # 객체 생성\n",
    "dt_reg.fit(X_train, y_train)                   # 피팅(=학습) -> 패턴 파악\n",
    "pred_dt = dt_reg.predict(X_test)               # 학습된 것 testset에 넣어서 성능 예측\n",
    "print(np.mean((pred_dt - y_test)**2))          # 예측한 값의 MSE \n",
    "\n",
    "# XGboost\n",
    "\n",
    "from xgboost import XGBRegressor\n",
    "XGB_reg = XGBRegressor(random_state=0)        # 객체 생성\n",
    "XGB_reg.fit(X_train, y_train)                 # 피팅(=학습) -> 패턴 파악\n",
    "pred_XGB = XGB_reg.predict(X_test)            # 학습된 것 testset에 넣어서 성능 예측\n",
    "print(np.mean((pred_XGB - y_test)**2))        # 예측한 값의 MSE \n",
    "\n",
    "# lightGBM \n",
    "\n",
    "from lightgbm import LGBMRegressor\n",
    "LGBM_reg = LGBMRegressor(random_state=0)      # 객체 생성\n",
    "LGBM_reg.fit(X_train, y_train)                # 피팅(=학습) -> 패턴 파악\n",
    "pred_LGBM = LGBM_reg.predict(X_test)          # 학습된 것 testset에 넣어서 성능 예측\n",
    "print(np.mean((pred_LGBM - y_test)**2))       # 예측한 값의 MSE "
   ]
  },
  {
   "cell_type": "code",
   "execution_count": 156,
   "id": "e358fe2e-c7a8-47bd-bd7f-3e6d70fdabf9",
   "metadata": {},
   "outputs": [],
   "source": [
    "from sklearn.tree import DecisionTreeRegressor \n",
    "from xgboost import XGBRegressor\n",
    "from lightgbm import LGBMRegressor "
   ]
  },
  {
   "cell_type": "code",
   "execution_count": null,
   "id": "fe4a77bf-4905-4595-bb77-643115826b1c",
   "metadata": {},
   "outputs": [],
   "source": [
    "# #모델 생성\n",
    "# dt_reg = DecisionTreeRegressor()\n",
    "# XGB_reg = XGBRegressor()\n",
    "# LGBM_reg = LGBMRegressor()\n",
    "\n",
    "# dt_reg.fit(X_train, y_train)\n",
    "# XGB_reg.fit(X_train, y_train)\n",
    "# LGBM_reg.fit(X_train, y_train)\n",
    "\n",
    "\n",
    "# pred_dt = dt_reg.predict(X_test)\n",
    "# pred_XGB = XGB_reg.predict(X_test)\n",
    "# pred_LGBM = LGBM_reg.predict(X_test)\n",
    "\n",
    "# dt_reg_acc = mean_squared_error(y_test, pred_dt) \n",
    "# XGB_reg_acc = mean_squared_error(y_test, pred_XGB) \n",
    "# LGBM_reg_acc = mean_squared_error(y_test, pred_LGBM) \n",
    "\n",
    "# print(dt_reg_acc)  #27.014144736842102\n",
    "# print(XGB_reg_acc) #17.680459460938792\n",
    "# print(LGBM_reg_acc) #18.510691778258064 "
   ]
  },
  {
   "cell_type": "code",
   "execution_count": 159,
   "id": "616f982b-e9c0-44bd-b6d3-e06220ac323c",
   "metadata": {},
   "outputs": [
    {
     "data": {
      "text/html": [
       "<style>#sk-container-id-5 {color: black;background-color: white;}#sk-container-id-5 pre{padding: 0;}#sk-container-id-5 div.sk-toggleable {background-color: white;}#sk-container-id-5 label.sk-toggleable__label {cursor: pointer;display: block;width: 100%;margin-bottom: 0;padding: 0.3em;box-sizing: border-box;text-align: center;}#sk-container-id-5 label.sk-toggleable__label-arrow:before {content: \"▸\";float: left;margin-right: 0.25em;color: #696969;}#sk-container-id-5 label.sk-toggleable__label-arrow:hover:before {color: black;}#sk-container-id-5 div.sk-estimator:hover label.sk-toggleable__label-arrow:before {color: black;}#sk-container-id-5 div.sk-toggleable__content {max-height: 0;max-width: 0;overflow: hidden;text-align: left;background-color: #f0f8ff;}#sk-container-id-5 div.sk-toggleable__content pre {margin: 0.2em;color: black;border-radius: 0.25em;background-color: #f0f8ff;}#sk-container-id-5 input.sk-toggleable__control:checked~div.sk-toggleable__content {max-height: 200px;max-width: 100%;overflow: auto;}#sk-container-id-5 input.sk-toggleable__control:checked~label.sk-toggleable__label-arrow:before {content: \"▾\";}#sk-container-id-5 div.sk-estimator input.sk-toggleable__control:checked~label.sk-toggleable__label {background-color: #d4ebff;}#sk-container-id-5 div.sk-label input.sk-toggleable__control:checked~label.sk-toggleable__label {background-color: #d4ebff;}#sk-container-id-5 input.sk-hidden--visually {border: 0;clip: rect(1px 1px 1px 1px);clip: rect(1px, 1px, 1px, 1px);height: 1px;margin: -1px;overflow: hidden;padding: 0;position: absolute;width: 1px;}#sk-container-id-5 div.sk-estimator {font-family: monospace;background-color: #f0f8ff;border: 1px dotted black;border-radius: 0.25em;box-sizing: border-box;margin-bottom: 0.5em;}#sk-container-id-5 div.sk-estimator:hover {background-color: #d4ebff;}#sk-container-id-5 div.sk-parallel-item::after {content: \"\";width: 100%;border-bottom: 1px solid gray;flex-grow: 1;}#sk-container-id-5 div.sk-label:hover label.sk-toggleable__label {background-color: #d4ebff;}#sk-container-id-5 div.sk-serial::before {content: \"\";position: absolute;border-left: 1px solid gray;box-sizing: border-box;top: 0;bottom: 0;left: 50%;z-index: 0;}#sk-container-id-5 div.sk-serial {display: flex;flex-direction: column;align-items: center;background-color: white;padding-right: 0.2em;padding-left: 0.2em;position: relative;}#sk-container-id-5 div.sk-item {position: relative;z-index: 1;}#sk-container-id-5 div.sk-parallel {display: flex;align-items: stretch;justify-content: center;background-color: white;position: relative;}#sk-container-id-5 div.sk-item::before, #sk-container-id-5 div.sk-parallel-item::before {content: \"\";position: absolute;border-left: 1px solid gray;box-sizing: border-box;top: 0;bottom: 0;left: 50%;z-index: -1;}#sk-container-id-5 div.sk-parallel-item {display: flex;flex-direction: column;z-index: 1;position: relative;background-color: white;}#sk-container-id-5 div.sk-parallel-item:first-child::after {align-self: flex-end;width: 50%;}#sk-container-id-5 div.sk-parallel-item:last-child::after {align-self: flex-start;width: 50%;}#sk-container-id-5 div.sk-parallel-item:only-child::after {width: 0;}#sk-container-id-5 div.sk-dashed-wrapped {border: 1px dashed gray;margin: 0 0.4em 0.5em 0.4em;box-sizing: border-box;padding-bottom: 0.4em;background-color: white;}#sk-container-id-5 div.sk-label label {font-family: monospace;font-weight: bold;display: inline-block;line-height: 1.2em;}#sk-container-id-5 div.sk-label-container {text-align: center;}#sk-container-id-5 div.sk-container {/* jupyter's `normalize.less` sets `[hidden] { display: none; }` but bootstrap.min.css set `[hidden] { display: none !important; }` so we also need the `!important` here to be able to override the default hidden behavior on the sphinx rendered scikit-learn.org. See: https://github.com/scikit-learn/scikit-learn/issues/21755 */display: inline-block !important;position: relative;}#sk-container-id-5 div.sk-text-repr-fallback {display: none;}</style><div id=\"sk-container-id-5\" class=\"sk-top-container\"><div class=\"sk-text-repr-fallback\"><pre>RandomForestRegressor(random_state=0, verbose=1)</pre><b>In a Jupyter environment, please rerun this cell to show the HTML representation or trust the notebook. <br />On GitHub, the HTML representation is unable to render, please try loading this page with nbviewer.org.</b></div><div class=\"sk-container\" hidden><div class=\"sk-item\"><div class=\"sk-estimator sk-toggleable\"><input class=\"sk-toggleable__control sk-hidden--visually\" id=\"sk-estimator-id-5\" type=\"checkbox\" checked><label for=\"sk-estimator-id-5\" class=\"sk-toggleable__label sk-toggleable__label-arrow\">RandomForestRegressor</label><div class=\"sk-toggleable__content\"><pre>RandomForestRegressor(random_state=0, verbose=1)</pre></div></div></div></div></div>"
      ],
      "text/plain": [
       "RandomForestRegressor(random_state=0, verbose=1)"
      ]
     },
     "execution_count": 159,
     "metadata": {},
     "output_type": "execute_result"
    }
   ],
   "source": [
    "# 358p\n",
    "# RandomForestRegressor \n",
    "rf_reg"
   ]
  },
  {
   "cell_type": "code",
   "execution_count": 160,
   "id": "47298098-a3da-471c-9141-eddf75b89490",
   "metadata": {},
   "outputs": [
    {
     "data": {
      "text/plain": [
       "array([0.03316886, 0.00111255, 0.00755026, 0.00130967, 0.01699755,\n",
       "       0.4203921 , 0.01368062, 0.04178563, 0.00320319, 0.01669228,\n",
       "       0.02232912, 0.01258886, 0.40918932])"
      ]
     },
     "execution_count": 160,
     "metadata": {},
     "output_type": "execute_result"
    }
   ],
   "source": [
    "rf_reg.feature_importances_"
   ]
  },
  {
   "cell_type": "code",
   "execution_count": 161,
   "id": "f162ac13-1be2-4799-b47e-2b59875a17c9",
   "metadata": {},
   "outputs": [
    {
     "data": {
      "text/plain": [
       "1.0"
      ]
     },
     "execution_count": 161,
     "metadata": {},
     "output_type": "execute_result"
    }
   ],
   "source": [
    "np.sum(rf_reg.feature_importances_)"
   ]
  },
  {
   "cell_type": "code",
   "execution_count": 162,
   "id": "5d06fdb3-fde3-4308-9dbe-18c655346d8f",
   "metadata": {},
   "outputs": [
    {
     "data": {
      "text/plain": [
       "Index(['crim', 'zn', 'indus', 'chas', 'nox', 'rm', 'age', 'dis', 'rad', 'tax',\n",
       "       'ptratio', 'b', 'lstat'],\n",
       "      dtype='object')"
      ]
     },
     "execution_count": 162,
     "metadata": {},
     "output_type": "execute_result"
    }
   ],
   "source": [
    "X_train.columns"
   ]
  },
  {
   "cell_type": "code",
   "execution_count": 166,
   "id": "f8258255-d41e-43d1-8b44-553f21e93d9a",
   "metadata": {},
   "outputs": [
    {
     "data": {
      "text/html": [
       "<div>\n",
       "<style scoped>\n",
       "    .dataframe tbody tr th:only-of-type {\n",
       "        vertical-align: middle;\n",
       "    }\n",
       "\n",
       "    .dataframe tbody tr th {\n",
       "        vertical-align: top;\n",
       "    }\n",
       "\n",
       "    .dataframe thead th {\n",
       "        text-align: right;\n",
       "    }\n",
       "</style>\n",
       "<table border=\"1\" class=\"dataframe\">\n",
       "  <thead>\n",
       "    <tr style=\"text-align: right;\">\n",
       "      <th></th>\n",
       "      <th>importance</th>\n",
       "    </tr>\n",
       "  </thead>\n",
       "  <tbody>\n",
       "    <tr>\n",
       "      <th>crim</th>\n",
       "      <td>0.033169</td>\n",
       "    </tr>\n",
       "    <tr>\n",
       "      <th>zn</th>\n",
       "      <td>0.001113</td>\n",
       "    </tr>\n",
       "    <tr>\n",
       "      <th>indus</th>\n",
       "      <td>0.007550</td>\n",
       "    </tr>\n",
       "    <tr>\n",
       "      <th>chas</th>\n",
       "      <td>0.001310</td>\n",
       "    </tr>\n",
       "    <tr>\n",
       "      <th>nox</th>\n",
       "      <td>0.016998</td>\n",
       "    </tr>\n",
       "    <tr>\n",
       "      <th>rm</th>\n",
       "      <td>0.420392</td>\n",
       "    </tr>\n",
       "    <tr>\n",
       "      <th>age</th>\n",
       "      <td>0.013681</td>\n",
       "    </tr>\n",
       "    <tr>\n",
       "      <th>dis</th>\n",
       "      <td>0.041786</td>\n",
       "    </tr>\n",
       "    <tr>\n",
       "      <th>rad</th>\n",
       "      <td>0.003203</td>\n",
       "    </tr>\n",
       "    <tr>\n",
       "      <th>tax</th>\n",
       "      <td>0.016692</td>\n",
       "    </tr>\n",
       "    <tr>\n",
       "      <th>ptratio</th>\n",
       "      <td>0.022329</td>\n",
       "    </tr>\n",
       "    <tr>\n",
       "      <th>b</th>\n",
       "      <td>0.012589</td>\n",
       "    </tr>\n",
       "    <tr>\n",
       "      <th>lstat</th>\n",
       "      <td>0.409189</td>\n",
       "    </tr>\n",
       "  </tbody>\n",
       "</table>\n",
       "</div>"
      ],
      "text/plain": [
       "         importance\n",
       "crim       0.033169\n",
       "zn         0.001113\n",
       "indus      0.007550\n",
       "chas       0.001310\n",
       "nox        0.016998\n",
       "rm         0.420392\n",
       "age        0.013681\n",
       "dis        0.041786\n",
       "rad        0.003203\n",
       "tax        0.016692\n",
       "ptratio    0.022329\n",
       "b          0.012589\n",
       "lstat      0.409189"
      ]
     },
     "execution_count": 166,
     "metadata": {},
     "output_type": "execute_result"
    }
   ],
   "source": [
    "# rf_reg.feature_importances_ 과 X_train.columns 줄 세우기 (데이터프레임만들어서)\n",
    "\n",
    "pd.DataFrame(data = rf_reg.feature_importances_, index = X_train.columns, columns=['importance'])"
   ]
  },
  {
   "cell_type": "code",
   "execution_count": 167,
   "id": "48c3c711-9a14-4d28-bc77-3a85d7308b6a",
   "metadata": {},
   "outputs": [
    {
     "data": {
      "text/html": [
       "<div>\n",
       "<style scoped>\n",
       "    .dataframe tbody tr th:only-of-type {\n",
       "        vertical-align: middle;\n",
       "    }\n",
       "\n",
       "    .dataframe tbody tr th {\n",
       "        vertical-align: top;\n",
       "    }\n",
       "\n",
       "    .dataframe thead th {\n",
       "        text-align: right;\n",
       "    }\n",
       "</style>\n",
       "<table border=\"1\" class=\"dataframe\">\n",
       "  <thead>\n",
       "    <tr style=\"text-align: right;\">\n",
       "      <th></th>\n",
       "      <th>feature</th>\n",
       "      <th>importance</th>\n",
       "    </tr>\n",
       "  </thead>\n",
       "  <tbody>\n",
       "    <tr>\n",
       "      <th>5</th>\n",
       "      <td>rm</td>\n",
       "      <td>0.420392</td>\n",
       "    </tr>\n",
       "    <tr>\n",
       "      <th>12</th>\n",
       "      <td>lstat</td>\n",
       "      <td>0.409189</td>\n",
       "    </tr>\n",
       "    <tr>\n",
       "      <th>7</th>\n",
       "      <td>dis</td>\n",
       "      <td>0.041786</td>\n",
       "    </tr>\n",
       "    <tr>\n",
       "      <th>0</th>\n",
       "      <td>crim</td>\n",
       "      <td>0.033169</td>\n",
       "    </tr>\n",
       "    <tr>\n",
       "      <th>10</th>\n",
       "      <td>ptratio</td>\n",
       "      <td>0.022329</td>\n",
       "    </tr>\n",
       "    <tr>\n",
       "      <th>4</th>\n",
       "      <td>nox</td>\n",
       "      <td>0.016998</td>\n",
       "    </tr>\n",
       "    <tr>\n",
       "      <th>9</th>\n",
       "      <td>tax</td>\n",
       "      <td>0.016692</td>\n",
       "    </tr>\n",
       "    <tr>\n",
       "      <th>6</th>\n",
       "      <td>age</td>\n",
       "      <td>0.013681</td>\n",
       "    </tr>\n",
       "    <tr>\n",
       "      <th>11</th>\n",
       "      <td>b</td>\n",
       "      <td>0.012589</td>\n",
       "    </tr>\n",
       "    <tr>\n",
       "      <th>2</th>\n",
       "      <td>indus</td>\n",
       "      <td>0.007550</td>\n",
       "    </tr>\n",
       "    <tr>\n",
       "      <th>8</th>\n",
       "      <td>rad</td>\n",
       "      <td>0.003203</td>\n",
       "    </tr>\n",
       "    <tr>\n",
       "      <th>3</th>\n",
       "      <td>chas</td>\n",
       "      <td>0.001310</td>\n",
       "    </tr>\n",
       "    <tr>\n",
       "      <th>1</th>\n",
       "      <td>zn</td>\n",
       "      <td>0.001113</td>\n",
       "    </tr>\n",
       "  </tbody>\n",
       "</table>\n",
       "</div>"
      ],
      "text/plain": [
       "    feature  importance\n",
       "5        rm    0.420392\n",
       "12    lstat    0.409189\n",
       "7       dis    0.041786\n",
       "0      crim    0.033169\n",
       "10  ptratio    0.022329\n",
       "4       nox    0.016998\n",
       "9       tax    0.016692\n",
       "6       age    0.013681\n",
       "11        b    0.012589\n",
       "2     indus    0.007550\n",
       "8       rad    0.003203\n",
       "3      chas    0.001310\n",
       "1        zn    0.001113"
      ]
     },
     "execution_count": 167,
     "metadata": {},
     "output_type": "execute_result"
    }
   ],
   "source": [
    "temp = pd.DataFrame({\"feature\" : X_train.columns, 'importance' : rf_reg.feature_importances_})\n",
    "temp.sort_values(by = 'importance', ascending=False)"
   ]
  },
  {
   "cell_type": "code",
   "execution_count": null,
   "id": "2a9a5159-a30b-4c2c-aecf-e66a6c45e538",
   "metadata": {},
   "outputs": [],
   "source": []
  }
 ],
 "metadata": {
  "kernelspec": {
   "display_name": "Python 3 (ipykernel)",
   "language": "python",
   "name": "python3"
  },
  "language_info": {
   "codemirror_mode": {
    "name": "ipython",
    "version": 3
   },
   "file_extension": ".py",
   "mimetype": "text/x-python",
   "name": "python",
   "nbconvert_exporter": "python",
   "pygments_lexer": "ipython3",
   "version": "3.10.9"
  }
 },
 "nbformat": 4,
 "nbformat_minor": 5
}
