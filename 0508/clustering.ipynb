{
 "cells": [
  {
   "cell_type": "code",
   "execution_count": 1,
   "id": "5bcd56b6-48cc-4b9e-bd8b-d1fd8f3df803",
   "metadata": {},
   "outputs": [],
   "source": [
    "import numpy as np\n",
    "from sklearn.datasets import make_blobs "
   ]
  },
  {
   "cell_type": "code",
   "execution_count": 2,
   "id": "67ee3f69-8887-4209-8b5f-c8144d69d042",
   "metadata": {},
   "outputs": [],
   "source": [
    "X, y = make_blobs(n_samples=200, n_features=2, centers=3, cluster_std=0.8, random_state=0)"
   ]
  },
  {
   "cell_type": "code",
   "execution_count": 4,
   "id": "a1e5fff0-40ec-43ed-8e58-e4f5faba3c31",
   "metadata": {},
   "outputs": [
    {
     "data": {
      "text/plain": [
       "array([[-1.69242695,  3.62202539],\n",
       "       [ 0.69794036,  4.4288665 ],\n",
       "       [ 1.10022802,  4.60631734],\n",
       "       [-1.44872404,  3.38424521],\n",
       "       [ 1.21486062,  5.36489604]])"
      ]
     },
     "execution_count": 4,
     "metadata": {},
     "output_type": "execute_result"
    }
   ],
   "source": [
    "X[:5]"
   ]
  },
  {
   "cell_type": "code",
   "execution_count": 5,
   "id": "1d17d048-71db-4f35-a550-4c2a9e512f60",
   "metadata": {},
   "outputs": [
    {
     "data": {
      "text/plain": [
       "array([2, 0, 0, 2, 0, 2, 1, 1, 0, 2, 0, 2, 0, 0, 0, 2, 1, 1, 0, 2, 2, 1,\n",
       "       0, 0, 2, 0, 1, 2, 2, 2, 0, 0, 2, 0, 1, 1, 0, 1, 1, 2, 1, 2, 2, 2,\n",
       "       0, 0, 0, 2, 0, 0, 0, 1, 2, 2, 2, 2, 1, 1, 0, 0, 2, 2, 0, 1, 1, 2,\n",
       "       1, 1, 2, 1, 1, 0, 0, 2, 0, 2, 1, 1, 1, 2, 2, 0, 0, 1, 1, 0, 0, 2,\n",
       "       0, 1, 2, 2, 1, 0, 1, 0, 0, 2, 2, 1, 1, 0, 2, 0, 2, 0, 1, 0, 0, 1,\n",
       "       0, 2, 1, 2, 0, 0, 0, 1, 2, 2, 1, 1, 2, 0, 1, 0, 2, 1, 2, 0, 2, 1,\n",
       "       1, 1, 0, 1, 1, 0, 1, 2, 2, 2, 0, 1, 1, 0, 2, 2, 1, 0, 1, 2, 2, 2,\n",
       "       0, 1, 1, 1, 0, 0, 2, 2, 2, 2, 0, 0, 1, 2, 1, 1, 0, 1, 0, 1, 2, 2,\n",
       "       0, 2, 0, 1, 0, 2, 1, 1, 1, 0, 2, 1, 0, 0, 2, 2, 1, 1, 1, 1, 2, 1,\n",
       "       0, 1])"
      ]
     },
     "execution_count": 5,
     "metadata": {},
     "output_type": "execute_result"
    }
   ],
   "source": [
    "y"
   ]
  },
  {
   "cell_type": "code",
   "execution_count": null,
   "id": "9b04de22-bbe2-4278-a1ef-7366bf84e4a7",
   "metadata": {},
   "outputs": [],
   "source": [
    "make_blobs"
   ]
  },
  {
   "cell_type": "code",
   "execution_count": 62,
   "id": "540e6574-7c25-45c2-90e6-4e63b579f83c",
   "metadata": {},
   "outputs": [
    {
     "name": "stdout",
     "output_type": "stream",
     "text": [
      "(10, 2)\n",
      "[2 0 1 2 1 1 0 2 0 2]\n",
      "(10, 2)\n",
      "[0 0 1 0 2 2 2 1 1 0]\n"
     ]
    }
   ],
   "source": [
    "# n_samples가 array 형식이면 centers 를 'None' 이나 '개별 중심좌표' 로 설정해야됨\n",
    "# n_samples의 array가 [a,b] 이면 centers가 2, [a,b,c] 이면 centers가 3\n",
    "X, y = make_blobs(n_samples=[3, 3, 4], centers=([0,0],[1,1],[2,2]), n_features=2, random_state=0) \n",
    "print(X.shape)\n",
    "print(y)\n",
    "\n",
    "X,y = make_blobs(n_samples=10, centers=3, n_features=2, random_state=0)\n",
    "print(X.shape)\n",
    "print(y)"
   ]
  },
  {
   "cell_type": "code",
   "execution_count": 41,
   "id": "376eb598-70e0-4347-b536-cda0e1cc6820",
   "metadata": {},
   "outputs": [
    {
     "data": {
      "text/plain": [
       "array([[2.81630525, 1.01933868],\n",
       "       [2.49913075, 1.23133799],\n",
       "       [1.9263585 , 4.15243012],\n",
       "       [2.84382807, 3.32650945],\n",
       "       [2.19931109, 2.35193717],\n",
       "       [0.87305123, 4.71438583]])"
      ]
     },
     "execution_count": 41,
     "metadata": {},
     "output_type": "execute_result"
    }
   ],
   "source": [
    "X"
   ]
  },
  {
   "cell_type": "code",
   "execution_count": 33,
   "id": "cd73b5da-123f-4765-9460-3bfd7d8c3747",
   "metadata": {},
   "outputs": [],
   "source": [
    "import pandas as pd\n",
    "\n",
    "clusterDF = pd.DataFrame(data = X, columns=['ftr1','ftr2'])"
   ]
  },
  {
   "cell_type": "code",
   "execution_count": 9,
   "id": "9354ab6a-77dd-4465-9efe-e59f4e7abe14",
   "metadata": {},
   "outputs": [
    {
     "data": {
      "text/html": [
       "<div>\n",
       "<style scoped>\n",
       "    .dataframe tbody tr th:only-of-type {\n",
       "        vertical-align: middle;\n",
       "    }\n",
       "\n",
       "    .dataframe tbody tr th {\n",
       "        vertical-align: top;\n",
       "    }\n",
       "\n",
       "    .dataframe thead th {\n",
       "        text-align: right;\n",
       "    }\n",
       "</style>\n",
       "<table border=\"1\" class=\"dataframe\">\n",
       "  <thead>\n",
       "    <tr style=\"text-align: right;\">\n",
       "      <th></th>\n",
       "      <th>ftr1</th>\n",
       "      <th>ftr2</th>\n",
       "    </tr>\n",
       "  </thead>\n",
       "  <tbody>\n",
       "    <tr>\n",
       "      <th>0</th>\n",
       "      <td>1.120314</td>\n",
       "      <td>5.758061</td>\n",
       "    </tr>\n",
       "    <tr>\n",
       "      <th>1</th>\n",
       "      <td>2.816305</td>\n",
       "      <td>1.019339</td>\n",
       "    </tr>\n",
       "    <tr>\n",
       "      <th>2</th>\n",
       "      <td>-1.213836</td>\n",
       "      <td>2.063787</td>\n",
       "    </tr>\n",
       "    <tr>\n",
       "      <th>3</th>\n",
       "      <td>0.873051</td>\n",
       "      <td>4.714386</td>\n",
       "    </tr>\n",
       "    <tr>\n",
       "      <th>4</th>\n",
       "      <td>-0.662468</td>\n",
       "      <td>2.175717</td>\n",
       "    </tr>\n",
       "    <tr>\n",
       "      <th>5</th>\n",
       "      <td>0.742851</td>\n",
       "      <td>1.463517</td>\n",
       "    </tr>\n",
       "    <tr>\n",
       "      <th>6</th>\n",
       "      <td>-4.079894</td>\n",
       "      <td>3.571501</td>\n",
       "    </tr>\n",
       "    <tr>\n",
       "      <th>7</th>\n",
       "      <td>3.549347</td>\n",
       "      <td>0.692505</td>\n",
       "    </tr>\n",
       "    <tr>\n",
       "      <th>8</th>\n",
       "      <td>2.499131</td>\n",
       "      <td>1.231338</td>\n",
       "    </tr>\n",
       "    <tr>\n",
       "      <th>9</th>\n",
       "      <td>1.926358</td>\n",
       "      <td>4.152430</td>\n",
       "    </tr>\n",
       "  </tbody>\n",
       "</table>\n",
       "</div>"
      ],
      "text/plain": [
       "       ftr1      ftr2\n",
       "0  1.120314  5.758061\n",
       "1  2.816305  1.019339\n",
       "2 -1.213836  2.063787\n",
       "3  0.873051  4.714386\n",
       "4 -0.662468  2.175717\n",
       "5  0.742851  1.463517\n",
       "6 -4.079894  3.571501\n",
       "7  3.549347  0.692505\n",
       "8  2.499131  1.231338\n",
       "9  1.926358  4.152430"
      ]
     },
     "execution_count": 9,
     "metadata": {},
     "output_type": "execute_result"
    }
   ],
   "source": [
    "clusterDF"
   ]
  },
  {
   "cell_type": "code",
   "execution_count": null,
   "id": "dbd1b52c-aa55-491c-8c54-7218c947fdd2",
   "metadata": {},
   "outputs": [],
   "source": []
  }
 ],
 "metadata": {
  "kernelspec": {
   "display_name": "Python 3 (ipykernel)",
   "language": "python",
   "name": "python3"
  },
  "language_info": {
   "codemirror_mode": {
    "name": "ipython",
    "version": 3
   },
   "file_extension": ".py",
   "mimetype": "text/x-python",
   "name": "python",
   "nbconvert_exporter": "python",
   "pygments_lexer": "ipython3",
   "version": "3.10.9"
  }
 },
 "nbformat": 4,
 "nbformat_minor": 5
}
