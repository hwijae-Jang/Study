{
 "cells": [
  {
   "cell_type": "markdown",
   "id": "341204ca-a84d-431a-8ee6-ea3361857754",
   "metadata": {},
   "source": [
    "#### 2023-04-26"
   ]
  },
  {
   "cell_type": "markdown",
   "id": "30e7d47c-6726-48a6-af44-284d106e7190",
   "metadata": {},
   "source": [
    "##### 1교시"
   ]
  },
  {
   "cell_type": "code",
   "execution_count": 2,
   "id": "1107f2f4-2694-412f-9e18-5938013353c7",
   "metadata": {},
   "outputs": [],
   "source": [
    "import pandas as pd\n",
    "import numpy as np\n",
    "from sklearn.model_selection import train_test_split\n",
    "from sklearn.tree import DecisionTreeClassifier \n",
    "from sklearn.metrics import confusion_matrix\n",
    "from sklearn.metrics import accuracy_score\n",
    "from sklearn.datasets import load_breast_cancer "
   ]
  },
  {
   "cell_type": "code",
   "execution_count": null,
   "id": "1b6c776b-beb5-46fc-b4ea-3145a522a84b",
   "metadata": {},
   "outputs": [],
   "source": [
    "# 서로 다른 알공리즘을 가진 분류기들 중 다수의 분류기가 결정한 예측값을 최종으로 선정하는 방식은?\n",
    "Voting(보팅)"
   ]
  },
  {
   "cell_type": "code",
   "execution_count": 7,
   "id": "e17bbdbe-0038-4919-8960-04a8198efeda",
   "metadata": {},
   "outputs": [],
   "source": [
    "cancer = load_breast_cancer()\n",
    "x = cancer.data\n",
    "\n",
    "y = cancer.target\n",
    "\n",
    "\n",
    "x_train, x_test, y_train, y_test = train_test_split(x, y, test_size = 0.3)\n",
    "dt_clf = DecisionTreeClassifier()\n",
    "dt_clf.fit(x_train, y_train)\n",
    "\n",
    "pred = dt_clf.predict(x_test) "
   ]
  },
  {
   "cell_type": "code",
   "execution_count": 8,
   "id": "051287ed-beba-4714-87c9-23fa2a62878e",
   "metadata": {},
   "outputs": [
    {
     "data": {
      "text/plain": [
       "0.9239766081871345"
      ]
     },
     "execution_count": 8,
     "metadata": {},
     "output_type": "execute_result"
    }
   ],
   "source": [
    "accuracy_score(y_test,pred) "
   ]
  },
  {
   "cell_type": "code",
   "execution_count": 3,
   "id": "180fecaa-b0c6-4599-b674-c554e238e2f7",
   "metadata": {},
   "outputs": [],
   "source": [
    "from sklearn.datasets import load_breast_cancer\n",
    "from sklearn.tree import DecisionTreeClassifier\n",
    "from sklearn.linear_model import LogisticRegression\n",
    "from sklearn.neighbors import KNeighborsClassifier\n",
    "from sklearn.ensemble import VotingClassifier\n",
    "\n",
    "cancer = load_breast_cancer()\n",
    "x_tr,x_te,y_tr,y_te = train_test_split(\n",
    "cancer.data, cancer.target, test_size=0.2, random_state=156)\n",
    "l = LogisticRegression(solver='liblinear')\n",
    "k = KNeighborsClassifier(n_neighbors=8) \n",
    "d = DecisionTreeClassifier()"
   ]
  },
  {
   "cell_type": "code",
   "execution_count": 11,
   "id": "d47ee6c0-2cd0-40fd-ae6a-1923a827856b",
   "metadata": {},
   "outputs": [],
   "source": [
    "# 보팅방식으로 정확도(accuracy_score)를 구해 봅시다."
   ]
  },
  {
   "cell_type": "code",
   "execution_count": 4,
   "id": "b0eb2c43-29af-4110-9dc4-554e63f0ed5e",
   "metadata": {},
   "outputs": [
    {
     "data": {
      "text/plain": [
       "0.9385964912280702"
      ]
     },
     "execution_count": 4,
     "metadata": {},
     "output_type": "execute_result"
    }
   ],
   "source": [
    "vo_clf = VotingClassifier(estimators=[('LR', l), ('KNN', k),('DT',d)], voting = 'soft')\n",
    "vo_clf.fit(x_tr, y_tr)\n",
    "pred = vo_clf.predict(x_te)\n",
    "accuracy_score(y_te, pred) "
   ]
  },
  {
   "cell_type": "markdown",
   "id": "dfb39942-8f40-4de8-b6c4-3f4c122ed782",
   "metadata": {},
   "source": [
    "mpg 데이터의 displ,cyl,cty,hwy를 데이터, class를 타겟으로 데이터 분할하고\n",
    "배깅 중 랜덤 포레스트를 이용하여\n",
    "그리드서치 및 적합하여\n",
    "아래 파라미터 중 가장 최적의 파라미터를 찾고\n",
    "그 때에 정확도를 구하며\n",
    "최적의 파라미터를 가진 분류기의 피쳐 중요도 순대로 정리 후\n",
    "수평 막대그래프를 출력하는 코드를 작성하시오."
   ]
  },
  {
   "cell_type": "code",
   "execution_count": 5,
   "id": "a34c2ef2-535e-41c2-bb9b-bad0a18aea55",
   "metadata": {},
   "outputs": [],
   "source": [
    "from pydataset import data\n",
    "from sklearn.ensemble import RandomForestClassifier\n",
    "from sklearn.model_selection import GridSearchCV\n",
    "mpg = data('mpg')\n",
    "x_tr,x_te,y_tr,y_te = train_test_split(mpg.iloc[:,[2,4,7,8]],mpg['class'],test_size=0.2)\n",
    "p = {'max_depth':[8,16],'min_samples_split':[2,8,16], 'min_samples_leaf':[6,12], 'n_estimators':[100,200]}\n",
    "r = RandomForestClassifier(n_jobs=-1, random_state=1234)\n",
    "grid = GridSearchCV(r,param_grid=p,cv=2,n_jobs=-1) "
   ]
  },
  {
   "cell_type": "code",
   "execution_count": 6,
   "id": "7fc6a8b9-66e1-478e-9e8d-80cede7cd5cd",
   "metadata": {},
   "outputs": [
    {
     "data": {
      "text/html": [
       "<style>#sk-container-id-1 {color: black;background-color: white;}#sk-container-id-1 pre{padding: 0;}#sk-container-id-1 div.sk-toggleable {background-color: white;}#sk-container-id-1 label.sk-toggleable__label {cursor: pointer;display: block;width: 100%;margin-bottom: 0;padding: 0.3em;box-sizing: border-box;text-align: center;}#sk-container-id-1 label.sk-toggleable__label-arrow:before {content: \"▸\";float: left;margin-right: 0.25em;color: #696969;}#sk-container-id-1 label.sk-toggleable__label-arrow:hover:before {color: black;}#sk-container-id-1 div.sk-estimator:hover label.sk-toggleable__label-arrow:before {color: black;}#sk-container-id-1 div.sk-toggleable__content {max-height: 0;max-width: 0;overflow: hidden;text-align: left;background-color: #f0f8ff;}#sk-container-id-1 div.sk-toggleable__content pre {margin: 0.2em;color: black;border-radius: 0.25em;background-color: #f0f8ff;}#sk-container-id-1 input.sk-toggleable__control:checked~div.sk-toggleable__content {max-height: 200px;max-width: 100%;overflow: auto;}#sk-container-id-1 input.sk-toggleable__control:checked~label.sk-toggleable__label-arrow:before {content: \"▾\";}#sk-container-id-1 div.sk-estimator input.sk-toggleable__control:checked~label.sk-toggleable__label {background-color: #d4ebff;}#sk-container-id-1 div.sk-label input.sk-toggleable__control:checked~label.sk-toggleable__label {background-color: #d4ebff;}#sk-container-id-1 input.sk-hidden--visually {border: 0;clip: rect(1px 1px 1px 1px);clip: rect(1px, 1px, 1px, 1px);height: 1px;margin: -1px;overflow: hidden;padding: 0;position: absolute;width: 1px;}#sk-container-id-1 div.sk-estimator {font-family: monospace;background-color: #f0f8ff;border: 1px dotted black;border-radius: 0.25em;box-sizing: border-box;margin-bottom: 0.5em;}#sk-container-id-1 div.sk-estimator:hover {background-color: #d4ebff;}#sk-container-id-1 div.sk-parallel-item::after {content: \"\";width: 100%;border-bottom: 1px solid gray;flex-grow: 1;}#sk-container-id-1 div.sk-label:hover label.sk-toggleable__label {background-color: #d4ebff;}#sk-container-id-1 div.sk-serial::before {content: \"\";position: absolute;border-left: 1px solid gray;box-sizing: border-box;top: 0;bottom: 0;left: 50%;z-index: 0;}#sk-container-id-1 div.sk-serial {display: flex;flex-direction: column;align-items: center;background-color: white;padding-right: 0.2em;padding-left: 0.2em;position: relative;}#sk-container-id-1 div.sk-item {position: relative;z-index: 1;}#sk-container-id-1 div.sk-parallel {display: flex;align-items: stretch;justify-content: center;background-color: white;position: relative;}#sk-container-id-1 div.sk-item::before, #sk-container-id-1 div.sk-parallel-item::before {content: \"\";position: absolute;border-left: 1px solid gray;box-sizing: border-box;top: 0;bottom: 0;left: 50%;z-index: -1;}#sk-container-id-1 div.sk-parallel-item {display: flex;flex-direction: column;z-index: 1;position: relative;background-color: white;}#sk-container-id-1 div.sk-parallel-item:first-child::after {align-self: flex-end;width: 50%;}#sk-container-id-1 div.sk-parallel-item:last-child::after {align-self: flex-start;width: 50%;}#sk-container-id-1 div.sk-parallel-item:only-child::after {width: 0;}#sk-container-id-1 div.sk-dashed-wrapped {border: 1px dashed gray;margin: 0 0.4em 0.5em 0.4em;box-sizing: border-box;padding-bottom: 0.4em;background-color: white;}#sk-container-id-1 div.sk-label label {font-family: monospace;font-weight: bold;display: inline-block;line-height: 1.2em;}#sk-container-id-1 div.sk-label-container {text-align: center;}#sk-container-id-1 div.sk-container {/* jupyter's `normalize.less` sets `[hidden] { display: none; }` but bootstrap.min.css set `[hidden] { display: none !important; }` so we also need the `!important` here to be able to override the default hidden behavior on the sphinx rendered scikit-learn.org. See: https://github.com/scikit-learn/scikit-learn/issues/21755 */display: inline-block !important;position: relative;}#sk-container-id-1 div.sk-text-repr-fallback {display: none;}</style><div id=\"sk-container-id-1\" class=\"sk-top-container\"><div class=\"sk-text-repr-fallback\"><pre>GridSearchCV(cv=2,\n",
       "             estimator=RandomForestClassifier(n_jobs=-1, random_state=1234),\n",
       "             n_jobs=-1,\n",
       "             param_grid={&#x27;max_depth&#x27;: [8, 16], &#x27;min_samples_leaf&#x27;: [6, 12],\n",
       "                         &#x27;min_samples_split&#x27;: [2, 8, 16],\n",
       "                         &#x27;n_estimators&#x27;: [100, 200]})</pre><b>In a Jupyter environment, please rerun this cell to show the HTML representation or trust the notebook. <br />On GitHub, the HTML representation is unable to render, please try loading this page with nbviewer.org.</b></div><div class=\"sk-container\" hidden><div class=\"sk-item sk-dashed-wrapped\"><div class=\"sk-label-container\"><div class=\"sk-label sk-toggleable\"><input class=\"sk-toggleable__control sk-hidden--visually\" id=\"sk-estimator-id-1\" type=\"checkbox\" ><label for=\"sk-estimator-id-1\" class=\"sk-toggleable__label sk-toggleable__label-arrow\">GridSearchCV</label><div class=\"sk-toggleable__content\"><pre>GridSearchCV(cv=2,\n",
       "             estimator=RandomForestClassifier(n_jobs=-1, random_state=1234),\n",
       "             n_jobs=-1,\n",
       "             param_grid={&#x27;max_depth&#x27;: [8, 16], &#x27;min_samples_leaf&#x27;: [6, 12],\n",
       "                         &#x27;min_samples_split&#x27;: [2, 8, 16],\n",
       "                         &#x27;n_estimators&#x27;: [100, 200]})</pre></div></div></div><div class=\"sk-parallel\"><div class=\"sk-parallel-item\"><div class=\"sk-item\"><div class=\"sk-label-container\"><div class=\"sk-label sk-toggleable\"><input class=\"sk-toggleable__control sk-hidden--visually\" id=\"sk-estimator-id-2\" type=\"checkbox\" ><label for=\"sk-estimator-id-2\" class=\"sk-toggleable__label sk-toggleable__label-arrow\">estimator: RandomForestClassifier</label><div class=\"sk-toggleable__content\"><pre>RandomForestClassifier(n_jobs=-1, random_state=1234)</pre></div></div></div><div class=\"sk-serial\"><div class=\"sk-item\"><div class=\"sk-estimator sk-toggleable\"><input class=\"sk-toggleable__control sk-hidden--visually\" id=\"sk-estimator-id-3\" type=\"checkbox\" ><label for=\"sk-estimator-id-3\" class=\"sk-toggleable__label sk-toggleable__label-arrow\">RandomForestClassifier</label><div class=\"sk-toggleable__content\"><pre>RandomForestClassifier(n_jobs=-1, random_state=1234)</pre></div></div></div></div></div></div></div></div></div></div>"
      ],
      "text/plain": [
       "GridSearchCV(cv=2,\n",
       "             estimator=RandomForestClassifier(n_jobs=-1, random_state=1234),\n",
       "             n_jobs=-1,\n",
       "             param_grid={'max_depth': [8, 16], 'min_samples_leaf': [6, 12],\n",
       "                         'min_samples_split': [2, 8, 16],\n",
       "                         'n_estimators': [100, 200]})"
      ]
     },
     "execution_count": 6,
     "metadata": {},
     "output_type": "execute_result"
    }
   ],
   "source": [
    "grid.fit(x_tr,y_tr)"
   ]
  },
  {
   "cell_type": "code",
   "execution_count": 7,
   "id": "12099a53-0056-422a-954a-19fc8b297bf2",
   "metadata": {},
   "outputs": [],
   "source": [
    "grid.best_params_ \n",
    "best = grid.best_estimator_"
   ]
  },
  {
   "cell_type": "code",
   "execution_count": 8,
   "id": "16b7678b-6e64-4e53-ad77-793e4495383d",
   "metadata": {},
   "outputs": [
    {
     "data": {
      "text/plain": [
       "0.5531914893617021"
      ]
     },
     "execution_count": 8,
     "metadata": {},
     "output_type": "execute_result"
    }
   ],
   "source": [
    "pred = best.predict(x_te)\n",
    "accuracy_score(y_te, pred)"
   ]
  },
  {
   "cell_type": "code",
   "execution_count": 9,
   "id": "9091c662-1942-47bb-a8a4-aac027ac2388",
   "metadata": {},
   "outputs": [
    {
     "data": {
      "text/plain": [
       "hwy      0.428201\n",
       "displ    0.302998\n",
       "cty      0.233077\n",
       "cyl      0.035724\n",
       "dtype: float64"
      ]
     },
     "execution_count": 9,
     "metadata": {},
     "output_type": "execute_result"
    }
   ],
   "source": [
    "temp = pd.Series(best.feature_importances_, index=x_tr.columns).sort_values(ascending=False)\n",
    "temp"
   ]
  },
  {
   "cell_type": "code",
   "execution_count": 10,
   "id": "8606ecdb-67ea-4658-a003-091a716ad0bc",
   "metadata": {},
   "outputs": [
    {
     "data": {
      "text/plain": [
       "<Axes: >"
      ]
     },
     "execution_count": 10,
     "metadata": {},
     "output_type": "execute_result"
    },
    {
     "data": {
      "image/png": "[encoded data removed]",
      "text/plain": [
       "<Figure size 640x480 with 1 Axes>"
      ]
     },
     "metadata": {},
     "output_type": "display_data"
    }
   ],
   "source": [
    "temp.plot(kind='barh')"
   ]
  },
  {
   "cell_type": "markdown",
   "id": "8113a063-51b4-4201-a201-96a5bfee3da3",
   "metadata": {},
   "source": [
    "##### 2교시"
   ]
  },
  {
   "cell_type": "code",
   "execution_count": null,
   "id": "0d14e2a8-a7ab-4c81-8268-eb4788105151",
   "metadata": {},
   "outputs": [],
   "source": [
    "앙상블기법 PDF로 수업진행"
   ]
  },
  {
   "cell_type": "code",
   "execution_count": 11,
   "id": "da29dab6-3f9c-487c-b45b-00c357f76462",
   "metadata": {},
   "outputs": [],
   "source": [
    "import os\n",
    "os.getcwd()\n",
    "os.chdir('C:\\\\Users\\\\admin')"
   ]
  },
  {
   "cell_type": "code",
   "execution_count": 12,
   "id": "d34d0b3d-06e3-4b94-9029-99b77ae72782",
   "metadata": {},
   "outputs": [],
   "source": [
    "def get_new_feature_name_df(old_feature_name_df):\n",
    "    feature_dup_df = pd.DataFrame(data=old_feature_name_df.groupby('column_name').cumcount(),\n",
    "                                  columns=['dup_cnt'])\n",
    "    feature_dup_df = feature_dup_df.reset_index()\n",
    "    new_feature_name_df = pd.merge(old_feature_name_df.reset_index(), feature_dup_df, how='outer')\n",
    "    new_feature_name_df['column_name'] = new_feature_name_df[['column_name', 'dup_cnt']].apply(lambda x : x[0]+'_'+str(x[1]) \n",
    "                                                                                         if x[1] >0 else x[0] ,  axis=1)\n",
    "    new_feature_name_df = new_feature_name_df.drop(['index'], axis=1)\n",
    "    return new_feature_name_df"
   ]
  },
  {
   "cell_type": "code",
   "execution_count": 13,
   "id": "44fafab3-f871-4c43-bc46-999ec41aecc2",
   "metadata": {},
   "outputs": [],
   "source": [
    "def get_human_dataset( ):\n",
    "    \n",
    "    # 각 데이터 파일들은 공백으로 분리되어 있으므로 read_csv에서 공백 문자를 sep으로 할당.\n",
    "    feature_name_df = pd.read_csv('./human_activity/features.txt',sep='\\s+',\n",
    "                        header=None,names=['column_index','column_name'])\n",
    "    \n",
    "    # 중복된 피처명을 수정하는 get_new_feature_name_df()를 이용, 신규 피처명 DataFrame생성. \n",
    "    new_feature_name_df = get_new_feature_name_df(feature_name_df)\n",
    "    \n",
    "    # DataFrame에 피처명을 컬럼으로 부여하기 위해 리스트 객체로 다시 변환\n",
    "    feature_name = new_feature_name_df.iloc[:, 1].values.tolist()\n",
    "    \n",
    "    # 학습 피처 데이터 셋과 테스트 피처 데이터을 DataFrame으로 로딩. 컬럼명은 feature_name 적용\n",
    "    X_train = pd.read_csv('./human_activity/train/X_train.txt',sep='\\s+', names=feature_name )\n",
    "    X_test = pd.read_csv('./human_activity/test/X_test.txt',sep='\\s+', names=feature_name)\n",
    "    \n",
    "    # 학습 레이블과 테스트 레이블 데이터을 DataFrame으로 로딩하고 컬럼명은 action으로 부여\n",
    "    y_train = pd.read_csv('./human_activity/train/y_train.txt',sep='\\s+',header=None,names=['action'])\n",
    "    y_test = pd.read_csv('./human_activity/test/y_test.txt',sep='\\s+',header=None,names=['action'])\n",
    "    \n",
    "    # 로드된 학습/테스트용 DataFrame을 모두 반환 \n",
    "    return X_train, X_test, y_train, y_test"
   ]
  },
  {
   "cell_type": "code",
   "execution_count": 14,
   "id": "1f1f5580-c20c-4efb-8483-c292324c6d98",
   "metadata": {},
   "outputs": [],
   "source": [
    "X_train, X_test, y_train, y_test = get_human_dataset()"
   ]
  },
  {
   "cell_type": "markdown",
   "id": "8e68cf1e-10b8-49f0-af6b-c3a8366a1506",
   "metadata": {},
   "source": [
    "##### 3교시 221p"
   ]
  },
  {
   "cell_type": "code",
   "execution_count": null,
   "id": "217d080f-a039-494e-8d10-3c0f3a081138",
   "metadata": {},
   "outputs": [],
   "source": [
    "RandomForestClassifier() : Machine Learning(DeepLearning)\n",
    "parameter = 가중치 = 매개변수\n",
    "---------------------------------------------------------\n",
    "하이퍼파라미터 = 파라미터 = 매개변수 = 옵션\n",
    "하이퍼파라미터 튜닝 "
   ]
  },
  {
   "cell_type": "code",
   "execution_count": null,
   "id": "30e8c7c6-da1d-4b03-8e0a-fefd5b04d836",
   "metadata": {},
   "outputs": [],
   "source": [
    "pd.sum(axis = 1, ... ) : 파라미터, parameter, 인수, 인자, argument"
   ]
  },
  {
   "cell_type": "code",
   "execution_count": 15,
   "id": "8b5b2afc-cd42-414d-9a5c-cf955d4b02f3",
   "metadata": {},
   "outputs": [],
   "source": [
    "from sklearn.ensemble import GradientBoostingClassifier"
   ]
  },
  {
   "cell_type": "code",
   "execution_count": 16,
   "id": "f3eef87d-5d5e-41df-8b90-aa66969735d8",
   "metadata": {
    "tags": []
   },
   "outputs": [],
   "source": [
    "X_train, X_test, y_train, y_test = get_human_dataset()"
   ]
  },
  {
   "cell_type": "code",
   "execution_count": 17,
   "id": "8f950cff-497f-441a-948f-4e058415fc05",
   "metadata": {},
   "outputs": [],
   "source": [
    "def get_new_feature_name_df(old_feature_name_df):\n",
    "    feature_dup_df = pd.DataFrame(data=old_feature_name_df.groupby('column_name').cumcount(),\n",
    "                                  columns=['dup_cnt'])\n",
    "    feature_dup_df = feature_dup_df.reset_index()\n",
    "    new_feature_name_df = pd.merge(old_feature_name_df.reset_index(), feature_dup_df, how='outer')\n",
    "    new_feature_name_df['column_name'] = new_feature_name_df[['column_name', 'dup_cnt']].apply(lambda x : x[0]+'_'+str(x[1]) \n",
    "                                                                                         if x[1] >0 else x[0] ,  axis=1)\n",
    "    new_feature_name_df = new_feature_name_df.drop(['index'], axis=1)\n",
    "    return new_feature_name_df "
   ]
  },
  {
   "cell_type": "code",
   "execution_count": 55,
   "id": "496905cb-1d64-4d95-a59b-a191430cfe4c",
   "metadata": {},
   "outputs": [],
   "source": [
    "def get_human_dataset( ):\n",
    "    \n",
    "    # 각 데이터 파일들은 공백으로 분리되어 있으므로 read_csv에서 공백 문자를 sep으로 할당.\n",
    "    feature_name_df = pd.read_csv('./human_activity/features.txt',sep='\\s+',\n",
    "                        header=None,names=['column_index','column_name'])\n",
    "    \n",
    "    # 중복된 피처명을 수정하는 get_new_feature_name_df()를 이용, 신규 피처명 DataFrame생성. \n",
    "    new_feature_name_df = get_new_feature_name_df(feature_name_df)\n",
    "    \n",
    "    # DataFrame에 피처명을 컬럼으로 부여하기 위해 리스트 객체로 다시 변환\n",
    "    feature_name = new_feature_name_df.iloc[:, 1].values.tolist()\n",
    "    \n",
    "    # 학습 피처 데이터 셋과 테스트 피처 데이터을 DataFrame으로 로딩. 컬럼명은 feature_name 적용\n",
    "    X_train = pd.read_csv('./human_activity/train/X_train.txt',sep='\\s+', names=feature_name )\n",
    "    X_test = pd.read_csv('./human_activity/test/X_test.txt',sep='\\s+', names=feature_name)\n",
    "    \n",
    "    # 학습 레이블과 테스트 레이블 데이터을 DataFrame으로 로딩하고 컬럼명은 action으로 부여\n",
    "    y_train = pd.read_csv('./human_activity/train/y_train.txt',sep='\\s+',header=None,names=['action'])\n",
    "    y_test = pd.read_csv('./human_activity/test/y_test.txt',sep='\\s+',header=None,names=['action'])\n",
    "    \n",
    "    # 로드된 학습/테스트용 DataFrame을 모두 반환 \n",
    "    return X_train, X_test, y_train, y_test"
   ]
  },
  {
   "cell_type": "code",
   "execution_count": 18,
   "id": "b12446fa-c7fc-4ef7-baf0-db4f1ef630de",
   "metadata": {},
   "outputs": [
    {
     "name": "stderr",
     "output_type": "stream",
     "text": [
      "C:\\Users\\user\\anaconda3\\lib\\site-packages\\sklearn\\ensemble\\_gb.py:437: DataConversionWarning: A column-vector y was passed when a 1d array was expected. Please change the shape of y to (n_samples, ), for example using ravel().\n",
      "  y = column_or_1d(y, warn=True)\n"
     ]
    },
    {
     "name": "stdout",
     "output_type": "stream",
     "text": [
      "0.835425856803529\n",
      "걸린시간: 9.4\n"
     ]
    }
   ],
   "source": [
    "from sklearn.ensemble import GradientBoostingClassifier\n",
    "import time\n",
    "\n",
    "X_train, X_test, y_train, y_test = get_human_dataset() \n",
    "X_train = X_train[['tGravityAcc-min()-X', 'fBodyAccJerk-bandsEnergy()-1,16', 'angle(Y,gravityMean)', 'fBodyAccMag-energy()','tGravityAcc-arCoeff()-Z,2'] ]\n",
    "X_test = X_test[['tGravityAcc-min()-X', 'fBodyAccJerk-bandsEnergy()-1,16', 'angle(Y,gravityMean)', 'fBodyAccMag-energy()','tGravityAcc-arCoeff()-Z,2'] ] \n",
    "\n",
    "start_time = time.time()\n",
    "gb_clf = GradientBoostingClassifier(random_state=6)\n",
    "gb_clf.fit(X_train, y_train)\n",
    "pred = gb_clf.predict(X_test)\n",
    "acc = accuracy_score(y_test,pred)\n",
    "end_time = time.time()\n",
    "\n",
    "print(acc)\n",
    "print(f'걸린시간:{end_time - start_time: .1f}')"
   ]
  },
  {
   "cell_type": "code",
   "execution_count": null,
   "id": "bc869210-72fb-4222-bfe6-a04cf78d99fe",
   "metadata": {},
   "outputs": [],
   "source": [
    "sequence : 시퀀스 \n",
    "parallel : 병렬적"
   ]
  },
  {
   "cell_type": "markdown",
   "id": "d57648b1-4615-4740-99d6-b37177ad6d22",
   "metadata": {},
   "source": [
    "##### 5교시 240p"
   ]
  },
  {
   "cell_type": "code",
   "execution_count": 19,
   "id": "9412c2e7-db12-4b9f-af2e-743f74c903c5",
   "metadata": {},
   "outputs": [],
   "source": [
    "import xgboost"
   ]
  },
  {
   "cell_type": "code",
   "execution_count": null,
   "id": "4fe23a84-a337-49ad-88c4-8df40d765a98",
   "metadata": {},
   "outputs": [],
   "source": [
    "xgboost 설치 후 책으로 진행"
   ]
  },
  {
   "cell_type": "markdown",
   "id": "edfb3b4f-863f-4c4d-a068-2e5f7fcc9884",
   "metadata": {},
   "source": [
    "##### 6교시"
   ]
  },
  {
   "cell_type": "code",
   "execution_count": null,
   "id": "9eb4ba39-e98e-4e97-8ef3-262276172892",
   "metadata": {},
   "outputs": [],
   "source": [
    "loss function  손실함수\n",
    "error function 오차함수\n",
    "objective function 목적함수"
   ]
  },
  {
   "cell_type": "code",
   "execution_count": 50,
   "id": "d07310d0-a40f-421a-814b-4cdaa6268183",
   "metadata": {},
   "outputs": [],
   "source": [
    "from xgboost import XGBClassifier"
   ]
  },
  {
   "cell_type": "code",
   "execution_count": 51,
   "id": "ea8aa528-14a0-4d70-bbe9-cb080bcba8d1",
   "metadata": {},
   "outputs": [],
   "source": [
    "cancer = load_breast_cancer()\n",
    "X = cancer.data\n",
    "y = cancer.target\n",
    "X_train, X_test, y_train, y_test = train_test_split(x, y, test_size = 0.3)"
   ]
  },
  {
   "cell_type": "code",
   "execution_count": 52,
   "id": "74045c6a-5c6c-41d4-892a-12afa944b7bb",
   "metadata": {},
   "outputs": [
    {
     "data": {
      "text/plain": [
       "0.9473684210526315"
      ]
     },
     "execution_count": 52,
     "metadata": {},
     "output_type": "execute_result"
    }
   ],
   "source": [
    "xgb_clf = XGBClassifier(n_estimators =400, learning_rate = 0.05, max_depth = 3, eval_metric = 'logloss')\n",
    "xgb_clf.fit(X_train, y_train, verbose = True)\n",
    "pred = xgb_clf.predict(X_test)\n",
    "pred_proba = xgb_clf.predict_proba(X_test)[:,1]\n",
    "accuracy_score(y_test,pred)"
   ]
  },
  {
   "cell_type": "code",
   "execution_count": 53,
   "id": "b5c10af7-30bb-47a4-b623-2d3aae38286e",
   "metadata": {
    "tags": []
   },
   "outputs": [],
   "source": [
    "X_tr, X_val, y_tr, y_val = train_test_split(X_train, y_train)"
   ]
  },
  {
   "cell_type": "code",
   "execution_count": 54,
   "id": "cbc3166f-e80d-48b0-81d5-3ef73c4fa51c",
   "metadata": {
    "collapsed": true,
    "jupyter": {
     "outputs_hidden": true
    },
    "tags": []
   },
   "outputs": [
    {
     "name": "stdout",
     "output_type": "stream",
     "text": [
      "[0]\tvalidation_0-logloss:0.65002\tvalidation_1-logloss:0.65369\n",
      "[1]\tvalidation_0-logloss:0.61026\tvalidation_1-logloss:0.61754\n",
      "[2]\tvalidation_0-logloss:0.57452\tvalidation_1-logloss:0.58508\n",
      "[3]\tvalidation_0-logloss:0.54119\tvalidation_1-logloss:0.55518\n",
      "[4]\tvalidation_0-logloss:0.51110\tvalidation_1-logloss:0.52806\n",
      "[5]\tvalidation_0-logloss:0.48280\tvalidation_1-logloss:0.50323\n",
      "[6]\tvalidation_0-logloss:0.45701\tvalidation_1-logloss:0.48019\n",
      "[7]\tvalidation_0-logloss:0.43276\tvalidation_1-logloss:0.45885\n",
      "[8]\tvalidation_0-logloss:0.41025\tvalidation_1-logloss:0.43954\n",
      "[9]\tvalidation_0-logloss:0.39048\tvalidation_1-logloss:0.42211\n",
      "[10]\tvalidation_0-logloss:0.37090\tvalidation_1-logloss:0.40524\n",
      "[11]\tvalidation_0-logloss:0.35260\tvalidation_1-logloss:0.38988\n",
      "[12]\tvalidation_0-logloss:0.33591\tvalidation_1-logloss:0.37577\n",
      "[13]\tvalidation_0-logloss:0.31988\tvalidation_1-logloss:0.36231\n",
      "[14]\tvalidation_0-logloss:0.30527\tvalidation_1-logloss:0.34996\n",
      "[15]\tvalidation_0-logloss:0.29117\tvalidation_1-logloss:0.33864\n",
      "[16]\tvalidation_0-logloss:0.27859\tvalidation_1-logloss:0.32759\n",
      "[17]\tvalidation_0-logloss:0.26609\tvalidation_1-logloss:0.31755\n",
      "[18]\tvalidation_0-logloss:0.25489\tvalidation_1-logloss:0.30704\n",
      "[19]\tvalidation_0-logloss:0.24378\tvalidation_1-logloss:0.29831\n",
      "[20]\tvalidation_0-logloss:0.23393\tvalidation_1-logloss:0.28988\n",
      "[21]\tvalidation_0-logloss:0.22461\tvalidation_1-logloss:0.28124\n",
      "[22]\tvalidation_0-logloss:0.21525\tvalidation_1-logloss:0.27428\n",
      "[23]\tvalidation_0-logloss:0.20701\tvalidation_1-logloss:0.26751\n",
      "[24]\tvalidation_0-logloss:0.19888\tvalidation_1-logloss:0.26042\n",
      "[25]\tvalidation_0-logloss:0.19105\tvalidation_1-logloss:0.25461\n",
      "[26]\tvalidation_0-logloss:0.18380\tvalidation_1-logloss:0.24835\n",
      "[27]\tvalidation_0-logloss:0.17724\tvalidation_1-logloss:0.24242\n",
      "[28]\tvalidation_0-logloss:0.17055\tvalidation_1-logloss:0.23769\n",
      "[29]\tvalidation_0-logloss:0.16471\tvalidation_1-logloss:0.23247\n",
      "[30]\tvalidation_0-logloss:0.15915\tvalidation_1-logloss:0.22749\n",
      "[31]\tvalidation_0-logloss:0.15363\tvalidation_1-logloss:0.22291\n",
      "[32]\tvalidation_0-logloss:0.14795\tvalidation_1-logloss:0.21858\n",
      "[33]\tvalidation_0-logloss:0.14301\tvalidation_1-logloss:0.21454\n",
      "[34]\tvalidation_0-logloss:0.13788\tvalidation_1-logloss:0.21089\n",
      "[35]\tvalidation_0-logloss:0.13345\tvalidation_1-logloss:0.20684\n",
      "[36]\tvalidation_0-logloss:0.12921\tvalidation_1-logloss:0.20228\n",
      "[37]\tvalidation_0-logloss:0.12485\tvalidation_1-logloss:0.19849\n",
      "[38]\tvalidation_0-logloss:0.12034\tvalidation_1-logloss:0.19553\n",
      "[39]\tvalidation_0-logloss:0.11605\tvalidation_1-logloss:0.19274\n",
      "[40]\tvalidation_0-logloss:0.11200\tvalidation_1-logloss:0.19017\n",
      "[41]\tvalidation_0-logloss:0.10815\tvalidation_1-logloss:0.18785\n",
      "[42]\tvalidation_0-logloss:0.10450\tvalidation_1-logloss:0.18566\n",
      "[43]\tvalidation_0-logloss:0.10115\tvalidation_1-logloss:0.18270\n",
      "[44]\tvalidation_0-logloss:0.09799\tvalidation_1-logloss:0.18015\n",
      "[45]\tvalidation_0-logloss:0.09479\tvalidation_1-logloss:0.17839\n",
      "[46]\tvalidation_0-logloss:0.09175\tvalidation_1-logloss:0.17685\n",
      "[47]\tvalidation_0-logloss:0.08887\tvalidation_1-logloss:0.17539\n",
      "[48]\tvalidation_0-logloss:0.08622\tvalidation_1-logloss:0.17313\n",
      "[49]\tvalidation_0-logloss:0.08371\tvalidation_1-logloss:0.17123\n",
      "[50]\tvalidation_0-logloss:0.08117\tvalidation_1-logloss:0.17009\n",
      "[51]\tvalidation_0-logloss:0.07888\tvalidation_1-logloss:0.16840\n",
      "[52]\tvalidation_0-logloss:0.07675\tvalidation_1-logloss:0.16725\n",
      "[53]\tvalidation_0-logloss:0.07451\tvalidation_1-logloss:0.16644\n",
      "[54]\tvalidation_0-logloss:0.07236\tvalidation_1-logloss:0.16511\n",
      "[55]\tvalidation_0-logloss:0.07044\tvalidation_1-logloss:0.16361\n",
      "[56]\tvalidation_0-logloss:0.06847\tvalidation_1-logloss:0.16307\n",
      "[57]\tvalidation_0-logloss:0.06660\tvalidation_1-logloss:0.16247\n",
      "[58]\tvalidation_0-logloss:0.06487\tvalidation_1-logloss:0.16109\n",
      "[59]\tvalidation_0-logloss:0.06331\tvalidation_1-logloss:0.16012\n",
      "[60]\tvalidation_0-logloss:0.06164\tvalidation_1-logloss:0.15985\n",
      "[61]\tvalidation_0-logloss:0.06005\tvalidation_1-logloss:0.15948\n",
      "[62]\tvalidation_0-logloss:0.05861\tvalidation_1-logloss:0.15859\n",
      "[63]\tvalidation_0-logloss:0.05731\tvalidation_1-logloss:0.15793\n",
      "[64]\tvalidation_0-logloss:0.05590\tvalidation_1-logloss:0.15809\n",
      "[65]\tvalidation_0-logloss:0.05462\tvalidation_1-logloss:0.15724\n",
      "[66]\tvalidation_0-logloss:0.05331\tvalidation_1-logloss:0.15689\n",
      "[67]\tvalidation_0-logloss:0.05197\tvalidation_1-logloss:0.15653\n",
      "[68]\tvalidation_0-logloss:0.05077\tvalidation_1-logloss:0.15627\n",
      "[69]\tvalidation_0-logloss:0.04954\tvalidation_1-logloss:0.15599\n",
      "[70]\tvalidation_0-logloss:0.04844\tvalidation_1-logloss:0.15585\n",
      "[71]\tvalidation_0-logloss:0.04737\tvalidation_1-logloss:0.15566\n",
      "[72]\tvalidation_0-logloss:0.04639\tvalidation_1-logloss:0.15509\n",
      "[73]\tvalidation_0-logloss:0.04533\tvalidation_1-logloss:0.15496\n",
      "[74]\tvalidation_0-logloss:0.04432\tvalidation_1-logloss:0.15487\n",
      "[75]\tvalidation_0-logloss:0.04334\tvalidation_1-logloss:0.15480\n",
      "[76]\tvalidation_0-logloss:0.04240\tvalidation_1-logloss:0.15476\n",
      "[77]\tvalidation_0-logloss:0.04156\tvalidation_1-logloss:0.15484\n",
      "[78]\tvalidation_0-logloss:0.04072\tvalidation_1-logloss:0.15481\n",
      "[79]\tvalidation_0-logloss:0.03993\tvalidation_1-logloss:0.15491\n",
      "[80]\tvalidation_0-logloss:0.03911\tvalidation_1-logloss:0.15506\n",
      "[81]\tvalidation_0-logloss:0.03834\tvalidation_1-logloss:0.15508\n",
      "[82]\tvalidation_0-logloss:0.03757\tvalidation_1-logloss:0.15434\n",
      "[83]\tvalidation_0-logloss:0.03689\tvalidation_1-logloss:0.15434\n",
      "[84]\tvalidation_0-logloss:0.03620\tvalidation_1-logloss:0.15441\n",
      "[85]\tvalidation_0-logloss:0.03550\tvalidation_1-logloss:0.15437\n",
      "[86]\tvalidation_0-logloss:0.03489\tvalidation_1-logloss:0.15465\n",
      "[87]\tvalidation_0-logloss:0.03421\tvalidation_1-logloss:0.15481\n",
      "[88]\tvalidation_0-logloss:0.03360\tvalidation_1-logloss:0.15492\n",
      "[89]\tvalidation_0-logloss:0.03298\tvalidation_1-logloss:0.15434\n",
      "[90]\tvalidation_0-logloss:0.03243\tvalidation_1-logloss:0.15483\n",
      "[91]\tvalidation_0-logloss:0.03186\tvalidation_1-logloss:0.15495\n",
      "[92]\tvalidation_0-logloss:0.03129\tvalidation_1-logloss:0.15536\n",
      "[93]\tvalidation_0-logloss:0.03076\tvalidation_1-logloss:0.15553\n",
      "[94]\tvalidation_0-logloss:0.03022\tvalidation_1-logloss:0.15497\n",
      "[95]\tvalidation_0-logloss:0.02974\tvalidation_1-logloss:0.15551\n",
      "[96]\tvalidation_0-logloss:0.02926\tvalidation_1-logloss:0.15569\n",
      "[97]\tvalidation_0-logloss:0.02876\tvalidation_1-logloss:0.15523\n",
      "[98]\tvalidation_0-logloss:0.02828\tvalidation_1-logloss:0.15585\n",
      "[99]\tvalidation_0-logloss:0.02781\tvalidation_1-logloss:0.15602\n",
      "[100]\tvalidation_0-logloss:0.02740\tvalidation_1-logloss:0.15657\n",
      "[101]\tvalidation_0-logloss:0.02697\tvalidation_1-logloss:0.15679\n",
      "[102]\tvalidation_0-logloss:0.02662\tvalidation_1-logloss:0.15707\n",
      "[103]\tvalidation_0-logloss:0.02618\tvalidation_1-logloss:0.15730\n",
      "[104]\tvalidation_0-logloss:0.02580\tvalidation_1-logloss:0.15786\n",
      "[105]\tvalidation_0-logloss:0.02542\tvalidation_1-logloss:0.15811\n",
      "[106]\tvalidation_0-logloss:0.02503\tvalidation_1-logloss:0.15774\n",
      "[107]\tvalidation_0-logloss:0.02466\tvalidation_1-logloss:0.15740\n",
      "[108]\tvalidation_0-logloss:0.02431\tvalidation_1-logloss:0.15798\n",
      "[109]\tvalidation_0-logloss:0.02397\tvalidation_1-logloss:0.15823\n",
      "[110]\tvalidation_0-logloss:0.02372\tvalidation_1-logloss:0.15841\n",
      "[111]\tvalidation_0-logloss:0.02336\tvalidation_1-logloss:0.15828\n",
      "[112]\tvalidation_0-logloss:0.02305\tvalidation_1-logloss:0.15887\n",
      "[113]\tvalidation_0-logloss:0.02277\tvalidation_1-logloss:0.15925\n",
      "[114]\tvalidation_0-logloss:0.02253\tvalidation_1-logloss:0.15975\n",
      "[115]\tvalidation_0-logloss:0.02219\tvalidation_1-logloss:0.15976\n",
      "[116]\tvalidation_0-logloss:0.02190\tvalidation_1-logloss:0.16035\n",
      "[117]\tvalidation_0-logloss:0.02166\tvalidation_1-logloss:0.16074\n",
      "[118]\tvalidation_0-logloss:0.02138\tvalidation_1-logloss:0.16077\n",
      "[119]\tvalidation_0-logloss:0.02112\tvalidation_1-logloss:0.16060\n",
      "[120]\tvalidation_0-logloss:0.02084\tvalidation_1-logloss:0.16062\n",
      "[121]\tvalidation_0-logloss:0.02059\tvalidation_1-logloss:0.16121\n",
      "[122]\tvalidation_0-logloss:0.02033\tvalidation_1-logloss:0.16082\n",
      "[123]\tvalidation_0-logloss:0.02010\tvalidation_1-logloss:0.16043\n",
      "[124]\tvalidation_0-logloss:0.01990\tvalidation_1-logloss:0.16094\n",
      "[125]\tvalidation_0-logloss:0.01967\tvalidation_1-logloss:0.16153\n",
      "[126]\tvalidation_0-logloss:0.01942\tvalidation_1-logloss:0.16192\n",
      "[127]\tvalidation_0-logloss:0.01919\tvalidation_1-logloss:0.16157\n",
      "[128]\tvalidation_0-logloss:0.01898\tvalidation_1-logloss:0.16166\n",
      "[129]\tvalidation_0-logloss:0.01877\tvalidation_1-logloss:0.16225\n",
      "[130]\tvalidation_0-logloss:0.01860\tvalidation_1-logloss:0.16293\n",
      "[131]\tvalidation_0-logloss:0.01840\tvalidation_1-logloss:0.16288\n",
      "[132]\tvalidation_0-logloss:0.01825\tvalidation_1-logloss:0.16277\n",
      "[133]\tvalidation_0-logloss:0.01809\tvalidation_1-logloss:0.16294\n",
      "[134]\tvalidation_0-logloss:0.01792\tvalidation_1-logloss:0.16308\n",
      "[135]\tvalidation_0-logloss:0.01771\tvalidation_1-logloss:0.16283\n",
      "[136]\tvalidation_0-logloss:0.01757\tvalidation_1-logloss:0.16273\n",
      "[137]\tvalidation_0-logloss:0.01742\tvalidation_1-logloss:0.16274\n",
      "[138]\tvalidation_0-logloss:0.01727\tvalidation_1-logloss:0.16325\n"
     ]
    },
    {
     "name": "stderr",
     "output_type": "stream",
     "text": [
      "C:\\Users\\user\\anaconda3\\lib\\site-packages\\xgboost\\sklearn.py:835: UserWarning: `eval_metric` in `fit` method is deprecated for better compatibility with scikit-learn, use `eval_metric` in constructor or`set_params` instead.\n",
      "  warnings.warn(\n",
      "C:\\Users\\user\\anaconda3\\lib\\site-packages\\xgboost\\sklearn.py:835: UserWarning: `early_stopping_rounds` in `fit` method is deprecated for better compatibility with scikit-learn, use `early_stopping_rounds` in constructor or`set_params` instead.\n",
      "  warnings.warn(\n"
     ]
    },
    {
     "data": {
      "text/plain": [
       "0.9473684210526315"
      ]
     },
     "execution_count": 54,
     "metadata": {},
     "output_type": "execute_result"
    }
   ],
   "source": [
    "xgb_clf = XGBClassifier(n_estimators =400, learning_rate = 0.05, max_depth = 3)\n",
    "evals = [ (X_tr, y_tr),(X_val, y_val)]\n",
    "\n",
    "xgb_clf.fit(X_tr, y_tr, early_stopping_rounds=50, eval_metric='logloss',\n",
    "            eval_set = evals, verbose = True)\n",
    "pred = xgb_clf.predict(X_test)\n",
    "pred_proba = xgb_clf.predict_proba(X_test)[:,1]\n",
    "accuracy_score(y_test,pred)"
   ]
  },
  {
   "cell_type": "markdown",
   "id": "7320ba07-f192-418e-9a61-27b85b4b1987",
   "metadata": {},
   "source": [
    "##### 7교시 245p~252p (자습)"
   ]
  },
  {
   "cell_type": "code",
   "execution_count": 55,
   "id": "41131ceb-6216-4cb2-883f-5748f10054e4",
   "metadata": {},
   "outputs": [
    {
     "name": "stdout",
     "output_type": "stream",
     "text": [
      "Collecting package metadata (current_repodata.json): ...working... done\n",
      "Solving environment: ...working... done\n",
      "\n",
      "## Package Plan ##\n",
      "\n",
      "  environment location: C:\\Users\\user\\anaconda3\n",
      "\n",
      "  added / updated specs:\n",
      "    - lightgbm\n",
      "\n",
      "\n",
      "The following packages will be downloaded:\n",
      "\n",
      "    package                    |            build\n",
      "    ---------------------------|-----------------\n",
      "    ca-certificates-2022.12.7  |       h5b45459_0         143 KB  conda-forge\n",
      "    certifi-2022.12.7          |     pyhd8ed1ab_0         147 KB  conda-forge\n",
      "    lightgbm-3.3.5             |  py310hd77b12b_0         851 KB\n",
      "    ------------------------------------------------------------\n",
      "                                           Total:         1.1 MB\n",
      "\n",
      "The following NEW packages will be INSTALLED:\n",
      "\n",
      "  lightgbm           pkgs/main/win-64::lightgbm-3.3.5-py310hd77b12b_0 \n",
      "\n",
      "The following packages will be SUPERSEDED by a higher-priority channel:\n",
      "\n",
      "  ca-certificates    anaconda::ca-certificates-2023.01.10-~ --> conda-forge::ca-certificates-2022.12.7-h5b45459_0 \n",
      "  certifi            anaconda/win-64::certifi-2022.12.7-py~ --> conda-forge/noarch::certifi-2022.12.7-pyhd8ed1ab_0 \n",
      "\n",
      "\n",
      "\n",
      "Downloading and Extracting Packages\n",
      "\n",
      "certifi-2022.12.7    | 147 KB    |            |   0% \n",
      "\n",
      "ca-certificates-2022 | 143 KB    |            |   0% \u001b[A\n",
      "\n",
      "\n",
      "lightgbm-3.3.5       | 851 KB    |            |   0% \u001b[A\u001b[A\n",
      "certifi-2022.12.7    | 147 KB    | ########## | 100% \n",
      "certifi-2022.12.7    | 147 KB    | ########## | 100% \n",
      "\n",
      "ca-certificates-2022 | 143 KB    | ########## | 100% \u001b[A\n",
      "\n",
      "ca-certificates-2022 | 143 KB    | ########## | 100% \u001b[A\n",
      "\n",
      "\n",
      "lightgbm-3.3.5       | 851 KB    | ########## | 100% \u001b[A\u001b[A\n",
      "\n",
      "\n",
      "lightgbm-3.3.5       | 851 KB    | ########## | 100% \u001b[A\u001b[A\n",
      "                                                     \n",
      "\n",
      "\n",
      "                                                     \u001b[A\n",
      "\n",
      "\n",
      "                                                     \u001b[A\u001b[A\n",
      "\n",
      "Preparing transaction: ...working... done\n",
      "Verifying transaction: ...working... done\n",
      "Executing transaction: ...working... done\n",
      "\n",
      "Note: you may need to restart the kernel to use updated packages.\n"
     ]
    }
   ],
   "source": [
    "conda install -c conda-forge lightgbm"
   ]
  },
  {
   "cell_type": "code",
   "execution_count": 60,
   "id": "88fa88f7-ee06-450f-855b-69cb35634c8e",
   "metadata": {
    "collapsed": true,
    "jupyter": {
     "outputs_hidden": true
    },
    "tags": []
   },
   "outputs": [
    {
     "name": "stdout",
     "output_type": "stream",
     "text": [
      "[1]\ttraining's binary_logloss: 0.625671\tvalid_1's binary_logloss: 0.628248\n",
      "[2]\ttraining's binary_logloss: 0.588173\tvalid_1's binary_logloss: 0.601106\n",
      "[3]\ttraining's binary_logloss: 0.554518\tvalid_1's binary_logloss: 0.577587\n",
      "[4]\ttraining's binary_logloss: 0.523972\tvalid_1's binary_logloss: 0.556324\n",
      "[5]\ttraining's binary_logloss: 0.49615\tvalid_1's binary_logloss: 0.537407\n",
      "[6]\ttraining's binary_logloss: 0.470108\tvalid_1's binary_logloss: 0.519401\n",
      "[7]\ttraining's binary_logloss: 0.446647\tvalid_1's binary_logloss: 0.502637\n",
      "[8]\ttraining's binary_logloss: 0.425055\tvalid_1's binary_logloss: 0.488311\n",
      "[9]\ttraining's binary_logloss: 0.405125\tvalid_1's binary_logloss: 0.474664\n",
      "[10]\ttraining's binary_logloss: 0.386526\tvalid_1's binary_logloss: 0.461267\n",
      "[11]\ttraining's binary_logloss: 0.367027\tvalid_1's binary_logloss: 0.444274\n",
      "[12]\ttraining's binary_logloss: 0.350713\tvalid_1's binary_logloss: 0.432755\n",
      "[13]\ttraining's binary_logloss: 0.334601\tvalid_1's binary_logloss: 0.421371\n",
      "[14]\ttraining's binary_logloss: 0.319854\tvalid_1's binary_logloss: 0.411418\n",
      "[15]\ttraining's binary_logloss: 0.306374\tvalid_1's binary_logloss: 0.402989\n",
      "[16]\ttraining's binary_logloss: 0.293116\tvalid_1's binary_logloss: 0.393973\n",
      "[17]\ttraining's binary_logloss: 0.280812\tvalid_1's binary_logloss: 0.384801\n",
      "[18]\ttraining's binary_logloss: 0.268352\tvalid_1's binary_logloss: 0.376191\n",
      "[19]\ttraining's binary_logloss: 0.256942\tvalid_1's binary_logloss: 0.368378\n",
      "[20]\ttraining's binary_logloss: 0.246443\tvalid_1's binary_logloss: 0.362062\n",
      "[21]\ttraining's binary_logloss: 0.236874\tvalid_1's binary_logloss: 0.355162\n",
      "[22]\ttraining's binary_logloss: 0.227501\tvalid_1's binary_logloss: 0.348933\n",
      "[23]\ttraining's binary_logloss: 0.218988\tvalid_1's binary_logloss: 0.342819\n",
      "[24]\ttraining's binary_logloss: 0.210621\tvalid_1's binary_logloss: 0.337386\n",
      "[25]\ttraining's binary_logloss: 0.202076\tvalid_1's binary_logloss: 0.331523\n",
      "[26]\ttraining's binary_logloss: 0.194199\tvalid_1's binary_logloss: 0.326349\n",
      "[27]\ttraining's binary_logloss: 0.187107\tvalid_1's binary_logloss: 0.322785\n",
      "[28]\ttraining's binary_logloss: 0.180535\tvalid_1's binary_logloss: 0.317877\n",
      "[29]\ttraining's binary_logloss: 0.173834\tvalid_1's binary_logloss: 0.313928\n",
      "[30]\ttraining's binary_logloss: 0.167198\tvalid_1's binary_logloss: 0.310105\n",
      "[31]\ttraining's binary_logloss: 0.161229\tvalid_1's binary_logloss: 0.307107\n",
      "[32]\ttraining's binary_logloss: 0.155494\tvalid_1's binary_logloss: 0.303837\n",
      "[33]\ttraining's binary_logloss: 0.149125\tvalid_1's binary_logloss: 0.300315\n",
      "[34]\ttraining's binary_logloss: 0.144045\tvalid_1's binary_logloss: 0.297816\n",
      "[35]\ttraining's binary_logloss: 0.139341\tvalid_1's binary_logloss: 0.295387\n",
      "[36]\ttraining's binary_logloss: 0.134625\tvalid_1's binary_logloss: 0.293063\n",
      "[37]\ttraining's binary_logloss: 0.129167\tvalid_1's binary_logloss: 0.289127\n",
      "[38]\ttraining's binary_logloss: 0.12472\tvalid_1's binary_logloss: 0.288697\n",
      "[39]\ttraining's binary_logloss: 0.11974\tvalid_1's binary_logloss: 0.28576\n",
      "[40]\ttraining's binary_logloss: 0.115054\tvalid_1's binary_logloss: 0.282853\n",
      "[41]\ttraining's binary_logloss: 0.110662\tvalid_1's binary_logloss: 0.279441\n",
      "[42]\ttraining's binary_logloss: 0.106358\tvalid_1's binary_logloss: 0.28113\n",
      "[43]\ttraining's binary_logloss: 0.102324\tvalid_1's binary_logloss: 0.279139\n",
      "[44]\ttraining's binary_logloss: 0.0985699\tvalid_1's binary_logloss: 0.276465\n",
      "[45]\ttraining's binary_logloss: 0.094858\tvalid_1's binary_logloss: 0.275946\n",
      "[46]\ttraining's binary_logloss: 0.0912486\tvalid_1's binary_logloss: 0.272819\n",
      "[47]\ttraining's binary_logloss: 0.0883115\tvalid_1's binary_logloss: 0.272306\n",
      "[48]\ttraining's binary_logloss: 0.0849963\tvalid_1's binary_logloss: 0.270452\n",
      "[49]\ttraining's binary_logloss: 0.0821742\tvalid_1's binary_logloss: 0.268671\n",
      "[50]\ttraining's binary_logloss: 0.0789991\tvalid_1's binary_logloss: 0.267587\n",
      "[51]\ttraining's binary_logloss: 0.0761072\tvalid_1's binary_logloss: 0.26626\n",
      "[52]\ttraining's binary_logloss: 0.0732567\tvalid_1's binary_logloss: 0.265542\n",
      "[53]\ttraining's binary_logloss: 0.0706388\tvalid_1's binary_logloss: 0.264547\n",
      "[54]\ttraining's binary_logloss: 0.0683911\tvalid_1's binary_logloss: 0.26502\n",
      "[55]\ttraining's binary_logloss: 0.0659347\tvalid_1's binary_logloss: 0.264388\n",
      "[56]\ttraining's binary_logloss: 0.0636873\tvalid_1's binary_logloss: 0.263128\n",
      "[57]\ttraining's binary_logloss: 0.0613354\tvalid_1's binary_logloss: 0.26231\n",
      "[58]\ttraining's binary_logloss: 0.0591944\tvalid_1's binary_logloss: 0.262011\n",
      "[59]\ttraining's binary_logloss: 0.057033\tvalid_1's binary_logloss: 0.261454\n",
      "[60]\ttraining's binary_logloss: 0.0550801\tvalid_1's binary_logloss: 0.260746\n",
      "[61]\ttraining's binary_logloss: 0.0532381\tvalid_1's binary_logloss: 0.260236\n",
      "[62]\ttraining's binary_logloss: 0.0514074\tvalid_1's binary_logloss: 0.261586\n",
      "[63]\ttraining's binary_logloss: 0.0494837\tvalid_1's binary_logloss: 0.261797\n",
      "[64]\ttraining's binary_logloss: 0.0477826\tvalid_1's binary_logloss: 0.262533\n",
      "[65]\ttraining's binary_logloss: 0.0460364\tvalid_1's binary_logloss: 0.263305\n",
      "[66]\ttraining's binary_logloss: 0.0444552\tvalid_1's binary_logloss: 0.264072\n",
      "[67]\ttraining's binary_logloss: 0.0427638\tvalid_1's binary_logloss: 0.266223\n",
      "[68]\ttraining's binary_logloss: 0.0412449\tvalid_1's binary_logloss: 0.266817\n",
      "[69]\ttraining's binary_logloss: 0.0398589\tvalid_1's binary_logloss: 0.267819\n",
      "[70]\ttraining's binary_logloss: 0.0383095\tvalid_1's binary_logloss: 0.267484\n",
      "[71]\ttraining's binary_logloss: 0.0368803\tvalid_1's binary_logloss: 0.270233\n",
      "[72]\ttraining's binary_logloss: 0.0355637\tvalid_1's binary_logloss: 0.268442\n",
      "[73]\ttraining's binary_logloss: 0.0341747\tvalid_1's binary_logloss: 0.26895\n",
      "[74]\ttraining's binary_logloss: 0.0328302\tvalid_1's binary_logloss: 0.266958\n",
      "[75]\ttraining's binary_logloss: 0.0317853\tvalid_1's binary_logloss: 0.268091\n",
      "[76]\ttraining's binary_logloss: 0.0305626\tvalid_1's binary_logloss: 0.266419\n",
      "[77]\ttraining's binary_logloss: 0.0295001\tvalid_1's binary_logloss: 0.268588\n",
      "[78]\ttraining's binary_logloss: 0.0284699\tvalid_1's binary_logloss: 0.270964\n",
      "[79]\ttraining's binary_logloss: 0.0273953\tvalid_1's binary_logloss: 0.270293\n",
      "[80]\ttraining's binary_logloss: 0.0264668\tvalid_1's binary_logloss: 0.270523\n",
      "[81]\ttraining's binary_logloss: 0.0254636\tvalid_1's binary_logloss: 0.270683\n",
      "[82]\ttraining's binary_logloss: 0.0245911\tvalid_1's binary_logloss: 0.273187\n",
      "[83]\ttraining's binary_logloss: 0.0236486\tvalid_1's binary_logloss: 0.275994\n",
      "[84]\ttraining's binary_logloss: 0.0228047\tvalid_1's binary_logloss: 0.274053\n",
      "[85]\ttraining's binary_logloss: 0.0221693\tvalid_1's binary_logloss: 0.273211\n",
      "[86]\ttraining's binary_logloss: 0.0213043\tvalid_1's binary_logloss: 0.272626\n",
      "[87]\ttraining's binary_logloss: 0.0203934\tvalid_1's binary_logloss: 0.27534\n",
      "[88]\ttraining's binary_logloss: 0.0195552\tvalid_1's binary_logloss: 0.276228\n",
      "[89]\ttraining's binary_logloss: 0.0188623\tvalid_1's binary_logloss: 0.27525\n",
      "[90]\ttraining's binary_logloss: 0.0183664\tvalid_1's binary_logloss: 0.276485\n",
      "[91]\ttraining's binary_logloss: 0.0176788\tvalid_1's binary_logloss: 0.277052\n",
      "[92]\ttraining's binary_logloss: 0.0170059\tvalid_1's binary_logloss: 0.277686\n",
      "[93]\ttraining's binary_logloss: 0.0164317\tvalid_1's binary_logloss: 0.275332\n",
      "[94]\ttraining's binary_logloss: 0.015878\tvalid_1's binary_logloss: 0.276236\n",
      "[95]\ttraining's binary_logloss: 0.0152959\tvalid_1's binary_logloss: 0.274538\n",
      "[96]\ttraining's binary_logloss: 0.0147216\tvalid_1's binary_logloss: 0.275244\n",
      "[97]\ttraining's binary_logloss: 0.0141758\tvalid_1's binary_logloss: 0.275829\n",
      "[98]\ttraining's binary_logloss: 0.0136551\tvalid_1's binary_logloss: 0.276654\n",
      "[99]\ttraining's binary_logloss: 0.0131585\tvalid_1's binary_logloss: 0.277859\n",
      "[100]\ttraining's binary_logloss: 0.0126961\tvalid_1's binary_logloss: 0.279265\n",
      "[101]\ttraining's binary_logloss: 0.0122421\tvalid_1's binary_logloss: 0.276695\n",
      "[102]\ttraining's binary_logloss: 0.0118067\tvalid_1's binary_logloss: 0.278488\n",
      "[103]\ttraining's binary_logloss: 0.0113994\tvalid_1's binary_logloss: 0.278932\n",
      "[104]\ttraining's binary_logloss: 0.0109799\tvalid_1's binary_logloss: 0.280997\n",
      "[105]\ttraining's binary_logloss: 0.0105953\tvalid_1's binary_logloss: 0.281454\n",
      "[106]\ttraining's binary_logloss: 0.0102381\tvalid_1's binary_logloss: 0.282058\n",
      "[107]\ttraining's binary_logloss: 0.00986714\tvalid_1's binary_logloss: 0.279275\n",
      "[108]\ttraining's binary_logloss: 0.00950998\tvalid_1's binary_logloss: 0.281427\n",
      "[109]\ttraining's binary_logloss: 0.00915965\tvalid_1's binary_logloss: 0.280752\n",
      "[110]\ttraining's binary_logloss: 0.00882581\tvalid_1's binary_logloss: 0.282152\n",
      "[111]\ttraining's binary_logloss: 0.00850714\tvalid_1's binary_logloss: 0.280894\n"
     ]
    },
    {
     "name": "stderr",
     "output_type": "stream",
     "text": [
      "C:\\Users\\user\\anaconda3\\lib\\site-packages\\lightgbm\\sklearn.py:726: UserWarning: 'early_stopping_rounds' argument is deprecated and will be removed in a future release of LightGBM. Pass 'early_stopping()' callback via 'callbacks' argument instead.\n",
      "  _log_warning(\"'early_stopping_rounds' argument is deprecated and will be removed in a future release of LightGBM. \"\n",
      "C:\\Users\\user\\anaconda3\\lib\\site-packages\\lightgbm\\sklearn.py:736: UserWarning: 'verbose' argument is deprecated and will be removed in a future release of LightGBM. Pass 'log_evaluation()' callback via 'callbacks' argument instead.\n",
      "  _log_warning(\"'verbose' argument is deprecated and will be removed in a future release of LightGBM. \"\n"
     ]
    }
   ],
   "source": [
    "# LightGBM의 파이썬 패키지인 lightbm에서 LGBMClassifier 임포트\n",
    "from lightgbm import LGBMClassifier\n",
    "\n",
    "import pandas as pd\n",
    "import numpy as np\n",
    "from sklearn.datasets import load_breast_cancer\n",
    "from sklearn.model_selection import train_test_split\n",
    "\n",
    "dataset = load_breast_cancer()\n",
    "\n",
    "cancer_df = pd.DataFrame(data=dataset.data, columns=dataset.feature_names)\n",
    "cancer_df['target'] = dataset.target\n",
    "X_features = cancer_df.iloc[:, :-1]\n",
    "y_label = cancer_df.iloc[:, -1]\n",
    "\n",
    "# 전체 데이터 중 80%는 학습용 데이터, 20%는 테스트용 데이터 추출\n",
    "X_train, X_test, y_train, y_test = train_test_split(X_features, y_label, test_size=0.2, random_state=156)\n",
    "\n",
    "# 위에서 만든 X_train, y_train을 다시 쪼개서 90%는 학습과 10%는 검증용 데이터로 분리\n",
    "X_tr, X_val, y_tr, y_val = train_test_split(X_train, y_train, test_size = 0.1, random_state=156)\n",
    "\n",
    "# 앞서 XGBoost와 동일하게 n_estimators는 400 설정.\n",
    "lgbm_wrapper = LGBMClassifier(n_estimators = 400, learning_rate = 0.05)\n",
    "\n",
    "# LightGBM도 XGBoost와 동일하게 조기 중단 수행 가능.\n",
    "evals = [(X_tr, y_tr), (X_val, y_val)]\n",
    "lgbm_wrapper.fit(X_tr, y_tr, early_stopping_rounds = 50, eval_metric = 'logloss',\n",
    "                 eval_set = evals, verbose = True)\n",
    "preds = lgbm_wrapper.predict(X_test)\n",
    "pred_proba = lgbm_wrapper.predict_proba(X_test)[:,1]"
   ]
  },
  {
   "cell_type": "code",
   "execution_count": 62,
   "id": "17d3dac5-631b-40c9-9535-98a32ad1edc7",
   "metadata": {},
   "outputs": [],
   "source": [
    "from sklearn.metrics import accuracy_score, precision_score, recall_score, f1_score, roc_auc_score\n",
    "\n",
    "def get_clf_eval(y_test, pred=None, pred_proba=None):\n",
    "    # 평가 지표 출력\n",
    "    accuracy = accuracy_score(y_test, pred)\n",
    "    precision = precision_score(y_test, pred)\n",
    "    recall = recall_score(y_test, pred)\n",
    "    f1 = f1_score(y_test, pred)\n",
    "    roc_auc = roc_auc_score(y_test, pred_proba)\n",
    "    print(f'정확도: {accuracy:.4f}, 정밀도: {precision:.4f}, 재현율: {recall:.4f}, F1: {f1:.4f}, AUC: {roc_auc:.4f}')\n"
   ]
  },
  {
   "cell_type": "code",
   "execution_count": 63,
   "id": "06961ca2-774f-43c6-9858-9e50e170f4f2",
   "metadata": {},
   "outputs": [
    {
     "name": "stdout",
     "output_type": "stream",
     "text": [
      "정확도: 0.9561, 정밀도: 0.9615, 재현율: 0.9740, F1: 0.9677, AUC: 0.9877\n"
     ]
    }
   ],
   "source": [
    "get_clf_eval(y_test, preds, pred_proba)"
   ]
  },
  {
   "cell_type": "code",
   "execution_count": 65,
   "id": "7f9335a7-8e40-43d1-a9cc-e03e41bba7a7",
   "metadata": {},
   "outputs": [
    {
     "data": {
      "text/plain": [
       "<Axes: title={'center': 'Feature importance'}, xlabel='Feature importance', ylabel='Features'>"
      ]
     },
     "execution_count": 65,
     "metadata": {},
     "output_type": "execute_result"
    },
    {
     "data": {
      "image/png": "[encoded data removed]",
      "text/plain": [
       "<Figure size 1000x1200 with 1 Axes>"
      ]
     },
     "metadata": {},
     "output_type": "display_data"
    }
   ],
   "source": [
    "# plot_importance()를 이용하여 feature 중요도 시각화\n",
    "from lightgbm import plot_importance\n",
    "import matplotlib.pyplot as plt\n",
    "%matplotlib inline\n",
    "\n",
    "fig, ax = plt.subplots(figsize=(10,12))\n",
    "plot_importance(lgbm_wrapper, ax = ax)"
   ]
  },
  {
   "cell_type": "markdown",
   "id": "5f915b26-b3d1-431c-af90-2461968b2835",
   "metadata": {},
   "source": [
    "##### 8교시 (자습)"
   ]
  }
 ],
 "metadata": {
  "kernelspec": {
   "display_name": "Python 3 (ipykernel)",
   "language": "python",
   "name": "python3"
  },
  "language_info": {
   "codemirror_mode": {
    "name": "ipython",
    "version": 3
   },
   "file_extension": ".py",
   "mimetype": "text/x-python",
   "name": "python",
   "nbconvert_exporter": "python",
   "pygments_lexer": "ipython3",
   "version": "3.10.9"
  }
 },
 "nbformat": 4,
 "nbformat_minor": 5
}
