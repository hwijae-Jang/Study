{
 "cells": [
  {
   "cell_type": "markdown",
   "id": "aa34d951-65ce-4dd2-95d8-c4de6b0b0dbb",
   "metadata": {},
   "source": [
    "# 1교시 : 과제"
   ]
  },
  {
   "cell_type": "markdown",
   "id": "7c32dd6d-64b2-45df-afbc-8d45a42352a9",
   "metadata": {},
   "source": [
    "## 1. r^2 scores는 0에 가까울수록 좋다\n",
    "X\n",
    "-> 1에 가까울수록 좋다"
   ]
  },
  {
   "cell_type": "markdown",
   "id": "99816d93-f575-4b76-bd2a-ef309c5f3690",
   "metadata": {},
   "source": [
    "## 2. lr.intercept_ 의 의미는?"
   ]
  },
  {
   "cell_type": "markdown",
   "id": "c6e26759-5a33-4ce0-967d-cf331e9f0610",
   "metadata": {},
   "source": [
    "-> y절편"
   ]
  },
  {
   "cell_type": "markdown",
   "id": "c54cb815-4596-4e3c-a77e-213da71f83c9",
   "metadata": {},
   "source": [
    "## 3. 식에서 lr.coef_ 가 지칭하는 것은? "
   ]
  },
  {
   "cell_type": "markdown",
   "id": "897fd0c6-3114-4c2e-a1b4-2e3c72a15317",
   "metadata": {},
   "source": [
    "y = b + b1 * x1 + b2 * x2 + b3 * x3  \n",
    "-> b1, b2, b3"
   ]
  },
  {
   "cell_type": "markdown",
   "id": "6b7fd34d-6abc-46df-beaa-9b93b9583d4b",
   "metadata": {},
   "source": [
    "## 4. 선형회귀 분석의 기본 가정은?"
   ]
  },
  {
   "cell_type": "markdown",
   "id": "85048dc2-04ba-49bc-a6cd-296155f34d60",
   "metadata": {},
   "source": [
    "두 변수의 관계는 ( _____  ) 이다.  -> 선형  \n",
    "-> 선형성"
   ]
  },
  {
   "cell_type": "markdown",
   "id": "2ad6050f-98f1-43c4-8922-fb09513c87fc",
   "metadata": {},
   "source": [
    "오차항의 확률분포는 ( ______ )를 이룬다. -> 정규분포  \n",
    "-> 오차의 정규성"
   ]
  },
  {
   "cell_type": "markdown",
   "id": "0b42f5f2-bbe9-43eb-ab31-8ab87d7e7a66",
   "metadata": {},
   "source": [
    "오차항의 평균은 ( _____ ) 이다. -> 0"
   ]
  },
  {
   "cell_type": "markdown",
   "id": "aa41dccc-b0e3-4aad-8270-a1efb58748a7",
   "metadata": {
    "tags": []
   },
   "source": [
    "오차항들끼리는 ( ____ ) 이다. -> 독립  \n",
    "-> 영향을 미치지 않는다"
   ]
  },
  {
   "cell_type": "markdown",
   "id": "2fd70068-faa8-4edc-8c3a-c6fb7c134529",
   "metadata": {},
   "source": [
    "## 5. cars 속도가 70, 90, 100 일 때의 제동거리를 신뢰도 99%로 예측하는 코드를 작성하세요"
   ]
  },
  {
   "cell_type": "raw",
   "id": "826eb5a1-cd13-4af6-a49b-7fd55b2c72fa",
   "metadata": {},
   "source": [
    "< R 스튜디오 > \n",
    "fit_cars = lm(dist ~ speed, data = cars)\n",
    "\n",
    "new = data.frame(speed = c(70,90,100))\n",
    "\n",
    "predict(fit_cars, new, interval = 'confidence', level = 0.99)\n",
    "\n",
    "write.csv(cars, 'cars.csv')"
   ]
  },
  {
   "cell_type": "markdown",
   "id": "8195dc5e-e0e6-4381-8f0e-7d6dfa8f7fbb",
   "metadata": {},
   "source": [
    "## 5-2. 파이썬으로 불러오기"
   ]
  },
  {
   "cell_type": "code",
   "execution_count": 27,
   "id": "b2c4e318-ba21-41d2-a08b-cef281b336e4",
   "metadata": {},
   "outputs": [],
   "source": [
    "import pandas as pd\n",
    "import numpy as np"
   ]
  },
  {
   "cell_type": "code",
   "execution_count": 28,
   "id": "3f41791e-666c-479d-81bd-a42a621df1b5",
   "metadata": {
    "collapsed": true,
    "jupyter": {
     "outputs_hidden": true
    },
    "tags": []
   },
   "outputs": [
    {
     "data": {
      "text/html": [
       "<div>\n",
       "<style scoped>\n",
       "    .dataframe tbody tr th:only-of-type {\n",
       "        vertical-align: middle;\n",
       "    }\n",
       "\n",
       "    .dataframe tbody tr th {\n",
       "        vertical-align: top;\n",
       "    }\n",
       "\n",
       "    .dataframe thead th {\n",
       "        text-align: right;\n",
       "    }\n",
       "</style>\n",
       "<table border=\"1\" class=\"dataframe\">\n",
       "  <thead>\n",
       "    <tr style=\"text-align: right;\">\n",
       "      <th></th>\n",
       "      <th>Unnamed: 0</th>\n",
       "      <th>speed</th>\n",
       "      <th>dist</th>\n",
       "    </tr>\n",
       "  </thead>\n",
       "  <tbody>\n",
       "    <tr>\n",
       "      <th>0</th>\n",
       "      <td>1</td>\n",
       "      <td>4</td>\n",
       "      <td>2</td>\n",
       "    </tr>\n",
       "    <tr>\n",
       "      <th>1</th>\n",
       "      <td>2</td>\n",
       "      <td>4</td>\n",
       "      <td>10</td>\n",
       "    </tr>\n",
       "    <tr>\n",
       "      <th>2</th>\n",
       "      <td>3</td>\n",
       "      <td>7</td>\n",
       "      <td>4</td>\n",
       "    </tr>\n",
       "    <tr>\n",
       "      <th>3</th>\n",
       "      <td>4</td>\n",
       "      <td>7</td>\n",
       "      <td>22</td>\n",
       "    </tr>\n",
       "    <tr>\n",
       "      <th>4</th>\n",
       "      <td>5</td>\n",
       "      <td>8</td>\n",
       "      <td>16</td>\n",
       "    </tr>\n",
       "    <tr>\n",
       "      <th>5</th>\n",
       "      <td>6</td>\n",
       "      <td>9</td>\n",
       "      <td>10</td>\n",
       "    </tr>\n",
       "    <tr>\n",
       "      <th>6</th>\n",
       "      <td>7</td>\n",
       "      <td>10</td>\n",
       "      <td>18</td>\n",
       "    </tr>\n",
       "    <tr>\n",
       "      <th>7</th>\n",
       "      <td>8</td>\n",
       "      <td>10</td>\n",
       "      <td>26</td>\n",
       "    </tr>\n",
       "    <tr>\n",
       "      <th>8</th>\n",
       "      <td>9</td>\n",
       "      <td>10</td>\n",
       "      <td>34</td>\n",
       "    </tr>\n",
       "    <tr>\n",
       "      <th>9</th>\n",
       "      <td>10</td>\n",
       "      <td>11</td>\n",
       "      <td>17</td>\n",
       "    </tr>\n",
       "    <tr>\n",
       "      <th>10</th>\n",
       "      <td>11</td>\n",
       "      <td>11</td>\n",
       "      <td>28</td>\n",
       "    </tr>\n",
       "    <tr>\n",
       "      <th>11</th>\n",
       "      <td>12</td>\n",
       "      <td>12</td>\n",
       "      <td>14</td>\n",
       "    </tr>\n",
       "    <tr>\n",
       "      <th>12</th>\n",
       "      <td>13</td>\n",
       "      <td>12</td>\n",
       "      <td>20</td>\n",
       "    </tr>\n",
       "    <tr>\n",
       "      <th>13</th>\n",
       "      <td>14</td>\n",
       "      <td>12</td>\n",
       "      <td>24</td>\n",
       "    </tr>\n",
       "    <tr>\n",
       "      <th>14</th>\n",
       "      <td>15</td>\n",
       "      <td>12</td>\n",
       "      <td>28</td>\n",
       "    </tr>\n",
       "    <tr>\n",
       "      <th>15</th>\n",
       "      <td>16</td>\n",
       "      <td>13</td>\n",
       "      <td>26</td>\n",
       "    </tr>\n",
       "    <tr>\n",
       "      <th>16</th>\n",
       "      <td>17</td>\n",
       "      <td>13</td>\n",
       "      <td>34</td>\n",
       "    </tr>\n",
       "    <tr>\n",
       "      <th>17</th>\n",
       "      <td>18</td>\n",
       "      <td>13</td>\n",
       "      <td>34</td>\n",
       "    </tr>\n",
       "    <tr>\n",
       "      <th>18</th>\n",
       "      <td>19</td>\n",
       "      <td>13</td>\n",
       "      <td>46</td>\n",
       "    </tr>\n",
       "    <tr>\n",
       "      <th>19</th>\n",
       "      <td>20</td>\n",
       "      <td>14</td>\n",
       "      <td>26</td>\n",
       "    </tr>\n",
       "    <tr>\n",
       "      <th>20</th>\n",
       "      <td>21</td>\n",
       "      <td>14</td>\n",
       "      <td>36</td>\n",
       "    </tr>\n",
       "    <tr>\n",
       "      <th>21</th>\n",
       "      <td>22</td>\n",
       "      <td>14</td>\n",
       "      <td>60</td>\n",
       "    </tr>\n",
       "    <tr>\n",
       "      <th>22</th>\n",
       "      <td>23</td>\n",
       "      <td>14</td>\n",
       "      <td>80</td>\n",
       "    </tr>\n",
       "    <tr>\n",
       "      <th>23</th>\n",
       "      <td>24</td>\n",
       "      <td>15</td>\n",
       "      <td>20</td>\n",
       "    </tr>\n",
       "    <tr>\n",
       "      <th>24</th>\n",
       "      <td>25</td>\n",
       "      <td>15</td>\n",
       "      <td>26</td>\n",
       "    </tr>\n",
       "    <tr>\n",
       "      <th>25</th>\n",
       "      <td>26</td>\n",
       "      <td>15</td>\n",
       "      <td>54</td>\n",
       "    </tr>\n",
       "    <tr>\n",
       "      <th>26</th>\n",
       "      <td>27</td>\n",
       "      <td>16</td>\n",
       "      <td>32</td>\n",
       "    </tr>\n",
       "    <tr>\n",
       "      <th>27</th>\n",
       "      <td>28</td>\n",
       "      <td>16</td>\n",
       "      <td>40</td>\n",
       "    </tr>\n",
       "    <tr>\n",
       "      <th>28</th>\n",
       "      <td>29</td>\n",
       "      <td>17</td>\n",
       "      <td>32</td>\n",
       "    </tr>\n",
       "    <tr>\n",
       "      <th>29</th>\n",
       "      <td>30</td>\n",
       "      <td>17</td>\n",
       "      <td>40</td>\n",
       "    </tr>\n",
       "    <tr>\n",
       "      <th>30</th>\n",
       "      <td>31</td>\n",
       "      <td>17</td>\n",
       "      <td>50</td>\n",
       "    </tr>\n",
       "    <tr>\n",
       "      <th>31</th>\n",
       "      <td>32</td>\n",
       "      <td>18</td>\n",
       "      <td>42</td>\n",
       "    </tr>\n",
       "    <tr>\n",
       "      <th>32</th>\n",
       "      <td>33</td>\n",
       "      <td>18</td>\n",
       "      <td>56</td>\n",
       "    </tr>\n",
       "    <tr>\n",
       "      <th>33</th>\n",
       "      <td>34</td>\n",
       "      <td>18</td>\n",
       "      <td>76</td>\n",
       "    </tr>\n",
       "    <tr>\n",
       "      <th>34</th>\n",
       "      <td>35</td>\n",
       "      <td>18</td>\n",
       "      <td>84</td>\n",
       "    </tr>\n",
       "    <tr>\n",
       "      <th>35</th>\n",
       "      <td>36</td>\n",
       "      <td>19</td>\n",
       "      <td>36</td>\n",
       "    </tr>\n",
       "    <tr>\n",
       "      <th>36</th>\n",
       "      <td>37</td>\n",
       "      <td>19</td>\n",
       "      <td>46</td>\n",
       "    </tr>\n",
       "    <tr>\n",
       "      <th>37</th>\n",
       "      <td>38</td>\n",
       "      <td>19</td>\n",
       "      <td>68</td>\n",
       "    </tr>\n",
       "    <tr>\n",
       "      <th>38</th>\n",
       "      <td>39</td>\n",
       "      <td>20</td>\n",
       "      <td>32</td>\n",
       "    </tr>\n",
       "    <tr>\n",
       "      <th>39</th>\n",
       "      <td>40</td>\n",
       "      <td>20</td>\n",
       "      <td>48</td>\n",
       "    </tr>\n",
       "    <tr>\n",
       "      <th>40</th>\n",
       "      <td>41</td>\n",
       "      <td>20</td>\n",
       "      <td>52</td>\n",
       "    </tr>\n",
       "    <tr>\n",
       "      <th>41</th>\n",
       "      <td>42</td>\n",
       "      <td>20</td>\n",
       "      <td>56</td>\n",
       "    </tr>\n",
       "    <tr>\n",
       "      <th>42</th>\n",
       "      <td>43</td>\n",
       "      <td>20</td>\n",
       "      <td>64</td>\n",
       "    </tr>\n",
       "    <tr>\n",
       "      <th>43</th>\n",
       "      <td>44</td>\n",
       "      <td>22</td>\n",
       "      <td>66</td>\n",
       "    </tr>\n",
       "    <tr>\n",
       "      <th>44</th>\n",
       "      <td>45</td>\n",
       "      <td>23</td>\n",
       "      <td>54</td>\n",
       "    </tr>\n",
       "    <tr>\n",
       "      <th>45</th>\n",
       "      <td>46</td>\n",
       "      <td>24</td>\n",
       "      <td>70</td>\n",
       "    </tr>\n",
       "    <tr>\n",
       "      <th>46</th>\n",
       "      <td>47</td>\n",
       "      <td>24</td>\n",
       "      <td>92</td>\n",
       "    </tr>\n",
       "    <tr>\n",
       "      <th>47</th>\n",
       "      <td>48</td>\n",
       "      <td>24</td>\n",
       "      <td>93</td>\n",
       "    </tr>\n",
       "    <tr>\n",
       "      <th>48</th>\n",
       "      <td>49</td>\n",
       "      <td>24</td>\n",
       "      <td>120</td>\n",
       "    </tr>\n",
       "    <tr>\n",
       "      <th>49</th>\n",
       "      <td>50</td>\n",
       "      <td>25</td>\n",
       "      <td>85</td>\n",
       "    </tr>\n",
       "  </tbody>\n",
       "</table>\n",
       "</div>"
      ],
      "text/plain": [
       "    Unnamed: 0  speed  dist\n",
       "0            1      4     2\n",
       "1            2      4    10\n",
       "2            3      7     4\n",
       "3            4      7    22\n",
       "4            5      8    16\n",
       "5            6      9    10\n",
       "6            7     10    18\n",
       "7            8     10    26\n",
       "8            9     10    34\n",
       "9           10     11    17\n",
       "10          11     11    28\n",
       "11          12     12    14\n",
       "12          13     12    20\n",
       "13          14     12    24\n",
       "14          15     12    28\n",
       "15          16     13    26\n",
       "16          17     13    34\n",
       "17          18     13    34\n",
       "18          19     13    46\n",
       "19          20     14    26\n",
       "20          21     14    36\n",
       "21          22     14    60\n",
       "22          23     14    80\n",
       "23          24     15    20\n",
       "24          25     15    26\n",
       "25          26     15    54\n",
       "26          27     16    32\n",
       "27          28     16    40\n",
       "28          29     17    32\n",
       "29          30     17    40\n",
       "30          31     17    50\n",
       "31          32     18    42\n",
       "32          33     18    56\n",
       "33          34     18    76\n",
       "34          35     18    84\n",
       "35          36     19    36\n",
       "36          37     19    46\n",
       "37          38     19    68\n",
       "38          39     20    32\n",
       "39          40     20    48\n",
       "40          41     20    52\n",
       "41          42     20    56\n",
       "42          43     20    64\n",
       "43          44     22    66\n",
       "44          45     23    54\n",
       "45          46     24    70\n",
       "46          47     24    92\n",
       "47          48     24    93\n",
       "48          49     24   120\n",
       "49          50     25    85"
      ]
     },
     "execution_count": 28,
     "metadata": {},
     "output_type": "execute_result"
    }
   ],
   "source": [
    "pd.read_csv('C:\\Rdata\\cars.csv')"
   ]
  },
  {
   "cell_type": "code",
   "execution_count": 31,
   "id": "ec1888c9-1056-49d8-979b-3e332b862c6b",
   "metadata": {},
   "outputs": [
    {
     "data": {
      "text/html": [
       "<div>\n",
       "<style scoped>\n",
       "    .dataframe tbody tr th:only-of-type {\n",
       "        vertical-align: middle;\n",
       "    }\n",
       "\n",
       "    .dataframe tbody tr th {\n",
       "        vertical-align: top;\n",
       "    }\n",
       "\n",
       "    .dataframe thead th {\n",
       "        text-align: right;\n",
       "    }\n",
       "</style>\n",
       "<table border=\"1\" class=\"dataframe\">\n",
       "  <thead>\n",
       "    <tr style=\"text-align: right;\">\n",
       "      <th></th>\n",
       "      <th>speed</th>\n",
       "      <th>dist</th>\n",
       "    </tr>\n",
       "  </thead>\n",
       "  <tbody>\n",
       "    <tr>\n",
       "      <th>0</th>\n",
       "      <td>4</td>\n",
       "      <td>2</td>\n",
       "    </tr>\n",
       "    <tr>\n",
       "      <th>1</th>\n",
       "      <td>4</td>\n",
       "      <td>10</td>\n",
       "    </tr>\n",
       "    <tr>\n",
       "      <th>2</th>\n",
       "      <td>7</td>\n",
       "      <td>4</td>\n",
       "    </tr>\n",
       "    <tr>\n",
       "      <th>3</th>\n",
       "      <td>7</td>\n",
       "      <td>22</td>\n",
       "    </tr>\n",
       "    <tr>\n",
       "      <th>4</th>\n",
       "      <td>8</td>\n",
       "      <td>16</td>\n",
       "    </tr>\n",
       "  </tbody>\n",
       "</table>\n",
       "</div>"
      ],
      "text/plain": [
       "   speed  dist\n",
       "0      4     2\n",
       "1      4    10\n",
       "2      7     4\n",
       "3      7    22\n",
       "4      8    16"
      ]
     },
     "execution_count": 31,
     "metadata": {},
     "output_type": "execute_result"
    }
   ],
   "source": [
    "cars = pd.read_csv('C:\\Rdata\\cars.csv')[['speed','dist']]\n",
    "cars[:5]"
   ]
  },
  {
   "cell_type": "code",
   "execution_count": 34,
   "id": "a94cd2c3-8c67-41c5-a1a2-a6a7dd7899d2",
   "metadata": {},
   "outputs": [],
   "source": [
    "from sklearn.linear_model import LinearRegression\n",
    "lr = LinearRegression()"
   ]
  },
  {
   "cell_type": "code",
   "execution_count": 37,
   "id": "fa133bb3-8428-42ed-a7e5-9c25aed7e927",
   "metadata": {},
   "outputs": [],
   "source": [
    "X = cars[['speed']]\n",
    "y = cars[['dist']]"
   ]
  },
  {
   "cell_type": "code",
   "execution_count": 39,
   "id": "2474fa1b-ab78-4dfa-95d8-b0bd48501ef3",
   "metadata": {},
   "outputs": [
    {
     "data": {
      "text/html": [
       "<style>#sk-container-id-1 {color: black;background-color: white;}#sk-container-id-1 pre{padding: 0;}#sk-container-id-1 div.sk-toggleable {background-color: white;}#sk-container-id-1 label.sk-toggleable__label {cursor: pointer;display: block;width: 100%;margin-bottom: 0;padding: 0.3em;box-sizing: border-box;text-align: center;}#sk-container-id-1 label.sk-toggleable__label-arrow:before {content: \"▸\";float: left;margin-right: 0.25em;color: #696969;}#sk-container-id-1 label.sk-toggleable__label-arrow:hover:before {color: black;}#sk-container-id-1 div.sk-estimator:hover label.sk-toggleable__label-arrow:before {color: black;}#sk-container-id-1 div.sk-toggleable__content {max-height: 0;max-width: 0;overflow: hidden;text-align: left;background-color: #f0f8ff;}#sk-container-id-1 div.sk-toggleable__content pre {margin: 0.2em;color: black;border-radius: 0.25em;background-color: #f0f8ff;}#sk-container-id-1 input.sk-toggleable__control:checked~div.sk-toggleable__content {max-height: 200px;max-width: 100%;overflow: auto;}#sk-container-id-1 input.sk-toggleable__control:checked~label.sk-toggleable__label-arrow:before {content: \"▾\";}#sk-container-id-1 div.sk-estimator input.sk-toggleable__control:checked~label.sk-toggleable__label {background-color: #d4ebff;}#sk-container-id-1 div.sk-label input.sk-toggleable__control:checked~label.sk-toggleable__label {background-color: #d4ebff;}#sk-container-id-1 input.sk-hidden--visually {border: 0;clip: rect(1px 1px 1px 1px);clip: rect(1px, 1px, 1px, 1px);height: 1px;margin: -1px;overflow: hidden;padding: 0;position: absolute;width: 1px;}#sk-container-id-1 div.sk-estimator {font-family: monospace;background-color: #f0f8ff;border: 1px dotted black;border-radius: 0.25em;box-sizing: border-box;margin-bottom: 0.5em;}#sk-container-id-1 div.sk-estimator:hover {background-color: #d4ebff;}#sk-container-id-1 div.sk-parallel-item::after {content: \"\";width: 100%;border-bottom: 1px solid gray;flex-grow: 1;}#sk-container-id-1 div.sk-label:hover label.sk-toggleable__label {background-color: #d4ebff;}#sk-container-id-1 div.sk-serial::before {content: \"\";position: absolute;border-left: 1px solid gray;box-sizing: border-box;top: 0;bottom: 0;left: 50%;z-index: 0;}#sk-container-id-1 div.sk-serial {display: flex;flex-direction: column;align-items: center;background-color: white;padding-right: 0.2em;padding-left: 0.2em;position: relative;}#sk-container-id-1 div.sk-item {position: relative;z-index: 1;}#sk-container-id-1 div.sk-parallel {display: flex;align-items: stretch;justify-content: center;background-color: white;position: relative;}#sk-container-id-1 div.sk-item::before, #sk-container-id-1 div.sk-parallel-item::before {content: \"\";position: absolute;border-left: 1px solid gray;box-sizing: border-box;top: 0;bottom: 0;left: 50%;z-index: -1;}#sk-container-id-1 div.sk-parallel-item {display: flex;flex-direction: column;z-index: 1;position: relative;background-color: white;}#sk-container-id-1 div.sk-parallel-item:first-child::after {align-self: flex-end;width: 50%;}#sk-container-id-1 div.sk-parallel-item:last-child::after {align-self: flex-start;width: 50%;}#sk-container-id-1 div.sk-parallel-item:only-child::after {width: 0;}#sk-container-id-1 div.sk-dashed-wrapped {border: 1px dashed gray;margin: 0 0.4em 0.5em 0.4em;box-sizing: border-box;padding-bottom: 0.4em;background-color: white;}#sk-container-id-1 div.sk-label label {font-family: monospace;font-weight: bold;display: inline-block;line-height: 1.2em;}#sk-container-id-1 div.sk-label-container {text-align: center;}#sk-container-id-1 div.sk-container {/* jupyter's `normalize.less` sets `[hidden] { display: none; }` but bootstrap.min.css set `[hidden] { display: none !important; }` so we also need the `!important` here to be able to override the default hidden behavior on the sphinx rendered scikit-learn.org. See: https://github.com/scikit-learn/scikit-learn/issues/21755 */display: inline-block !important;position: relative;}#sk-container-id-1 div.sk-text-repr-fallback {display: none;}</style><div id=\"sk-container-id-1\" class=\"sk-top-container\"><div class=\"sk-text-repr-fallback\"><pre>LinearRegression()</pre><b>In a Jupyter environment, please rerun this cell to show the HTML representation or trust the notebook. <br />On GitHub, the HTML representation is unable to render, please try loading this page with nbviewer.org.</b></div><div class=\"sk-container\" hidden><div class=\"sk-item\"><div class=\"sk-estimator sk-toggleable\"><input class=\"sk-toggleable__control sk-hidden--visually\" id=\"sk-estimator-id-1\" type=\"checkbox\" checked><label for=\"sk-estimator-id-1\" class=\"sk-toggleable__label sk-toggleable__label-arrow\">LinearRegression</label><div class=\"sk-toggleable__content\"><pre>LinearRegression()</pre></div></div></div></div></div>"
      ],
      "text/plain": [
       "LinearRegression()"
      ]
     },
     "execution_count": 39,
     "metadata": {},
     "output_type": "execute_result"
    }
   ],
   "source": [
    "lr.fit(X,y)"
   ]
  },
  {
   "cell_type": "code",
   "execution_count": 41,
   "id": "0e897d15-7d7a-46d1-bde7-43ff1387b72d",
   "metadata": {},
   "outputs": [
    {
     "name": "stderr",
     "output_type": "stream",
     "text": [
      "C:\\Users\\user\\anaconda3\\lib\\site-packages\\sklearn\\base.py:420: UserWarning: X does not have valid feature names, but LinearRegression was fitted with feature names\n",
      "  warnings.warn(\n"
     ]
    }
   ],
   "source": [
    "pred = lr.predict(np.array([70,90,100]).reshape(-1,1))"
   ]
  },
  {
   "cell_type": "code",
   "execution_count": 42,
   "id": "f5805ce4-0fde-4a09-8a61-4c6b14a125aa",
   "metadata": {},
   "outputs": [
    {
     "data": {
      "text/plain": [
       "array([[257.68951825],\n",
       "       [336.33769343],\n",
       "       [375.66178102]])"
      ]
     },
     "execution_count": 42,
     "metadata": {},
     "output_type": "execute_result"
    }
   ],
   "source": [
    "pred"
   ]
  },
  {
   "cell_type": "code",
   "execution_count": null,
   "id": "98f993e0-cc5c-463d-a60b-5d8e9fa0f2cb",
   "metadata": {},
   "outputs": [],
   "source": [
    "lr = LinearRegression()\n",
    "lr.fit(cars['speed'].values.reshape(-1, 1),cars['dist'])\n",
    "lr.predict(np.array([70,90,100]).reshape(-1,1))"
   ]
  },
  {
   "cell_type": "markdown",
   "id": "4898ce4d-541e-4d27-a169-0a824f9786fa",
   "metadata": {},
   "source": [
    "## 6. 총제곱합 SST = ?"
   ]
  },
  {
   "cell_type": "markdown",
   "id": "5c527b90-9eab-428f-96cc-a0efeb59b2aa",
   "metadata": {},
   "source": [
    "SSR + SSE  \n",
    "(회귀제곱합) + (오차제곱합)"
   ]
  },
  {
   "cell_type": "markdown",
   "id": "239120a7-e78e-48db-9fc1-15a4bf2da78f",
   "metadata": {},
   "source": [
    "## 7. 결정계수 = ? "
   ]
  },
  {
   "cell_type": "markdown",
   "id": "1b878ac6-6c9c-4a10-b9ba-1be068bca91d",
   "metadata": {},
   "source": [
    "$R^2$ = $r^2$ = 모형의 설명력 = $SSR/SST$ = 1에 가까울 수록 좋다 = 1 - SSE $/$ SST"
   ]
  },
  {
   "cell_type": "markdown",
   "id": "ecf695be-e393-4fa9-8420-99be8c0a8f1c",
   "metadata": {},
   "source": [
    "## 8. 다음 괄호를 채우시오"
   ]
  },
  {
   "cell_type": "markdown",
   "id": "42395727-a3ed-4cda-81d3-45266be31c38",
   "metadata": {},
   "source": [
    "선형분석은 기본적으로 ( ___ ) 관계를 규명하는 것이다.  \n",
    "\n",
    "-> 인과"
   ]
  },
  {
   "cell_type": "markdown",
   "id": "d615e71e-dd29-4961-947e-d8f885eb89bf",
   "metadata": {},
   "source": [
    "원인으로 간주되는 변수 X를 ( ___ ), 종속변수 y를 ( __ ) 라고 부른다  \n",
    "\n",
    "-> 설명변수, 반응변수"
   ]
  },
  {
   "cell_type": "markdown",
   "id": "e11aa725-c1ad-40cc-949b-9d5cae8c1311",
   "metadata": {},
   "source": [
    "## 9. 선형회귀의 평가지표 metrics 는?"
   ]
  },
  {
   "cell_type": "markdown",
   "id": "46d36cd3-ab20-4166-a284-f80011c502e7",
   "metadata": {},
   "source": [
    "MAE (Mean Absolute Error)  \n",
    "MSE (Mean Squared Error)  \n",
    "RMSE (Root Mean Squared Error)  \n",
    "R^2"
   ]
  },
  {
   "cell_type": "markdown",
   "id": "635841c9-ce91-42c0-84d2-98ccb86b90bc",
   "metadata": {},
   "source": [
    "## 10. OLS 는 ?"
   ]
  },
  {
   "cell_type": "markdown",
   "id": "9223e240-48e1-4ced-b147-02780b698c1d",
   "metadata": {},
   "source": [
    "최소제곱법(Ordinary Least Squares)"
   ]
  },
  {
   "cell_type": "markdown",
   "id": "7ef9eda3-4e0c-48e7-94b0-13f01f958430",
   "metadata": {},
   "source": [
    "## 11. 상관분석은 인과관계를 가정한다. (O, X)"
   ]
  },
  {
   "cell_type": "markdown",
   "id": "e8e16a70-f3b6-41b9-88ae-4f5ab540a28b",
   "metadata": {},
   "source": [
    "-> X"
   ]
  },
  {
   "cell_type": "markdown",
   "id": "569bc943-24a1-4d85-98a7-00eb1029c98f",
   "metadata": {},
   "source": [
    "## 12. 분류와 회귀의 큰 차이는 분류의 예측값은 ( ____ ) 이고, 회귀의 예측값은 ( ____ ) 라는 것이다."
   ]
  },
  {
   "cell_type": "markdown",
   "id": "d1ac31a8-ae9e-4d10-8c16-da2aa76fe918",
   "metadata": {},
   "source": [
    "범주형, 숫자형"
   ]
  },
  {
   "cell_type": "markdown",
   "id": "df15d7c4-15d2-4979-b854-803cdbba4598",
   "metadata": {},
   "source": [
    "## 13. IQR을 이용해 이상치 데이터를 검출하는 방식"
   ]
  },
  {
   "cell_type": "markdown",
   "id": "14262358-9cd3-41ba-8d43-47981c710aef",
   "metadata": {},
   "source": [
    "1/4 ( _____ )  -> (1/4*100) - 1.5*IQR  \n",
    "3/4 ( _____ )  -> (3/4*100) + 1.5*IQR"
   ]
  },
  {
   "cell_type": "markdown",
   "id": "9ebca504-16a6-48b6-96e1-50ae35353709",
   "metadata": {},
   "source": [
    "## 14. 여러 알고리즘을 사용하여 예측 결과를 만들고 그 예측 결과들을 모아 다시 학습하여 최종 예측 결과물을 도출하는 앙상블 기법은?"
   ]
  },
  {
   "cell_type": "markdown",
   "id": "1045228f-cd36-4b3f-852f-26d8541ed6c8",
   "metadata": {},
   "source": [
    "Stacking ( 스택킹 )"
   ]
  },
  {
   "cell_type": "markdown",
   "id": "8ffbd8a2-845f-4ac0-b94a-68c2688b0613",
   "metadata": {},
   "source": [
    "## 15. SMOTE 기법 ? "
   ]
  },
  {
   "cell_type": "markdown",
   "id": "4cb5424c-d523-43f7-9854-a1fd6bb41a8c",
   "metadata": {},
   "source": [
    "최근접 이웃[k-NN 알고리즘] 알고리즘을 활용하여 '오버샘플링' 하는 방법 "
   ]
  },
  {
   "cell_type": "markdown",
   "id": "d44c57db-db02-44ac-a5ad-736bc0c67f0b",
   "metadata": {},
   "source": [
    "## 16. 데이터를 log값으로 변환하는 이유는?"
   ]
  },
  {
   "cell_type": "markdown",
   "id": "fc701a6d-f217-496f-97be-f1eaa5fafb3f",
   "metadata": {},
   "source": [
    "큰 값을 상대적으로 작게 만들어 데이터 분포도의 왜곡을 완화시키기 위해"
   ]
  },
  {
   "cell_type": "markdown",
   "id": "11d5d3f6-e54a-4949-a0f7-8e3acaef9e5a",
   "metadata": {},
   "source": [
    "## 17. 빈 칸을 채우세요"
   ]
  },
  {
   "cell_type": "markdown",
   "id": "14073b66-d8e7-419c-990c-c0a14c1d088d",
   "metadata": {},
   "source": [
    "MSE에 루트는 씌운 것 ( ____ ) -> RMSE <br/> 실제값과 예측값의 차이를 절대값을 변환해 평균한 것 ( ____ ) -> MAE <br/> 실제값의 분산 대비 예측값의 분산 비율을 지표로 하며, 1에 가까울수록 예측 정확도가 높다 ( _____ ) -> R^2 <br/> 실제값과 예측값의 차이를 제곱 해 평균한 것 ( ____ ) -> MSE"
   ]
  },
  {
   "cell_type": "markdown",
   "id": "ba680a6e-771b-435f-bb6c-b061e9968388",
   "metadata": {},
   "source": [
    "# 2교시 : 327p ~ , 다중선형회귀분선 ppt 자료"
   ]
  },
  {
   "cell_type": "raw",
   "id": "5834e7af-e361-487d-9772-fadfecc8a480",
   "metadata": {},
   "source": [
    "통계학(분류, 회귀 등)\n",
    "-> 이론을 다 할 필요?\n",
    "-> 코드상으로 잘 쓰이지 않기 때문에 부담갖지마라\n",
    "-> 어차피 코드 한 줄만 쓰면 다 사용할 수 있다\n",
    "-> 왜 하느냐\n",
    "-> 안할 순 없기 때문에\n",
    "-> 면접을 가서 물어볼 수 있다\n",
    "-> 그러므로 그럴 때를 대비해 공부하고 있는 것이다"
   ]
  },
  {
   "cell_type": "raw",
   "id": "39551ec4-f392-4753-a60c-4594936596cf",
   "metadata": {},
   "source": [
    "회귀값이 여러 개 나오는 것 -> 다중 회귀"
   ]
  },
  {
   "cell_type": "markdown",
   "id": "7deeec10-6921-4254-9158-033fe59d4b65",
   "metadata": {},
   "source": [
    "# 3교시 : 327p ~ "
   ]
  },
  {
   "cell_type": "raw",
   "id": "02ddbde4-1d57-489f-a2f9-b6cf5afa78b4",
   "metadata": {},
   "source": [
    "다항 회귀(변수가 1개) -> 그 닥 중요하지않음\n",
    "다중 회귀(변수가 2개 이상)"
   ]
  },
  {
   "cell_type": "raw",
   "id": "04ac3b83-a756-468b-a904-3dcc4f693231",
   "metadata": {},
   "source": [
    "중요도 : 단순선형 -> 다중 -> 로지스틱 -> 릿지 "
   ]
  },
  {
   "cell_type": "code",
   "execution_count": 83,
   "id": "660f70bc-f524-40e9-928b-dcee7db21c2f",
   "metadata": {},
   "outputs": [],
   "source": [
    "from sklearn.preprocessing import PolynomialFeatures"
   ]
  },
  {
   "cell_type": "code",
   "execution_count": 88,
   "id": "f933dc97-77b6-492a-9875-aa7f027f9732",
   "metadata": {},
   "outputs": [
    {
     "data": {
      "text/plain": [
       "array([[0],\n",
       "       [1],\n",
       "       [2],\n",
       "       [3]])"
      ]
     },
     "execution_count": 88,
     "metadata": {},
     "output_type": "execute_result"
    }
   ],
   "source": [
    "X = np.arange(4)[:, np.newaxis] # 축을 추가하겠다\n",
    "X"
   ]
  },
  {
   "cell_type": "code",
   "execution_count": 89,
   "id": "c14ae647-4937-49a2-a46e-aba62754761f",
   "metadata": {},
   "outputs": [
    {
     "data": {
      "text/plain": [
       "array([[0],\n",
       "       [1],\n",
       "       [2],\n",
       "       [3]])"
      ]
     },
     "execution_count": 89,
     "metadata": {},
     "output_type": "execute_result"
    }
   ],
   "source": [
    "np.arange(4).reshape(-1,1)"
   ]
  },
  {
   "cell_type": "code",
   "execution_count": 91,
   "id": "96d58724-2bc6-4759-b41b-9e6eb3199ca7",
   "metadata": {},
   "outputs": [
    {
     "data": {
      "text/plain": [
       "(1, 4)"
      ]
     },
     "execution_count": 91,
     "metadata": {},
     "output_type": "execute_result"
    }
   ],
   "source": [
    "np.arange(4)[np.newaxis,:].shape"
   ]
  },
  {
   "cell_type": "code",
   "execution_count": 92,
   "id": "6a984ec0-e825-434c-9cd1-1270d86d4c77",
   "metadata": {},
   "outputs": [
    {
     "data": {
      "text/plain": [
       "array([[1., 0., 0.],\n",
       "       [1., 1., 1.],\n",
       "       [1., 2., 4.],\n",
       "       [1., 3., 9.]])"
      ]
     },
     "execution_count": 92,
     "metadata": {},
     "output_type": "execute_result"
    }
   ],
   "source": [
    "X = np.arange(4)[:, np.newaxis] # 객체생성\n",
    "\n",
    "poly = PolynomialFeatures(degree=2) # 2차식으로 만들어주겠다\n",
    "poly_ftr = poly.fit_transform(X)\n",
    "poly_ftr"
   ]
  },
  {
   "cell_type": "code",
   "execution_count": 94,
   "id": "a6c09a21-3287-4b1c-86c1-fb0c7c30158d",
   "metadata": {},
   "outputs": [],
   "source": [
    "# 정답에 해당하는 함수 만들기\n",
    "def polynomial_func(X):\n",
    "      y = 1 + 2*X + 3*X**2 + 4*X**3\n",
    "      return y"
   ]
  },
  {
   "cell_type": "code",
   "execution_count": 96,
   "id": "95b858ba-cd9a-476d-b963-db642f695cdc",
   "metadata": {},
   "outputs": [
    {
     "data": {
      "text/plain": [
       "array([[  1],\n",
       "       [ 10],\n",
       "       [ 49],\n",
       "       [142]])"
      ]
     },
     "execution_count": 96,
     "metadata": {},
     "output_type": "execute_result"
    }
   ],
   "source": [
    "polynomial_func(X)"
   ]
  },
  {
   "cell_type": "code",
   "execution_count": 98,
   "id": "777a6ed3-d4c3-47b5-9520-189de9f5aa13",
   "metadata": {},
   "outputs": [
    {
     "data": {
      "text/plain": [
       "array([[  1],\n",
       "       [ 10],\n",
       "       [ 49],\n",
       "       [142]])"
      ]
     },
     "execution_count": 98,
     "metadata": {},
     "output_type": "execute_result"
    }
   ],
   "source": [
    "y = polynomial_func(X)\n",
    "y"
   ]
  },
  {
   "cell_type": "code",
   "execution_count": 99,
   "id": "6935e80c-d793-4387-afcf-b66e667e82e2",
   "metadata": {},
   "outputs": [
    {
     "data": {
      "text/html": [
       "<style>#sk-container-id-2 {color: black;background-color: white;}#sk-container-id-2 pre{padding: 0;}#sk-container-id-2 div.sk-toggleable {background-color: white;}#sk-container-id-2 label.sk-toggleable__label {cursor: pointer;display: block;width: 100%;margin-bottom: 0;padding: 0.3em;box-sizing: border-box;text-align: center;}#sk-container-id-2 label.sk-toggleable__label-arrow:before {content: \"▸\";float: left;margin-right: 0.25em;color: #696969;}#sk-container-id-2 label.sk-toggleable__label-arrow:hover:before {color: black;}#sk-container-id-2 div.sk-estimator:hover label.sk-toggleable__label-arrow:before {color: black;}#sk-container-id-2 div.sk-toggleable__content {max-height: 0;max-width: 0;overflow: hidden;text-align: left;background-color: #f0f8ff;}#sk-container-id-2 div.sk-toggleable__content pre {margin: 0.2em;color: black;border-radius: 0.25em;background-color: #f0f8ff;}#sk-container-id-2 input.sk-toggleable__control:checked~div.sk-toggleable__content {max-height: 200px;max-width: 100%;overflow: auto;}#sk-container-id-2 input.sk-toggleable__control:checked~label.sk-toggleable__label-arrow:before {content: \"▾\";}#sk-container-id-2 div.sk-estimator input.sk-toggleable__control:checked~label.sk-toggleable__label {background-color: #d4ebff;}#sk-container-id-2 div.sk-label input.sk-toggleable__control:checked~label.sk-toggleable__label {background-color: #d4ebff;}#sk-container-id-2 input.sk-hidden--visually {border: 0;clip: rect(1px 1px 1px 1px);clip: rect(1px, 1px, 1px, 1px);height: 1px;margin: -1px;overflow: hidden;padding: 0;position: absolute;width: 1px;}#sk-container-id-2 div.sk-estimator {font-family: monospace;background-color: #f0f8ff;border: 1px dotted black;border-radius: 0.25em;box-sizing: border-box;margin-bottom: 0.5em;}#sk-container-id-2 div.sk-estimator:hover {background-color: #d4ebff;}#sk-container-id-2 div.sk-parallel-item::after {content: \"\";width: 100%;border-bottom: 1px solid gray;flex-grow: 1;}#sk-container-id-2 div.sk-label:hover label.sk-toggleable__label {background-color: #d4ebff;}#sk-container-id-2 div.sk-serial::before {content: \"\";position: absolute;border-left: 1px solid gray;box-sizing: border-box;top: 0;bottom: 0;left: 50%;z-index: 0;}#sk-container-id-2 div.sk-serial {display: flex;flex-direction: column;align-items: center;background-color: white;padding-right: 0.2em;padding-left: 0.2em;position: relative;}#sk-container-id-2 div.sk-item {position: relative;z-index: 1;}#sk-container-id-2 div.sk-parallel {display: flex;align-items: stretch;justify-content: center;background-color: white;position: relative;}#sk-container-id-2 div.sk-item::before, #sk-container-id-2 div.sk-parallel-item::before {content: \"\";position: absolute;border-left: 1px solid gray;box-sizing: border-box;top: 0;bottom: 0;left: 50%;z-index: -1;}#sk-container-id-2 div.sk-parallel-item {display: flex;flex-direction: column;z-index: 1;position: relative;background-color: white;}#sk-container-id-2 div.sk-parallel-item:first-child::after {align-self: flex-end;width: 50%;}#sk-container-id-2 div.sk-parallel-item:last-child::after {align-self: flex-start;width: 50%;}#sk-container-id-2 div.sk-parallel-item:only-child::after {width: 0;}#sk-container-id-2 div.sk-dashed-wrapped {border: 1px dashed gray;margin: 0 0.4em 0.5em 0.4em;box-sizing: border-box;padding-bottom: 0.4em;background-color: white;}#sk-container-id-2 div.sk-label label {font-family: monospace;font-weight: bold;display: inline-block;line-height: 1.2em;}#sk-container-id-2 div.sk-label-container {text-align: center;}#sk-container-id-2 div.sk-container {/* jupyter's `normalize.less` sets `[hidden] { display: none; }` but bootstrap.min.css set `[hidden] { display: none !important; }` so we also need the `!important` here to be able to override the default hidden behavior on the sphinx rendered scikit-learn.org. See: https://github.com/scikit-learn/scikit-learn/issues/21755 */display: inline-block !important;position: relative;}#sk-container-id-2 div.sk-text-repr-fallback {display: none;}</style><div id=\"sk-container-id-2\" class=\"sk-top-container\"><div class=\"sk-text-repr-fallback\"><pre>LinearRegression()</pre><b>In a Jupyter environment, please rerun this cell to show the HTML representation or trust the notebook. <br />On GitHub, the HTML representation is unable to render, please try loading this page with nbviewer.org.</b></div><div class=\"sk-container\" hidden><div class=\"sk-item\"><div class=\"sk-estimator sk-toggleable\"><input class=\"sk-toggleable__control sk-hidden--visually\" id=\"sk-estimator-id-2\" type=\"checkbox\" checked><label for=\"sk-estimator-id-2\" class=\"sk-toggleable__label sk-toggleable__label-arrow\">LinearRegression</label><div class=\"sk-toggleable__content\"><pre>LinearRegression()</pre></div></div></div></div></div>"
      ],
      "text/plain": [
       "LinearRegression()"
      ]
     },
     "execution_count": 99,
     "metadata": {},
     "output_type": "execute_result"
    }
   ],
   "source": [
    "model = LinearRegression()\n",
    "model.fit(poly_ftr,y)"
   ]
  },
  {
   "cell_type": "code",
   "execution_count": 100,
   "id": "00951f8b-8b95-4f3e-a8a1-7004463cf2c4",
   "metadata": {},
   "outputs": [
    {
     "data": {
      "text/plain": [
       "array([[  0. , -16.8,  21. ]])"
      ]
     },
     "execution_count": 100,
     "metadata": {},
     "output_type": "execute_result"
    }
   ],
   "source": [
    "model.coef_"
   ]
  },
  {
   "cell_type": "raw",
   "id": "d970740b-1110-4967-a548-16c0e1eef786",
   "metadata": {},
   "source": [
    "계수가\n",
    "-> 0, 1, 2, 3, 4 가 안나오고\n",
    "-> 0, -16.8, 21  가 나왔음 \n",
    "\n",
    "왜 why?\n",
    "-> degree = 2 라고 설정을 해놔서 그렇다"
   ]
  },
  {
   "cell_type": "code",
   "execution_count": 104,
   "id": "8b8e513a-6783-4129-b8bb-e241aa45f93e",
   "metadata": {},
   "outputs": [
    {
     "data": {
      "text/plain": [
       "array([[0., 2., 3., 4.]])"
      ]
     },
     "execution_count": 104,
     "metadata": {},
     "output_type": "execute_result"
    }
   ],
   "source": [
    "# degree 를 3으로 설정했을 때\n",
    "X = np.arange(4)[:, np.newaxis] # 객체생성\n",
    "\n",
    "poly = PolynomialFeatures(degree=3) # 3차식으로 만들어주겠다\n",
    "poly_ftr = poly.fit_transform(X)\n",
    "\n",
    "y = polynomial_func(X)\n",
    "\n",
    "model = LinearRegression()\n",
    "model.fit(poly_ftr,y)\n",
    "\n",
    "model.coef_"
   ]
  },
  {
   "cell_type": "code",
   "execution_count": 107,
   "id": "a6f3264c-6917-461e-b7d1-ab9bddd49253",
   "metadata": {},
   "outputs": [],
   "source": [
    "# 책처럼 변환하면"
   ]
  },
  {
   "cell_type": "code",
   "execution_count": 109,
   "id": "c269c091-039b-4c16-9e23-26ab6e36bcac",
   "metadata": {},
   "outputs": [
    {
     "data": {
      "text/plain": [
       "array([[0, 1],\n",
       "       [2, 3]])"
      ]
     },
     "execution_count": 109,
     "metadata": {},
     "output_type": "execute_result"
    }
   ],
   "source": [
    "X = np.arange(4).reshape(2,2)\n",
    "X"
   ]
  },
  {
   "cell_type": "code",
   "execution_count": 110,
   "id": "39eae817-1af4-4091-a821-1a95cbe26047",
   "metadata": {},
   "outputs": [
    {
     "data": {
      "text/plain": [
       "array([[ 1.,  0.,  1.,  0.,  0.,  1.,  0.,  0.,  0.,  1.],\n",
       "       [ 1.,  2.,  3.,  4.,  6.,  9.,  8., 12., 18., 27.]])"
      ]
     },
     "execution_count": 110,
     "metadata": {},
     "output_type": "execute_result"
    }
   ],
   "source": [
    "poly = PolynomialFeatures(degree=3) \n",
    "poly_ftr = poly.fit_transform(X)\n",
    "poly_ftr"
   ]
  },
  {
   "cell_type": "raw",
   "id": "48ac8497-9d5a-4926-b879-c47431e89229",
   "metadata": {},
   "source": [
    "-> 1, 2, 3, 2^2, 2x3, 3^3, 2^3, 2^2x3, 3^2x2, 3^3"
   ]
  },
  {
   "cell_type": "code",
   "execution_count": 113,
   "id": "b42abf6f-9c75-41d8-9389-1b248c764cf8",
   "metadata": {},
   "outputs": [],
   "source": [
    "def polynomial_func(X):\n",
    "      y = 1 + 2*X[:,0] + 3*X[:,0]**2 + 4*X[:,1]**3\n",
    "      return y"
   ]
  },
  {
   "cell_type": "code",
   "execution_count": 114,
   "id": "a1c308d5-9f1b-4da2-829f-b056eae49b15",
   "metadata": {},
   "outputs": [
    {
     "data": {
      "text/plain": [
       "array([  5, 125])"
      ]
     },
     "execution_count": 114,
     "metadata": {},
     "output_type": "execute_result"
    }
   ],
   "source": [
    "y = polynomial_func(X)\n",
    "y"
   ]
  },
  {
   "cell_type": "code",
   "execution_count": 115,
   "id": "08c90e88-49ba-4b28-848a-5005d45b02cc",
   "metadata": {},
   "outputs": [
    {
     "data": {
      "text/html": [
       "<style>#sk-container-id-3 {color: black;background-color: white;}#sk-container-id-3 pre{padding: 0;}#sk-container-id-3 div.sk-toggleable {background-color: white;}#sk-container-id-3 label.sk-toggleable__label {cursor: pointer;display: block;width: 100%;margin-bottom: 0;padding: 0.3em;box-sizing: border-box;text-align: center;}#sk-container-id-3 label.sk-toggleable__label-arrow:before {content: \"▸\";float: left;margin-right: 0.25em;color: #696969;}#sk-container-id-3 label.sk-toggleable__label-arrow:hover:before {color: black;}#sk-container-id-3 div.sk-estimator:hover label.sk-toggleable__label-arrow:before {color: black;}#sk-container-id-3 div.sk-toggleable__content {max-height: 0;max-width: 0;overflow: hidden;text-align: left;background-color: #f0f8ff;}#sk-container-id-3 div.sk-toggleable__content pre {margin: 0.2em;color: black;border-radius: 0.25em;background-color: #f0f8ff;}#sk-container-id-3 input.sk-toggleable__control:checked~div.sk-toggleable__content {max-height: 200px;max-width: 100%;overflow: auto;}#sk-container-id-3 input.sk-toggleable__control:checked~label.sk-toggleable__label-arrow:before {content: \"▾\";}#sk-container-id-3 div.sk-estimator input.sk-toggleable__control:checked~label.sk-toggleable__label {background-color: #d4ebff;}#sk-container-id-3 div.sk-label input.sk-toggleable__control:checked~label.sk-toggleable__label {background-color: #d4ebff;}#sk-container-id-3 input.sk-hidden--visually {border: 0;clip: rect(1px 1px 1px 1px);clip: rect(1px, 1px, 1px, 1px);height: 1px;margin: -1px;overflow: hidden;padding: 0;position: absolute;width: 1px;}#sk-container-id-3 div.sk-estimator {font-family: monospace;background-color: #f0f8ff;border: 1px dotted black;border-radius: 0.25em;box-sizing: border-box;margin-bottom: 0.5em;}#sk-container-id-3 div.sk-estimator:hover {background-color: #d4ebff;}#sk-container-id-3 div.sk-parallel-item::after {content: \"\";width: 100%;border-bottom: 1px solid gray;flex-grow: 1;}#sk-container-id-3 div.sk-label:hover label.sk-toggleable__label {background-color: #d4ebff;}#sk-container-id-3 div.sk-serial::before {content: \"\";position: absolute;border-left: 1px solid gray;box-sizing: border-box;top: 0;bottom: 0;left: 50%;z-index: 0;}#sk-container-id-3 div.sk-serial {display: flex;flex-direction: column;align-items: center;background-color: white;padding-right: 0.2em;padding-left: 0.2em;position: relative;}#sk-container-id-3 div.sk-item {position: relative;z-index: 1;}#sk-container-id-3 div.sk-parallel {display: flex;align-items: stretch;justify-content: center;background-color: white;position: relative;}#sk-container-id-3 div.sk-item::before, #sk-container-id-3 div.sk-parallel-item::before {content: \"\";position: absolute;border-left: 1px solid gray;box-sizing: border-box;top: 0;bottom: 0;left: 50%;z-index: -1;}#sk-container-id-3 div.sk-parallel-item {display: flex;flex-direction: column;z-index: 1;position: relative;background-color: white;}#sk-container-id-3 div.sk-parallel-item:first-child::after {align-self: flex-end;width: 50%;}#sk-container-id-3 div.sk-parallel-item:last-child::after {align-self: flex-start;width: 50%;}#sk-container-id-3 div.sk-parallel-item:only-child::after {width: 0;}#sk-container-id-3 div.sk-dashed-wrapped {border: 1px dashed gray;margin: 0 0.4em 0.5em 0.4em;box-sizing: border-box;padding-bottom: 0.4em;background-color: white;}#sk-container-id-3 div.sk-label label {font-family: monospace;font-weight: bold;display: inline-block;line-height: 1.2em;}#sk-container-id-3 div.sk-label-container {text-align: center;}#sk-container-id-3 div.sk-container {/* jupyter's `normalize.less` sets `[hidden] { display: none; }` but bootstrap.min.css set `[hidden] { display: none !important; }` so we also need the `!important` here to be able to override the default hidden behavior on the sphinx rendered scikit-learn.org. See: https://github.com/scikit-learn/scikit-learn/issues/21755 */display: inline-block !important;position: relative;}#sk-container-id-3 div.sk-text-repr-fallback {display: none;}</style><div id=\"sk-container-id-3\" class=\"sk-top-container\"><div class=\"sk-text-repr-fallback\"><pre>LinearRegression()</pre><b>In a Jupyter environment, please rerun this cell to show the HTML representation or trust the notebook. <br />On GitHub, the HTML representation is unable to render, please try loading this page with nbviewer.org.</b></div><div class=\"sk-container\" hidden><div class=\"sk-item\"><div class=\"sk-estimator sk-toggleable\"><input class=\"sk-toggleable__control sk-hidden--visually\" id=\"sk-estimator-id-3\" type=\"checkbox\" checked><label for=\"sk-estimator-id-3\" class=\"sk-toggleable__label sk-toggleable__label-arrow\">LinearRegression</label><div class=\"sk-toggleable__content\"><pre>LinearRegression()</pre></div></div></div></div></div>"
      ],
      "text/plain": [
       "LinearRegression()"
      ]
     },
     "execution_count": 115,
     "metadata": {},
     "output_type": "execute_result"
    }
   ],
   "source": [
    "model = LinearRegression()\n",
    "model.fit(poly_ftr,y)"
   ]
  },
  {
   "cell_type": "code",
   "execution_count": 116,
   "id": "a5ab615f-2073-4750-9bdf-886aa3047031",
   "metadata": {},
   "outputs": [
    {
     "data": {
      "text/plain": [
       "array([0.        , 0.18018018, 0.18018018, 0.36036036, 0.54054054,\n",
       "       0.72072072, 0.72072072, 1.08108108, 1.62162162, 2.34234234])"
      ]
     },
     "execution_count": 116,
     "metadata": {},
     "output_type": "execute_result"
    }
   ],
   "source": [
    "model.coef_"
   ]
  },
  {
   "cell_type": "raw",
   "id": "e77f9537-f14b-4b95-bd4f-be76b3426465",
   "metadata": {},
   "source": [
    "-> 많이 나온 이유\n",
    "-> array([[ 1.,  0.,  1.,  0.,  0.,  1.,  0.,  0.,  0.,  1.],\n",
    "       [ 1.,  2.,  3.,  4.,  6.,  9.,  8., 12., 18., 27.]]) 에서 칼럼의 개수 만큼 나왔음\n",
    "\n",
    "-> 다항회귀를 하면 차수만큼의 개수가 나오는 게 아니라 모든 경우의 차수가 다 나옴"
   ]
  },
  {
   "cell_type": "markdown",
   "id": "16e7da3e-a788-4625-b0d3-3dd627ee80b7",
   "metadata": {},
   "source": [
    "# 5교시 : 332p ~ 다항회귀 과소적합, 과적합"
   ]
  },
  {
   "cell_type": "markdown",
   "id": "ed9e3d51-71c6-488b-926c-68a8258a539b",
   "metadata": {},
   "source": [
    "## 337p : 릿지,리쏘, 엘라스틱넷 - 내용만 알면 됨"
   ]
  },
  {
   "cell_type": "raw",
   "id": "5ffdcd7f-6c2b-47f7-840f-2391874642fc",
   "metadata": {},
   "source": [
    "y = w0 + w1*x_1 + w2*x+2\n",
    "\n",
    "w1 < 10, w2 < 10\n",
    "\n",
    "w1^2 + w2^2 < 10   L2 규제 : 릿지 (ridge)\n",
    "|w1| + |w2| < 10   L1 규제 : 라쏘 (lasso)\n",
    "\n",
    "알파값이 커진다 -> alpha*||W|| 값이 커진다 -> 규제 강도를 강해진다\n"
   ]
  },
  {
   "cell_type": "markdown",
   "id": "41e1625a-e79f-4466-95a9-f52e81b0faa8",
   "metadata": {},
   "source": [
    "# 6교시 : 릿지회귀 - 339p ~ "
   ]
  },
  {
   "cell_type": "code",
   "execution_count": 121,
   "id": "207f995d-6b94-4ec7-9623-51f77c6a3890",
   "metadata": {},
   "outputs": [],
   "source": [
    "from sklearn.linear_model import Ridge\n",
    "from sklearn.model_selection import cross_val_score"
   ]
  },
  {
   "cell_type": "code",
   "execution_count": null,
   "id": "6d663a62-b930-43eb-8dde-395c269c29fb",
   "metadata": {},
   "outputs": [],
   "source": []
  },
  {
   "cell_type": "code",
   "execution_count": 124,
   "id": "dc07669f-9376-4049-8881-a8162ea70c42",
   "metadata": {},
   "outputs": [
    {
     "data": {
      "text/html": [
       "<div>\n",
       "<style scoped>\n",
       "    .dataframe tbody tr th:only-of-type {\n",
       "        vertical-align: middle;\n",
       "    }\n",
       "\n",
       "    .dataframe tbody tr th {\n",
       "        vertical-align: top;\n",
       "    }\n",
       "\n",
       "    .dataframe thead th {\n",
       "        text-align: right;\n",
       "    }\n",
       "</style>\n",
       "<table border=\"1\" class=\"dataframe\">\n",
       "  <thead>\n",
       "    <tr style=\"text-align: right;\">\n",
       "      <th></th>\n",
       "      <th>CRIM</th>\n",
       "      <th>ZN</th>\n",
       "      <th>INDUS</th>\n",
       "      <th>CHAS</th>\n",
       "      <th>NOX</th>\n",
       "      <th>RM</th>\n",
       "      <th>AGE</th>\n",
       "      <th>DIS</th>\n",
       "      <th>RAD</th>\n",
       "      <th>TAX</th>\n",
       "      <th>PTRATIO</th>\n",
       "      <th>B</th>\n",
       "      <th>LSTAT</th>\n",
       "      <th>MEDV</th>\n",
       "    </tr>\n",
       "  </thead>\n",
       "  <tbody>\n",
       "    <tr>\n",
       "      <th>0</th>\n",
       "      <td>0.00632</td>\n",
       "      <td>18.0</td>\n",
       "      <td>2.31</td>\n",
       "      <td>0</td>\n",
       "      <td>0.538</td>\n",
       "      <td>6.575</td>\n",
       "      <td>65.2</td>\n",
       "      <td>4.0900</td>\n",
       "      <td>1</td>\n",
       "      <td>296.0</td>\n",
       "      <td>15.3</td>\n",
       "      <td>396.90</td>\n",
       "      <td>4.98</td>\n",
       "      <td>24.0</td>\n",
       "    </tr>\n",
       "    <tr>\n",
       "      <th>1</th>\n",
       "      <td>0.02731</td>\n",
       "      <td>0.0</td>\n",
       "      <td>7.07</td>\n",
       "      <td>0</td>\n",
       "      <td>0.469</td>\n",
       "      <td>6.421</td>\n",
       "      <td>78.9</td>\n",
       "      <td>4.9671</td>\n",
       "      <td>2</td>\n",
       "      <td>242.0</td>\n",
       "      <td>17.8</td>\n",
       "      <td>396.90</td>\n",
       "      <td>9.14</td>\n",
       "      <td>21.6</td>\n",
       "    </tr>\n",
       "    <tr>\n",
       "      <th>2</th>\n",
       "      <td>0.02729</td>\n",
       "      <td>0.0</td>\n",
       "      <td>7.07</td>\n",
       "      <td>0</td>\n",
       "      <td>0.469</td>\n",
       "      <td>7.185</td>\n",
       "      <td>61.1</td>\n",
       "      <td>4.9671</td>\n",
       "      <td>2</td>\n",
       "      <td>242.0</td>\n",
       "      <td>17.8</td>\n",
       "      <td>392.83</td>\n",
       "      <td>4.03</td>\n",
       "      <td>34.7</td>\n",
       "    </tr>\n",
       "    <tr>\n",
       "      <th>3</th>\n",
       "      <td>0.03237</td>\n",
       "      <td>0.0</td>\n",
       "      <td>2.18</td>\n",
       "      <td>0</td>\n",
       "      <td>0.458</td>\n",
       "      <td>6.998</td>\n",
       "      <td>45.8</td>\n",
       "      <td>6.0622</td>\n",
       "      <td>3</td>\n",
       "      <td>222.0</td>\n",
       "      <td>18.7</td>\n",
       "      <td>394.63</td>\n",
       "      <td>2.94</td>\n",
       "      <td>33.4</td>\n",
       "    </tr>\n",
       "    <tr>\n",
       "      <th>4</th>\n",
       "      <td>0.06905</td>\n",
       "      <td>0.0</td>\n",
       "      <td>2.18</td>\n",
       "      <td>0</td>\n",
       "      <td>0.458</td>\n",
       "      <td>7.147</td>\n",
       "      <td>54.2</td>\n",
       "      <td>6.0622</td>\n",
       "      <td>3</td>\n",
       "      <td>222.0</td>\n",
       "      <td>18.7</td>\n",
       "      <td>396.90</td>\n",
       "      <td>5.33</td>\n",
       "      <td>36.2</td>\n",
       "    </tr>\n",
       "    <tr>\n",
       "      <th>...</th>\n",
       "      <td>...</td>\n",
       "      <td>...</td>\n",
       "      <td>...</td>\n",
       "      <td>...</td>\n",
       "      <td>...</td>\n",
       "      <td>...</td>\n",
       "      <td>...</td>\n",
       "      <td>...</td>\n",
       "      <td>...</td>\n",
       "      <td>...</td>\n",
       "      <td>...</td>\n",
       "      <td>...</td>\n",
       "      <td>...</td>\n",
       "      <td>...</td>\n",
       "    </tr>\n",
       "    <tr>\n",
       "      <th>501</th>\n",
       "      <td>0.06263</td>\n",
       "      <td>0.0</td>\n",
       "      <td>11.93</td>\n",
       "      <td>0</td>\n",
       "      <td>0.573</td>\n",
       "      <td>6.593</td>\n",
       "      <td>69.1</td>\n",
       "      <td>2.4786</td>\n",
       "      <td>1</td>\n",
       "      <td>273.0</td>\n",
       "      <td>21.0</td>\n",
       "      <td>391.99</td>\n",
       "      <td>9.67</td>\n",
       "      <td>22.4</td>\n",
       "    </tr>\n",
       "    <tr>\n",
       "      <th>502</th>\n",
       "      <td>0.04527</td>\n",
       "      <td>0.0</td>\n",
       "      <td>11.93</td>\n",
       "      <td>0</td>\n",
       "      <td>0.573</td>\n",
       "      <td>6.120</td>\n",
       "      <td>76.7</td>\n",
       "      <td>2.2875</td>\n",
       "      <td>1</td>\n",
       "      <td>273.0</td>\n",
       "      <td>21.0</td>\n",
       "      <td>396.90</td>\n",
       "      <td>9.08</td>\n",
       "      <td>20.6</td>\n",
       "    </tr>\n",
       "    <tr>\n",
       "      <th>503</th>\n",
       "      <td>0.06076</td>\n",
       "      <td>0.0</td>\n",
       "      <td>11.93</td>\n",
       "      <td>0</td>\n",
       "      <td>0.573</td>\n",
       "      <td>6.976</td>\n",
       "      <td>91.0</td>\n",
       "      <td>2.1675</td>\n",
       "      <td>1</td>\n",
       "      <td>273.0</td>\n",
       "      <td>21.0</td>\n",
       "      <td>396.90</td>\n",
       "      <td>5.64</td>\n",
       "      <td>23.9</td>\n",
       "    </tr>\n",
       "    <tr>\n",
       "      <th>504</th>\n",
       "      <td>0.10959</td>\n",
       "      <td>0.0</td>\n",
       "      <td>11.93</td>\n",
       "      <td>0</td>\n",
       "      <td>0.573</td>\n",
       "      <td>6.794</td>\n",
       "      <td>89.3</td>\n",
       "      <td>2.3889</td>\n",
       "      <td>1</td>\n",
       "      <td>273.0</td>\n",
       "      <td>21.0</td>\n",
       "      <td>393.45</td>\n",
       "      <td>6.48</td>\n",
       "      <td>22.0</td>\n",
       "    </tr>\n",
       "    <tr>\n",
       "      <th>505</th>\n",
       "      <td>0.04741</td>\n",
       "      <td>0.0</td>\n",
       "      <td>11.93</td>\n",
       "      <td>0</td>\n",
       "      <td>0.573</td>\n",
       "      <td>6.030</td>\n",
       "      <td>80.8</td>\n",
       "      <td>2.5050</td>\n",
       "      <td>1</td>\n",
       "      <td>273.0</td>\n",
       "      <td>21.0</td>\n",
       "      <td>396.90</td>\n",
       "      <td>7.88</td>\n",
       "      <td>11.9</td>\n",
       "    </tr>\n",
       "  </tbody>\n",
       "</table>\n",
       "<p>506 rows × 14 columns</p>\n",
       "</div>"
      ],
      "text/plain": [
       "        CRIM    ZN  INDUS  CHAS    NOX     RM   AGE     DIS  RAD    TAX  \\\n",
       "0    0.00632  18.0   2.31     0  0.538  6.575  65.2  4.0900    1  296.0   \n",
       "1    0.02731   0.0   7.07     0  0.469  6.421  78.9  4.9671    2  242.0   \n",
       "2    0.02729   0.0   7.07     0  0.469  7.185  61.1  4.9671    2  242.0   \n",
       "3    0.03237   0.0   2.18     0  0.458  6.998  45.8  6.0622    3  222.0   \n",
       "4    0.06905   0.0   2.18     0  0.458  7.147  54.2  6.0622    3  222.0   \n",
       "..       ...   ...    ...   ...    ...    ...   ...     ...  ...    ...   \n",
       "501  0.06263   0.0  11.93     0  0.573  6.593  69.1  2.4786    1  273.0   \n",
       "502  0.04527   0.0  11.93     0  0.573  6.120  76.7  2.2875    1  273.0   \n",
       "503  0.06076   0.0  11.93     0  0.573  6.976  91.0  2.1675    1  273.0   \n",
       "504  0.10959   0.0  11.93     0  0.573  6.794  89.3  2.3889    1  273.0   \n",
       "505  0.04741   0.0  11.93     0  0.573  6.030  80.8  2.5050    1  273.0   \n",
       "\n",
       "     PTRATIO       B  LSTAT  MEDV  \n",
       "0       15.3  396.90   4.98  24.0  \n",
       "1       17.8  396.90   9.14  21.6  \n",
       "2       17.8  392.83   4.03  34.7  \n",
       "3       18.7  394.63   2.94  33.4  \n",
       "4       18.7  396.90   5.33  36.2  \n",
       "..       ...     ...    ...   ...  \n",
       "501     21.0  391.99   9.67  22.4  \n",
       "502     21.0  396.90   9.08  20.6  \n",
       "503     21.0  396.90   5.64  23.9  \n",
       "504     21.0  393.45   6.48  22.0  \n",
       "505     21.0  396.90   7.88  11.9  \n",
       "\n",
       "[506 rows x 14 columns]"
      ]
     },
     "execution_count": 124,
     "metadata": {},
     "output_type": "execute_result"
    }
   ],
   "source": [
    "import pandas as pd\n",
    "url = \"https://archive.ics.uci.edu/ml/machine-learning-databases/housing/housing.data\"\n",
    "names = [\"CRIM\", \"ZN\", \"INDUS\", \"CHAS\", \"NOX\", \"RM\", \"AGE\", \"DIS\", \"RAD\", \"TAX\", \"PTRATIO\", \"B\", \"LSTAT\", \"MEDV\"]\n",
    "data = pd.read_csv(url, delim_whitespace=True, names=names)\n",
    "data "
   ]
  },
  {
   "cell_type": "code",
   "execution_count": 126,
   "id": "5db0e904-171a-4e02-a157-0b7c09815a4d",
   "metadata": {},
   "outputs": [
    {
     "data": {
      "text/html": [
       "<div>\n",
       "<style scoped>\n",
       "    .dataframe tbody tr th:only-of-type {\n",
       "        vertical-align: middle;\n",
       "    }\n",
       "\n",
       "    .dataframe tbody tr th {\n",
       "        vertical-align: top;\n",
       "    }\n",
       "\n",
       "    .dataframe thead th {\n",
       "        text-align: right;\n",
       "    }\n",
       "</style>\n",
       "<table border=\"1\" class=\"dataframe\">\n",
       "  <thead>\n",
       "    <tr style=\"text-align: right;\">\n",
       "      <th></th>\n",
       "      <th>CRIM</th>\n",
       "      <th>ZN</th>\n",
       "      <th>INDUS</th>\n",
       "      <th>CHAS</th>\n",
       "      <th>NOX</th>\n",
       "      <th>RM</th>\n",
       "      <th>AGE</th>\n",
       "      <th>DIS</th>\n",
       "      <th>RAD</th>\n",
       "      <th>TAX</th>\n",
       "      <th>PTRATIO</th>\n",
       "      <th>B</th>\n",
       "      <th>LSTAT</th>\n",
       "    </tr>\n",
       "  </thead>\n",
       "  <tbody>\n",
       "    <tr>\n",
       "      <th>0</th>\n",
       "      <td>0.00632</td>\n",
       "      <td>18.0</td>\n",
       "      <td>2.31</td>\n",
       "      <td>0</td>\n",
       "      <td>0.538</td>\n",
       "      <td>6.575</td>\n",
       "      <td>65.2</td>\n",
       "      <td>4.0900</td>\n",
       "      <td>1</td>\n",
       "      <td>296.0</td>\n",
       "      <td>15.3</td>\n",
       "      <td>396.90</td>\n",
       "      <td>4.98</td>\n",
       "    </tr>\n",
       "    <tr>\n",
       "      <th>1</th>\n",
       "      <td>0.02731</td>\n",
       "      <td>0.0</td>\n",
       "      <td>7.07</td>\n",
       "      <td>0</td>\n",
       "      <td>0.469</td>\n",
       "      <td>6.421</td>\n",
       "      <td>78.9</td>\n",
       "      <td>4.9671</td>\n",
       "      <td>2</td>\n",
       "      <td>242.0</td>\n",
       "      <td>17.8</td>\n",
       "      <td>396.90</td>\n",
       "      <td>9.14</td>\n",
       "    </tr>\n",
       "    <tr>\n",
       "      <th>2</th>\n",
       "      <td>0.02729</td>\n",
       "      <td>0.0</td>\n",
       "      <td>7.07</td>\n",
       "      <td>0</td>\n",
       "      <td>0.469</td>\n",
       "      <td>7.185</td>\n",
       "      <td>61.1</td>\n",
       "      <td>4.9671</td>\n",
       "      <td>2</td>\n",
       "      <td>242.0</td>\n",
       "      <td>17.8</td>\n",
       "      <td>392.83</td>\n",
       "      <td>4.03</td>\n",
       "    </tr>\n",
       "  </tbody>\n",
       "</table>\n",
       "</div>"
      ],
      "text/plain": [
       "      CRIM    ZN  INDUS  CHAS    NOX     RM   AGE     DIS  RAD    TAX  \\\n",
       "0  0.00632  18.0   2.31     0  0.538  6.575  65.2  4.0900    1  296.0   \n",
       "1  0.02731   0.0   7.07     0  0.469  6.421  78.9  4.9671    2  242.0   \n",
       "2  0.02729   0.0   7.07     0  0.469  7.185  61.1  4.9671    2  242.0   \n",
       "\n",
       "   PTRATIO       B  LSTAT  \n",
       "0     15.3  396.90   4.98  \n",
       "1     17.8  396.90   9.14  \n",
       "2     17.8  392.83   4.03  "
      ]
     },
     "execution_count": 126,
     "metadata": {},
     "output_type": "execute_result"
    }
   ],
   "source": [
    "X_data = data.iloc[:,:-1]\n",
    "y_target = data.iloc[:,-1]\n",
    "y_target[:3]\n",
    "X_data[:3]"
   ]
  },
  {
   "cell_type": "code",
   "execution_count": 131,
   "id": "16687bf0-95ad-455d-a209-c9574a1ea55d",
   "metadata": {},
   "outputs": [],
   "source": [
    "ridge = Ridge()\n",
    "MSE = cross_val_score(ridge, X_data, y_target, scoring = 'neg_mean_squared_error', cv=5, n_jobs=-1)"
   ]
  },
  {
   "cell_type": "code",
   "execution_count": 132,
   "id": "15fb0217-6833-4121-b8ec-da93e45554dc",
   "metadata": {},
   "outputs": [
    {
     "data": {
      "text/plain": [
       "array([11.7110334 , 23.58316804, 29.69339407, 80.22988232, 31.11617767])"
      ]
     },
     "execution_count": 132,
     "metadata": {},
     "output_type": "execute_result"
    }
   ],
   "source": [
    "-MSE"
   ]
  },
  {
   "cell_type": "code",
   "execution_count": 133,
   "id": "56eaa3f4-b88e-4051-b370-cc121d9b7c43",
   "metadata": {},
   "outputs": [
    {
     "data": {
      "text/plain": [
       "35.26673109749667"
      ]
     },
     "execution_count": 133,
     "metadata": {},
     "output_type": "execute_result"
    }
   ],
   "source": [
    "np.mean(-MSE)"
   ]
  },
  {
   "cell_type": "code",
   "execution_count": 136,
   "id": "93dc6014-19fe-4d6e-a5c0-69fc6ad7a435",
   "metadata": {},
   "outputs": [
    {
     "data": {
      "text/plain": [
       "5.938579888954654"
      ]
     },
     "execution_count": 136,
     "metadata": {},
     "output_type": "execute_result"
    }
   ],
   "source": [
    "RMSE = np.sqrt(np.mean(-MSE))\n",
    "RMSE"
   ]
  },
  {
   "cell_type": "markdown",
   "id": "2491edfd-c7a4-40e4-85b1-35ce24407e2a",
   "metadata": {},
   "source": [
    "### 3:1 로 분리하여 MSE값을 구하면?"
   ]
  },
  {
   "cell_type": "code",
   "execution_count": 139,
   "id": "99cbde76-3e79-4c86-9c14-64074e38023e",
   "metadata": {},
   "outputs": [
    {
     "data": {
      "text/plain": [
       "23.366028536099964"
      ]
     },
     "execution_count": 139,
     "metadata": {},
     "output_type": "execute_result"
    }
   ],
   "source": [
    "from sklearn.model_selection import train_test_split\n",
    "X_train, X_test, y_train, y_test = train_test_split(X_data, y_target, test_size=0.25)\n",
    "ridge = Ridge()\n",
    "ridge.fit(X_train, y_train)\n",
    "pred = ridge.predict(X_test)\n",
    "\n",
    "from sklearn.metrics import mean_squared_error\n",
    "mean_squared_error(y_test, pred)"
   ]
  },
  {
   "cell_type": "markdown",
   "id": "0ab0776a-899f-4db4-8fc5-ed89280eabd2",
   "metadata": {},
   "source": [
    "### alpha = [0.1, 0.5, 1, 2, 5, 10]에 대한 mean_squared_error 6개를 구해 봅시다."
   ]
  },
  {
   "cell_type": "code",
   "execution_count": 146,
   "id": "625b3e1f-7e41-4b96-853a-df6e63920df3",
   "metadata": {},
   "outputs": [
    {
     "name": "stdout",
     "output_type": "stream",
     "text": [
      "29.813805361779558\n",
      "30.095600808391158\n",
      "30.32063582434389\n",
      "30.547330726740793\n",
      "30.656982688315313\n",
      "30.475597888992937\n"
     ]
    }
   ],
   "source": [
    "alphas = [0.1, 0.5, 1, 2, 5, 10]\n",
    "for alpha in alphas :\n",
    "      ridge = Ridge(alpha = alpha)\n",
    "      \n",
    "      ridge.fit(X_train, y_train)\n",
    "\n",
    "      pred = ridge.predict(X_test)\n",
    "\n",
    "      print(mean_squared_error(y_test, pred))"
   ]
  },
  {
   "cell_type": "markdown",
   "id": "67a46a39-8e49-47a7-b534-6decc6aa1aa5",
   "metadata": {},
   "source": [
    "### Lasso 회귀"
   ]
  },
  {
   "cell_type": "code",
   "execution_count": 149,
   "id": "3e57afda-6eb2-4cb9-97f0-e521651bd7d7",
   "metadata": {},
   "outputs": [],
   "source": [
    "from sklearn.linear_model import Lasso"
   ]
  },
  {
   "cell_type": "code",
   "execution_count": 148,
   "id": "6e9bac47-317a-4985-9874-0ded34f6149a",
   "metadata": {},
   "outputs": [
    {
     "name": "stdout",
     "output_type": "stream",
     "text": [
      "31.155620239421204\n",
      "30.081556297588353\n",
      "30.88361883946248\n",
      "36.341538152741954\n",
      "42.97482890913368\n",
      "48.456014378550364\n"
     ]
    }
   ],
   "source": [
    "alphas = [0.1, 0.5, 1, 2, 5, 10]\n",
    "for alpha in alphas :\n",
    "      lasso = Lasso(alpha = alpha)\n",
    "      \n",
    "      lasso.fit(X_train, y_train)\n",
    "\n",
    "      pred = lasso.predict(X_test)\n",
    "\n",
    "      print(mean_squared_error(y_test, pred))"
   ]
  },
  {
   "cell_type": "markdown",
   "id": "2aa1ad4a-49ea-4d72-ab18-fdd9cb0180c8",
   "metadata": {},
   "source": [
    "### 엘라스틱넷 회귀 : 라쏘와 릿지를 둘 다 고려함"
   ]
  },
  {
   "cell_type": "code",
   "execution_count": 151,
   "id": "f87e7778-f357-4c9f-bdc4-e54756e519e0",
   "metadata": {},
   "outputs": [
    {
     "name": "stdout",
     "output_type": "stream",
     "text": [
      "30.16071407953616\n",
      "29.66544138114391\n",
      "30.735594884222355\n",
      "33.307084241076225\n",
      "39.93463938060249\n",
      "45.8213615365072\n"
     ]
    }
   ],
   "source": [
    "from sklearn.linear_model import ElasticNet\n",
    "alphas = [0.1, 0.5, 1, 2, 5, 10]\n",
    "for alpha in alphas :\n",
    "      elastic = ElasticNet(alpha = alpha)\n",
    "      \n",
    "      elastic.fit(X_train, y_train)\n",
    "\n",
    "      pred = elastic.predict(X_test)\n",
    "\n",
    "      print(mean_squared_error(y_test, pred))"
   ]
  },
  {
   "cell_type": "markdown",
   "id": "b2b5de9c-bd66-41ea-bf82-4da53ef99454",
   "metadata": {},
   "source": [
    "### 350p - 로지스틱 회귀"
   ]
  },
  {
   "cell_type": "markdown",
   "id": "30d9553d-43f6-49e2-8fcd-d11aef89a4df",
   "metadata": {},
   "source": [
    "로지스틱 함수 > 시그모이드 함수 \n",
    "\n",
    "![Image Description](sigmoid.png) -> 기울기 소실 문제 해결책으로 나온 함수가 ReLU 함수\n",
    "![Image Description](https://search.pstatic.net/common/?src=http%3A%2F%2Fblogfiles.naver.net%2FMjAxNjEyMDFfMTM5%2FMDAxNDgwNTcyMTI1Mjk4.zDhI6hJxtCJtPLhuiCFfge25t0Lx0EKAhMVAphX7SwEg.swXsDNXszxlpYri94KA6j_XomJVit7XtQa9cszf2-DAg.PNG.koys007%2FScreen_Shot_2016-11-30_at_10_43_59_PM.png&type=sc960_832)"
   ]
  },
  {
   "cell_type": "code",
   "execution_count": null,
   "id": "2ae625fb-d9c7-43ff-8f40-af389cb3ddf9",
   "metadata": {},
   "outputs": [],
   "source": []
  }
 ],
 "metadata": {
  "kernelspec": {
   "display_name": "Python 3 (ipykernel)",
   "language": "python",
   "name": "python3"
  },
  "language_info": {
   "codemirror_mode": {
    "name": "ipython",
    "version": 3
   },
   "file_extension": ".py",
   "mimetype": "text/x-python",
   "name": "python",
   "nbconvert_exporter": "python",
   "pygments_lexer": "ipython3",
   "version": "3.10.9"
  }
 },
 "nbformat": 4,
 "nbformat_minor": 5
}
