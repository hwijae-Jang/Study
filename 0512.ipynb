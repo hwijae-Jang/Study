{
 "cells": [
  {
   "cell_type": "markdown",
   "id": "1c64f1f7-7f48-47c1-ae02-3643c8c87eb3",
   "metadata": {},
   "source": [
    "# 1교시 "
   ]
  },
  {
   "cell_type": "markdown",
   "id": "0bbf8a6d-36c0-4f92-8215-d730f712eb1e",
   "metadata": {},
   "source": [
    "## 1. surprise의 데이터셋 로드 메소드를 모두 작성하세요"
   ]
  },
  {
   "cell_type": "raw",
   "id": "af24369e-e34f-4b45-b07d-bf75a66ce656",
   "metadata": {},
   "source": [
    "Dataset.load_builtin\n",
    "Dataset.load_from_file\n",
    "Dataset.load_from_df "
   ]
  },
  {
   "cell_type": "markdown",
   "id": "be1313d3-f032-4aae-93b2-02bca762c933",
   "metadata": {},
   "source": [
    "## 2. 텍스트에서 분석에 방해가 되는 불필요한 문자나 기호 등을 사전에 제거하는 작업을 (_____) 이라고 한다."
   ]
  },
  {
   "cell_type": "raw",
   "id": "96ac7ef3-e1fd-4c2c-80f7-f2bf42c71133",
   "metadata": {},
   "source": [
    "클렌징"
   ]
  },
  {
   "cell_type": "markdown",
   "id": "ace8eeb4-96cb-48b4-bb4c-f6218a95f3b9",
   "metadata": {},
   "source": [
    "## 3. 문서와 문서 간의 유사도 비교는 일반적으로 (_____)을 사용한다."
   ]
  },
  {
   "cell_type": "raw",
   "id": "65d40cbf-14b5-4d40-9925-aed7a881a267",
   "metadata": {},
   "source": [
    "코사인 유사도"
   ]
  },
  {
   "cell_type": "markdown",
   "id": "9e5ef9f1-347d-478d-921e-38b138a3b5d9",
   "metadata": {},
   "source": [
    "## 4. VADER를 이용한 감성분석에서 감성 지수를 표현한 compound score 같은 0 ~ 1 의 값을 가지며, 이를 기반으로 긍정/부정 감성 여부를 결정하며, 일반적으로 지수가 0.1 이상이면 긍정, 미만이면 부정으로 판단한다\n",
    "\n",
    "-> X"
   ]
  },
  {
   "cell_type": "markdown",
   "id": "404aa75c-c35f-40a5-8ff8-64865a26852b",
   "metadata": {},
   "source": [
    "## 5. 토픽 모델링에 사용되는 LDA는 앞서 배운 차원 축소의 LDA와 동일한 성능을 가진 알고리즘이다.\n",
    "\n",
    "-> X"
   ]
  },
  {
   "cell_type": "markdown",
   "id": "a131c520-b597-494c-9890-8ac7201bb9ba",
   "metadata": {},
   "source": [
    "## 6. 성공과 실패에 대한 텍스들을 두 개씩 가져왔다. 각 텍스트별 유사도를 알아보세요"
   ]
  },
  {
   "cell_type": "code",
   "execution_count": 11,
   "id": "0c8e5ebf-9bef-4eee-bc55-6e17ccef77a1",
   "metadata": {},
   "outputs": [],
   "source": [
    "text_list = [\"the point is, you can neveer be ahead of others by doing the same as others\", \n",
    "\n",
    "             \"success and failure depend on the attitude of the person\",\n",
    "\n",
    "             \"failure isn't fatal, but failure to change might be\",             \n",
    "\n",
    "             \"only those who dare to fail greatly can ever achieve greatly\"] "
   ]
  },
  {
   "cell_type": "code",
   "execution_count": 10,
   "id": "1f2c0b68-1c57-40f1-9b98-0e6a98380f27",
   "metadata": {},
   "outputs": [],
   "source": [
    "from sklearn.feature_extraction.text import TfidfVectorizer"
   ]
  },
  {
   "cell_type": "code",
   "execution_count": 13,
   "id": "e89c197e-5a15-4d26-966f-3cec4b3c7a8f",
   "metadata": {},
   "outputs": [],
   "source": [
    "tfidf_vect = TfidfVectorizer()\n",
    "feature_tfidf_vect = tfidf_vect.fit_transform(text_list)"
   ]
  },
  {
   "cell_type": "code",
   "execution_count": 14,
   "id": "45e765d2-e4e7-4e65-b89e-2461fc977e49",
   "metadata": {},
   "outputs": [
    {
     "data": {
      "text/plain": [
       "array([[1.        , 0.23920225, 0.05050632, 0.0426476 ],\n",
       "       [0.23920225, 1.        , 0.1348942 , 0.        ],\n",
       "       [0.05050632, 0.1348942 , 1.        , 0.06012604],\n",
       "       [0.0426476 , 0.        , 0.06012604, 1.        ]])"
      ]
     },
     "execution_count": 14,
     "metadata": {},
     "output_type": "execute_result"
    }
   ],
   "source": [
    "from sklearn.metrics.pairwise import cosine_similarity\n",
    "\n",
    "cosine_similarity(feature_tfidf_vect, feature_tfidf_vect)"
   ]
  },
  {
   "cell_type": "markdown",
   "id": "2582861b-b6a4-496f-83d2-818b38d4affd",
   "metadata": {},
   "source": [
    "## 7. 감성 사전을 영어로 쓰세요"
   ]
  },
  {
   "cell_type": "raw",
   "id": "299f32b2-b692-4d33-90fa-3c303a090011",
   "metadata": {},
   "source": [
    "lexicon"
   ]
  },
  {
   "cell_type": "markdown",
   "id": "89ebafa6-1c33-4671-9f10-dbdaa41559c3",
   "metadata": {},
   "source": [
    "## 8. 파이썬의 대표적인 한글 형태소 패키지는 무엇인가요"
   ]
  },
  {
   "cell_type": "raw",
   "id": "619472bd-667c-4d98-a65d-49955f1505bb",
   "metadata": {},
   "source": [
    "KoNLPy"
   ]
  },
  {
   "cell_type": "markdown",
   "id": "b64b59f7-1804-4fe1-ae44-66253f8f383a",
   "metadata": {},
   "source": [
    "## 9. 비지도 감성 분석을 위한 감성사전 중 하나로, 주로 소셜 미디어의 텍스트에 대한 감성 분석을 제공하기 위한 패키지는?"
   ]
  },
  {
   "cell_type": "raw",
   "id": "9449381e-6890-4e28-b96a-4f0fa6c0683f",
   "metadata": {},
   "source": [
    "VADER"
   ]
  },
  {
   "cell_type": "markdown",
   "id": "6aa27a8a-83a4-4a72-9e66-265f4961f66b",
   "metadata": {},
   "source": [
    "## 10. 최근접 이웃 협업 필터링은 대부분 ( _____ ) 기반 ( ______ ) 기반 으로 만들어진다."
   ]
  },
  {
   "cell_type": "raw",
   "id": "c449f33b-d014-4970-95f6-d3e46101791c",
   "metadata": {},
   "source": [
    "사용자(user) , 아이템(item)"
   ]
  },
  {
   "cell_type": "markdown",
   "id": "3d6e28ff-aa82-4cbd-8868-a1e0a890ff51",
   "metadata": {},
   "source": [
    "## 11. 사람마다 평가를 주는 기준이 다릅니다. 이것을 반영하는 평점을 무엇이라고 하는가?"
   ]
  },
  {
   "cell_type": "raw",
   "id": "4c9837bd-7c8a-4bd4-8c60-27332d6e3aa7",
   "metadata": {},
   "source": [
    "베이스라인"
   ]
  },
  {
   "cell_type": "markdown",
   "id": "bd580a90-245d-4316-bd02-6395a35cf01d",
   "metadata": {},
   "source": [
    "## 12. surprise를 사용하기 위해서 필요한 3종류의 데이터는?"
   ]
  },
  {
   "cell_type": "code",
   "execution_count": null,
   "id": "ad7a7507-de43-417f-bebb-374ffdde4784",
   "metadata": {},
   "outputs": [],
   "source": [
    "1. user_id (사용자 아이디)\n",
    "2. item_id (아이템 아이디)\n",
    "3. rating (평점)"
   ]
  },
  {
   "cell_type": "markdown",
   "id": "04e8c4d8-7c29-4242-b1da-d9e3d241a896",
   "metadata": {},
   "source": [
    "## 13. text 의 감성 점수를 구해주세요 (VADER , polarity_scores 사용 )"
   ]
  },
  {
   "cell_type": "code",
   "execution_count": 26,
   "id": "cde2a69b-6f69-4180-a92f-12f7bb91e9d5",
   "metadata": {},
   "outputs": [
    {
     "data": {
      "text/plain": [
       "{'neg': 0.0, 'neu': 0.776, 'pos': 0.224, 'compound': 0.8658}"
      ]
     },
     "execution_count": 26,
     "metadata": {},
     "output_type": "execute_result"
    }
   ],
   "source": [
    "text = 'I decided, very early on, just to accept life unconditionally.I never expected it to do anything special for me, yet I seemed to accomplish far more than I had ever hoped. Most of the time it just happened to me withoutmy ever seeking it.' \n",
    "\n",
    "from nltk.sentiment.vader import SentimentIntensityAnalyzer\n",
    "\n",
    "senti_analyzer = SentimentIntensityAnalyzer()\n",
    "senti_analyzer.polarity_scores(text)"
   ]
  },
  {
   "cell_type": "markdown",
   "id": "712b75c9-4e37-4553-8943-35c1eb760450",
   "metadata": {},
   "source": [
    "## 14. 한글 형태소 분석모듈의 종류 5가지는?"
   ]
  },
  {
   "cell_type": "raw",
   "id": "220e7dfa-92f6-4121-8dcf-98d38a476982",
   "metadata": {},
   "source": [
    "1. 꼬꼬마(Kkma)\n",
    "2. 한나눔(Hannanum)\n",
    "3. Komoran\n",
    "4. 은전한닢 프로젝트(Mecab)\n",
    "5. Twitter"
   ]
  },
  {
   "cell_type": "code",
   "execution_count": null,
   "id": "123b8d13-b87a-4c6d-8c22-c189fda92c60",
   "metadata": {},
   "outputs": [],
   "source": []
  },
  {
   "cell_type": "markdown",
   "id": "a3a026df-6b40-48bd-981c-2c3715685200",
   "metadata": {},
   "source": [
    "# 2교시 : 642p ~ \n",
    "## Surprise를 이용한 개인화 영화 추천 시스템 구축 "
   ]
  },
  {
   "cell_type": "raw",
   "id": "fad6129b-127c-4a89-955e-0a3cf29d10ea",
   "metadata": {},
   "source": [
    "책으로만 봄"
   ]
  },
  {
   "cell_type": "markdown",
   "id": "eb7c8b40-dd25-4d22-a4ad-f7d0f2876856",
   "metadata": {},
   "source": [
    "## 시각화 : 648p "
   ]
  },
  {
   "cell_type": "raw",
   "id": "d8f2af4a-a3e3-4306-bd4e-dd337797a3de",
   "metadata": {},
   "source": [
    "책으로만 봄"
   ]
  },
  {
   "cell_type": "markdown",
   "id": "f2d3bf71-60fa-485d-a00c-b8a38d1a5ec5",
   "metadata": {},
   "source": [
    "# 3교시 "
   ]
  },
  {
   "cell_type": "code",
   "execution_count": 33,
   "id": "b2414d09-5baf-45b9-8a53-8c36f3a6d744",
   "metadata": {
    "collapsed": true,
    "jupyter": {
     "outputs_hidden": true
    },
    "tags": []
   },
   "outputs": [
    {
     "name": "stdout",
     "output_type": "stream",
     "text": [
      "Collecting jupyter-dash\n",
      "  Downloading jupyter_dash-0.4.2-py3-none-any.whl (23 kB)\n",
      "Collecting ansi2html\n",
      "  Downloading ansi2html-1.8.0-py3-none-any.whl (16 kB)\n",
      "Requirement already satisfied: flask in c:\\users\\user\\anaconda3\\lib\\site-packages (from jupyter-dash) (2.2.2)\n",
      "Requirement already satisfied: nest-asyncio in c:\\users\\user\\anaconda3\\lib\\site-packages (from jupyter-dash) (1.5.6)\n",
      "Collecting dash\n",
      "  Downloading dash-2.9.3-py3-none-any.whl (10.2 MB)\n",
      "     --------------------------------------- 10.2/10.2 MB 38.4 MB/s eta 0:00:00\n",
      "Collecting retrying\n",
      "  Downloading retrying-1.3.4-py3-none-any.whl (11 kB)\n",
      "Requirement already satisfied: ipython in c:\\users\\user\\anaconda3\\lib\\site-packages (from jupyter-dash) (8.10.0)\n",
      "Requirement already satisfied: ipykernel in c:\\users\\user\\anaconda3\\lib\\site-packages (from jupyter-dash) (6.19.2)\n",
      "Requirement already satisfied: requests in c:\\users\\user\\anaconda3\\lib\\site-packages (from jupyter-dash) (2.28.1)\n",
      "Collecting dash-table==5.0.0\n",
      "  Downloading dash_table-5.0.0-py3-none-any.whl (3.9 kB)\n",
      "Collecting dash-core-components==2.0.0\n",
      "  Downloading dash_core_components-2.0.0-py3-none-any.whl (3.8 kB)\n",
      "Collecting dash-html-components==2.0.0\n",
      "  Downloading dash_html_components-2.0.0-py3-none-any.whl (4.1 kB)\n",
      "Requirement already satisfied: plotly>=5.0.0 in c:\\users\\user\\anaconda3\\lib\\site-packages (from dash->jupyter-dash) (5.9.0)\n",
      "Requirement already satisfied: itsdangerous>=2.0 in c:\\users\\user\\anaconda3\\lib\\site-packages (from flask->jupyter-dash) (2.0.1)\n",
      "Requirement already satisfied: Werkzeug>=2.2.2 in c:\\users\\user\\anaconda3\\lib\\site-packages (from flask->jupyter-dash) (2.2.2)\n",
      "Requirement already satisfied: click>=8.0 in c:\\users\\user\\anaconda3\\lib\\site-packages (from flask->jupyter-dash) (8.0.4)\n",
      "Requirement already satisfied: Jinja2>=3.0 in c:\\users\\user\\anaconda3\\lib\\site-packages (from flask->jupyter-dash) (3.1.2)\n",
      "Requirement already satisfied: psutil in c:\\users\\user\\anaconda3\\lib\\site-packages (from ipykernel->jupyter-dash) (5.9.0)\n",
      "Requirement already satisfied: matplotlib-inline>=0.1 in c:\\users\\user\\anaconda3\\lib\\site-packages (from ipykernel->jupyter-dash) (0.1.6)\n",
      "Requirement already satisfied: jupyter-client>=6.1.12 in c:\\users\\user\\anaconda3\\lib\\site-packages (from ipykernel->jupyter-dash) (7.3.4)\n",
      "Requirement already satisfied: comm>=0.1.1 in c:\\users\\user\\anaconda3\\lib\\site-packages (from ipykernel->jupyter-dash) (0.1.2)\n",
      "Requirement already satisfied: traitlets>=5.4.0 in c:\\users\\user\\anaconda3\\lib\\site-packages (from ipykernel->jupyter-dash) (5.7.1)\n",
      "Requirement already satisfied: pyzmq>=17 in c:\\users\\user\\anaconda3\\lib\\site-packages (from ipykernel->jupyter-dash) (23.2.0)\n",
      "Requirement already satisfied: packaging in c:\\users\\user\\anaconda3\\lib\\site-packages (from ipykernel->jupyter-dash) (22.0)\n",
      "Requirement already satisfied: tornado>=6.1 in c:\\users\\user\\anaconda3\\lib\\site-packages (from ipykernel->jupyter-dash) (6.1)\n",
      "Requirement already satisfied: debugpy>=1.0 in c:\\users\\user\\anaconda3\\lib\\site-packages (from ipykernel->jupyter-dash) (1.5.1)\n",
      "Requirement already satisfied: jedi>=0.16 in c:\\users\\user\\anaconda3\\lib\\site-packages (from ipython->jupyter-dash) (0.18.1)\n",
      "Requirement already satisfied: stack-data in c:\\users\\user\\anaconda3\\lib\\site-packages (from ipython->jupyter-dash) (0.2.0)\n",
      "Requirement already satisfied: colorama in c:\\users\\user\\anaconda3\\lib\\site-packages (from ipython->jupyter-dash) (0.4.6)\n",
      "Requirement already satisfied: prompt-toolkit<3.1.0,>=3.0.30 in c:\\users\\user\\anaconda3\\lib\\site-packages (from ipython->jupyter-dash) (3.0.36)\n",
      "Requirement already satisfied: pickleshare in c:\\users\\user\\anaconda3\\lib\\site-packages (from ipython->jupyter-dash) (0.7.5)\n",
      "Requirement already satisfied: pygments>=2.4.0 in c:\\users\\user\\anaconda3\\lib\\site-packages (from ipython->jupyter-dash) (2.11.2)\n",
      "Requirement already satisfied: decorator in c:\\users\\user\\anaconda3\\lib\\site-packages (from ipython->jupyter-dash) (5.1.1)\n",
      "Requirement already satisfied: backcall in c:\\users\\user\\anaconda3\\lib\\site-packages (from ipython->jupyter-dash) (0.2.0)\n",
      "Requirement already satisfied: charset-normalizer<3,>=2 in c:\\users\\user\\anaconda3\\lib\\site-packages (from requests->jupyter-dash) (2.0.4)\n",
      "Requirement already satisfied: urllib3<1.27,>=1.21.1 in c:\\users\\user\\anaconda3\\lib\\site-packages (from requests->jupyter-dash) (1.26.14)\n",
      "Requirement already satisfied: idna<4,>=2.5 in c:\\users\\user\\anaconda3\\lib\\site-packages (from requests->jupyter-dash) (3.4)\n",
      "Requirement already satisfied: certifi>=2017.4.17 in c:\\users\\user\\anaconda3\\lib\\site-packages (from requests->jupyter-dash) (2022.12.7)\n",
      "Requirement already satisfied: six>=1.7.0 in c:\\users\\user\\anaconda3\\lib\\site-packages (from retrying->jupyter-dash) (1.16.0)\n",
      "Requirement already satisfied: parso<0.9.0,>=0.8.0 in c:\\users\\user\\anaconda3\\lib\\site-packages (from jedi>=0.16->ipython->jupyter-dash) (0.8.3)\n",
      "Requirement already satisfied: MarkupSafe>=2.0 in c:\\users\\user\\anaconda3\\lib\\site-packages (from Jinja2>=3.0->flask->jupyter-dash) (2.1.1)\n",
      "Requirement already satisfied: jupyter-core>=4.9.2 in c:\\users\\user\\anaconda3\\lib\\site-packages (from jupyter-client>=6.1.12->ipykernel->jupyter-dash) (5.2.0)\n",
      "Requirement already satisfied: python-dateutil>=2.8.2 in c:\\users\\user\\anaconda3\\lib\\site-packages (from jupyter-client>=6.1.12->ipykernel->jupyter-dash) (2.8.2)\n",
      "Requirement already satisfied: entrypoints in c:\\users\\user\\anaconda3\\lib\\site-packages (from jupyter-client>=6.1.12->ipykernel->jupyter-dash) (0.4)\n",
      "Requirement already satisfied: tenacity>=6.2.0 in c:\\users\\user\\anaconda3\\lib\\site-packages (from plotly>=5.0.0->dash->jupyter-dash) (8.0.1)\n",
      "Requirement already satisfied: wcwidth in c:\\users\\user\\anaconda3\\lib\\site-packages (from prompt-toolkit<3.1.0,>=3.0.30->ipython->jupyter-dash) (0.2.5)\n",
      "Requirement already satisfied: asttokens in c:\\users\\user\\anaconda3\\lib\\site-packages (from stack-data->ipython->jupyter-dash) (2.0.5)\n",
      "Requirement already satisfied: executing in c:\\users\\user\\anaconda3\\lib\\site-packages (from stack-data->ipython->jupyter-dash) (0.8.3)\n",
      "Requirement already satisfied: pure-eval in c:\\users\\user\\anaconda3\\lib\\site-packages (from stack-data->ipython->jupyter-dash) (0.2.2)\n",
      "Requirement already satisfied: pywin32>=1.0 in c:\\users\\user\\anaconda3\\lib\\site-packages (from jupyter-core>=4.9.2->jupyter-client>=6.1.12->ipykernel->jupyter-dash) (305.1)\n",
      "Requirement already satisfied: platformdirs>=2.5 in c:\\users\\user\\anaconda3\\lib\\site-packages (from jupyter-core>=4.9.2->jupyter-client>=6.1.12->ipykernel->jupyter-dash) (2.5.2)\n",
      "Installing collected packages: dash-table, dash-html-components, dash-core-components, retrying, ansi2html, dash, jupyter-dash\n",
      "Successfully installed ansi2html-1.8.0 dash-2.9.3 dash-core-components-2.0.0 dash-html-components-2.0.0 dash-table-5.0.0 jupyter-dash-0.4.2 retrying-1.3.4\n"
     ]
    }
   ],
   "source": [
    "!pip install jupyter-dash"
   ]
  },
  {
   "cell_type": "code",
   "execution_count": 34,
   "id": "852faba6-11ea-4872-ae21-e9fca7d06b57",
   "metadata": {
    "collapsed": true,
    "jupyter": {
     "outputs_hidden": true
    },
    "tags": []
   },
   "outputs": [
    {
     "name": "stdout",
     "output_type": "stream",
     "text": [
      "Requirement already satisfied: plotly in c:\\users\\user\\anaconda3\\lib\\site-packages (5.9.0)\n",
      "Requirement already satisfied: tenacity>=6.2.0 in c:\\users\\user\\anaconda3\\lib\\site-packages (from plotly) (8.0.1)\n"
     ]
    }
   ],
   "source": [
    "!pip install plotly"
   ]
  },
  {
   "cell_type": "code",
   "execution_count": 35,
   "id": "7dbe6b72-5778-405a-9f9c-a7e108264b00",
   "metadata": {},
   "outputs": [],
   "source": [
    "import pandas as pd\n",
    "import numpy as np"
   ]
  },
  {
   "cell_type": "code",
   "execution_count": 37,
   "id": "1b227ed9-2b51-428e-bc71-7635f532c4b5",
   "metadata": {},
   "outputs": [
    {
     "data": {
      "text/html": [
       "<div>\n",
       "<style scoped>\n",
       "    .dataframe tbody tr th:only-of-type {\n",
       "        vertical-align: middle;\n",
       "    }\n",
       "\n",
       "    .dataframe tbody tr th {\n",
       "        vertical-align: top;\n",
       "    }\n",
       "\n",
       "    .dataframe thead th {\n",
       "        text-align: right;\n",
       "    }\n",
       "</style>\n",
       "<table border=\"1\" class=\"dataframe\">\n",
       "  <thead>\n",
       "    <tr style=\"text-align: right;\">\n",
       "      <th></th>\n",
       "      <th>Unnamed: 0</th>\n",
       "      <th>manufacturer</th>\n",
       "      <th>model</th>\n",
       "      <th>displ</th>\n",
       "      <th>year</th>\n",
       "      <th>cyl</th>\n",
       "      <th>trans</th>\n",
       "      <th>drv</th>\n",
       "      <th>cty</th>\n",
       "      <th>hwy</th>\n",
       "      <th>fl</th>\n",
       "      <th>class</th>\n",
       "    </tr>\n",
       "  </thead>\n",
       "  <tbody>\n",
       "    <tr>\n",
       "      <th>0</th>\n",
       "      <td>1</td>\n",
       "      <td>audi</td>\n",
       "      <td>a4</td>\n",
       "      <td>1.8</td>\n",
       "      <td>1999</td>\n",
       "      <td>4</td>\n",
       "      <td>auto(l5)</td>\n",
       "      <td>f</td>\n",
       "      <td>18</td>\n",
       "      <td>29</td>\n",
       "      <td>p</td>\n",
       "      <td>compact</td>\n",
       "    </tr>\n",
       "    <tr>\n",
       "      <th>1</th>\n",
       "      <td>2</td>\n",
       "      <td>audi</td>\n",
       "      <td>a4</td>\n",
       "      <td>1.8</td>\n",
       "      <td>1999</td>\n",
       "      <td>4</td>\n",
       "      <td>manual(m5)</td>\n",
       "      <td>f</td>\n",
       "      <td>21</td>\n",
       "      <td>29</td>\n",
       "      <td>p</td>\n",
       "      <td>compact</td>\n",
       "    </tr>\n",
       "    <tr>\n",
       "      <th>2</th>\n",
       "      <td>3</td>\n",
       "      <td>audi</td>\n",
       "      <td>a4</td>\n",
       "      <td>2.0</td>\n",
       "      <td>2008</td>\n",
       "      <td>4</td>\n",
       "      <td>manual(m6)</td>\n",
       "      <td>f</td>\n",
       "      <td>20</td>\n",
       "      <td>31</td>\n",
       "      <td>p</td>\n",
       "      <td>compact</td>\n",
       "    </tr>\n",
       "    <tr>\n",
       "      <th>3</th>\n",
       "      <td>4</td>\n",
       "      <td>audi</td>\n",
       "      <td>a4</td>\n",
       "      <td>2.0</td>\n",
       "      <td>2008</td>\n",
       "      <td>4</td>\n",
       "      <td>auto(av)</td>\n",
       "      <td>f</td>\n",
       "      <td>21</td>\n",
       "      <td>30</td>\n",
       "      <td>p</td>\n",
       "      <td>compact</td>\n",
       "    </tr>\n",
       "    <tr>\n",
       "      <th>4</th>\n",
       "      <td>5</td>\n",
       "      <td>audi</td>\n",
       "      <td>a4</td>\n",
       "      <td>2.8</td>\n",
       "      <td>1999</td>\n",
       "      <td>6</td>\n",
       "      <td>auto(l5)</td>\n",
       "      <td>f</td>\n",
       "      <td>16</td>\n",
       "      <td>26</td>\n",
       "      <td>p</td>\n",
       "      <td>compact</td>\n",
       "    </tr>\n",
       "  </tbody>\n",
       "</table>\n",
       "</div>"
      ],
      "text/plain": [
       "   Unnamed: 0 manufacturer model  displ  year  cyl       trans drv  cty  hwy  \\\n",
       "0           1         audi    a4    1.8  1999    4    auto(l5)   f   18   29   \n",
       "1           2         audi    a4    1.8  1999    4  manual(m5)   f   21   29   \n",
       "2           3         audi    a4    2.0  2008    4  manual(m6)   f   20   31   \n",
       "3           4         audi    a4    2.0  2008    4    auto(av)   f   21   30   \n",
       "4           5         audi    a4    2.8  1999    6    auto(l5)   f   16   26   \n",
       "\n",
       "  fl    class  \n",
       "0  p  compact  \n",
       "1  p  compact  \n",
       "2  p  compact  \n",
       "3  p  compact  \n",
       "4  p  compact  "
      ]
     },
     "execution_count": 37,
     "metadata": {},
     "output_type": "execute_result"
    }
   ],
   "source": [
    "mpg = pd.read_csv('mpg.csv')\n",
    "mpg[:5]"
   ]
  },
  {
   "cell_type": "code",
   "execution_count": 39,
   "id": "410f71f5-baff-48fc-908f-938355b08922",
   "metadata": {},
   "outputs": [],
   "source": [
    "mpg = mpg.iloc[:, 1:]"
   ]
  },
  {
   "cell_type": "code",
   "execution_count": 40,
   "id": "a7866663-4db9-4927-9e06-fc95bd9787e4",
   "metadata": {},
   "outputs": [
    {
     "data": {
      "text/html": [
       "<div>\n",
       "<style scoped>\n",
       "    .dataframe tbody tr th:only-of-type {\n",
       "        vertical-align: middle;\n",
       "    }\n",
       "\n",
       "    .dataframe tbody tr th {\n",
       "        vertical-align: top;\n",
       "    }\n",
       "\n",
       "    .dataframe thead th {\n",
       "        text-align: right;\n",
       "    }\n",
       "</style>\n",
       "<table border=\"1\" class=\"dataframe\">\n",
       "  <thead>\n",
       "    <tr style=\"text-align: right;\">\n",
       "      <th></th>\n",
       "      <th>manufacturer</th>\n",
       "      <th>model</th>\n",
       "      <th>displ</th>\n",
       "      <th>year</th>\n",
       "      <th>cyl</th>\n",
       "      <th>trans</th>\n",
       "      <th>drv</th>\n",
       "      <th>cty</th>\n",
       "      <th>hwy</th>\n",
       "      <th>fl</th>\n",
       "      <th>class</th>\n",
       "    </tr>\n",
       "  </thead>\n",
       "  <tbody>\n",
       "    <tr>\n",
       "      <th>0</th>\n",
       "      <td>audi</td>\n",
       "      <td>a4</td>\n",
       "      <td>1.8</td>\n",
       "      <td>1999</td>\n",
       "      <td>4</td>\n",
       "      <td>auto(l5)</td>\n",
       "      <td>f</td>\n",
       "      <td>18</td>\n",
       "      <td>29</td>\n",
       "      <td>p</td>\n",
       "      <td>compact</td>\n",
       "    </tr>\n",
       "    <tr>\n",
       "      <th>1</th>\n",
       "      <td>audi</td>\n",
       "      <td>a4</td>\n",
       "      <td>1.8</td>\n",
       "      <td>1999</td>\n",
       "      <td>4</td>\n",
       "      <td>manual(m5)</td>\n",
       "      <td>f</td>\n",
       "      <td>21</td>\n",
       "      <td>29</td>\n",
       "      <td>p</td>\n",
       "      <td>compact</td>\n",
       "    </tr>\n",
       "    <tr>\n",
       "      <th>2</th>\n",
       "      <td>audi</td>\n",
       "      <td>a4</td>\n",
       "      <td>2.0</td>\n",
       "      <td>2008</td>\n",
       "      <td>4</td>\n",
       "      <td>manual(m6)</td>\n",
       "      <td>f</td>\n",
       "      <td>20</td>\n",
       "      <td>31</td>\n",
       "      <td>p</td>\n",
       "      <td>compact</td>\n",
       "    </tr>\n",
       "    <tr>\n",
       "      <th>3</th>\n",
       "      <td>audi</td>\n",
       "      <td>a4</td>\n",
       "      <td>2.0</td>\n",
       "      <td>2008</td>\n",
       "      <td>4</td>\n",
       "      <td>auto(av)</td>\n",
       "      <td>f</td>\n",
       "      <td>21</td>\n",
       "      <td>30</td>\n",
       "      <td>p</td>\n",
       "      <td>compact</td>\n",
       "    </tr>\n",
       "    <tr>\n",
       "      <th>4</th>\n",
       "      <td>audi</td>\n",
       "      <td>a4</td>\n",
       "      <td>2.8</td>\n",
       "      <td>1999</td>\n",
       "      <td>6</td>\n",
       "      <td>auto(l5)</td>\n",
       "      <td>f</td>\n",
       "      <td>16</td>\n",
       "      <td>26</td>\n",
       "      <td>p</td>\n",
       "      <td>compact</td>\n",
       "    </tr>\n",
       "    <tr>\n",
       "      <th>...</th>\n",
       "      <td>...</td>\n",
       "      <td>...</td>\n",
       "      <td>...</td>\n",
       "      <td>...</td>\n",
       "      <td>...</td>\n",
       "      <td>...</td>\n",
       "      <td>...</td>\n",
       "      <td>...</td>\n",
       "      <td>...</td>\n",
       "      <td>...</td>\n",
       "      <td>...</td>\n",
       "    </tr>\n",
       "    <tr>\n",
       "      <th>229</th>\n",
       "      <td>volkswagen</td>\n",
       "      <td>passat</td>\n",
       "      <td>2.0</td>\n",
       "      <td>2008</td>\n",
       "      <td>4</td>\n",
       "      <td>auto(s6)</td>\n",
       "      <td>f</td>\n",
       "      <td>19</td>\n",
       "      <td>28</td>\n",
       "      <td>p</td>\n",
       "      <td>midsize</td>\n",
       "    </tr>\n",
       "    <tr>\n",
       "      <th>230</th>\n",
       "      <td>volkswagen</td>\n",
       "      <td>passat</td>\n",
       "      <td>2.0</td>\n",
       "      <td>2008</td>\n",
       "      <td>4</td>\n",
       "      <td>manual(m6)</td>\n",
       "      <td>f</td>\n",
       "      <td>21</td>\n",
       "      <td>29</td>\n",
       "      <td>p</td>\n",
       "      <td>midsize</td>\n",
       "    </tr>\n",
       "    <tr>\n",
       "      <th>231</th>\n",
       "      <td>volkswagen</td>\n",
       "      <td>passat</td>\n",
       "      <td>2.8</td>\n",
       "      <td>1999</td>\n",
       "      <td>6</td>\n",
       "      <td>auto(l5)</td>\n",
       "      <td>f</td>\n",
       "      <td>16</td>\n",
       "      <td>26</td>\n",
       "      <td>p</td>\n",
       "      <td>midsize</td>\n",
       "    </tr>\n",
       "    <tr>\n",
       "      <th>232</th>\n",
       "      <td>volkswagen</td>\n",
       "      <td>passat</td>\n",
       "      <td>2.8</td>\n",
       "      <td>1999</td>\n",
       "      <td>6</td>\n",
       "      <td>manual(m5)</td>\n",
       "      <td>f</td>\n",
       "      <td>18</td>\n",
       "      <td>26</td>\n",
       "      <td>p</td>\n",
       "      <td>midsize</td>\n",
       "    </tr>\n",
       "    <tr>\n",
       "      <th>233</th>\n",
       "      <td>volkswagen</td>\n",
       "      <td>passat</td>\n",
       "      <td>3.6</td>\n",
       "      <td>2008</td>\n",
       "      <td>6</td>\n",
       "      <td>auto(s6)</td>\n",
       "      <td>f</td>\n",
       "      <td>17</td>\n",
       "      <td>26</td>\n",
       "      <td>p</td>\n",
       "      <td>midsize</td>\n",
       "    </tr>\n",
       "  </tbody>\n",
       "</table>\n",
       "<p>234 rows × 11 columns</p>\n",
       "</div>"
      ],
      "text/plain": [
       "    manufacturer   model  displ  year  cyl       trans drv  cty  hwy fl  \\\n",
       "0           audi      a4    1.8  1999    4    auto(l5)   f   18   29  p   \n",
       "1           audi      a4    1.8  1999    4  manual(m5)   f   21   29  p   \n",
       "2           audi      a4    2.0  2008    4  manual(m6)   f   20   31  p   \n",
       "3           audi      a4    2.0  2008    4    auto(av)   f   21   30  p   \n",
       "4           audi      a4    2.8  1999    6    auto(l5)   f   16   26  p   \n",
       "..           ...     ...    ...   ...  ...         ...  ..  ...  ... ..   \n",
       "229   volkswagen  passat    2.0  2008    4    auto(s6)   f   19   28  p   \n",
       "230   volkswagen  passat    2.0  2008    4  manual(m6)   f   21   29  p   \n",
       "231   volkswagen  passat    2.8  1999    6    auto(l5)   f   16   26  p   \n",
       "232   volkswagen  passat    2.8  1999    6  manual(m5)   f   18   26  p   \n",
       "233   volkswagen  passat    3.6  2008    6    auto(s6)   f   17   26  p   \n",
       "\n",
       "       class  \n",
       "0    compact  \n",
       "1    compact  \n",
       "2    compact  \n",
       "3    compact  \n",
       "4    compact  \n",
       "..       ...  \n",
       "229  midsize  \n",
       "230  midsize  \n",
       "231  midsize  \n",
       "232  midsize  \n",
       "233  midsize  \n",
       "\n",
       "[234 rows x 11 columns]"
      ]
     },
     "execution_count": 40,
     "metadata": {},
     "output_type": "execute_result"
    }
   ],
   "source": [
    "mpg"
   ]
  },
  {
   "cell_type": "code",
   "execution_count": 42,
   "id": "e4d75869-204c-45c7-ad96-114182443d2e",
   "metadata": {},
   "outputs": [],
   "source": [
    "import seaborn as sns"
   ]
  },
  {
   "cell_type": "code",
   "execution_count": 45,
   "id": "8894978d-fc77-4335-aba6-aec29678331a",
   "metadata": {},
   "outputs": [
    {
     "data": {
      "text/plain": [
       "<Axes: xlabel='displ', ylabel='cty'>"
      ]
     },
     "execution_count": 45,
     "metadata": {},
     "output_type": "execute_result"
    },
    {
     "data": {
      "image/png": "[encoded data removed]",
      "text/plain": [
       "<Figure size 640x480 with 1 Axes>"
      ]
     },
     "metadata": {},
     "output_type": "display_data"
    }
   ],
   "source": [
    "sns.scatterplot(data=mpg, x='displ', y='cty', hue= 'drv')"
   ]
  },
  {
   "cell_type": "code",
   "execution_count": 44,
   "id": "32575fd7-7eab-47e2-9b04-1892c92a19e6",
   "metadata": {},
   "outputs": [],
   "source": [
    "import matplotlib.pyplot as plt"
   ]
  },
  {
   "cell_type": "code",
   "execution_count": 46,
   "id": "3df64947-b18c-476d-b478-236da81a414e",
   "metadata": {},
   "outputs": [],
   "source": [
    "import plotly.express as px"
   ]
  },
  {
   "cell_type": "code",
   "execution_count": 49,
   "id": "25ac2cef-3eab-4d1f-9343-6a72b1fa8b00",
   "metadata": {},
   "outputs": [
    {
     "data": {
      "application/vnd.plotly.v1+json": {
       "config": {
        "plotlyServerURL": "https://plot.ly"
       },
       "data": [
        {
         "hovertemplate": "drv=f<br>class=%{x}<br>cyl=%{y}<extra></extra>",
         "legendgroup": "f",
         "marker": {
          "color": "#636efa",
          "symbol": "circle"
         },
         "mode": "markers",
         "name": "f",
         "orientation": "v",
         "showlegend": true,
         "type": "scatter",
         "x": [
          "compact",
          "compact",
          "compact",
          "compact",
          "compact",
          "compact",
          "compact",
          "midsize",
          "midsize",
          "midsize",
          "midsize",
          "midsize",
          "minivan",
          "minivan",
          "minivan",
          "minivan",
          "minivan",
          "minivan",
          "minivan",
          "minivan",
          "minivan",
          "minivan",
          "minivan",
          "subcompact",
          "subcompact",
          "subcompact",
          "subcompact",
          "subcompact",
          "subcompact",
          "subcompact",
          "subcompact",
          "subcompact",
          "midsize",
          "midsize",
          "midsize",
          "midsize",
          "midsize",
          "midsize",
          "midsize",
          "subcompact",
          "subcompact",
          "subcompact",
          "subcompact",
          "subcompact",
          "subcompact",
          "subcompact",
          "compact",
          "compact",
          "midsize",
          "midsize",
          "midsize",
          "midsize",
          "midsize",
          "midsize",
          "midsize",
          "midsize",
          "midsize",
          "midsize",
          "midsize",
          "midsize",
          "midsize",
          "midsize",
          "midsize",
          "midsize",
          "midsize",
          "midsize",
          "midsize",
          "compact",
          "compact",
          "compact",
          "compact",
          "compact",
          "compact",
          "compact",
          "compact",
          "compact",
          "compact",
          "compact",
          "compact",
          "compact",
          "compact",
          "compact",
          "compact",
          "compact",
          "compact",
          "compact",
          "compact",
          "compact",
          "compact",
          "compact",
          "compact",
          "compact",
          "compact",
          "subcompact",
          "subcompact",
          "subcompact",
          "subcompact",
          "subcompact",
          "subcompact",
          "midsize",
          "midsize",
          "midsize",
          "midsize",
          "midsize",
          "midsize",
          "midsize"
         ],
         "xaxis": "x",
         "y": [
          4,
          4,
          4,
          4,
          6,
          6,
          6,
          4,
          4,
          6,
          6,
          6,
          4,
          6,
          6,
          6,
          6,
          6,
          6,
          6,
          6,
          6,
          6,
          4,
          4,
          4,
          4,
          4,
          4,
          4,
          4,
          4,
          4,
          4,
          4,
          4,
          6,
          6,
          6,
          4,
          4,
          4,
          4,
          6,
          6,
          6,
          4,
          4,
          4,
          4,
          6,
          6,
          6,
          6,
          6,
          6,
          6,
          6,
          6,
          8,
          4,
          4,
          4,
          4,
          6,
          6,
          6,
          4,
          4,
          4,
          4,
          6,
          6,
          6,
          4,
          4,
          4,
          4,
          4,
          4,
          4,
          4,
          4,
          6,
          4,
          4,
          4,
          4,
          4,
          5,
          5,
          6,
          6,
          4,
          4,
          4,
          4,
          5,
          5,
          4,
          4,
          4,
          4,
          6,
          6,
          6
         ],
         "yaxis": "y"
        },
        {
         "hovertemplate": "drv=4<br>class=%{x}<br>cyl=%{y}<extra></extra>",
         "legendgroup": "4",
         "marker": {
          "color": "#EF553B",
          "symbol": "circle"
         },
         "mode": "markers",
         "name": "4",
         "orientation": "v",
         "showlegend": true,
         "type": "scatter",
         "x": [
          "compact",
          "compact",
          "compact",
          "compact",
          "compact",
          "compact",
          "compact",
          "compact",
          "midsize",
          "midsize",
          "midsize",
          "suv",
          "suv",
          "suv",
          "suv",
          "pickup",
          "pickup",
          "pickup",
          "pickup",
          "pickup",
          "pickup",
          "pickup",
          "pickup",
          "pickup",
          "suv",
          "suv",
          "suv",
          "suv",
          "suv",
          "suv",
          "suv",
          "pickup",
          "pickup",
          "pickup",
          "pickup",
          "pickup",
          "pickup",
          "pickup",
          "pickup",
          "pickup",
          "pickup",
          "suv",
          "suv",
          "suv",
          "suv",
          "suv",
          "suv",
          "pickup",
          "pickup",
          "pickup",
          "pickup",
          "pickup",
          "pickup",
          "pickup",
          "suv",
          "suv",
          "suv",
          "suv",
          "suv",
          "suv",
          "suv",
          "suv",
          "suv",
          "suv",
          "suv",
          "suv",
          "suv",
          "suv",
          "suv",
          "suv",
          "suv",
          "suv",
          "suv",
          "suv",
          "suv",
          "suv",
          "suv",
          "suv",
          "suv",
          "suv",
          "subcompact",
          "subcompact",
          "subcompact",
          "subcompact",
          "compact",
          "compact",
          "compact",
          "compact",
          "suv",
          "suv",
          "suv",
          "suv",
          "suv",
          "suv",
          "suv",
          "suv",
          "pickup",
          "pickup",
          "pickup",
          "pickup",
          "pickup",
          "pickup",
          "pickup"
         ],
         "xaxis": "x",
         "y": [
          4,
          4,
          4,
          4,
          6,
          6,
          6,
          6,
          6,
          6,
          8,
          8,
          8,
          8,
          8,
          6,
          6,
          6,
          6,
          8,
          8,
          8,
          8,
          8,
          6,
          8,
          8,
          8,
          8,
          8,
          8,
          8,
          8,
          8,
          8,
          8,
          8,
          8,
          8,
          8,
          8,
          6,
          6,
          6,
          6,
          8,
          8,
          6,
          6,
          8,
          8,
          8,
          8,
          8,
          6,
          6,
          6,
          8,
          8,
          8,
          8,
          8,
          8,
          8,
          8,
          8,
          6,
          6,
          8,
          8,
          6,
          6,
          6,
          8,
          4,
          4,
          4,
          4,
          4,
          4,
          4,
          4,
          4,
          4,
          4,
          4,
          4,
          4,
          4,
          4,
          6,
          6,
          6,
          8,
          8,
          8,
          4,
          4,
          4,
          6,
          6,
          6,
          6
         ],
         "yaxis": "y"
        },
        {
         "hovertemplate": "drv=r<br>class=%{x}<br>cyl=%{y}<extra></extra>",
         "legendgroup": "r",
         "marker": {
          "color": "#00cc96",
          "symbol": "circle"
         },
         "mode": "markers",
         "name": "r",
         "orientation": "v",
         "showlegend": true,
         "type": "scatter",
         "x": [
          "suv",
          "suv",
          "suv",
          "suv",
          "suv",
          "2seater",
          "2seater",
          "2seater",
          "2seater",
          "2seater",
          "suv",
          "suv",
          "suv",
          "subcompact",
          "subcompact",
          "subcompact",
          "subcompact",
          "subcompact",
          "subcompact",
          "subcompact",
          "subcompact",
          "subcompact",
          "suv",
          "suv",
          "suv"
         ],
         "xaxis": "x",
         "y": [
          8,
          8,
          8,
          8,
          8,
          8,
          8,
          8,
          8,
          8,
          8,
          8,
          8,
          6,
          6,
          6,
          6,
          8,
          8,
          8,
          8,
          8,
          8,
          8,
          8
         ],
         "yaxis": "y"
        }
       ],
       "layout": {
        "autosize": true,
        "legend": {
         "title": {
          "text": "drv"
         },
         "tracegroupgap": 0
        },
        "margin": {
         "t": 60
        },
        "template": {
         "data": {
          "bar": [
           {
            "error_x": {
             "color": "#2a3f5f"
            },
            "error_y": {
             "color": "#2a3f5f"
            },
            "marker": {
             "line": {
              "color": "#E5ECF6",
              "width": 0.5
             },
             "pattern": {
              "fillmode": "overlay",
              "size": 10,
              "solidity": 0.2
             }
            },
            "type": "bar"
           }
          ],
          "barpolar": [
           {
            "marker": {
             "line": {
              "color": "#E5ECF6",
              "width": 0.5
             },
             "pattern": {
              "fillmode": "overlay",
              "size": 10,
              "solidity": 0.2
             }
            },
            "type": "barpolar"
           }
          ],
          "carpet": [
           {
            "aaxis": {
             "endlinecolor": "#2a3f5f",
             "gridcolor": "white",
             "linecolor": "white",
             "minorgridcolor": "white",
             "startlinecolor": "#2a3f5f"
            },
            "baxis": {
             "endlinecolor": "#2a3f5f",
             "gridcolor": "white",
             "linecolor": "white",
             "minorgridcolor": "white",
             "startlinecolor": "#2a3f5f"
            },
            "type": "carpet"
           }
          ],
          "choropleth": [
           {
            "colorbar": {
             "outlinewidth": 0,
             "ticks": ""
            },
            "type": "choropleth"
           }
          ],
          "contour": [
           {
            "colorbar": {
             "outlinewidth": 0,
             "ticks": ""
            },
            "colorscale": [
             [
              0,
              "#0d0887"
             ],
             [
              0.1111111111111111,
              "#46039f"
             ],
             [
              0.2222222222222222,
              "#7201a8"
             ],
             [
              0.3333333333333333,
              "#9c179e"
             ],
             [
              0.4444444444444444,
              "#bd3786"
             ],
             [
              0.5555555555555556,
              "#d8576b"
             ],
             [
              0.6666666666666666,
              "#ed7953"
             ],
             [
              0.7777777777777778,
              "#fb9f3a"
             ],
             [
              0.8888888888888888,
              "#fdca26"
             ],
             [
              1,
              "#f0f921"
             ]
            ],
            "type": "contour"
           }
          ],
          "contourcarpet": [
           {
            "colorbar": {
             "outlinewidth": 0,
             "ticks": ""
            },
            "type": "contourcarpet"
           }
          ],
          "heatmap": [
           {
            "colorbar": {
             "outlinewidth": 0,
             "ticks": ""
            },
            "colorscale": [
             [
              0,
              "#0d0887"
             ],
             [
              0.1111111111111111,
              "#46039f"
             ],
             [
              0.2222222222222222,
              "#7201a8"
             ],
             [
              0.3333333333333333,
              "#9c179e"
             ],
             [
              0.4444444444444444,
              "#bd3786"
             ],
             [
              0.5555555555555556,
              "#d8576b"
             ],
             [
              0.6666666666666666,
              "#ed7953"
             ],
             [
              0.7777777777777778,
              "#fb9f3a"
             ],
             [
              0.8888888888888888,
              "#fdca26"
             ],
             [
              1,
              "#f0f921"
             ]
            ],
            "type": "heatmap"
           }
          ],
          "heatmapgl": [
           {
            "colorbar": {
             "outlinewidth": 0,
             "ticks": ""
            },
            "colorscale": [
             [
              0,
              "#0d0887"
             ],
             [
              0.1111111111111111,
              "#46039f"
             ],
             [
              0.2222222222222222,
              "#7201a8"
             ],
             [
              0.3333333333333333,
              "#9c179e"
             ],
             [
              0.4444444444444444,
              "#bd3786"
             ],
             [
              0.5555555555555556,
              "#d8576b"
             ],
             [
              0.6666666666666666,
              "#ed7953"
             ],
             [
              0.7777777777777778,
              "#fb9f3a"
             ],
             [
              0.8888888888888888,
              "#fdca26"
             ],
             [
              1,
              "#f0f921"
             ]
            ],
            "type": "heatmapgl"
           }
          ],
          "histogram": [
           {
            "marker": {
             "pattern": {
              "fillmode": "overlay",
              "size": 10,
              "solidity": 0.2
             }
            },
            "type": "histogram"
           }
          ],
          "histogram2d": [
           {
            "colorbar": {
             "outlinewidth": 0,
             "ticks": ""
            },
            "colorscale": [
             [
              0,
              "#0d0887"
             ],
             [
              0.1111111111111111,
              "#46039f"
             ],
             [
              0.2222222222222222,
              "#7201a8"
             ],
             [
              0.3333333333333333,
              "#9c179e"
             ],
             [
              0.4444444444444444,
              "#bd3786"
             ],
             [
              0.5555555555555556,
              "#d8576b"
             ],
             [
              0.6666666666666666,
              "#ed7953"
             ],
             [
              0.7777777777777778,
              "#fb9f3a"
             ],
             [
              0.8888888888888888,
              "#fdca26"
             ],
             [
              1,
              "#f0f921"
             ]
            ],
            "type": "histogram2d"
           }
          ],
          "histogram2dcontour": [
           {
            "colorbar": {
             "outlinewidth": 0,
             "ticks": ""
            },
            "colorscale": [
             [
              0,
              "#0d0887"
             ],
             [
              0.1111111111111111,
              "#46039f"
             ],
             [
              0.2222222222222222,
              "#7201a8"
             ],
             [
              0.3333333333333333,
              "#9c179e"
             ],
             [
              0.4444444444444444,
              "#bd3786"
             ],
             [
              0.5555555555555556,
              "#d8576b"
             ],
             [
              0.6666666666666666,
              "#ed7953"
             ],
             [
              0.7777777777777778,
              "#fb9f3a"
             ],
             [
              0.8888888888888888,
              "#fdca26"
             ],
             [
              1,
              "#f0f921"
             ]
            ],
            "type": "histogram2dcontour"
           }
          ],
          "mesh3d": [
           {
            "colorbar": {
             "outlinewidth": 0,
             "ticks": ""
            },
            "type": "mesh3d"
           }
          ],
          "parcoords": [
           {
            "line": {
             "colorbar": {
              "outlinewidth": 0,
              "ticks": ""
             }
            },
            "type": "parcoords"
           }
          ],
          "pie": [
           {
            "automargin": true,
            "type": "pie"
           }
          ],
          "scatter": [
           {
            "fillpattern": {
             "fillmode": "overlay",
             "size": 10,
             "solidity": 0.2
            },
            "type": "scatter"
           }
          ],
          "scatter3d": [
           {
            "line": {
             "colorbar": {
              "outlinewidth": 0,
              "ticks": ""
             }
            },
            "marker": {
             "colorbar": {
              "outlinewidth": 0,
              "ticks": ""
             }
            },
            "type": "scatter3d"
           }
          ],
          "scattercarpet": [
           {
            "marker": {
             "colorbar": {
              "outlinewidth": 0,
              "ticks": ""
             }
            },
            "type": "scattercarpet"
           }
          ],
          "scattergeo": [
           {
            "marker": {
             "colorbar": {
              "outlinewidth": 0,
              "ticks": ""
             }
            },
            "type": "scattergeo"
           }
          ],
          "scattergl": [
           {
            "marker": {
             "colorbar": {
              "outlinewidth": 0,
              "ticks": ""
             }
            },
            "type": "scattergl"
           }
          ],
          "scattermapbox": [
           {
            "marker": {
             "colorbar": {
              "outlinewidth": 0,
              "ticks": ""
             }
            },
            "type": "scattermapbox"
           }
          ],
          "scatterpolar": [
           {
            "marker": {
             "colorbar": {
              "outlinewidth": 0,
              "ticks": ""
             }
            },
            "type": "scatterpolar"
           }
          ],
          "scatterpolargl": [
           {
            "marker": {
             "colorbar": {
              "outlinewidth": 0,
              "ticks": ""
             }
            },
            "type": "scatterpolargl"
           }
          ],
          "scatterternary": [
           {
            "marker": {
             "colorbar": {
              "outlinewidth": 0,
              "ticks": ""
             }
            },
            "type": "scatterternary"
           }
          ],
          "surface": [
           {
            "colorbar": {
             "outlinewidth": 0,
             "ticks": ""
            },
            "colorscale": [
             [
              0,
              "#0d0887"
             ],
             [
              0.1111111111111111,
              "#46039f"
             ],
             [
              0.2222222222222222,
              "#7201a8"
             ],
             [
              0.3333333333333333,
              "#9c179e"
             ],
             [
              0.4444444444444444,
              "#bd3786"
             ],
             [
              0.5555555555555556,
              "#d8576b"
             ],
             [
              0.6666666666666666,
              "#ed7953"
             ],
             [
              0.7777777777777778,
              "#fb9f3a"
             ],
             [
              0.8888888888888888,
              "#fdca26"
             ],
             [
              1,
              "#f0f921"
             ]
            ],
            "type": "surface"
           }
          ],
          "table": [
           {
            "cells": {
             "fill": {
              "color": "#EBF0F8"
             },
             "line": {
              "color": "white"
             }
            },
            "header": {
             "fill": {
              "color": "#C8D4E3"
             },
             "line": {
              "color": "white"
             }
            },
            "type": "table"
           }
          ]
         },
         "layout": {
          "annotationdefaults": {
           "arrowcolor": "#2a3f5f",
           "arrowhead": 0,
           "arrowwidth": 1
          },
          "autotypenumbers": "strict",
          "coloraxis": {
           "colorbar": {
            "outlinewidth": 0,
            "ticks": ""
           }
          },
          "colorscale": {
           "diverging": [
            [
             0,
             "#8e0152"
            ],
            [
             0.1,
             "#c51b7d"
            ],
            [
             0.2,
             "#de77ae"
            ],
            [
             0.3,
             "#f1b6da"
            ],
            [
             0.4,
             "#fde0ef"
            ],
            [
             0.5,
             "#f7f7f7"
            ],
            [
             0.6,
             "#e6f5d0"
            ],
            [
             0.7,
             "#b8e186"
            ],
            [
             0.8,
             "#7fbc41"
            ],
            [
             0.9,
             "#4d9221"
            ],
            [
             1,
             "#276419"
            ]
           ],
           "sequential": [
            [
             0,
             "#0d0887"
            ],
            [
             0.1111111111111111,
             "#46039f"
            ],
            [
             0.2222222222222222,
             "#7201a8"
            ],
            [
             0.3333333333333333,
             "#9c179e"
            ],
            [
             0.4444444444444444,
             "#bd3786"
            ],
            [
             0.5555555555555556,
             "#d8576b"
            ],
            [
             0.6666666666666666,
             "#ed7953"
            ],
            [
             0.7777777777777778,
             "#fb9f3a"
            ],
            [
             0.8888888888888888,
             "#fdca26"
            ],
            [
             1,
             "#f0f921"
            ]
           ],
           "sequentialminus": [
            [
             0,
             "#0d0887"
            ],
            [
             0.1111111111111111,
             "#46039f"
            ],
            [
             0.2222222222222222,
             "#7201a8"
            ],
            [
             0.3333333333333333,
             "#9c179e"
            ],
            [
             0.4444444444444444,
             "#bd3786"
            ],
            [
             0.5555555555555556,
             "#d8576b"
            ],
            [
             0.6666666666666666,
             "#ed7953"
            ],
            [
             0.7777777777777778,
             "#fb9f3a"
            ],
            [
             0.8888888888888888,
             "#fdca26"
            ],
            [
             1,
             "#f0f921"
            ]
           ]
          },
          "colorway": [
           "#636efa",
           "#EF553B",
           "#00cc96",
           "#ab63fa",
           "#FFA15A",
           "#19d3f3",
           "#FF6692",
           "#B6E880",
           "#FF97FF",
           "#FECB52"
          ],
          "font": {
           "color": "#2a3f5f"
          },
          "geo": {
           "bgcolor": "white",
           "lakecolor": "white",
           "landcolor": "#E5ECF6",
           "showlakes": true,
           "showland": true,
           "subunitcolor": "white"
          },
          "hoverlabel": {
           "align": "left"
          },
          "hovermode": "closest",
          "mapbox": {
           "style": "light"
          },
          "paper_bgcolor": "white",
          "plot_bgcolor": "#E5ECF6",
          "polar": {
           "angularaxis": {
            "gridcolor": "white",
            "linecolor": "white",
            "ticks": ""
           },
           "bgcolor": "#E5ECF6",
           "radialaxis": {
            "gridcolor": "white",
            "linecolor": "white",
            "ticks": ""
           }
          },
          "scene": {
           "xaxis": {
            "backgroundcolor": "#E5ECF6",
            "gridcolor": "white",
            "gridwidth": 2,
            "linecolor": "white",
            "showbackground": true,
            "ticks": "",
            "zerolinecolor": "white"
           },
           "yaxis": {
            "backgroundcolor": "#E5ECF6",
            "gridcolor": "white",
            "gridwidth": 2,
            "linecolor": "white",
            "showbackground": true,
            "ticks": "",
            "zerolinecolor": "white"
           },
           "zaxis": {
            "backgroundcolor": "#E5ECF6",
            "gridcolor": "white",
            "gridwidth": 2,
            "linecolor": "white",
            "showbackground": true,
            "ticks": "",
            "zerolinecolor": "white"
           }
          },
          "shapedefaults": {
           "line": {
            "color": "#2a3f5f"
           }
          },
          "ternary": {
           "aaxis": {
            "gridcolor": "white",
            "linecolor": "white",
            "ticks": ""
           },
           "baxis": {
            "gridcolor": "white",
            "linecolor": "white",
            "ticks": ""
           },
           "bgcolor": "#E5ECF6",
           "caxis": {
            "gridcolor": "white",
            "linecolor": "white",
            "ticks": ""
           }
          },
          "title": {
           "x": 0.05
          },
          "xaxis": {
           "automargin": true,
           "gridcolor": "white",
           "linecolor": "white",
           "ticks": "",
           "title": {
            "standoff": 15
           },
           "zerolinecolor": "white",
           "zerolinewidth": 2
          },
          "yaxis": {
           "automargin": true,
           "gridcolor": "white",
           "linecolor": "white",
           "ticks": "",
           "title": {
            "standoff": 15
           },
           "zerolinecolor": "white",
           "zerolinewidth": 2
          }
         }
        },
        "xaxis": {
         "anchor": "y",
         "autorange": false,
         "domain": [
          0,
          1
         ],
         "range": [
          -3.791604197901048,
          9.791604197901048
         ],
         "title": {
          "text": "class"
         },
         "type": "category"
        },
        "yaxis": {
         "anchor": "x",
         "autorange": false,
         "domain": [
          0,
          1
         ],
         "range": [
          1.3805774278215246,
          10.619422572178477
         ],
         "title": {
          "text": "cyl"
         },
         "type": "linear"
        }
       }
      },
      "image/png": "[encoded data removed]",
      "text/html": [
       "<div>                            <div id=\"1999cba4-78b1-4ec8-a85d-b15460081dd1\" class=\"plotly-graph-div\" style=\"height:525px; width:100%;\"></div>            <script type=\"text/javascript\">                require([\"plotly\"], function(Plotly) {                    window.PLOTLYENV=window.PLOTLYENV || {};                                    if (document.getElementById(\"1999cba4-78b1-4ec8-a85d-b15460081dd1\")) {                    Plotly.newPlot(                        \"1999cba4-78b1-4ec8-a85d-b15460081dd1\",                        [{\"hovertemplate\":\"drv=f<br>class=%{x}<br>cyl=%{y}<extra></extra>\",\"legendgroup\":\"f\",\"marker\":{\"color\":\"#636efa\",\"symbol\":\"circle\"},\"mode\":\"markers\",\"name\":\"f\",\"orientation\":\"v\",\"showlegend\":true,\"x\":[\"compact\",\"compact\",\"compact\",\"compact\",\"compact\",\"compact\",\"compact\",\"midsize\",\"midsize\",\"midsize\",\"midsize\",\"midsize\",\"minivan\",\"minivan\",\"minivan\",\"minivan\",\"minivan\",\"minivan\",\"minivan\",\"minivan\",\"minivan\",\"minivan\",\"minivan\",\"subcompact\",\"subcompact\",\"subcompact\",\"subcompact\",\"subcompact\",\"subcompact\",\"subcompact\",\"subcompact\",\"subcompact\",\"midsize\",\"midsize\",\"midsize\",\"midsize\",\"midsize\",\"midsize\",\"midsize\",\"subcompact\",\"subcompact\",\"subcompact\",\"subcompact\",\"subcompact\",\"subcompact\",\"subcompact\",\"compact\",\"compact\",\"midsize\",\"midsize\",\"midsize\",\"midsize\",\"midsize\",\"midsize\",\"midsize\",\"midsize\",\"midsize\",\"midsize\",\"midsize\",\"midsize\",\"midsize\",\"midsize\",\"midsize\",\"midsize\",\"midsize\",\"midsize\",\"midsize\",\"compact\",\"compact\",\"compact\",\"compact\",\"compact\",\"compact\",\"compact\",\"compact\",\"compact\",\"compact\",\"compact\",\"compact\",\"compact\",\"compact\",\"compact\",\"compact\",\"compact\",\"compact\",\"compact\",\"compact\",\"compact\",\"compact\",\"compact\",\"compact\",\"compact\",\"compact\",\"subcompact\",\"subcompact\",\"subcompact\",\"subcompact\",\"subcompact\",\"subcompact\",\"midsize\",\"midsize\",\"midsize\",\"midsize\",\"midsize\",\"midsize\",\"midsize\"],\"xaxis\":\"x\",\"y\":[4,4,4,4,6,6,6,4,4,6,6,6,4,6,6,6,6,6,6,6,6,6,6,4,4,4,4,4,4,4,4,4,4,4,4,4,6,6,6,4,4,4,4,6,6,6,4,4,4,4,6,6,6,6,6,6,6,6,6,8,4,4,4,4,6,6,6,4,4,4,4,6,6,6,4,4,4,4,4,4,4,4,4,6,4,4,4,4,4,5,5,6,6,4,4,4,4,5,5,4,4,4,4,6,6,6],\"yaxis\":\"y\",\"type\":\"scatter\"},{\"hovertemplate\":\"drv=4<br>class=%{x}<br>cyl=%{y}<extra></extra>\",\"legendgroup\":\"4\",\"marker\":{\"color\":\"#EF553B\",\"symbol\":\"circle\"},\"mode\":\"markers\",\"name\":\"4\",\"orientation\":\"v\",\"showlegend\":true,\"x\":[\"compact\",\"compact\",\"compact\",\"compact\",\"compact\",\"compact\",\"compact\",\"compact\",\"midsize\",\"midsize\",\"midsize\",\"suv\",\"suv\",\"suv\",\"suv\",\"pickup\",\"pickup\",\"pickup\",\"pickup\",\"pickup\",\"pickup\",\"pickup\",\"pickup\",\"pickup\",\"suv\",\"suv\",\"suv\",\"suv\",\"suv\",\"suv\",\"suv\",\"pickup\",\"pickup\",\"pickup\",\"pickup\",\"pickup\",\"pickup\",\"pickup\",\"pickup\",\"pickup\",\"pickup\",\"suv\",\"suv\",\"suv\",\"suv\",\"suv\",\"suv\",\"pickup\",\"pickup\",\"pickup\",\"pickup\",\"pickup\",\"pickup\",\"pickup\",\"suv\",\"suv\",\"suv\",\"suv\",\"suv\",\"suv\",\"suv\",\"suv\",\"suv\",\"suv\",\"suv\",\"suv\",\"suv\",\"suv\",\"suv\",\"suv\",\"suv\",\"suv\",\"suv\",\"suv\",\"suv\",\"suv\",\"suv\",\"suv\",\"suv\",\"suv\",\"subcompact\",\"subcompact\",\"subcompact\",\"subcompact\",\"compact\",\"compact\",\"compact\",\"compact\",\"suv\",\"suv\",\"suv\",\"suv\",\"suv\",\"suv\",\"suv\",\"suv\",\"pickup\",\"pickup\",\"pickup\",\"pickup\",\"pickup\",\"pickup\",\"pickup\"],\"xaxis\":\"x\",\"y\":[4,4,4,4,6,6,6,6,6,6,8,8,8,8,8,6,6,6,6,8,8,8,8,8,6,8,8,8,8,8,8,8,8,8,8,8,8,8,8,8,8,6,6,6,6,8,8,6,6,8,8,8,8,8,6,6,6,8,8,8,8,8,8,8,8,8,6,6,8,8,6,6,6,8,4,4,4,4,4,4,4,4,4,4,4,4,4,4,4,4,6,6,6,8,8,8,4,4,4,6,6,6,6],\"yaxis\":\"y\",\"type\":\"scatter\"},{\"hovertemplate\":\"drv=r<br>class=%{x}<br>cyl=%{y}<extra></extra>\",\"legendgroup\":\"r\",\"marker\":{\"color\":\"#00cc96\",\"symbol\":\"circle\"},\"mode\":\"markers\",\"name\":\"r\",\"orientation\":\"v\",\"showlegend\":true,\"x\":[\"suv\",\"suv\",\"suv\",\"suv\",\"suv\",\"2seater\",\"2seater\",\"2seater\",\"2seater\",\"2seater\",\"suv\",\"suv\",\"suv\",\"subcompact\",\"subcompact\",\"subcompact\",\"subcompact\",\"subcompact\",\"subcompact\",\"subcompact\",\"subcompact\",\"subcompact\",\"suv\",\"suv\",\"suv\"],\"xaxis\":\"x\",\"y\":[8,8,8,8,8,8,8,8,8,8,8,8,8,6,6,6,6,8,8,8,8,8,8,8,8],\"yaxis\":\"y\",\"type\":\"scatter\"}],                        {\"template\":{\"data\":{\"histogram2dcontour\":[{\"type\":\"histogram2dcontour\",\"colorbar\":{\"outlinewidth\":0,\"ticks\":\"\"},\"colorscale\":[[0.0,\"#0d0887\"],[0.1111111111111111,\"#46039f\"],[0.2222222222222222,\"#7201a8\"],[0.3333333333333333,\"#9c179e\"],[0.4444444444444444,\"#bd3786\"],[0.5555555555555556,\"#d8576b\"],[0.6666666666666666,\"#ed7953\"],[0.7777777777777778,\"#fb9f3a\"],[0.8888888888888888,\"#fdca26\"],[1.0,\"#f0f921\"]]}],\"choropleth\":[{\"type\":\"choropleth\",\"colorbar\":{\"outlinewidth\":0,\"ticks\":\"\"}}],\"histogram2d\":[{\"type\":\"histogram2d\",\"colorbar\":{\"outlinewidth\":0,\"ticks\":\"\"},\"colorscale\":[[0.0,\"#0d0887\"],[0.1111111111111111,\"#46039f\"],[0.2222222222222222,\"#7201a8\"],[0.3333333333333333,\"#9c179e\"],[0.4444444444444444,\"#bd3786\"],[0.5555555555555556,\"#d8576b\"],[0.6666666666666666,\"#ed7953\"],[0.7777777777777778,\"#fb9f3a\"],[0.8888888888888888,\"#fdca26\"],[1.0,\"#f0f921\"]]}],\"heatmap\":[{\"type\":\"heatmap\",\"colorbar\":{\"outlinewidth\":0,\"ticks\":\"\"},\"colorscale\":[[0.0,\"#0d0887\"],[0.1111111111111111,\"#46039f\"],[0.2222222222222222,\"#7201a8\"],[0.3333333333333333,\"#9c179e\"],[0.4444444444444444,\"#bd3786\"],[0.5555555555555556,\"#d8576b\"],[0.6666666666666666,\"#ed7953\"],[0.7777777777777778,\"#fb9f3a\"],[0.8888888888888888,\"#fdca26\"],[1.0,\"#f0f921\"]]}],\"heatmapgl\":[{\"type\":\"heatmapgl\",\"colorbar\":{\"outlinewidth\":0,\"ticks\":\"\"},\"colorscale\":[[0.0,\"#0d0887\"],[0.1111111111111111,\"#46039f\"],[0.2222222222222222,\"#7201a8\"],[0.3333333333333333,\"#9c179e\"],[0.4444444444444444,\"#bd3786\"],[0.5555555555555556,\"#d8576b\"],[0.6666666666666666,\"#ed7953\"],[0.7777777777777778,\"#fb9f3a\"],[0.8888888888888888,\"#fdca26\"],[1.0,\"#f0f921\"]]}],\"contourcarpet\":[{\"type\":\"contourcarpet\",\"colorbar\":{\"outlinewidth\":0,\"ticks\":\"\"}}],\"contour\":[{\"type\":\"contour\",\"colorbar\":{\"outlinewidth\":0,\"ticks\":\"\"},\"colorscale\":[[0.0,\"#0d0887\"],[0.1111111111111111,\"#46039f\"],[0.2222222222222222,\"#7201a8\"],[0.3333333333333333,\"#9c179e\"],[0.4444444444444444,\"#bd3786\"],[0.5555555555555556,\"#d8576b\"],[0.6666666666666666,\"#ed7953\"],[0.7777777777777778,\"#fb9f3a\"],[0.8888888888888888,\"#fdca26\"],[1.0,\"#f0f921\"]]}],\"surface\":[{\"type\":\"surface\",\"colorbar\":{\"outlinewidth\":0,\"ticks\":\"\"},\"colorscale\":[[0.0,\"#0d0887\"],[0.1111111111111111,\"#46039f\"],[0.2222222222222222,\"#7201a8\"],[0.3333333333333333,\"#9c179e\"],[0.4444444444444444,\"#bd3786\"],[0.5555555555555556,\"#d8576b\"],[0.6666666666666666,\"#ed7953\"],[0.7777777777777778,\"#fb9f3a\"],[0.8888888888888888,\"#fdca26\"],[1.0,\"#f0f921\"]]}],\"mesh3d\":[{\"type\":\"mesh3d\",\"colorbar\":{\"outlinewidth\":0,\"ticks\":\"\"}}],\"scatter\":[{\"fillpattern\":{\"fillmode\":\"overlay\",\"size\":10,\"solidity\":0.2},\"type\":\"scatter\"}],\"parcoords\":[{\"type\":\"parcoords\",\"line\":{\"colorbar\":{\"outlinewidth\":0,\"ticks\":\"\"}}}],\"scatterpolargl\":[{\"type\":\"scatterpolargl\",\"marker\":{\"colorbar\":{\"outlinewidth\":0,\"ticks\":\"\"}}}],\"bar\":[{\"error_x\":{\"color\":\"#2a3f5f\"},\"error_y\":{\"color\":\"#2a3f5f\"},\"marker\":{\"line\":{\"color\":\"#E5ECF6\",\"width\":0.5},\"pattern\":{\"fillmode\":\"overlay\",\"size\":10,\"solidity\":0.2}},\"type\":\"bar\"}],\"scattergeo\":[{\"type\":\"scattergeo\",\"marker\":{\"colorbar\":{\"outlinewidth\":0,\"ticks\":\"\"}}}],\"scatterpolar\":[{\"type\":\"scatterpolar\",\"marker\":{\"colorbar\":{\"outlinewidth\":0,\"ticks\":\"\"}}}],\"histogram\":[{\"marker\":{\"pattern\":{\"fillmode\":\"overlay\",\"size\":10,\"solidity\":0.2}},\"type\":\"histogram\"}],\"scattergl\":[{\"type\":\"scattergl\",\"marker\":{\"colorbar\":{\"outlinewidth\":0,\"ticks\":\"\"}}}],\"scatter3d\":[{\"type\":\"scatter3d\",\"line\":{\"colorbar\":{\"outlinewidth\":0,\"ticks\":\"\"}},\"marker\":{\"colorbar\":{\"outlinewidth\":0,\"ticks\":\"\"}}}],\"scattermapbox\":[{\"type\":\"scattermapbox\",\"marker\":{\"colorbar\":{\"outlinewidth\":0,\"ticks\":\"\"}}}],\"scatterternary\":[{\"type\":\"scatterternary\",\"marker\":{\"colorbar\":{\"outlinewidth\":0,\"ticks\":\"\"}}}],\"scattercarpet\":[{\"type\":\"scattercarpet\",\"marker\":{\"colorbar\":{\"outlinewidth\":0,\"ticks\":\"\"}}}],\"carpet\":[{\"aaxis\":{\"endlinecolor\":\"#2a3f5f\",\"gridcolor\":\"white\",\"linecolor\":\"white\",\"minorgridcolor\":\"white\",\"startlinecolor\":\"#2a3f5f\"},\"baxis\":{\"endlinecolor\":\"#2a3f5f\",\"gridcolor\":\"white\",\"linecolor\":\"white\",\"minorgridcolor\":\"white\",\"startlinecolor\":\"#2a3f5f\"},\"type\":\"carpet\"}],\"table\":[{\"cells\":{\"fill\":{\"color\":\"#EBF0F8\"},\"line\":{\"color\":\"white\"}},\"header\":{\"fill\":{\"color\":\"#C8D4E3\"},\"line\":{\"color\":\"white\"}},\"type\":\"table\"}],\"barpolar\":[{\"marker\":{\"line\":{\"color\":\"#E5ECF6\",\"width\":0.5},\"pattern\":{\"fillmode\":\"overlay\",\"size\":10,\"solidity\":0.2}},\"type\":\"barpolar\"}],\"pie\":[{\"automargin\":true,\"type\":\"pie\"}]},\"layout\":{\"autotypenumbers\":\"strict\",\"colorway\":[\"#636efa\",\"#EF553B\",\"#00cc96\",\"#ab63fa\",\"#FFA15A\",\"#19d3f3\",\"#FF6692\",\"#B6E880\",\"#FF97FF\",\"#FECB52\"],\"font\":{\"color\":\"#2a3f5f\"},\"hovermode\":\"closest\",\"hoverlabel\":{\"align\":\"left\"},\"paper_bgcolor\":\"white\",\"plot_bgcolor\":\"#E5ECF6\",\"polar\":{\"bgcolor\":\"#E5ECF6\",\"angularaxis\":{\"gridcolor\":\"white\",\"linecolor\":\"white\",\"ticks\":\"\"},\"radialaxis\":{\"gridcolor\":\"white\",\"linecolor\":\"white\",\"ticks\":\"\"}},\"ternary\":{\"bgcolor\":\"#E5ECF6\",\"aaxis\":{\"gridcolor\":\"white\",\"linecolor\":\"white\",\"ticks\":\"\"},\"baxis\":{\"gridcolor\":\"white\",\"linecolor\":\"white\",\"ticks\":\"\"},\"caxis\":{\"gridcolor\":\"white\",\"linecolor\":\"white\",\"ticks\":\"\"}},\"coloraxis\":{\"colorbar\":{\"outlinewidth\":0,\"ticks\":\"\"}},\"colorscale\":{\"sequential\":[[0.0,\"#0d0887\"],[0.1111111111111111,\"#46039f\"],[0.2222222222222222,\"#7201a8\"],[0.3333333333333333,\"#9c179e\"],[0.4444444444444444,\"#bd3786\"],[0.5555555555555556,\"#d8576b\"],[0.6666666666666666,\"#ed7953\"],[0.7777777777777778,\"#fb9f3a\"],[0.8888888888888888,\"#fdca26\"],[1.0,\"#f0f921\"]],\"sequentialminus\":[[0.0,\"#0d0887\"],[0.1111111111111111,\"#46039f\"],[0.2222222222222222,\"#7201a8\"],[0.3333333333333333,\"#9c179e\"],[0.4444444444444444,\"#bd3786\"],[0.5555555555555556,\"#d8576b\"],[0.6666666666666666,\"#ed7953\"],[0.7777777777777778,\"#fb9f3a\"],[0.8888888888888888,\"#fdca26\"],[1.0,\"#f0f921\"]],\"diverging\":[[0,\"#8e0152\"],[0.1,\"#c51b7d\"],[0.2,\"#de77ae\"],[0.3,\"#f1b6da\"],[0.4,\"#fde0ef\"],[0.5,\"#f7f7f7\"],[0.6,\"#e6f5d0\"],[0.7,\"#b8e186\"],[0.8,\"#7fbc41\"],[0.9,\"#4d9221\"],[1,\"#276419\"]]},\"xaxis\":{\"gridcolor\":\"white\",\"linecolor\":\"white\",\"ticks\":\"\",\"title\":{\"standoff\":15},\"zerolinecolor\":\"white\",\"automargin\":true,\"zerolinewidth\":2},\"yaxis\":{\"gridcolor\":\"white\",\"linecolor\":\"white\",\"ticks\":\"\",\"title\":{\"standoff\":15},\"zerolinecolor\":\"white\",\"automargin\":true,\"zerolinewidth\":2},\"scene\":{\"xaxis\":{\"backgroundcolor\":\"#E5ECF6\",\"gridcolor\":\"white\",\"linecolor\":\"white\",\"showbackground\":true,\"ticks\":\"\",\"zerolinecolor\":\"white\",\"gridwidth\":2},\"yaxis\":{\"backgroundcolor\":\"#E5ECF6\",\"gridcolor\":\"white\",\"linecolor\":\"white\",\"showbackground\":true,\"ticks\":\"\",\"zerolinecolor\":\"white\",\"gridwidth\":2},\"zaxis\":{\"backgroundcolor\":\"#E5ECF6\",\"gridcolor\":\"white\",\"linecolor\":\"white\",\"showbackground\":true,\"ticks\":\"\",\"zerolinecolor\":\"white\",\"gridwidth\":2}},\"shapedefaults\":{\"line\":{\"color\":\"#2a3f5f\"}},\"annotationdefaults\":{\"arrowcolor\":\"#2a3f5f\",\"arrowhead\":0,\"arrowwidth\":1},\"geo\":{\"bgcolor\":\"white\",\"landcolor\":\"#E5ECF6\",\"subunitcolor\":\"white\",\"showland\":true,\"showlakes\":true,\"lakecolor\":\"white\"},\"title\":{\"x\":0.05},\"mapbox\":{\"style\":\"light\"}}},\"xaxis\":{\"anchor\":\"y\",\"domain\":[0.0,1.0],\"title\":{\"text\":\"class\"}},\"yaxis\":{\"anchor\":\"x\",\"domain\":[0.0,1.0],\"title\":{\"text\":\"cyl\"}},\"legend\":{\"title\":{\"text\":\"drv\"},\"tracegroupgap\":0},\"margin\":{\"t\":60}},                        {\"responsive\": true}                    ).then(function(){\n",
       "                            \n",
       "var gd = document.getElementById('1999cba4-78b1-4ec8-a85d-b15460081dd1');\n",
       "var x = new MutationObserver(function (mutations, observer) {{\n",
       "        var display = window.getComputedStyle(gd).display;\n",
       "        if (!display || display === 'none') {{\n",
       "            console.log([gd, 'removed!']);\n",
       "            Plotly.purge(gd);\n",
       "            observer.disconnect();\n",
       "        }}\n",
       "}});\n",
       "\n",
       "// Listen for the removal of the full notebook cells\n",
       "var notebookContainer = gd.closest('#notebook-container');\n",
       "if (notebookContainer) {{\n",
       "    x.observe(notebookContainer, {childList: true});\n",
       "}}\n",
       "\n",
       "// Listen for the clearing of the current output cell\n",
       "var outputEl = gd.closest('.output');\n",
       "if (outputEl) {{\n",
       "    x.observe(outputEl, {childList: true});\n",
       "}}\n",
       "\n",
       "                        })                };                });            </script>        </div>"
      ]
     },
     "metadata": {},
     "output_type": "display_data"
    }
   ],
   "source": [
    "px.scatter(data_frame=mpg, x='class', y='cyl', color= 'drv')"
   ]
  },
  {
   "cell_type": "code",
   "execution_count": 50,
   "id": "4cd761e7-9131-47f9-9a6c-5d38abf15d20",
   "metadata": {},
   "outputs": [
    {
     "data": {
      "application/vnd.plotly.v1+json": {
       "config": {
        "plotlyServerURL": "https://plot.ly"
       },
       "data": [
        {
         "alignmentgroup": "True",
         "hovertemplate": "drv=f<br>class=%{x}<br>cyl=%{y}<extra></extra>",
         "legendgroup": "f",
         "marker": {
          "color": "#636efa",
          "pattern": {
           "shape": ""
          }
         },
         "name": "f",
         "offsetgroup": "f",
         "orientation": "v",
         "showlegend": true,
         "textposition": "auto",
         "type": "bar",
         "x": [
          "compact",
          "compact",
          "compact",
          "compact",
          "compact",
          "compact",
          "compact",
          "midsize",
          "midsize",
          "midsize",
          "midsize",
          "midsize",
          "minivan",
          "minivan",
          "minivan",
          "minivan",
          "minivan",
          "minivan",
          "minivan",
          "minivan",
          "minivan",
          "minivan",
          "minivan",
          "subcompact",
          "subcompact",
          "subcompact",
          "subcompact",
          "subcompact",
          "subcompact",
          "subcompact",
          "subcompact",
          "subcompact",
          "midsize",
          "midsize",
          "midsize",
          "midsize",
          "midsize",
          "midsize",
          "midsize",
          "subcompact",
          "subcompact",
          "subcompact",
          "subcompact",
          "subcompact",
          "subcompact",
          "subcompact",
          "compact",
          "compact",
          "midsize",
          "midsize",
          "midsize",
          "midsize",
          "midsize",
          "midsize",
          "midsize",
          "midsize",
          "midsize",
          "midsize",
          "midsize",
          "midsize",
          "midsize",
          "midsize",
          "midsize",
          "midsize",
          "midsize",
          "midsize",
          "midsize",
          "compact",
          "compact",
          "compact",
          "compact",
          "compact",
          "compact",
          "compact",
          "compact",
          "compact",
          "compact",
          "compact",
          "compact",
          "compact",
          "compact",
          "compact",
          "compact",
          "compact",
          "compact",
          "compact",
          "compact",
          "compact",
          "compact",
          "compact",
          "compact",
          "compact",
          "compact",
          "subcompact",
          "subcompact",
          "subcompact",
          "subcompact",
          "subcompact",
          "subcompact",
          "midsize",
          "midsize",
          "midsize",
          "midsize",
          "midsize",
          "midsize",
          "midsize"
         ],
         "xaxis": "x",
         "y": [
          4,
          4,
          4,
          4,
          6,
          6,
          6,
          4,
          4,
          6,
          6,
          6,
          4,
          6,
          6,
          6,
          6,
          6,
          6,
          6,
          6,
          6,
          6,
          4,
          4,
          4,
          4,
          4,
          4,
          4,
          4,
          4,
          4,
          4,
          4,
          4,
          6,
          6,
          6,
          4,
          4,
          4,
          4,
          6,
          6,
          6,
          4,
          4,
          4,
          4,
          6,
          6,
          6,
          6,
          6,
          6,
          6,
          6,
          6,
          8,
          4,
          4,
          4,
          4,
          6,
          6,
          6,
          4,
          4,
          4,
          4,
          6,
          6,
          6,
          4,
          4,
          4,
          4,
          4,
          4,
          4,
          4,
          4,
          6,
          4,
          4,
          4,
          4,
          4,
          5,
          5,
          6,
          6,
          4,
          4,
          4,
          4,
          5,
          5,
          4,
          4,
          4,
          4,
          6,
          6,
          6
         ],
         "yaxis": "y"
        },
        {
         "alignmentgroup": "True",
         "hovertemplate": "drv=4<br>class=%{x}<br>cyl=%{y}<extra></extra>",
         "legendgroup": "4",
         "marker": {
          "color": "#EF553B",
          "pattern": {
           "shape": ""
          }
         },
         "name": "4",
         "offsetgroup": "4",
         "orientation": "v",
         "showlegend": true,
         "textposition": "auto",
         "type": "bar",
         "x": [
          "compact",
          "compact",
          "compact",
          "compact",
          "compact",
          "compact",
          "compact",
          "compact",
          "midsize",
          "midsize",
          "midsize",
          "suv",
          "suv",
          "suv",
          "suv",
          "pickup",
          "pickup",
          "pickup",
          "pickup",
          "pickup",
          "pickup",
          "pickup",
          "pickup",
          "pickup",
          "suv",
          "suv",
          "suv",
          "suv",
          "suv",
          "suv",
          "suv",
          "pickup",
          "pickup",
          "pickup",
          "pickup",
          "pickup",
          "pickup",
          "pickup",
          "pickup",
          "pickup",
          "pickup",
          "suv",
          "suv",
          "suv",
          "suv",
          "suv",
          "suv",
          "pickup",
          "pickup",
          "pickup",
          "pickup",
          "pickup",
          "pickup",
          "pickup",
          "suv",
          "suv",
          "suv",
          "suv",
          "suv",
          "suv",
          "suv",
          "suv",
          "suv",
          "suv",
          "suv",
          "suv",
          "suv",
          "suv",
          "suv",
          "suv",
          "suv",
          "suv",
          "suv",
          "suv",
          "suv",
          "suv",
          "suv",
          "suv",
          "suv",
          "suv",
          "subcompact",
          "subcompact",
          "subcompact",
          "subcompact",
          "compact",
          "compact",
          "compact",
          "compact",
          "suv",
          "suv",
          "suv",
          "suv",
          "suv",
          "suv",
          "suv",
          "suv",
          "pickup",
          "pickup",
          "pickup",
          "pickup",
          "pickup",
          "pickup",
          "pickup"
         ],
         "xaxis": "x",
         "y": [
          4,
          4,
          4,
          4,
          6,
          6,
          6,
          6,
          6,
          6,
          8,
          8,
          8,
          8,
          8,
          6,
          6,
          6,
          6,
          8,
          8,
          8,
          8,
          8,
          6,
          8,
          8,
          8,
          8,
          8,
          8,
          8,
          8,
          8,
          8,
          8,
          8,
          8,
          8,
          8,
          8,
          6,
          6,
          6,
          6,
          8,
          8,
          6,
          6,
          8,
          8,
          8,
          8,
          8,
          6,
          6,
          6,
          8,
          8,
          8,
          8,
          8,
          8,
          8,
          8,
          8,
          6,
          6,
          8,
          8,
          6,
          6,
          6,
          8,
          4,
          4,
          4,
          4,
          4,
          4,
          4,
          4,
          4,
          4,
          4,
          4,
          4,
          4,
          4,
          4,
          6,
          6,
          6,
          8,
          8,
          8,
          4,
          4,
          4,
          6,
          6,
          6,
          6
         ],
         "yaxis": "y"
        },
        {
         "alignmentgroup": "True",
         "hovertemplate": "drv=r<br>class=%{x}<br>cyl=%{y}<extra></extra>",
         "legendgroup": "r",
         "marker": {
          "color": "#00cc96",
          "pattern": {
           "shape": ""
          }
         },
         "name": "r",
         "offsetgroup": "r",
         "orientation": "v",
         "showlegend": true,
         "textposition": "auto",
         "type": "bar",
         "x": [
          "suv",
          "suv",
          "suv",
          "suv",
          "suv",
          "2seater",
          "2seater",
          "2seater",
          "2seater",
          "2seater",
          "suv",
          "suv",
          "suv",
          "subcompact",
          "subcompact",
          "subcompact",
          "subcompact",
          "subcompact",
          "subcompact",
          "subcompact",
          "subcompact",
          "subcompact",
          "suv",
          "suv",
          "suv"
         ],
         "xaxis": "x",
         "y": [
          8,
          8,
          8,
          8,
          8,
          8,
          8,
          8,
          8,
          8,
          8,
          8,
          8,
          6,
          6,
          6,
          6,
          8,
          8,
          8,
          8,
          8,
          8,
          8,
          8
         ],
         "yaxis": "y"
        }
       ],
       "layout": {
        "autosize": true,
        "barmode": "relative",
        "dragmode": "pan",
        "legend": {
         "title": {
          "text": "drv"
         },
         "tracegroupgap": 0
        },
        "margin": {
         "t": 60
        },
        "template": {
         "data": {
          "bar": [
           {
            "error_x": {
             "color": "#2a3f5f"
            },
            "error_y": {
             "color": "#2a3f5f"
            },
            "marker": {
             "line": {
              "color": "#E5ECF6",
              "width": 0.5
             },
             "pattern": {
              "fillmode": "overlay",
              "size": 10,
              "solidity": 0.2
             }
            },
            "type": "bar"
           }
          ],
          "barpolar": [
           {
            "marker": {
             "line": {
              "color": "#E5ECF6",
              "width": 0.5
             },
             "pattern": {
              "fillmode": "overlay",
              "size": 10,
              "solidity": 0.2
             }
            },
            "type": "barpolar"
           }
          ],
          "carpet": [
           {
            "aaxis": {
             "endlinecolor": "#2a3f5f",
             "gridcolor": "white",
             "linecolor": "white",
             "minorgridcolor": "white",
             "startlinecolor": "#2a3f5f"
            },
            "baxis": {
             "endlinecolor": "#2a3f5f",
             "gridcolor": "white",
             "linecolor": "white",
             "minorgridcolor": "white",
             "startlinecolor": "#2a3f5f"
            },
            "type": "carpet"
           }
          ],
          "choropleth": [
           {
            "colorbar": {
             "outlinewidth": 0,
             "ticks": ""
            },
            "type": "choropleth"
           }
          ],
          "contour": [
           {
            "colorbar": {
             "outlinewidth": 0,
             "ticks": ""
            },
            "colorscale": [
             [
              0,
              "#0d0887"
             ],
             [
              0.1111111111111111,
              "#46039f"
             ],
             [
              0.2222222222222222,
              "#7201a8"
             ],
             [
              0.3333333333333333,
              "#9c179e"
             ],
             [
              0.4444444444444444,
              "#bd3786"
             ],
             [
              0.5555555555555556,
              "#d8576b"
             ],
             [
              0.6666666666666666,
              "#ed7953"
             ],
             [
              0.7777777777777778,
              "#fb9f3a"
             ],
             [
              0.8888888888888888,
              "#fdca26"
             ],
             [
              1,
              "#f0f921"
             ]
            ],
            "type": "contour"
           }
          ],
          "contourcarpet": [
           {
            "colorbar": {
             "outlinewidth": 0,
             "ticks": ""
            },
            "type": "contourcarpet"
           }
          ],
          "heatmap": [
           {
            "colorbar": {
             "outlinewidth": 0,
             "ticks": ""
            },
            "colorscale": [
             [
              0,
              "#0d0887"
             ],
             [
              0.1111111111111111,
              "#46039f"
             ],
             [
              0.2222222222222222,
              "#7201a8"
             ],
             [
              0.3333333333333333,
              "#9c179e"
             ],
             [
              0.4444444444444444,
              "#bd3786"
             ],
             [
              0.5555555555555556,
              "#d8576b"
             ],
             [
              0.6666666666666666,
              "#ed7953"
             ],
             [
              0.7777777777777778,
              "#fb9f3a"
             ],
             [
              0.8888888888888888,
              "#fdca26"
             ],
             [
              1,
              "#f0f921"
             ]
            ],
            "type": "heatmap"
           }
          ],
          "heatmapgl": [
           {
            "colorbar": {
             "outlinewidth": 0,
             "ticks": ""
            },
            "colorscale": [
             [
              0,
              "#0d0887"
             ],
             [
              0.1111111111111111,
              "#46039f"
             ],
             [
              0.2222222222222222,
              "#7201a8"
             ],
             [
              0.3333333333333333,
              "#9c179e"
             ],
             [
              0.4444444444444444,
              "#bd3786"
             ],
             [
              0.5555555555555556,
              "#d8576b"
             ],
             [
              0.6666666666666666,
              "#ed7953"
             ],
             [
              0.7777777777777778,
              "#fb9f3a"
             ],
             [
              0.8888888888888888,
              "#fdca26"
             ],
             [
              1,
              "#f0f921"
             ]
            ],
            "type": "heatmapgl"
           }
          ],
          "histogram": [
           {
            "marker": {
             "pattern": {
              "fillmode": "overlay",
              "size": 10,
              "solidity": 0.2
             }
            },
            "type": "histogram"
           }
          ],
          "histogram2d": [
           {
            "colorbar": {
             "outlinewidth": 0,
             "ticks": ""
            },
            "colorscale": [
             [
              0,
              "#0d0887"
             ],
             [
              0.1111111111111111,
              "#46039f"
             ],
             [
              0.2222222222222222,
              "#7201a8"
             ],
             [
              0.3333333333333333,
              "#9c179e"
             ],
             [
              0.4444444444444444,
              "#bd3786"
             ],
             [
              0.5555555555555556,
              "#d8576b"
             ],
             [
              0.6666666666666666,
              "#ed7953"
             ],
             [
              0.7777777777777778,
              "#fb9f3a"
             ],
             [
              0.8888888888888888,
              "#fdca26"
             ],
             [
              1,
              "#f0f921"
             ]
            ],
            "type": "histogram2d"
           }
          ],
          "histogram2dcontour": [
           {
            "colorbar": {
             "outlinewidth": 0,
             "ticks": ""
            },
            "colorscale": [
             [
              0,
              "#0d0887"
             ],
             [
              0.1111111111111111,
              "#46039f"
             ],
             [
              0.2222222222222222,
              "#7201a8"
             ],
             [
              0.3333333333333333,
              "#9c179e"
             ],
             [
              0.4444444444444444,
              "#bd3786"
             ],
             [
              0.5555555555555556,
              "#d8576b"
             ],
             [
              0.6666666666666666,
              "#ed7953"
             ],
             [
              0.7777777777777778,
              "#fb9f3a"
             ],
             [
              0.8888888888888888,
              "#fdca26"
             ],
             [
              1,
              "#f0f921"
             ]
            ],
            "type": "histogram2dcontour"
           }
          ],
          "mesh3d": [
           {
            "colorbar": {
             "outlinewidth": 0,
             "ticks": ""
            },
            "type": "mesh3d"
           }
          ],
          "parcoords": [
           {
            "line": {
             "colorbar": {
              "outlinewidth": 0,
              "ticks": ""
             }
            },
            "type": "parcoords"
           }
          ],
          "pie": [
           {
            "automargin": true,
            "type": "pie"
           }
          ],
          "scatter": [
           {
            "fillpattern": {
             "fillmode": "overlay",
             "size": 10,
             "solidity": 0.2
            },
            "type": "scatter"
           }
          ],
          "scatter3d": [
           {
            "line": {
             "colorbar": {
              "outlinewidth": 0,
              "ticks": ""
             }
            },
            "marker": {
             "colorbar": {
              "outlinewidth": 0,
              "ticks": ""
             }
            },
            "type": "scatter3d"
           }
          ],
          "scattercarpet": [
           {
            "marker": {
             "colorbar": {
              "outlinewidth": 0,
              "ticks": ""
             }
            },
            "type": "scattercarpet"
           }
          ],
          "scattergeo": [
           {
            "marker": {
             "colorbar": {
              "outlinewidth": 0,
              "ticks": ""
             }
            },
            "type": "scattergeo"
           }
          ],
          "scattergl": [
           {
            "marker": {
             "colorbar": {
              "outlinewidth": 0,
              "ticks": ""
             }
            },
            "type": "scattergl"
           }
          ],
          "scattermapbox": [
           {
            "marker": {
             "colorbar": {
              "outlinewidth": 0,
              "ticks": ""
             }
            },
            "type": "scattermapbox"
           }
          ],
          "scatterpolar": [
           {
            "marker": {
             "colorbar": {
              "outlinewidth": 0,
              "ticks": ""
             }
            },
            "type": "scatterpolar"
           }
          ],
          "scatterpolargl": [
           {
            "marker": {
             "colorbar": {
              "outlinewidth": 0,
              "ticks": ""
             }
            },
            "type": "scatterpolargl"
           }
          ],
          "scatterternary": [
           {
            "marker": {
             "colorbar": {
              "outlinewidth": 0,
              "ticks": ""
             }
            },
            "type": "scatterternary"
           }
          ],
          "surface": [
           {
            "colorbar": {
             "outlinewidth": 0,
             "ticks": ""
            },
            "colorscale": [
             [
              0,
              "#0d0887"
             ],
             [
              0.1111111111111111,
              "#46039f"
             ],
             [
              0.2222222222222222,
              "#7201a8"
             ],
             [
              0.3333333333333333,
              "#9c179e"
             ],
             [
              0.4444444444444444,
              "#bd3786"
             ],
             [
              0.5555555555555556,
              "#d8576b"
             ],
             [
              0.6666666666666666,
              "#ed7953"
             ],
             [
              0.7777777777777778,
              "#fb9f3a"
             ],
             [
              0.8888888888888888,
              "#fdca26"
             ],
             [
              1,
              "#f0f921"
             ]
            ],
            "type": "surface"
           }
          ],
          "table": [
           {
            "cells": {
             "fill": {
              "color": "#EBF0F8"
             },
             "line": {
              "color": "white"
             }
            },
            "header": {
             "fill": {
              "color": "#C8D4E3"
             },
             "line": {
              "color": "white"
             }
            },
            "type": "table"
           }
          ]
         },
         "layout": {
          "annotationdefaults": {
           "arrowcolor": "#2a3f5f",
           "arrowhead": 0,
           "arrowwidth": 1
          },
          "autotypenumbers": "strict",
          "coloraxis": {
           "colorbar": {
            "outlinewidth": 0,
            "ticks": ""
           }
          },
          "colorscale": {
           "diverging": [
            [
             0,
             "#8e0152"
            ],
            [
             0.1,
             "#c51b7d"
            ],
            [
             0.2,
             "#de77ae"
            ],
            [
             0.3,
             "#f1b6da"
            ],
            [
             0.4,
             "#fde0ef"
            ],
            [
             0.5,
             "#f7f7f7"
            ],
            [
             0.6,
             "#e6f5d0"
            ],
            [
             0.7,
             "#b8e186"
            ],
            [
             0.8,
             "#7fbc41"
            ],
            [
             0.9,
             "#4d9221"
            ],
            [
             1,
             "#276419"
            ]
           ],
           "sequential": [
            [
             0,
             "#0d0887"
            ],
            [
             0.1111111111111111,
             "#46039f"
            ],
            [
             0.2222222222222222,
             "#7201a8"
            ],
            [
             0.3333333333333333,
             "#9c179e"
            ],
            [
             0.4444444444444444,
             "#bd3786"
            ],
            [
             0.5555555555555556,
             "#d8576b"
            ],
            [
             0.6666666666666666,
             "#ed7953"
            ],
            [
             0.7777777777777778,
             "#fb9f3a"
            ],
            [
             0.8888888888888888,
             "#fdca26"
            ],
            [
             1,
             "#f0f921"
            ]
           ],
           "sequentialminus": [
            [
             0,
             "#0d0887"
            ],
            [
             0.1111111111111111,
             "#46039f"
            ],
            [
             0.2222222222222222,
             "#7201a8"
            ],
            [
             0.3333333333333333,
             "#9c179e"
            ],
            [
             0.4444444444444444,
             "#bd3786"
            ],
            [
             0.5555555555555556,
             "#d8576b"
            ],
            [
             0.6666666666666666,
             "#ed7953"
            ],
            [
             0.7777777777777778,
             "#fb9f3a"
            ],
            [
             0.8888888888888888,
             "#fdca26"
            ],
            [
             1,
             "#f0f921"
            ]
           ]
          },
          "colorway": [
           "#636efa",
           "#EF553B",
           "#00cc96",
           "#ab63fa",
           "#FFA15A",
           "#19d3f3",
           "#FF6692",
           "#B6E880",
           "#FF97FF",
           "#FECB52"
          ],
          "font": {
           "color": "#2a3f5f"
          },
          "geo": {
           "bgcolor": "white",
           "lakecolor": "white",
           "landcolor": "#E5ECF6",
           "showlakes": true,
           "showland": true,
           "subunitcolor": "white"
          },
          "hoverlabel": {
           "align": "left"
          },
          "hovermode": "closest",
          "mapbox": {
           "style": "light"
          },
          "paper_bgcolor": "white",
          "plot_bgcolor": "#E5ECF6",
          "polar": {
           "angularaxis": {
            "gridcolor": "white",
            "linecolor": "white",
            "ticks": ""
           },
           "bgcolor": "#E5ECF6",
           "radialaxis": {
            "gridcolor": "white",
            "linecolor": "white",
            "ticks": ""
           }
          },
          "scene": {
           "xaxis": {
            "backgroundcolor": "#E5ECF6",
            "gridcolor": "white",
            "gridwidth": 2,
            "linecolor": "white",
            "showbackground": true,
            "ticks": "",
            "zerolinecolor": "white"
           },
           "yaxis": {
            "backgroundcolor": "#E5ECF6",
            "gridcolor": "white",
            "gridwidth": 2,
            "linecolor": "white",
            "showbackground": true,
            "ticks": "",
            "zerolinecolor": "white"
           },
           "zaxis": {
            "backgroundcolor": "#E5ECF6",
            "gridcolor": "white",
            "gridwidth": 2,
            "linecolor": "white",
            "showbackground": true,
            "ticks": "",
            "zerolinecolor": "white"
           }
          },
          "shapedefaults": {
           "line": {
            "color": "#2a3f5f"
           }
          },
          "ternary": {
           "aaxis": {
            "gridcolor": "white",
            "linecolor": "white",
            "ticks": ""
           },
           "baxis": {
            "gridcolor": "white",
            "linecolor": "white",
            "ticks": ""
           },
           "bgcolor": "#E5ECF6",
           "caxis": {
            "gridcolor": "white",
            "linecolor": "white",
            "ticks": ""
           }
          },
          "title": {
           "x": 0.05
          },
          "xaxis": {
           "automargin": true,
           "gridcolor": "white",
           "linecolor": "white",
           "ticks": "",
           "title": {
            "standoff": 15
           },
           "zerolinecolor": "white",
           "zerolinewidth": 2
          },
          "yaxis": {
           "automargin": true,
           "gridcolor": "white",
           "linecolor": "white",
           "ticks": "",
           "title": {
            "standoff": 15
           },
           "zerolinecolor": "white",
           "zerolinewidth": 2
          }
         }
        },
        "xaxis": {
         "anchor": "y",
         "autorange": false,
         "domain": [
          0,
          1
         ],
         "range": [
          -0.5309050772626934,
          6.469094922737307
         ],
         "title": {
          "text": "class"
         },
         "type": "category"
        },
        "yaxis": {
         "anchor": "x",
         "autorange": false,
         "domain": [
          0,
          1
         ],
         "range": [
          -4.133971291866029,
          450.60287081339715
         ],
         "title": {
          "text": "cyl"
         },
         "type": "linear"
        }
       }
      },
      "image/png": "[encoded data removed]",
      "text/html": [
       "<div>                            <div id=\"5d25c60c-1c66-4540-b113-b2591198a8b8\" class=\"plotly-graph-div\" style=\"height:525px; width:100%;\"></div>            <script type=\"text/javascript\">                require([\"plotly\"], function(Plotly) {                    window.PLOTLYENV=window.PLOTLYENV || {};                                    if (document.getElementById(\"5d25c60c-1c66-4540-b113-b2591198a8b8\")) {                    Plotly.newPlot(                        \"5d25c60c-1c66-4540-b113-b2591198a8b8\",                        [{\"alignmentgroup\":\"True\",\"hovertemplate\":\"drv=f<br>class=%{x}<br>cyl=%{y}<extra></extra>\",\"legendgroup\":\"f\",\"marker\":{\"color\":\"#636efa\",\"pattern\":{\"shape\":\"\"}},\"name\":\"f\",\"offsetgroup\":\"f\",\"orientation\":\"v\",\"showlegend\":true,\"textposition\":\"auto\",\"x\":[\"compact\",\"compact\",\"compact\",\"compact\",\"compact\",\"compact\",\"compact\",\"midsize\",\"midsize\",\"midsize\",\"midsize\",\"midsize\",\"minivan\",\"minivan\",\"minivan\",\"minivan\",\"minivan\",\"minivan\",\"minivan\",\"minivan\",\"minivan\",\"minivan\",\"minivan\",\"subcompact\",\"subcompact\",\"subcompact\",\"subcompact\",\"subcompact\",\"subcompact\",\"subcompact\",\"subcompact\",\"subcompact\",\"midsize\",\"midsize\",\"midsize\",\"midsize\",\"midsize\",\"midsize\",\"midsize\",\"subcompact\",\"subcompact\",\"subcompact\",\"subcompact\",\"subcompact\",\"subcompact\",\"subcompact\",\"compact\",\"compact\",\"midsize\",\"midsize\",\"midsize\",\"midsize\",\"midsize\",\"midsize\",\"midsize\",\"midsize\",\"midsize\",\"midsize\",\"midsize\",\"midsize\",\"midsize\",\"midsize\",\"midsize\",\"midsize\",\"midsize\",\"midsize\",\"midsize\",\"compact\",\"compact\",\"compact\",\"compact\",\"compact\",\"compact\",\"compact\",\"compact\",\"compact\",\"compact\",\"compact\",\"compact\",\"compact\",\"compact\",\"compact\",\"compact\",\"compact\",\"compact\",\"compact\",\"compact\",\"compact\",\"compact\",\"compact\",\"compact\",\"compact\",\"compact\",\"subcompact\",\"subcompact\",\"subcompact\",\"subcompact\",\"subcompact\",\"subcompact\",\"midsize\",\"midsize\",\"midsize\",\"midsize\",\"midsize\",\"midsize\",\"midsize\"],\"xaxis\":\"x\",\"y\":[4,4,4,4,6,6,6,4,4,6,6,6,4,6,6,6,6,6,6,6,6,6,6,4,4,4,4,4,4,4,4,4,4,4,4,4,6,6,6,4,4,4,4,6,6,6,4,4,4,4,6,6,6,6,6,6,6,6,6,8,4,4,4,4,6,6,6,4,4,4,4,6,6,6,4,4,4,4,4,4,4,4,4,6,4,4,4,4,4,5,5,6,6,4,4,4,4,5,5,4,4,4,4,6,6,6],\"yaxis\":\"y\",\"type\":\"bar\"},{\"alignmentgroup\":\"True\",\"hovertemplate\":\"drv=4<br>class=%{x}<br>cyl=%{y}<extra></extra>\",\"legendgroup\":\"4\",\"marker\":{\"color\":\"#EF553B\",\"pattern\":{\"shape\":\"\"}},\"name\":\"4\",\"offsetgroup\":\"4\",\"orientation\":\"v\",\"showlegend\":true,\"textposition\":\"auto\",\"x\":[\"compact\",\"compact\",\"compact\",\"compact\",\"compact\",\"compact\",\"compact\",\"compact\",\"midsize\",\"midsize\",\"midsize\",\"suv\",\"suv\",\"suv\",\"suv\",\"pickup\",\"pickup\",\"pickup\",\"pickup\",\"pickup\",\"pickup\",\"pickup\",\"pickup\",\"pickup\",\"suv\",\"suv\",\"suv\",\"suv\",\"suv\",\"suv\",\"suv\",\"pickup\",\"pickup\",\"pickup\",\"pickup\",\"pickup\",\"pickup\",\"pickup\",\"pickup\",\"pickup\",\"pickup\",\"suv\",\"suv\",\"suv\",\"suv\",\"suv\",\"suv\",\"pickup\",\"pickup\",\"pickup\",\"pickup\",\"pickup\",\"pickup\",\"pickup\",\"suv\",\"suv\",\"suv\",\"suv\",\"suv\",\"suv\",\"suv\",\"suv\",\"suv\",\"suv\",\"suv\",\"suv\",\"suv\",\"suv\",\"suv\",\"suv\",\"suv\",\"suv\",\"suv\",\"suv\",\"suv\",\"suv\",\"suv\",\"suv\",\"suv\",\"suv\",\"subcompact\",\"subcompact\",\"subcompact\",\"subcompact\",\"compact\",\"compact\",\"compact\",\"compact\",\"suv\",\"suv\",\"suv\",\"suv\",\"suv\",\"suv\",\"suv\",\"suv\",\"pickup\",\"pickup\",\"pickup\",\"pickup\",\"pickup\",\"pickup\",\"pickup\"],\"xaxis\":\"x\",\"y\":[4,4,4,4,6,6,6,6,6,6,8,8,8,8,8,6,6,6,6,8,8,8,8,8,6,8,8,8,8,8,8,8,8,8,8,8,8,8,8,8,8,6,6,6,6,8,8,6,6,8,8,8,8,8,6,6,6,8,8,8,8,8,8,8,8,8,6,6,8,8,6,6,6,8,4,4,4,4,4,4,4,4,4,4,4,4,4,4,4,4,6,6,6,8,8,8,4,4,4,6,6,6,6],\"yaxis\":\"y\",\"type\":\"bar\"},{\"alignmentgroup\":\"True\",\"hovertemplate\":\"drv=r<br>class=%{x}<br>cyl=%{y}<extra></extra>\",\"legendgroup\":\"r\",\"marker\":{\"color\":\"#00cc96\",\"pattern\":{\"shape\":\"\"}},\"name\":\"r\",\"offsetgroup\":\"r\",\"orientation\":\"v\",\"showlegend\":true,\"textposition\":\"auto\",\"x\":[\"suv\",\"suv\",\"suv\",\"suv\",\"suv\",\"2seater\",\"2seater\",\"2seater\",\"2seater\",\"2seater\",\"suv\",\"suv\",\"suv\",\"subcompact\",\"subcompact\",\"subcompact\",\"subcompact\",\"subcompact\",\"subcompact\",\"subcompact\",\"subcompact\",\"subcompact\",\"suv\",\"suv\",\"suv\"],\"xaxis\":\"x\",\"y\":[8,8,8,8,8,8,8,8,8,8,8,8,8,6,6,6,6,8,8,8,8,8,8,8,8],\"yaxis\":\"y\",\"type\":\"bar\"}],                        {\"template\":{\"data\":{\"histogram2dcontour\":[{\"type\":\"histogram2dcontour\",\"colorbar\":{\"outlinewidth\":0,\"ticks\":\"\"},\"colorscale\":[[0.0,\"#0d0887\"],[0.1111111111111111,\"#46039f\"],[0.2222222222222222,\"#7201a8\"],[0.3333333333333333,\"#9c179e\"],[0.4444444444444444,\"#bd3786\"],[0.5555555555555556,\"#d8576b\"],[0.6666666666666666,\"#ed7953\"],[0.7777777777777778,\"#fb9f3a\"],[0.8888888888888888,\"#fdca26\"],[1.0,\"#f0f921\"]]}],\"choropleth\":[{\"type\":\"choropleth\",\"colorbar\":{\"outlinewidth\":0,\"ticks\":\"\"}}],\"histogram2d\":[{\"type\":\"histogram2d\",\"colorbar\":{\"outlinewidth\":0,\"ticks\":\"\"},\"colorscale\":[[0.0,\"#0d0887\"],[0.1111111111111111,\"#46039f\"],[0.2222222222222222,\"#7201a8\"],[0.3333333333333333,\"#9c179e\"],[0.4444444444444444,\"#bd3786\"],[0.5555555555555556,\"#d8576b\"],[0.6666666666666666,\"#ed7953\"],[0.7777777777777778,\"#fb9f3a\"],[0.8888888888888888,\"#fdca26\"],[1.0,\"#f0f921\"]]}],\"heatmap\":[{\"type\":\"heatmap\",\"colorbar\":{\"outlinewidth\":0,\"ticks\":\"\"},\"colorscale\":[[0.0,\"#0d0887\"],[0.1111111111111111,\"#46039f\"],[0.2222222222222222,\"#7201a8\"],[0.3333333333333333,\"#9c179e\"],[0.4444444444444444,\"#bd3786\"],[0.5555555555555556,\"#d8576b\"],[0.6666666666666666,\"#ed7953\"],[0.7777777777777778,\"#fb9f3a\"],[0.8888888888888888,\"#fdca26\"],[1.0,\"#f0f921\"]]}],\"heatmapgl\":[{\"type\":\"heatmapgl\",\"colorbar\":{\"outlinewidth\":0,\"ticks\":\"\"},\"colorscale\":[[0.0,\"#0d0887\"],[0.1111111111111111,\"#46039f\"],[0.2222222222222222,\"#7201a8\"],[0.3333333333333333,\"#9c179e\"],[0.4444444444444444,\"#bd3786\"],[0.5555555555555556,\"#d8576b\"],[0.6666666666666666,\"#ed7953\"],[0.7777777777777778,\"#fb9f3a\"],[0.8888888888888888,\"#fdca26\"],[1.0,\"#f0f921\"]]}],\"contourcarpet\":[{\"type\":\"contourcarpet\",\"colorbar\":{\"outlinewidth\":0,\"ticks\":\"\"}}],\"contour\":[{\"type\":\"contour\",\"colorbar\":{\"outlinewidth\":0,\"ticks\":\"\"},\"colorscale\":[[0.0,\"#0d0887\"],[0.1111111111111111,\"#46039f\"],[0.2222222222222222,\"#7201a8\"],[0.3333333333333333,\"#9c179e\"],[0.4444444444444444,\"#bd3786\"],[0.5555555555555556,\"#d8576b\"],[0.6666666666666666,\"#ed7953\"],[0.7777777777777778,\"#fb9f3a\"],[0.8888888888888888,\"#fdca26\"],[1.0,\"#f0f921\"]]}],\"surface\":[{\"type\":\"surface\",\"colorbar\":{\"outlinewidth\":0,\"ticks\":\"\"},\"colorscale\":[[0.0,\"#0d0887\"],[0.1111111111111111,\"#46039f\"],[0.2222222222222222,\"#7201a8\"],[0.3333333333333333,\"#9c179e\"],[0.4444444444444444,\"#bd3786\"],[0.5555555555555556,\"#d8576b\"],[0.6666666666666666,\"#ed7953\"],[0.7777777777777778,\"#fb9f3a\"],[0.8888888888888888,\"#fdca26\"],[1.0,\"#f0f921\"]]}],\"mesh3d\":[{\"type\":\"mesh3d\",\"colorbar\":{\"outlinewidth\":0,\"ticks\":\"\"}}],\"scatter\":[{\"fillpattern\":{\"fillmode\":\"overlay\",\"size\":10,\"solidity\":0.2},\"type\":\"scatter\"}],\"parcoords\":[{\"type\":\"parcoords\",\"line\":{\"colorbar\":{\"outlinewidth\":0,\"ticks\":\"\"}}}],\"scatterpolargl\":[{\"type\":\"scatterpolargl\",\"marker\":{\"colorbar\":{\"outlinewidth\":0,\"ticks\":\"\"}}}],\"bar\":[{\"error_x\":{\"color\":\"#2a3f5f\"},\"error_y\":{\"color\":\"#2a3f5f\"},\"marker\":{\"line\":{\"color\":\"#E5ECF6\",\"width\":0.5},\"pattern\":{\"fillmode\":\"overlay\",\"size\":10,\"solidity\":0.2}},\"type\":\"bar\"}],\"scattergeo\":[{\"type\":\"scattergeo\",\"marker\":{\"colorbar\":{\"outlinewidth\":0,\"ticks\":\"\"}}}],\"scatterpolar\":[{\"type\":\"scatterpolar\",\"marker\":{\"colorbar\":{\"outlinewidth\":0,\"ticks\":\"\"}}}],\"histogram\":[{\"marker\":{\"pattern\":{\"fillmode\":\"overlay\",\"size\":10,\"solidity\":0.2}},\"type\":\"histogram\"}],\"scattergl\":[{\"type\":\"scattergl\",\"marker\":{\"colorbar\":{\"outlinewidth\":0,\"ticks\":\"\"}}}],\"scatter3d\":[{\"type\":\"scatter3d\",\"line\":{\"colorbar\":{\"outlinewidth\":0,\"ticks\":\"\"}},\"marker\":{\"colorbar\":{\"outlinewidth\":0,\"ticks\":\"\"}}}],\"scattermapbox\":[{\"type\":\"scattermapbox\",\"marker\":{\"colorbar\":{\"outlinewidth\":0,\"ticks\":\"\"}}}],\"scatterternary\":[{\"type\":\"scatterternary\",\"marker\":{\"colorbar\":{\"outlinewidth\":0,\"ticks\":\"\"}}}],\"scattercarpet\":[{\"type\":\"scattercarpet\",\"marker\":{\"colorbar\":{\"outlinewidth\":0,\"ticks\":\"\"}}}],\"carpet\":[{\"aaxis\":{\"endlinecolor\":\"#2a3f5f\",\"gridcolor\":\"white\",\"linecolor\":\"white\",\"minorgridcolor\":\"white\",\"startlinecolor\":\"#2a3f5f\"},\"baxis\":{\"endlinecolor\":\"#2a3f5f\",\"gridcolor\":\"white\",\"linecolor\":\"white\",\"minorgridcolor\":\"white\",\"startlinecolor\":\"#2a3f5f\"},\"type\":\"carpet\"}],\"table\":[{\"cells\":{\"fill\":{\"color\":\"#EBF0F8\"},\"line\":{\"color\":\"white\"}},\"header\":{\"fill\":{\"color\":\"#C8D4E3\"},\"line\":{\"color\":\"white\"}},\"type\":\"table\"}],\"barpolar\":[{\"marker\":{\"line\":{\"color\":\"#E5ECF6\",\"width\":0.5},\"pattern\":{\"fillmode\":\"overlay\",\"size\":10,\"solidity\":0.2}},\"type\":\"barpolar\"}],\"pie\":[{\"automargin\":true,\"type\":\"pie\"}]},\"layout\":{\"autotypenumbers\":\"strict\",\"colorway\":[\"#636efa\",\"#EF553B\",\"#00cc96\",\"#ab63fa\",\"#FFA15A\",\"#19d3f3\",\"#FF6692\",\"#B6E880\",\"#FF97FF\",\"#FECB52\"],\"font\":{\"color\":\"#2a3f5f\"},\"hovermode\":\"closest\",\"hoverlabel\":{\"align\":\"left\"},\"paper_bgcolor\":\"white\",\"plot_bgcolor\":\"#E5ECF6\",\"polar\":{\"bgcolor\":\"#E5ECF6\",\"angularaxis\":{\"gridcolor\":\"white\",\"linecolor\":\"white\",\"ticks\":\"\"},\"radialaxis\":{\"gridcolor\":\"white\",\"linecolor\":\"white\",\"ticks\":\"\"}},\"ternary\":{\"bgcolor\":\"#E5ECF6\",\"aaxis\":{\"gridcolor\":\"white\",\"linecolor\":\"white\",\"ticks\":\"\"},\"baxis\":{\"gridcolor\":\"white\",\"linecolor\":\"white\",\"ticks\":\"\"},\"caxis\":{\"gridcolor\":\"white\",\"linecolor\":\"white\",\"ticks\":\"\"}},\"coloraxis\":{\"colorbar\":{\"outlinewidth\":0,\"ticks\":\"\"}},\"colorscale\":{\"sequential\":[[0.0,\"#0d0887\"],[0.1111111111111111,\"#46039f\"],[0.2222222222222222,\"#7201a8\"],[0.3333333333333333,\"#9c179e\"],[0.4444444444444444,\"#bd3786\"],[0.5555555555555556,\"#d8576b\"],[0.6666666666666666,\"#ed7953\"],[0.7777777777777778,\"#fb9f3a\"],[0.8888888888888888,\"#fdca26\"],[1.0,\"#f0f921\"]],\"sequentialminus\":[[0.0,\"#0d0887\"],[0.1111111111111111,\"#46039f\"],[0.2222222222222222,\"#7201a8\"],[0.3333333333333333,\"#9c179e\"],[0.4444444444444444,\"#bd3786\"],[0.5555555555555556,\"#d8576b\"],[0.6666666666666666,\"#ed7953\"],[0.7777777777777778,\"#fb9f3a\"],[0.8888888888888888,\"#fdca26\"],[1.0,\"#f0f921\"]],\"diverging\":[[0,\"#8e0152\"],[0.1,\"#c51b7d\"],[0.2,\"#de77ae\"],[0.3,\"#f1b6da\"],[0.4,\"#fde0ef\"],[0.5,\"#f7f7f7\"],[0.6,\"#e6f5d0\"],[0.7,\"#b8e186\"],[0.8,\"#7fbc41\"],[0.9,\"#4d9221\"],[1,\"#276419\"]]},\"xaxis\":{\"gridcolor\":\"white\",\"linecolor\":\"white\",\"ticks\":\"\",\"title\":{\"standoff\":15},\"zerolinecolor\":\"white\",\"automargin\":true,\"zerolinewidth\":2},\"yaxis\":{\"gridcolor\":\"white\",\"linecolor\":\"white\",\"ticks\":\"\",\"title\":{\"standoff\":15},\"zerolinecolor\":\"white\",\"automargin\":true,\"zerolinewidth\":2},\"scene\":{\"xaxis\":{\"backgroundcolor\":\"#E5ECF6\",\"gridcolor\":\"white\",\"linecolor\":\"white\",\"showbackground\":true,\"ticks\":\"\",\"zerolinecolor\":\"white\",\"gridwidth\":2},\"yaxis\":{\"backgroundcolor\":\"#E5ECF6\",\"gridcolor\":\"white\",\"linecolor\":\"white\",\"showbackground\":true,\"ticks\":\"\",\"zerolinecolor\":\"white\",\"gridwidth\":2},\"zaxis\":{\"backgroundcolor\":\"#E5ECF6\",\"gridcolor\":\"white\",\"linecolor\":\"white\",\"showbackground\":true,\"ticks\":\"\",\"zerolinecolor\":\"white\",\"gridwidth\":2}},\"shapedefaults\":{\"line\":{\"color\":\"#2a3f5f\"}},\"annotationdefaults\":{\"arrowcolor\":\"#2a3f5f\",\"arrowhead\":0,\"arrowwidth\":1},\"geo\":{\"bgcolor\":\"white\",\"landcolor\":\"#E5ECF6\",\"subunitcolor\":\"white\",\"showland\":true,\"showlakes\":true,\"lakecolor\":\"white\"},\"title\":{\"x\":0.05},\"mapbox\":{\"style\":\"light\"}}},\"xaxis\":{\"anchor\":\"y\",\"domain\":[0.0,1.0],\"title\":{\"text\":\"class\"}},\"yaxis\":{\"anchor\":\"x\",\"domain\":[0.0,1.0],\"title\":{\"text\":\"cyl\"}},\"legend\":{\"title\":{\"text\":\"drv\"},\"tracegroupgap\":0},\"margin\":{\"t\":60},\"barmode\":\"relative\"},                        {\"responsive\": true}                    ).then(function(){\n",
       "                            \n",
       "var gd = document.getElementById('5d25c60c-1c66-4540-b113-b2591198a8b8');\n",
       "var x = new MutationObserver(function (mutations, observer) {{\n",
       "        var display = window.getComputedStyle(gd).display;\n",
       "        if (!display || display === 'none') {{\n",
       "            console.log([gd, 'removed!']);\n",
       "            Plotly.purge(gd);\n",
       "            observer.disconnect();\n",
       "        }}\n",
       "}});\n",
       "\n",
       "// Listen for the removal of the full notebook cells\n",
       "var notebookContainer = gd.closest('#notebook-container');\n",
       "if (notebookContainer) {{\n",
       "    x.observe(notebookContainer, {childList: true});\n",
       "}}\n",
       "\n",
       "// Listen for the clearing of the current output cell\n",
       "var outputEl = gd.closest('.output');\n",
       "if (outputEl) {{\n",
       "    x.observe(outputEl, {childList: true});\n",
       "}}\n",
       "\n",
       "                        })                };                });            </script>        </div>"
      ]
     },
     "metadata": {},
     "output_type": "display_data"
    }
   ],
   "source": [
    "px.bar(data_frame=mpg, x='class', y='cyl', color= 'drv')"
   ]
  },
  {
   "cell_type": "markdown",
   "id": "76dd615f-c977-42b8-a78b-bb39ebd621ab",
   "metadata": {},
   "source": [
    "# 4교시"
   ]
  },
  {
   "cell_type": "markdown",
   "id": "e3e7ba04-2355-4bca-9170-f415f45e741f",
   "metadata": {},
   "source": [
    "# 5교시 : 웹크롤링"
   ]
  },
  {
   "cell_type": "code",
   "execution_count": 53,
   "id": "3961a735-8520-4e57-9c09-4aaa0452ad2f",
   "metadata": {},
   "outputs": [],
   "source": [
    "import urllib.request"
   ]
  },
  {
   "cell_type": "code",
   "execution_count": 69,
   "id": "b98862f7-a4ad-43b3-bdda-59dc8e121562",
   "metadata": {},
   "outputs": [
    {
     "name": "stdout",
     "output_type": "stream",
     "text": [
      "https://www.pressian.com/pages/news-world-list?page=1\n",
      "https://www.pressian.com/pages/news-world-list?page=2\n",
      "https://www.pressian.com/pages/news-world-list?page=3\n",
      "https://www.pressian.com/pages/news-world-list?page=4\n",
      "https://www.pressian.com/pages/news-world-list?page=5\n"
     ]
    }
   ],
   "source": [
    "for i in range(1,6):\n",
    "      url = 'https://www.pressian.com/pages/news-world-list?page='+str(i)\n",
    "      print(url)"
   ]
  },
  {
   "cell_type": "code",
   "execution_count": 58,
   "id": "dccc3719-a5c1-48b5-8988-be38fc1db139",
   "metadata": {
    "collapsed": true,
    "jupyter": {
     "outputs_hidden": true
    },
    "tags": []
   },
   "outputs": [
    {
     "data": {
      "text/plain": [
       "'<!doctype html>\\n<html lang=\"ko\">\\n<head>\\n    \\n    \\n    <meta charset=\"utf-8\">\\n    <!--meta name=\"viewport\" content=\"width=1900, initial-scale=0.5, minimum-scale=0.1, maximum-scale=3, user-scalable=yes, target-densitydpi=medium-dpi\"-->\\n    <!--meta name=\"viewport\" content=\"width=1700, initial-scale=1, minimum-scale=0.1, maximum-scale=3, user-scalable=yes, target-densitydpi=medium-dpi\"-->\\n    <meta name=\"csrf-token\" content=\"hEZxUeqy8s3IYwJD4B92Vg6LbRD8jWoPGSmdK3O8\"> <!-- FIXME: CSRF Token -->\\n    <link rel=\"canonical\" href=\"https://www.pressian.com/pages/news-world-list\">\\n                <meta name=\"Subject\" content=\"관점이 있는 뉴스 - 프레시안\" />\\n        <meta name=\"Copyright\" content=\"관점이 있는 뉴스 - 프레시안\" />\\n        <meta name=\"Keyword\" content=\"관점이 있는 뉴스 - 프레시안\" />\\n        <meta name=\"Title\" content=\"관점이 있는 뉴스 - 프레시안\" />\\n        <meta name=\"Description\" content=\"관점이 있는 뉴스 - 프레시안\" />\\n        <meta name=\"naver-site-verification\" content=\"829a32bc2eccf0cf21b7fbfdd06df931017addc4\"/>\\n        <meta property=\"og:image\" content=\"/images/site/common/h_logo.png\" />\\n        <title>관점이 있는 뉴스 - 프레시안</title>\\n    \\n\\n    \\t    \\n    <link rel=\"icon\" href=\"/pressian.ico\" type=\"image/x-icon\">\\n    <link type=\"text/css\" href=\"/css/site/reset.css\" rel=\"stylesheet\">\\n    <link type=\"text/css\" href=\"/css/site/jquery-ui.css\" rel=\"stylesheet\">\\n    <link type=\"text/css\" href=\"/css/site/slick.css\" rel=\"stylesheet\">\\n    <link type=\"text/css\" href=\"/css/site/slick-theme.css\" rel=\"stylesheet\">\\n    \\n    \\n    <link type=\"text/css\" href=\"/css/site/dd.css\" rel=\"stylesheet\">\\n    <link type=\"text/css\" href=\"/css/site/common.css\" rel=\"stylesheet\">\\n    <link type=\"text/css\" href=\"/css/site/style.css\" rel=\"stylesheet\">\\n    <link type=\"text/css\" href=\"/css/site/font-awesome.css\" rel=\"stylesheet\">\\n\\n    \\n\\n    \\n\\n\\t    \\n    \\t    \\n    <script type=\"text/javascript\" src=\"/js/site/jquery-1.12.4.js\"></script>\\n    <script type=\"text/javascript\" src=\"/js/site/jquery-ui.js\"></script>\\n    \\n    \\n    <script type=\"text/javascript\" src=\"/js/site/slick.js\"></script>\\n    \\n    \\n    <script type=\"text/javascript\" src=\"/js/site/jquery.dd.js\"></script>\\n    <script type=\"text/javascript\" src=\"/js/site/common.js\"></script>\\n    \\n\\n\\n        <!-- Start Google Tag Manager -->\\n    <script async src=\"https://www.googletagmanager.com/gtag/js?id=UA-33077852-1\"></script>\\n    <script>\\n        window.dataLayer = window.dataLayer || [];\\n\\n        function gtag() {\\n            dataLayer.push(arguments);\\n        }\\n        gtag(\\'js\\', new Date());\\n\\n        gtag(\\'config\\', \\'UA-33077852-1\\');\\n    </script>\\n    <!-- Google Tag Manager -->\\n    <script>(function(w,d,s,l,i){w[l]=w[l]||[];w[l].push({\\'gtm.start\\':\\n                new Date().getTime(),event:\\'gtm.js\\'});var f=d.getElementsByTagName(s)[0],\\n            j=d.createElement(s),dl=l!=\\'dataLayer\\'?\\'&l=\\'+l:\\'\\';j.async=true;j.src=\\n            \\'https://www.googletagmanager.com/gtm.js?id=\\'+i+dl;f.parentNode.insertBefore(j,f);\\n        })(window,document,\\'script\\',\\'dataLayer\\',\\'GTM-TPPP29D\\');\\n\\n    </script>\\n    <!-- End Google Tag Manager -->\\n\\n    <script>\\n        (function(d,a,b,l,e,_) {\\n            d[b]=d[b]||function(){(d[b].q=d[b].q||[]).push(arguments)};e=a.createElement(l);\\n            e.async=1;e.charset=\\'utf-8\\';e.src=\\'//static.dable.io/dist/plugin.min.js\\';\\n            _=a.getElementsByTagName(l)[0];_.parentNode.insertBefore(e,_);\\n        })(window,document,\\'dable\\',\\'script\\');\\n        dable(\\'setService\\', \\'pressian.com\\');\\n        dable(\\'sendLog\\');\\n    </script>\\n\\n    \\n\\n\\n\\t    \\n\\n    </head>\\n\\n\\n<body>\\n    <!-- Google Tag Manager (noscript) -->\\n    <noscript><iframe src=\"https://www.googletagmanager.com/ns.html?id=GTM-TPPP29D\" height=\"0\" width=\"0\" style=\"display:none;visibility:hidden\"></iframe></noscript>\\n    <!-- End Google Tag Manager (noscript) -->\\n    <div id=\"wrap\">\\n        <!-- 헤더 시작 -->\\n        <div id=\"header\">\\n                        \\t<!-- 헤더 탑 시작 -->\\n<script>\\n    function publish() \\n    {\\n        var result = confirm(\"전체게시 하시겠습니까?\");\\n        if(result) {\\n            location.href=\"/psUsers/storeDisplay\";\\n        }\\n    }\\n</script>\\n<div class=\"header_top\">\\n    <div class=\"inner\">\\n        <div class=\"sns_list\">\\n            <a href=\"http://www.facebook.com/pressian.news\" target=\"_blank\"><img src=\"/images/site/common/h_icon_fb.png\" alt=\"페이스북\"></a>\\n            <a href=\"http://twitter.com/pressian_news\" target=\"_blank\"><img src=\"/images/site/common/h_icon_tw.png\" alt=\"트위터\"></a>\\n            <a href=\"http://story.kakao.com/ch/pressian\" target=\"_blank\"><img src=\"/images/site/common/h_icon_ks.png\" alt=\"카카오스토리\"></a>\\n        </div>\\n        <p class=\"editing_data\">\\n            최종편집\\n                            2023년 05월 12일 14시 33분\\n                    </p>\\n\\n        <ul class=\"utility_list\">\\n            <li><a href=\"/psForumQnas/create\">제보</a></li>\\n            <li><a href=\"/psForumQnas/1/edit\">문의</a></li>\\n                            <li><a href=\"/psUsers/create\">회원가입</a></li>\\n                <li><a href=\"/psUsers/createSession\">로그인</a></li>\\n                    </ul>\\n    </div>\\n</div>\\n<!-- 헤더 탑 끝 -->\\n\\n\\n\\n\\t<!-- 헤더 미들 시작 -->\\n<div class=\"header_mid\">\\n            <div class=\"left_banner\">\\n                            <a href=\"/psUsers/create\"><img src=\"/images/site/21th_top_new.jpg\" style=\"width:320px;\" alt=\"프레시안 가입하기\"></a>\\n                    </div>\\n        <h1 class=\"logo\">\\n                    <a href=\"/\"><img src=\"/images/site/common/h_logo.png\" alt=\"프레시안\"></a>\\n            </h1>\\n    <div class=\"join_banner\">\\n                <script src=\"//ad.tjtune.com/cgi-bin/PelicanC.dll?impr?pageid=0DON&out=script\" charset=\"euc-kr\"></script>\\n            </div>\\n    \\n    \\n    \\n    \\n    \\n    \\n    \\n    \\n    \\n    \\n    \\n</div>\\n<!-- 헤더 미들 끝 -->\\n\\n\\n<!-- 헤더 바텀 시작 -->\\n<div class=\"header_bottom\">\\n    <div class=\"inner\">\\n        \\n        \\n        \\n        \\n        \\n        <ul class=\"gnb\">\\n                                                <li><a href=\"/\">홈</a></li>\\n                \\n                                                <li><a href=\"/pages/opinion\">오피니언</a></li>\\n                \\n                                                <li><a href=\"/pages/news-politics\">정치</a></li>\\n                \\n                                                <li><a href=\"/pages/news-economy\">경제</a></li>\\n                \\n                                                <li><a href=\"/pages/news-society\">사회</a></li>\\n                \\n                                                <li><a href=\"/pages/news-world\">세계</a></li>\\n                \\n                                                <li><a href=\"/pages/news-culture\">문화</a></li>\\n                \\n                                                <li><a href=\"/pages/books\">Books</a></li>\\n                \\n                                                <li><a href=\"/pages/nation\">전국</a></li>\\n                \\n                                                <li><a href=\"/pages/with\">스페셜</a></li>\\n                \\n                                                <li><a href=\"/psForums\">협동조합</a></li>\\n                \\n                    </ul>\\n        <div class=\"lnb\">\\n                            <ul>\\n                                    </ul>\\n                            <ul>\\n                                    </ul>\\n                            <ul>\\n                                    </ul>\\n                            <ul>\\n                                    </ul>\\n                            <ul>\\n                                    </ul>\\n                            <ul>\\n                                    </ul>\\n                            <ul>\\n                                    </ul>\\n                            <ul>\\n                                    </ul>\\n                            <ul>\\n                                            <li><a href=\"/pages/nation-kw\">강원</a></li>\\n                                            <li><a href=\"/pages/nation-bu\">부산/울산</a></li>\\n                                            <li><a href=\"/pages/nation-kn\">경남</a></li>\\n                                            <li><a href=\"/pages/nation-kj\">광주/전남</a></li>\\n                                            <li><a href=\"/pages/nation-sc\">대전/세종/충청</a></li>\\n                                            <li><a href=\"/pages/nation-jb\">전북</a></li>\\n                                            <li><a href=\"/pages/nation-dk\">대구/경북</a></li>\\n                                            <li><a href=\"/pages/nation-jj\">제주</a></li>\\n                                            <li><a href=\"/pages/nation-gg\">경기/인천</a></li>\\n                                    </ul>\\n                            <ul>\\n                                            <li><a href=\"/pages/coop-visit\">협동조합 탐방</a></li>\\n                                            <li><a href=\"/pages/with\">함께자리</a></li>\\n                                            <li><a href=\"/pages/news-press\">언론네트워크</a></li>\\n                                            <li><a href=\"/pages/china\">차이나인사이트</a></li>\\n                                            <li><a href=\"/pages/huschool\">인문학습원</a></li>\\n                                    </ul>\\n                            <ul>\\n                                    </ul>\\n                    </div>\\n        <form id=\"search_form\" method=\"get\" action=\"/pages/search\">\\n            <input type=\"hidden\" name=\"sort\" value=\"1\" />\\n            <div class=\"search\">\\n                <input type=\"text\" id=\"search\" name=\"search\" onkeypress=\"return searchKeyPress(event);\">\\n                <span class=\"search_btn\"><a href=\"javascript:search_submit();\"><img src=\"/images/site/common/h_icon_search.png\" alt=\"검색\"></a></span>\\n            </div>\\n        </form>\\n    </div>\\n    <div class=\"total_menu_wrap\">\\n        <div class=\"inner\">\\n            <ul>\\n                                    <li>\\n                        <p class=\"title\"><a href=\"/\">홈</a></p>\\n                        <ul>\\n                                                                                                                                                                                                                                                                                                                                                                                                                                                                                                                                                                                                                                                                                                                                                                                                                                                                        </ul>\\n                    </li>\\n                                    <li>\\n                        <p class=\"title\"><a href=\"/pages/opinion\">오피니언</a></p>\\n                        <ul>\\n                                                                                                                                                                                                                                                                                                                                                                                                                                                                                                                                                                                                                                                                                                                                                                                                                                                                        </ul>\\n                    </li>\\n                                    <li>\\n                        <p class=\"title\"><a href=\"/pages/news-politics\">정치</a></p>\\n                        <ul>\\n                                                                                                                                                                                                                                                                                                                                                                                                                                                                                                                                                                                                                                                                                                                                                                                                                                                                        </ul>\\n                    </li>\\n                                    <li>\\n                        <p class=\"title\"><a href=\"/pages/news-economy\">경제</a></p>\\n                        <ul>\\n                                                                                                                                                                                                                                                                                                                                                                                                                                                                                                                                                                                                                                                                                                                                                                                                                                                                        </ul>\\n                    </li>\\n                                    <li>\\n                        <p class=\"title\"><a href=\"/pages/news-society\">사회</a></p>\\n                        <ul>\\n                                                                                                                                                                                                                                                                                                                                                                                                                                                                                                                                                                                                                                                                                                                                                                                                                                                                        </ul>\\n                    </li>\\n                                    <li>\\n                        <p class=\"title\"><a href=\"/pages/news-world\">세계</a></p>\\n                        <ul>\\n                                                                                                                                                                                                                                                                                                                                                                                                                                                                                                                                                                                                                                                                                                                                                                                                                                                                        </ul>\\n                    </li>\\n                                    <li>\\n                        <p class=\"title\"><a href=\"/pages/news-culture\">문화</a></p>\\n                        <ul>\\n                                                                                                                                                                                                                                                                                                                                                                                                                                                                                                                                                                                                                                                                                                                                                                                                                                                                        </ul>\\n                    </li>\\n                                    <li>\\n                        <p class=\"title\"><a href=\"/pages/books\">Books</a></p>\\n                        <ul>\\n                                                                                                                                                                                                                                                                                                                                                                                                                                                                                                                                                                                                                                                                                                                                                                                                                                                                        </ul>\\n                    </li>\\n                                    <li>\\n                        <p class=\"title\"><a href=\"/pages/nation\">전국</a></p>\\n                        <ul>\\n                                                                                                                                                                                                    <li><a href=\"/pages/nation-kw\">강원</a></li>\\n                                                                            <li><a href=\"/pages/nation-bu\">부산/울산</a></li>\\n                                                                            <li><a href=\"/pages/nation-kn\">경남</a></li>\\n                                                                            <li><a href=\"/pages/nation-kj\">광주/전남</a></li>\\n                                                                            <li><a href=\"/pages/nation-sc\">대전/세종/충청</a></li>\\n                                                                            <li><a href=\"/pages/nation-jb\">전북</a></li>\\n                                                                            <li><a href=\"/pages/nation-dk\">대구/경북</a></li>\\n                                                                            <li><a href=\"/pages/nation-jj\">제주</a></li>\\n                                                                            <li><a href=\"/pages/nation-gg\">경기/인천</a></li>\\n                                                                                                                                                                                                                                                                                                                                                                                                                                                                                                                                                                                                                                                                                                                                                </ul>\\n                    </li>\\n                                    <li>\\n                        <p class=\"title\"><a href=\"/pages/with\">스페셜</a></p>\\n                        <ul>\\n                                                                                                                                        <li><a href=\"/pages/coop-visit\">협동조합 탐방</a></li>\\n                                                                            <li><a href=\"/pages/with\">함께자리</a></li>\\n                                                                            <li><a href=\"/pages/news-press\">언론네트워크</a></li>\\n                                                                            <li><a href=\"/pages/china\">차이나인사이트</a></li>\\n                                                                            <li><a href=\"/pages/huschool\">인문학습원</a></li>\\n                                                                                                                                                                                                                                                                                                                                                                                                                                                                                                                                                                                                                                                                                                                                                                                                            </ul>\\n                    </li>\\n                                    <li>\\n                        <p class=\"title\"><a href=\"/psForums\">협동조합</a></p>\\n                        <ul>\\n                                                                                                                                                                                                                                                                                                                                                                                                                                                                                                                                                                                                                                                                                                                                                                                                                                                                        </ul>\\n                    </li>\\n                                \\n                \\n                \\n                \\n                \\n                \\n                \\n                \\n                \\n                \\n                \\n                \\n                \\n                \\n                \\n                \\n            </ul>\\n        </div>\\n    </div>\\n</div>\\n<!-- 헤더 바텀 끝 -->\\n<script>\\n    function onSubmit()\\n    {\\n        $(\\'#search_form\\').submit();\\n    }\\n    function searchKeyPress(e)\\n    {\\n        e = e || window.event;\\n        if (e.keyCode == 13)\\n        {\\n            var keyword = $(\\'#search\\').val();\\n            if(keyword === \\'\\') {\\n                alert(\\'검색어를 입력해 주세요.\\');\\n                return false;\\n            } else {\\n                onSubmit();\\n                return false;\\n            }\\n        }\\n\\n    }\\n    function search_submit() {\\n        var keyword = $(\\'#search\\').val();\\n        if(keyword === \\'\\') {\\n            alert(\\'검색어를 입력해 주세요.\\');\\n            return false;\\n        } else {\\n            onSubmit();\\n            return false;\\n        }\\n    }\\n</script>\\n\\n\\n                    </div>\\n        <!-- 헤더 끝 -->\\n        <div id=\"container\">\\n            <div class=\"inner\">\\n                                \\t<!-- 윙 배너 시작 -->\\n\\n<div class=\"wing_banner\">\\n\\t<div class=\"wb_left\">\\n\\t\\t<div class=\"banner\"><script src=\"//ad.tjtune.com/cgi-bin/PelicanC.dll?impr?pageid=02Op&out=script\" charset=\"euc-kr\"></script></div>\\n\\t\\t<div class=\"h30\"></div>\\n\\t\\t<div class=\"banner\"><script src=\"//ad.tjtune.com/cgi-bin/PelicanC.dll?impr?pageid=03vn&out=script\" charset=\"euc-kr\"></script></div>\\n\\t</div>\\n\\t<div class=\"wb_right\">\\n\\t\\t<div class=\"banner\"><script src=\"//ad.tjtune.com/cgi-bin/PelicanC.dll?impr?pageid=02Sg&out=script\" charset=\"euc-kr\"></script></div>\\n\\t\\t<div class=\"h30\"></div>\\n\\t\\t<div class=\"banner\"><script src=\"//ad.tjtune.com/cgi-bin/PelicanC.dll?impr?pageid=01HO&out=script\" charset=\"euc-kr\"></script></div>\\n\\t</div>\\n</div>\\n<!-- 윙 배너 끝 -->\\n\\n<script>\\n    $(function() {\\n        //윙배너 높이 조절 떄문에 광고 container inner로 위치 이동\\n        if($(\".article_view_top_ad\")) {\\n            $(\"#container > .inner\").eq(0).prepend($(\".article_view_top_ad\"));\\n        }\\n        //console.log($(\".wb_left .banner\").offset().top);\\n        if($(\".wb_left .banner\").eq(0).length) {\\n            var wingBannerTop = $(\".wb_left .banner\").eq(0).offset().top;\\n        }\\n        if($(\".wb_left .banner\").eq(1).length) {\\n        \\tvar wingBannerTop2 = $(\".wb_left .banner\").eq(1).offset().top;\\n        }\\n        var Article_ViewTopAd = 0;\\n        /*$(window).scroll(function() {\\n            if(!Article_ViewTopAd && $(\".article_view_top_ad\").eq(0).length) {\\n                Article_ViewTopAd = $(\".article_view_top_ad\").height();\\n                wingBannerTop+= Article_ViewTopAd;\\n                wingBannerTop2+= Article_ViewTopAd;\\n            }\\n            var scrollTop = $(this).scrollTop();\\n            if(wingBannerTop2) {\\n                if(scrollTop >= wingBannerTop2) {\\n                    $(\".wb_left\").css(\"top\", (scrollTop - wingBannerTop2) + 60);\\n                    $(\".wb_right\").css(\"top\", (scrollTop - wingBannerTop2) + 60);\\n                } else {\\n                    $(\".wb_left\").css(\"top\", \"0px\");\\n                    $(\".wb_right\").css(\"top\", \"0px\");\\n                }\\n            } else if (wingBannerTop) {\\n                if(scrollTop >= wingBannerTop) {\\n                    $(\".wb_left\").css(\"top\", (scrollTop - wingBannerTop) + 60);\\n                    $(\".wb_right\").css(\"top\", (scrollTop - wingBannerTop) + 60);\\n                } else {\\n                    $(\".wb_left\").css(\"top\", \"0px\");\\n                    $(\".wb_right\").css(\"top\", \"0px\");\\n                }\\n\\t\\t\\t}\\n        }) ;*/\\n    });\\n</script>\\n\\n                                \\t <div class=\"section list_arl_group\">\\n\\t<h2 class=\"list_arl_group_title\">뉴스 > 세계 리스트</h2>\\n\\n\\n\\t<!-- 기사 리스트 022 시작 -->\\n\\t<div class=\"arl_022 \">\\n\\t\\t<ul class=\"list\">\\n\\t\\t\\t\\t\\t\\t\\t\\t\\t<li>\\n\\t\\t\\t\\t\\t<div class=\"h30 bt1\"></div>\\n\\t\\t\\t\\t\\t\\t\\t\\t\\t\\t\\t<div class=\"thumb\">\\n\\t\\t\\t\\t\\t\\t\\t<a href=\"/pages/articles/2023051209180646558\">\\n\\t\\t\\t\\t\\t\\t\\t\\t<div class=\"arl_img\" style=\"background-image:url(\\'/_resources/10/2023/05/12/2023051209250044930_l.s.jpg\\')\"></div>\\n\\t\\t\\t\\t\\t\\t\\t</a>\\n\\t\\t\\t\\t\\t\\t</div>\\n\\t\\t\\t\\t\\t\\t\\t\\t\\t\\t<div class=\"box\">\\n\\t\\t\\t\\t\\t\\t<p class=\"title\"><a href=\"/pages/articles/2023051209180646558\">2023년의 한국과 동북아는 독립운동가를 기념할 수 있나</a></p>\\n\\t\\t\\t\\t\\t\\t<p class=\"sub_title\"><a href=\"/pages/articles/2023051209180646558\">[원광대 \\'한중관계 브리핑\\'] 중국 광저우 묘지에 안장되어 있는 독립운동가, 김근제와 안태</a></p>\\n\\t\\t\\t\\t\\t\\t<p class=\"body\"><a href=\"/pages/articles/2023051209180646558\">중국 국민당 육군군관학교(일명 황포군관학교)\\n\\n코로나 팬데믹의 맹위도 어느 정도 잡힌 것 같다. 팬데믹으로 중국지역 한국독립운동 사적지 답사단의 활동이 중지된 지도 3년이 넘었다. 또한 동북아의 국제정세로 인해 한중관계 역시 코로나 팬데믹 이전 시기와는 사뭇 다른 분위기이다. 1992년 8월 한중수교 이후 한국과 중국은 경제적 파트너를 넘어 동북아 평화의 </a></p>\\n\\t\\t\\t\\t\\t\\t<div class=\"byline\">\\n\\t\\t\\t\\t\\t\\t\\t<p class=\"name\">김주용 원광대 한중관계연구원 교수</p>\\n\\t\\t\\t\\t\\t\\t\\t<p class=\"date\">2023.05.12 11:20:34</p>\\n\\t\\t\\t\\t\\t\\t</div>\\n\\t\\t\\t\\t\\t</div>\\n\\t\\t\\t\\t\\t<div class=\"h30\"></div>\\n\\t\\t\\t\\t</li>\\n\\t\\t\\t\\t\\t\\t\\t\\t\\t<li>\\n\\t\\t\\t\\t\\t<div class=\"h30 bt1\"></div>\\n\\t\\t\\t\\t\\t\\t\\t\\t\\t\\t\\t<div class=\"thumb\">\\n\\t\\t\\t\\t\\t\\t\\t<a href=\"/pages/articles/2023051117422597725\">\\n\\t\\t\\t\\t\\t\\t\\t\\t<div class=\"arl_img\" style=\"background-image:url(\\'/_resources/10/2023/05/11/2023051117433246008_l.s.jpg\\')\"></div>\\n\\t\\t\\t\\t\\t\\t\\t</a>\\n\\t\\t\\t\\t\\t\\t</div>\\n\\t\\t\\t\\t\\t\\t\\t\\t\\t\\t<div class=\"box\">\\n\\t\\t\\t\\t\\t\\t<p class=\"title\"><a href=\"/pages/articles/2023051117422597725\">이스라엘, 가자지구 3일째 공습, 대체 왜 이러나?</a></p>\\n\\t\\t\\t\\t\\t\\t<p class=\"sub_title\"><a href=\"/pages/articles/2023051117422597725\">팔레스타인 27명 사망에 무장단체 인사 추가 살해로 휴전 멀어져</a></p>\\n\\t\\t\\t\\t\\t\\t<p class=\"body\"><a href=\"/pages/articles/2023051117422597725\">팔레스타인 가자지구에 대한 이스라엘의 공습이 사흘째 이어지며 20명이 넘는 팔레스타인인이 사망했다. 가자지구 쪽에서도 500발이 넘는 로켓을 발사하며 양쪽의 충돌이 격화되고 있다.\\u2008\\n\\n이번 충돌로 사법 개편 관련 국내 반발에 부딪힌 베냐민 네타냐후 이스라엘 총리가 지지층 결집 효과를 누리는 동시에\\u2008팔레스타인에 대한 강경 대응을 주문해 온 연정 내 극우도 달</a></p>\\n\\t\\t\\t\\t\\t\\t<div class=\"byline\">\\n\\t\\t\\t\\t\\t\\t\\t<p class=\"name\">김효진 기자</p>\\n\\t\\t\\t\\t\\t\\t\\t<p class=\"date\">2023.05.11 20:04:59</p>\\n\\t\\t\\t\\t\\t\\t</div>\\n\\t\\t\\t\\t\\t</div>\\n\\t\\t\\t\\t\\t<div class=\"h30\"></div>\\n\\t\\t\\t\\t</li>\\n\\t\\t\\t\\t\\t\\t\\t\\t\\t<li>\\n\\t\\t\\t\\t\\t<div class=\"h30 bt1\"></div>\\n\\t\\t\\t\\t\\t\\t\\t\\t\\t\\t\\t<div class=\"thumb\">\\n\\t\\t\\t\\t\\t\\t\\t<a href=\"/pages/articles/2023051016301277418\">\\n\\t\\t\\t\\t\\t\\t\\t\\t<div class=\"arl_img\" style=\"background-image:url(\\'/_resources/10/2023/05/10/2023051017065014430_l.s.jpg\\')\"></div>\\n\\t\\t\\t\\t\\t\\t\\t</a>\\n\\t\\t\\t\\t\\t\\t</div>\\n\\t\\t\\t\\t\\t\\t\\t\\t\\t\\t<div class=\"box\">\\n\\t\\t\\t\\t\\t\\t<p class=\"title\"><a href=\"/pages/articles/2023051016301277418\">성폭력 민사 패소한 트럼프, \\'차원이 다른 타격\\' 받을까</a></p>\\n\\t\\t\\t\\t\\t\\t<p class=\"sub_title\"><a href=\"/pages/articles/2023051016301277418\">뉴욕 배심원단, 27년전 성폭력 가해에 500만 달러 배상 평결</a></p>\\n\\t\\t\\t\\t\\t\\t<p class=\"body\"><a href=\"/pages/articles/2023051016301277418\">도널드 트럼프 미국 전 대통령이 27년 전 저지른 성폭력 관련 민사 소송에서 패소해 피해 여성에게 500만 달러(약 66억 원)를 배상하게 됐다. 차기 대선 출마를 선언한 트럼프 전 대통령은 지난\\u20083월\\u2008미국 전·현직 대통령 중 처음으로 형사 기소된 뒤에도 굳건한 지지율을 유지했지만 사안의 성격상 이번 평결의 영향력은 차원이 다를 수 있다는\\u2008관측이 나온다.\\n</a></p>\\n\\t\\t\\t\\t\\t\\t<div class=\"byline\">\\n\\t\\t\\t\\t\\t\\t\\t<p class=\"name\">김효진 기자</p>\\n\\t\\t\\t\\t\\t\\t\\t<p class=\"date\">2023.05.10 19:46:43</p>\\n\\t\\t\\t\\t\\t\\t</div>\\n\\t\\t\\t\\t\\t</div>\\n\\t\\t\\t\\t\\t<div class=\"h30\"></div>\\n\\t\\t\\t\\t</li>\\n\\t\\t\\t\\t\\t\\t\\t\\t\\t<li>\\n\\t\\t\\t\\t\\t<div class=\"h30 bt1\"></div>\\n\\t\\t\\t\\t\\t\\t\\t\\t\\t\\t\\t<div class=\"thumb\">\\n\\t\\t\\t\\t\\t\\t\\t<a href=\"/pages/articles/2023050917580611561\">\\n\\t\\t\\t\\t\\t\\t\\t\\t<div class=\"arl_img\" style=\"background-image:url(\\'/_resources/10/2023/05/09/2023050918075127962_l.s.jpg\\')\"></div>\\n\\t\\t\\t\\t\\t\\t\\t</a>\\n\\t\\t\\t\\t\\t\\t</div>\\n\\t\\t\\t\\t\\t\\t\\t\\t\\t\\t<div class=\"box\">\\n\\t\\t\\t\\t\\t\\t<p class=\"title\"><a href=\"/pages/articles/2023050917580611561\">푸틴, 우크라전 &quot;전쟁&quot; 규정&hellip;&quot;길들여지지 않는 오만함 탓&quot;</a></p>\\n\\t\\t\\t\\t\\t\\t<p class=\"sub_title\"><a href=\"/pages/articles/2023050917580611561\">기념 연설서 이례적 발언&hellip;전쟁 원인 \\'오만한 서방\\'에 돌려</a></p>\\n\\t\\t\\t\\t\\t\\t<p class=\"body\"><a href=\"/pages/articles/2023050917580611561\">블라디미르 푸틴 러시아 대통령이 2차 세계대전 당시\\u2008러시아가 독일에 승리한 것을 기념하는 전승절 행사에서\\u20089일(현지시각) 우크라이나 침공을 \"전쟁\"으로 규정했다.\\n\\n&lt;로이터&gt; 통신, 영국 BBC 방송 등을 종합하면 이날 모스크바 붉은 광장에서 열린 78주년 전승절 기념행사에서 연설에 나선\\u2008푸틴 대통령은 \"오늘날 문명은 다시금 결정적 전환점을 맞았</a></p>\\n\\t\\t\\t\\t\\t\\t<div class=\"byline\">\\n\\t\\t\\t\\t\\t\\t\\t<p class=\"name\">김효진 기자</p>\\n\\t\\t\\t\\t\\t\\t\\t<p class=\"date\">2023.05.09 18:56:52</p>\\n\\t\\t\\t\\t\\t\\t</div>\\n\\t\\t\\t\\t\\t</div>\\n\\t\\t\\t\\t\\t<div class=\"h30\"></div>\\n\\t\\t\\t\\t</li>\\n\\t\\t\\t\\t\\t\\t\\t\\t\\t<li>\\n\\t\\t\\t\\t\\t<div class=\"h30 bt1\"></div>\\n\\t\\t\\t\\t\\t\\t\\t\\t\\t\\t\\t<div class=\"thumb\">\\n\\t\\t\\t\\t\\t\\t\\t<a href=\"/pages/articles/2023050916233747391\">\\n\\t\\t\\t\\t\\t\\t\\t\\t<div class=\"arl_img\" style=\"background-image:url(\\'/_resources/10/2023/05/09/2023050916265781803_l.s.jpg\\')\"></div>\\n\\t\\t\\t\\t\\t\\t\\t</a>\\n\\t\\t\\t\\t\\t\\t</div>\\n\\t\\t\\t\\t\\t\\t\\t\\t\\t\\t<div class=\"box\">\\n\\t\\t\\t\\t\\t\\t<p class=\"title\"><a href=\"/pages/articles/2023050916233747391\">&quot;러, 자포리자 원전 직원 철수 준비&quot;&hellip;핵물질 사고 위기감 고조</a></p>\\n\\t\\t\\t\\t\\t\\t<p class=\"sub_title\"><a href=\"/pages/articles/2023050916233747391\">러, 주말 인근 주민 1600명 대피시켜&hellip;\\'원전 인근 격전지 될라\\' 커지는 우려</a></p>\\n\\t\\t\\t\\t\\t\\t<p class=\"body\"><a href=\"/pages/articles/2023050916233747391\">러시아가 주말 우크라이나 남부 자포리자 원전 지역 주민들을 대피시킨 데 이어 수천 명에 이르는 원전 직원들까지 철수시키려 한다는 주장이 나오면서 핵물질\\u2008사고에 대한 위기감이\\u2008고조되고 있다.\\n\\n&lt;워싱턴포스트&gt;(WP)는 8일(현지시각) 우크라이나 국영 원전기업 에네르고아톰의 페트로 코틴 대표가 러시아 당국이 3100명에 이르는 자포리자 원전 직원 대</a></p>\\n\\t\\t\\t\\t\\t\\t<div class=\"byline\">\\n\\t\\t\\t\\t\\t\\t\\t<p class=\"name\">김효진 기자</p>\\n\\t\\t\\t\\t\\t\\t\\t<p class=\"date\">2023.05.09 17:42:33</p>\\n\\t\\t\\t\\t\\t\\t</div>\\n\\t\\t\\t\\t\\t</div>\\n\\t\\t\\t\\t\\t<div class=\"h30\"></div>\\n\\t\\t\\t\\t</li>\\n\\t\\t\\t\\t\\t\\t\\t\\t\\t<li>\\n\\t\\t\\t\\t\\t<div class=\"h30 bt1\"></div>\\n\\t\\t\\t\\t\\t\\t\\t\\t\\t\\t\\t<div class=\"thumb\">\\n\\t\\t\\t\\t\\t\\t\\t<a href=\"/pages/articles/2023050819224795064\">\\n\\t\\t\\t\\t\\t\\t\\t\\t<div class=\"arl_img\" style=\"background-image:url(\\'/_resources/10/2023/05/08/2023050819271755630_l.s.jpg\\')\"></div>\\n\\t\\t\\t\\t\\t\\t\\t</a>\\n\\t\\t\\t\\t\\t\\t</div>\\n\\t\\t\\t\\t\\t\\t\\t\\t\\t\\t<div class=\"box\">\\n\\t\\t\\t\\t\\t\\t<p class=\"title\"><a href=\"/pages/articles/2023050819224795064\">텍사스서 \\'혐오 범죄\\' 의심 총기난사 이어 이민자 보호소 인근 차량 돌진</a></p>\\n\\t\\t\\t\\t\\t\\t<p class=\"sub_title\"><a href=\"/pages/articles/2023050819224795064\">6일 쇼핑몰 총격범 백인우월주의 경도 정황&hellip;7일엔 국경 도시 차량 돌진으로 이민자 등 8명 사망</a></p>\\n\\t\\t\\t\\t\\t\\t<p class=\"body\"><a href=\"/pages/articles/2023050819224795064\">지난 6일(현지시각) 8명의 희생자를 낳은 미국 텍사스주 댈러스 교외 쇼핑몰 총격범이 백인우월주의에 경도된 것으로 보이는 정황이 드러나 혐오 범죄 가능성이 떠오르는 가운데 7일 텍사스 남부 국경 도시 이민자 보호소 근처에 차량이 돌진해 8명이 목숨을 잃었다.\\n\\n&lt;뉴욕타임스&gt;(NYT)에 따르면 7일 텍사스 공공안전국은 전날 오후 3시30분께 댈러스</a></p>\\n\\t\\t\\t\\t\\t\\t<div class=\"byline\">\\n\\t\\t\\t\\t\\t\\t\\t<p class=\"name\">김효진 기자</p>\\n\\t\\t\\t\\t\\t\\t\\t<p class=\"date\">2023.05.08 20:20:07</p>\\n\\t\\t\\t\\t\\t\\t</div>\\n\\t\\t\\t\\t\\t</div>\\n\\t\\t\\t\\t\\t<div class=\"h30\"></div>\\n\\t\\t\\t\\t</li>\\n\\t\\t\\t\\t\\t\\t\\t\\t\\t<li>\\n\\t\\t\\t\\t\\t<div class=\"h30 bt1\"></div>\\n\\t\\t\\t\\t\\t\\t\\t\\t\\t\\t\\t<div class=\"thumb\">\\n\\t\\t\\t\\t\\t\\t\\t<a href=\"/pages/articles/2023050816411410443\">\\n\\t\\t\\t\\t\\t\\t\\t\\t<div class=\"arl_img\" style=\"background-image:url(\\'/_resources/10/2023/05/08/2023050811270782010_l.s.jpg\\')\"></div>\\n\\t\\t\\t\\t\\t\\t\\t</a>\\n\\t\\t\\t\\t\\t\\t</div>\\n\\t\\t\\t\\t\\t\\t\\t\\t\\t\\t<div class=\"box\">\\n\\t\\t\\t\\t\\t\\t<p class=\"title\"><a href=\"/pages/articles/2023050816411410443\">가까워진 한일 정상, 관계도 훈풍? &quot;좋아질 것&quot; 응답 12% 그쳐</a></p>\\n\\t\\t\\t\\t\\t\\t<p class=\"sub_title\"><a href=\"/pages/articles/2023050816411410443\">일본 포털 사이트 조사 결과 약 70% &quot;변하지 않을 것&quot;</a></p>\\n\\t\\t\\t\\t\\t\\t<p class=\"body\"><a href=\"/pages/articles/2023050816411410443\">한일 양국 정상이 두 달 만에 다시 한국에서 만나 회담을 가졌지만 한일 관계에 변화가 있을 것이라는 기대는 크지 않은 것으로 나타났다.\\n\\n일본 포털 사이트 \\'야후 재팬\\'은 7일 \\'한일 셔틀외교 재개, 일본과 한국의 관계는 어떻게 될 것으로 보나\\'라는 제목의 온라인 설문을 실시했다. 8일 현재 약 1만 5000명 정도가 참여한 이 설문에서 응답자의 68.2%</a></p>\\n\\t\\t\\t\\t\\t\\t<div class=\"byline\">\\n\\t\\t\\t\\t\\t\\t\\t<p class=\"name\">이재호 기자</p>\\n\\t\\t\\t\\t\\t\\t\\t<p class=\"date\">2023.05.08 16:52:25</p>\\n\\t\\t\\t\\t\\t\\t</div>\\n\\t\\t\\t\\t\\t</div>\\n\\t\\t\\t\\t\\t<div class=\"h30\"></div>\\n\\t\\t\\t\\t</li>\\n\\t\\t\\t\\t\\t\\t\\t\\t\\t<li>\\n\\t\\t\\t\\t\\t<div class=\"h30 bt1\"></div>\\n\\t\\t\\t\\t\\t\\t\\t\\t\\t\\t\\t<div class=\"thumb\">\\n\\t\\t\\t\\t\\t\\t\\t<a href=\"/pages/articles/2023050816175699024\">\\n\\t\\t\\t\\t\\t\\t\\t\\t<div class=\"arl_img\" style=\"background-image:url(\\'/_resources/10/2023/05/08/2023050816250559279_l.s.jpg\\')\"></div>\\n\\t\\t\\t\\t\\t\\t\\t</a>\\n\\t\\t\\t\\t\\t\\t</div>\\n\\t\\t\\t\\t\\t\\t\\t\\t\\t\\t<div class=\"box\">\\n\\t\\t\\t\\t\\t\\t<p class=\"title\"><a href=\"/pages/articles/2023050816175699024\">사우디발 훈풍 타고 시리아 \\'도살자\\' 알아사드 아랍연맹 복귀</a></p>\\n\\t\\t\\t\\t\\t\\t<p class=\"sub_title\"><a href=\"/pages/articles/2023050816175699024\">인근국 난민 부담 더해 사우디&middot;이란 관계 정상화가 발판&hellip;미 &quot;시리아 재가입 자격 없다&quot; 비판</a></p>\\n\\t\\t\\t\\t\\t\\t<p class=\"body\"><a href=\"/pages/articles/2023050816175699024\">바샤르 알아사드 정권의 인권 탄압으로 아랍연맹(AL)에서 퇴출됐던 시리아가 12년 만에 회원국 지위를 회복하게 됐다. 인근국의 시리아 난민 부담 호소와 더불어 사우디아라비아와 이란의 관계 정상화가 발판으로 작용했다.\\u2008인권단체는 알아사드 정권에\\u2008면죄부를 주는 것이라며 비판했고 미국과 영국도 부정적 반응을 보였다.\\n\\n&lt;AP&gt; 통신은 7일(현지시각) </a></p>\\n\\t\\t\\t\\t\\t\\t<div class=\"byline\">\\n\\t\\t\\t\\t\\t\\t\\t<p class=\"name\">김효진 기자</p>\\n\\t\\t\\t\\t\\t\\t\\t<p class=\"date\">2023.05.08 16:50:25</p>\\n\\t\\t\\t\\t\\t\\t</div>\\n\\t\\t\\t\\t\\t</div>\\n\\t\\t\\t\\t\\t<div class=\"h30\"></div>\\n\\t\\t\\t\\t</li>\\n\\t\\t\\t\\t\\t\\t\\t\\t\\t<li>\\n\\t\\t\\t\\t\\t<div class=\"h30 bt1\"></div>\\n\\t\\t\\t\\t\\t\\t\\t\\t\\t\\t\\t<div class=\"thumb\">\\n\\t\\t\\t\\t\\t\\t\\t<a href=\"/pages/articles/2023050713505464975\">\\n\\t\\t\\t\\t\\t\\t\\t\\t<div class=\"arl_img\" style=\"background-image:url(\\'/_resources/10/2023/05/07/2023050713452196434_l.s.jpg\\')\"></div>\\n\\t\\t\\t\\t\\t\\t\\t</a>\\n\\t\\t\\t\\t\\t\\t</div>\\n\\t\\t\\t\\t\\t\\t\\t\\t\\t\\t<div class=\"box\">\\n\\t\\t\\t\\t\\t\\t<p class=\"title\"><a href=\"/pages/articles/2023050713505464975\">英 찰스3세, 성공회 집전 대관식에서 &quot;신앙\\'들\\'의 수호자 되겠다&quot;</a></p>\\n\\t\\t\\t\\t\\t\\t<p class=\"sub_title\"><a href=\"/pages/articles/2023050713505464975\">\\'최장기간 왕세자\\' 꼬리표 떼고 즉위&hellip;해리는 참석, 마클은 불참</a></p>\\n\\t\\t\\t\\t\\t\\t<p class=\"body\"><a href=\"/pages/articles/2023050713505464975\">찰스3세 영국 국왕이 6일(현지시간) 대관식을 갖고 \\'그레이트브리튼과 북아일랜드 연합왕국\\' 및\\u200814개 영연방국의 군주로 정식 즉위했다.\\n\\n찰스 왕은 이날 오전 11시 영국 런언 웨스트민스터 사원에서 영국 국교회(성공회) 최고위 성직자인 저스틴 웰비 캔터베리 대주교가 수여한 2.23킬로그램 무게의 왕관을 썼다.\\n\\n찰스 왕은 즉위 선서에서 국왕으로서 정의와 자</a></p>\\n\\t\\t\\t\\t\\t\\t<div class=\"byline\">\\n\\t\\t\\t\\t\\t\\t\\t<p class=\"name\">곽재훈 기자</p>\\n\\t\\t\\t\\t\\t\\t\\t<p class=\"date\">2023.05.07 13:51:06</p>\\n\\t\\t\\t\\t\\t\\t</div>\\n\\t\\t\\t\\t\\t</div>\\n\\t\\t\\t\\t\\t<div class=\"h30\"></div>\\n\\t\\t\\t\\t</li>\\n\\t\\t\\t\\t\\t\\t\\t\\t\\t<li>\\n\\t\\t\\t\\t\\t<div class=\"h30 bt1\"></div>\\n\\t\\t\\t\\t\\t\\t\\t\\t\\t\\t\\t<div class=\"thumb\">\\n\\t\\t\\t\\t\\t\\t\\t<a href=\"/pages/articles/2023050310581567573\">\\n\\t\\t\\t\\t\\t\\t\\t\\t<div class=\"arl_img\" style=\"background-image:url(\\'/_resources/10/2023/05/07/2023050508370830217_l.s.jpg\\')\"></div>\\n\\t\\t\\t\\t\\t\\t\\t</a>\\n\\t\\t\\t\\t\\t\\t</div>\\n\\t\\t\\t\\t\\t\\t\\t\\t\\t\\t<div class=\"box\">\\n\\t\\t\\t\\t\\t\\t<p class=\"title\"><a href=\"/pages/articles/2023050310581567573\">60&middot;70대 한인 여성들의 특별한 고국 여행 &quot;친가족을 만났습니다&quot;</a></p>\\n\\t\\t\\t\\t\\t\\t<p class=\"sub_title\"><a href=\"/pages/articles/2023050310581567573\">입양인 고국 방문 등 돕는 美 뉴저지 비영리기관 세종문화교육원</a></p>\\n\\t\\t\\t\\t\\t\\t<p class=\"body\"><a href=\"/pages/articles/2023050310581567573\">지난 4월 19일부터 5월 1일까지 미국, 캐나다, 스웨덴에서 사는 한국 출신 60-70대 여성 37명이 한국을 찾았다. 서울, 여수, 보성, 부산, 제주도 등을 방문한 이 여행이 특별한 이유는 이들이 모두 어릴 때 해외로 입양된 입양인들이라는 사실이다. 이들은 관광, 문화체험, 홈스테이, 학교 방문 뿐 아니라 홀트아동복지회, 동방사회복지회, 대한사회복지회</a></p>\\n\\t\\t\\t\\t\\t\\t<div class=\"byline\">\\n\\t\\t\\t\\t\\t\\t\\t<p class=\"name\">전홍기혜 기자</p>\\n\\t\\t\\t\\t\\t\\t\\t<p class=\"date\">2023.05.07 07:08:08</p>\\n\\t\\t\\t\\t\\t\\t</div>\\n\\t\\t\\t\\t\\t</div>\\n\\t\\t\\t\\t\\t<div class=\"h30\"></div>\\n\\t\\t\\t\\t</li>\\n\\t\\t\\t\\t</ul>\\n\\t</div>\\n\\t<!-- 기사 리스트 022 끝 -->\\n\\t<div class=\"h30 bt1\"></div>\\n\\n\\t<ul class=\"pagination\">\\n        <li class=\" disabled\">\\n            <a href=\"/pages/news-world-list?page=1\">◀ 처음</a>\\n        </li>\\n                                                <li class=\" active num\">\\n                    <a href=\"/pages/news-world-list?page=1\">1</a>\\n                </li>\\n                                                            <li class=\" num\">\\n                    <a href=\"/pages/news-world-list?page=2\">2</a>\\n                </li>\\n                                                            <li class=\" num\">\\n                    <a href=\"/pages/news-world-list?page=3\">3</a>\\n                </li>\\n                                                            <li class=\" num\">\\n                    <a href=\"/pages/news-world-list?page=4\">4</a>\\n                </li>\\n                                                            <li class=\" num\">\\n                    <a href=\"/pages/news-world-list?page=5\">5</a>\\n                </li>\\n                                                                                                                                                                                                                                                                                                                                                                                                                                                                                                                                                                                                                                                                                                                                                                                                                                                                                                                                                                                                                                                                                                                                                                                                                                                                                                                                                                                                                                                                                                                                                                                                                                                                                                                                                                                                                                                                                                                                                                                                                                                                                                                                                                                                                                                                                                                                                                                                                                                                                                                                                                                                                                                                                                                                                                                                                                                                                                                                                                                                                                                                                                                                                                                                                                                                                                                                                                                                                                                                                                                                                                                                                                                                                                                                                                                                                                                                                                                                                                                                                                                                                                                                                                                                                                                                                                                                                                                                                                                                                                                                                                                                                                                                                                                                                                                                                                                                                                                                                                                                                                                                                                                                                                                                                                                                                                                                                                                                                                                                                                                                                                                                                                                                                                                                                                                                                                                                                                                                                                                                                                                                                                                                                                                                                                                                                                                                                                                                                                                                                                                                                                                                                                                                                                                                                                                                                                                                                                                                                                                                                                                                                                                                                                                                                                                                                                                                                                                                                                                                                                                                                                                                                                                                                                                                                                                                                                                                                                                                                                                                                                                                                                                                                                                                                                                                                                                                                                                                                                                                                                                                                                                                                                                                                                                                                                                                                                                                                                                                                                                                                                                                                                                                                                                                                                                                                                                                                                                                                                                                                                                                                                                                                                                                                                                                                                                                                                                                                                                                                                                                                                                                                                                                                                                                                                                                                                                                                                                                                                                                                                                                                                                                                                                                                                                                                                                                                                                                                                                                                                                                                                                                                                                                                                                                                                                                                                                                                                                                                                                                                                                                                                                                                                                                                                                                                                                                                                                                                                                                                                                                                                                                                                                                                                                                                                                                                                                                                                                                                                                                                                                                                                                                                                                                                                                                                                                                                                                                                                                                                                                                                                                                                                                                                                                                                                                                                                                                                                                                                                                                                                                                                                                                                                                                                                                                                                                                                                                                                                                                                                                                                                                                                                                                                                                                                                                                                                                                                                                                                                                                                                                                                                                                                                                                                                                                                                                                                                                                                                                                                                                                                                                                                                                                                                                                                                                                                                                                                                                                                                                                                                                                                                                                                                                                                                                                                                                                                                                                                                                                                                                                                                                                                                                                                                                                                                                                                                                                                                                                                                                                                                                                                                                                                                                                                                                                                                                                                                                                                                                                                                                                                                                                                                                                                                                                                                                                                                                                                                                                                                                                                                                                                                                                                                                                                                                                                                                                                                                                                                                                                                                                                                                                                                                                                                                                                                                                                                                                                                                                                                                                                                                                                                                                                                                                                                                                                                                                                                                                                                                                                                                                                                                                                                                                                                                                                                                                                                                                                                                                                                                                                                                                                                                                                                                                                                                                                                                                                                                                                                                                                                                                                                                                                                                                                                                                                                                                                                                                                                                                                                                                                                                                                                                                                                                                                                                                                                                                                                                                                                                                                                                                                                                                                                                                                                                                                                                                                                                                                                                                                                                                                                                                                                                                                                                                                                                                                                                                                                                                                                                                                                                                                                                                                                                                                                                                                                                                                                                                                                                                                                                                                                                                                                                                                                                                                                                                                                                                                                                                                                                                                                                                                                                                                                                                                                                                                                                                                                                                                                                                                                                                                                                                                                                                                                                                                                                                                                                                                                                                                                                                                                                                                                                                                                                                                                                                                                                                                                                                                                                                                                                                                                                                                                                                                                                                                                                                                                                                                                                                                                                                                                                                                                                                                                                                                                                                                                                                                                                                                                                                                                                                                                                                                                                                                                                                                                                                                                                                                                                                                                                                                                                                                                                                                                                                                                                                                                                                                                                                                                                                                                                                                                                                                                                                                                                                                                                                                                                                                                                                                                                                                                                                                                                                                                                                                                                                                                                                                                                                                                                                                                                                                                                                                                                                                                                                                                                                                                                                                                                                                                                                                                                                                                                                                                                                                                                                                                                                                                                                                                                                                                                                                                                                                                                                                                                                                                                                                                                                                                                                                                                                                                                                                                                                                                                                                                                                                                                                                                                                                                                                                                                                                                                                                                                                                                                                                                                                                                                                                                                                                                                                                                                                                                                                                                                                                                                                                                                                                                                                                                                                                                                                                                                                                                                                                                                                                                                                                                                                                                                                                                                                                                                                                                                                                                                                                                                                                                                                                                                                                                                                                                                                                                                                                                                                                                                                                                                                                                                                                                                                                                                                                                                                                                                                                                                                                                                                                                                                                                                                                                                                                                                                                                                                                                                                                                                                                                                                                                                                                                                                                                                                                                                                                                                                                                                                                                                                                                                                                                                                                                                                                                                                                                                                                                                                                                                                                                                                                                                                                                                                                                                                                                                                                                                                                                                                                                                                                                                                                                                                                                                                                                                                                                                                                                                                                                                                                                                                                                                                                                                                                                                                                                                                                                                                                                                                                                                                                                                                                                                                                                                                                                                                                                                                                                                                                                                                                                                                                                                                                                                                                                                                                                                                                                                                                                                                                                                                                                                                                                                                                                                                                                                                                                                                                                                                                                                                                                                                                                                                                                                                                                                                                                                                                                                                                                                                                                                                                                                                                                                                                                                                                                                                                                                                                                                                                                                                                                                                                                                                                                                                                                                                                                                                                                                                                                                                                                                                                                                                                                                                                                                                                                                                                                                                                                                                                                                                                                                                                                                                                                                                                                                                                                                                                                                                                                                                                                                                                                                                                                                                                                                                                                                                                                                                                                                                                                                                                                                                                                                                                                                                                                                                                                                                                                                                                                                                                                                                                                                                                                                                                                                                                                                                                                                                                                                                                                                                                                                                                                                                                                                                                                                                                                                                                                                                                                                                                                                                                                                                                                                                                                                                                                                                                                                                                                                                                                                                                                                                                                                                                                                                                                                                                                                                                                                                                                                                                                                                                                                                                                                                                                                                                                                                                                                                                                                                                                                                                                                                                                                                                                                                                                                                                                                                                                                                                                                                                                                                                                                                                                                                                                                                                                                                                                                                                                                                                                                                                                                                                                                                                                                                                                                                                                                                                                                                                                                                                                                                                                                                                                                                                                                                                                                                                                                                                                                                                                                                                                                                                                                                                                                                                                                                                                                                                                                                                                                                                                                                                                                                                                                                                                                                                                                                                                                                                                                                                                                                                                                                                                                                                                                                                                                                                                                                                                                                                                                                                                                                                                                                                                                                                                                                                                                                                                                                                                                                                                                                                                                                                                                                                                                                                                                                                                                                                                                                                                                                                                                                                                                                                                                                                                                                                                                                                                                                                                                                                                                                                                                                                                                                                                                                                                                                                                                                                                                                                                                                                                                                                                                                                                                                                                                                                                                                                                                                                                                                                                                                                                                                                                                                                                                                                                                                                                                                                                                                                                                                                                                                                                                                                                                                                                                                                                                                                                                                                                                                                                                                                                                                                                                                                                                                                                                                                                                                                                                                                                                                                                                                                                                                                                                                                                                                                                                                                                                                                                                                                                                                                                                                                                                                                                                                                                                                                                                                                                                                                                                                                                                                                                                                                                                                                                                                                                                                                                                                                                                                                                                                                                                                                                                                                                                                                                                                                                                                                                                                                                                                                                                                                                                                                                                                                                                                                                                                                                                                                                                                                                                                                                                                                                                                                                                                                                                                                                                                                                                                                                                                                                                                                                                                                                                                                                                                                                                                                                                                                                                                                                                                                                                                                                                                                                                                                                                                                                                                                                                                                                                                                                                                                                                                                                                                                                                                                                                                                                                                                                                                                                                                                                                                                                                                                                                                                                                                                                                                                                                                                                                                                                                                                                                                                                                                                                                                                                                                                                                                                                                                                                                                                                                                                                                                                                                                                                                                                                                                                                                                                                                                                                                                                                                                                                                                                                                                                                                                                                                                                                                                                                                                                                                                                                                                                                                                                                                                                                                                                                                                                                                                                                                                                                                                                                                                                                                                                                                                                                                                                                                                                                                                                                                                                                                                                                                                                                                                                                                                                                                                                                                                                                                                                                                                                                                                                                                                                                                                                                                                                                                                                                                                                                                                                                                                                                                                                                                                                                                                                                                                                                                                                                                                                                                                                                                                                                                                                                                                                                                                                                                                                                                                                                                                                                                                                                                                                                                                                                                                                                                                                                                                                                                                                                                                                                                                                                                                                                                                                                                                                                                                                                                                                                                                                                                                                                                                                                                                                                                                                                                                                                                                                                                                                                                                                                                                                                                                                                                                                                                                                                                                                                                                                                                                                                                                                                                                                                                                                                                                                                                                                                                                                                                                                                                                                                                                                                                                                                                                                                                                                                                                                                                                                                                                                                                                                                                                                                                                                                                                                                                                                                                                                                                                                                                                                                                                                                                                                                                                                                                                                                                                                                                                                                                                                                                                                                                                                                                                                                                                                                                                                                                                                                                                                                                                                                                                                                                                                                                                                                                                                                                                                                                                                                                                                                                                                                                                                                                                                                                                                                                                                                                                                                                                                                                                                                                                                                                                                                                                                                                                                                                                                                                                                                                                                                                                                                                                                                                                                                                                                                                                                                                                                                                                                                                                                                                                                                                                                                                                                                                                                                                                                                                                                                                                                                                                                                                                                                                                                                                                                                                                                                                                                                                                                                                                                                                                                                                                                                                                                                                                                                                                                                                                                                                                                                                                                                                                                                                                                                                                                                                                                                                                                                                                                                                                                                                                                                                                                                                                                                                                                                                                                                                                                                                                                                                                                                                                                                                                                                                                                                                                                                                                                                                                                                                                                                                                                                                                                                                                                                                                                                                                                                                                                                                                                                                                                                                                                                                                                                                                                                                                                                                                                                                                                                                                                                                                                                                                                                                                                                                                                                                                                                                                                                                                                                                                                                                                                                                                                                                                                                                                                                                                                                                                                                                                                                                                                                                                                                                                                                                                                                                                                                                                                                                                                                                                                                                                                                                                                                                                                                                                                                                                                                                                                                                                                                                                                                                                                                                                                                                                                                                                                                                                                                                                                                                                                                                                                                                                                                                                                                                                                                                                                                                                                                                                                                                                                                                                                                                                                                                                                                                                                                                                                                                                                                                                                                                                                                                                                                                                                                                                                                                                                                                                                                                                                                                                                                                                                                                                                                                                                                                                                                                                                                                                                                                                                                                                                                                                                                                                                                                                                                                                                                                                                                                                                                                                                                                                                                                                                                                                                                                                                                                                                                                                                                                                                                                                                                                                                                                                                                                                                                                                                                                                                                                                                                                                                                                                                                                                                                                                                                                                                                                                                                                                                                                                                                                                                                                                                                                                                                                                                                                                                                                                                                                                                                                                                                                                                                                                                                                                                                                                                                                                                                                                                                                                                                                                                                                                                                                                                                                                                                                                                                                                                                                                                                                                                                                                                                                                                                                                                                                                                                                                                                                                                                                                                                                                                                                                                                                                                                                                                                                                                                                                                                                                                                                                                                                                                                                                                                                                                                                                                                                                                                                                                                                                                                                                                                                                                                                                                                                                                                                                                                                                                                                                                                                                                                                                                                                                                                                                                                                                                                                                                                                                                                                                                                                                                                                                                            <li class=\"\">\\n            <a href=\"/pages/news-world-list?page=2433\">마지막 ▶</a>\\n        </li>\\n    </ul>\\n\\n\\n</div>\\n\\n\\n\\n\\n                 <div class=\"aside\">\\n                    \\t <!-- 배너 시작 -->\\n\\t\\t<div data-mod=\"247\" data-id=\"78\" data-modulable=\"2\" data-order=\"1\" class=\"banner editor_view\">\\n\\t\\t\\t\\t\\t\\t\\t\\t\\t\\t\\t\\t\\t\\t<script type=\"text/javascript\" src=\"https://ads.netinsight.co.kr/NetInsight/js/pressian/Pressian_Section/Page_section@Samsung_SR1\"></script>\\n\\t\\t\\t\\t\\t\\t\\t\\t\\t\\t</div>\\n\\t<!-- 배너 끝 -->\\n \\t\\t\\t<div class=\"h40\"></div>\\n\\t\\t <!-- 배너 시작 -->\\n\\t\\t<div data-mod=\"229\" data-id=\"78\" data-modulable=\"2\" data-order=\"2\" class=\"banner editor_view\">\\n\\t\\t\\t\\t\\t\\t\\t\\t\\t\\t\\t\\t\\t\\t<a href=\"https://cafe.naver.com/huschool\" target=_blank>\\n\\t\\t\\t\\t\\t\\t<img src=\"/_resources/20/113/202003/0u4bEftMUEPzMeU3_2.png\" alt=\"배너\" width=280 height=152>\\n\\t\\t\\t\\t\\t</a>\\n\\t\\t\\t\\t\\t\\t\\t\\t\\t\\t</div>\\n\\t<!-- 배너 끝 -->\\n \\t\\t\\t<div class=\"h40\"></div>\\n\\t\\t <!-- 배너 시작 -->\\n\\t\\t<div data-mod=\"652\" data-id=\"78\" data-modulable=\"2\" data-order=\"3\" class=\"banner editor_view\">\\n\\t\\t\\t\\t\\t\\t\\t\\t\\t\\t\\t\\t\\t\\t<script type=\"text/javascript\" src=\"https://ads.netinsight.co.kr/NetInsight/js/pressian/Pressian_Section/Page_section@NEW_SR4\"></script>\\n\\t\\t\\t\\t\\t\\t\\t\\t\\t\\t</div>\\n\\t<!-- 배너 끝 -->\\n \\t\\t\\t<div class=\"h40\"></div>\\n\\t\\t <!-- 배너 시작 -->\\n\\t\\t<div data-mod=\"116\" data-id=\"78\" data-modulable=\"2\" data-order=\"4\" class=\"banner editor_view\">\\n\\t\\t\\t\\t\\t\\t\\t\\t\\t\\t\\t\\t\\t\\t<script src=\"//ad.tjtune.com/cgi-bin/PelicanC.dll?impr?pageid=0Cfe&out=script\" charset=\"euc-kr\"></script>\\n\\t\\t\\t\\t\\t\\t\\t\\t\\t\\t</div>\\n\\t<!-- 배너 끝 -->\\n \\t\\t\\t<div class=\"h40\"></div>\\n\\t\\t <!-- 배너 시작 -->\\n\\t\\t<div data-mod=\"117\" data-id=\"78\" data-modulable=\"2\" data-order=\"5\" class=\"banner editor_view\">\\n\\t\\t\\t\\t\\t\\t\\t\\t\\t\\t\\t\\t\\t\\t<script src=\"//ad.tjtune.com/cgi-bin/PelicanC.dll?impr?pageid=08kj&out=script\" charset=\"euc-kr\"></script>\\n\\t\\t\\t\\t\\t\\t\\t\\t\\t\\t</div>\\n\\t<!-- 배너 끝 -->\\n \\t\\t\\t<div class=\"h40\"></div>\\n\\t                 </div>\\n                <div class=\"h60\"></div>\\n            </div>\\n        </div>\\n                \\t<!-- 푸터 시작 -->\\n<div id=\"footer\">\\n\\t<div class=\"affiliates\">\\n\\t\\t<ul class=\"list\">\\n\\t\\t\\t\\t\\t\\t\\t<li style=\"height: 40px\">&nbsp;</li>\\n\\t\\t\\t\\t<li>&nbsp;</li>\\n\\t\\t\\t\\t<li>&nbsp;</li>\\n\\t\\t\\t\\t<li>&nbsp;</li>\\n\\t\\t\\t\\t<li>&nbsp;</li>\\n\\t\\t\\t\\t<li>&nbsp;</li>\\n\\t\\t\\t\\t<li>&nbsp;</li>\\n\\t\\t\\t\\t\\t</ul>\\n\\t</div>\\n\\t<div class=\"inner\">\\n\\t\\t<div class=\"f_logo\">\\n\\t\\t\\t<a href=\"/\"><img src=\"/images/site/common/f_logo.png\" alt=\"프레시안\"></a>\\n\\t\\t</div>\\n\\t\\t<div class=\"info\">\\n\\t\\t\\t<ul class=\"services\">\\n\\t\\t\\t\\t<li><a href=\"http://www.pressian.com/company\" target=\"_blank\">조합소개</a></li>\\n\\t\\t\\t\\t<li><a href=\"/psForumQnas/create\">기사제보</a></li>\\n\\t\\t\\t\\t<li><a href=\"javascript:doPopup(\\'/member/agree_info/1\\', 600, 600, \\'yes\\')\">저작권 정책</a></li>\\n\\t\\t\\t\\t<li><a href=\"javascript:doPopup(\\'/member/agree_info/2\\', 600, 600, \\'yes\\')\">이메일 무단수집거부</a></li>\\n\\t\\t\\t\\t<li><a href=\"javascript:doPopup(\\'/member/agree_info/3\\', 600, 600, \\'yes\\')\">개인정보취급방침</a></li>\\n\\t\\t\\t\\t<li><a href=\"javascript:doPopup(\\'/member/agree_info/4\\', 600, 600, \\'yes\\')\">청소년보호방침</a></li>\\n\\t\\t\\t\\t<li><a href=\"/rss\" target=\"_blank\">RSS</a></li>\\n\\t\\t\\t</ul>\\n\\t\\t\\t<p class=\"company_info\">\\n\\t\\t\\t\\t프레시안협동조합 | 사업자번호 101-81-69524 | 대표 전홍기혜<br/>\\n\\t\\t\\t\\t제호: 프레시안 | 신문사업·인터넷신문사업 등록번호 서울아00083 | 창간 2001.9.24 | 등록 2005.10.12 | 발행인·편집인 전홍기혜 | 청소년보호책임자 김봉규 <br>\\n\\t\\t\\t\\t(04043) 서울시 마포구 서교동 395-73 BK빌딩 101호(양화로 10길 49 BK빌딩 101호) | 02-722-8494 | FAX 02-6008-8400\\n\\t\\t\\t</p>\\n\\t\\t\\t<p class=\"copyright\">Copyrightⓒ Pressian Coop. All rights reserved.</p>\\n\\t\\t</div>\\n\\t</div>\\n</div>\\n<!-- 푸터 끝 -->\\n\\n\\n\\n                <div id=\"wc_react_site_modal_mod\"></div>\\n    </div>\\n</body>\\n\\n\\n</html>\\n'"
      ]
     },
     "execution_count": 58,
     "metadata": {},
     "output_type": "execute_result"
    }
   ],
   "source": [
    "url = 'https://www.pressian.com/pages/news-world-list?page=1'\n",
    "html = urllib.request.urlopen(url).read()\n",
    "html.decode(encoding='utf-8')"
   ]
  },
  {
   "cell_type": "code",
   "execution_count": 59,
   "id": "e4c449c7-aa27-4b38-a903-bfdd44391ff2",
   "metadata": {},
   "outputs": [],
   "source": [
    "from bs4 import BeautifulSoup"
   ]
  },
  {
   "cell_type": "code",
   "execution_count": 72,
   "id": "f9cbbb48-b2ab-4a4d-8b1c-6692a6da8c83",
   "metadata": {
    "collapsed": true,
    "jupyter": {
     "outputs_hidden": true
    },
    "tags": []
   },
   "outputs": [
    {
     "data": {
      "text/plain": [
       "<!DOCTYPE html>\n",
       "\n",
       "<html lang=\"ko\">\n",
       "<head>\n",
       "<meta charset=\"utf-8\"/>\n",
       "<!--meta name=\"viewport\" content=\"width=1900, initial-scale=0.5, minimum-scale=0.1, maximum-scale=3, user-scalable=yes, target-densitydpi=medium-dpi\"-->\n",
       "<!--meta name=\"viewport\" content=\"width=1700, initial-scale=1, minimum-scale=0.1, maximum-scale=3, user-scalable=yes, target-densitydpi=medium-dpi\"-->\n",
       "<meta content=\"KtjHPFzYppb5Ih6795aXR0Q50s2RLaGCIVRPMO36\" name=\"csrf-token\"/> <!-- FIXME: CSRF Token -->\n",
       "<link href=\"https://www.pressian.com/pages/news-world-list\" rel=\"canonical\"/>\n",
       "<meta content=\"관점이 있는 뉴스 - 프레시안\" name=\"Subject\">\n",
       "<meta content=\"관점이 있는 뉴스 - 프레시안\" name=\"Copyright\">\n",
       "<meta content=\"관점이 있는 뉴스 - 프레시안\" name=\"Keyword\"/>\n",
       "<meta content=\"관점이 있는 뉴스 - 프레시안\" name=\"Title\"/>\n",
       "<meta content=\"관점이 있는 뉴스 - 프레시안\" name=\"Description\"/>\n",
       "<meta content=\"829a32bc2eccf0cf21b7fbfdd06df931017addc4\" name=\"naver-site-verification\"/>\n",
       "<meta content=\"/images/site/common/h_logo.png\" property=\"og:image\"/>\n",
       "<title>관점이 있는 뉴스 - 프레시안</title>\n",
       "<link href=\"/pressian.ico\" rel=\"icon\" type=\"image/x-icon\"/>\n",
       "<link href=\"/css/site/reset.css\" rel=\"stylesheet\" type=\"text/css\"/>\n",
       "<link href=\"/css/site/jquery-ui.css\" rel=\"stylesheet\" type=\"text/css\"/>\n",
       "<link href=\"/css/site/slick.css\" rel=\"stylesheet\" type=\"text/css\"/>\n",
       "<link href=\"/css/site/slick-theme.css\" rel=\"stylesheet\" type=\"text/css\"/>\n",
       "<link href=\"/css/site/dd.css\" rel=\"stylesheet\" type=\"text/css\"/>\n",
       "<link href=\"/css/site/common.css\" rel=\"stylesheet\" type=\"text/css\"/>\n",
       "<link href=\"/css/site/style.css\" rel=\"stylesheet\" type=\"text/css\"/>\n",
       "<link href=\"/css/site/font-awesome.css\" rel=\"stylesheet\" type=\"text/css\"/>\n",
       "<script src=\"/js/site/jquery-1.12.4.js\" type=\"text/javascript\"></script>\n",
       "<script src=\"/js/site/jquery-ui.js\" type=\"text/javascript\"></script>\n",
       "<script src=\"/js/site/slick.js\" type=\"text/javascript\"></script>\n",
       "<script src=\"/js/site/jquery.dd.js\" type=\"text/javascript\"></script>\n",
       "<script src=\"/js/site/common.js\" type=\"text/javascript\"></script>\n",
       "<!-- Start Google Tag Manager -->\n",
       "<script async=\"\" src=\"https://www.googletagmanager.com/gtag/js?id=UA-33077852-1\"></script>\n",
       "<script>\n",
       "        window.dataLayer = window.dataLayer || [];\n",
       "\n",
       "        function gtag() {\n",
       "            dataLayer.push(arguments);\n",
       "        }\n",
       "        gtag('js', new Date());\n",
       "\n",
       "        gtag('config', 'UA-33077852-1');\n",
       "    </script>\n",
       "<!-- Google Tag Manager -->\n",
       "<script>(function(w,d,s,l,i){w[l]=w[l]||[];w[l].push({'gtm.start':\n",
       "                new Date().getTime(),event:'gtm.js'});var f=d.getElementsByTagName(s)[0],\n",
       "            j=d.createElement(s),dl=l!='dataLayer'?'&l='+l:'';j.async=true;j.src=\n",
       "            'https://www.googletagmanager.com/gtm.js?id='+i+dl;f.parentNode.insertBefore(j,f);\n",
       "        })(window,document,'script','dataLayer','GTM-TPPP29D');\n",
       "\n",
       "    </script>\n",
       "<!-- End Google Tag Manager -->\n",
       "<script>\n",
       "        (function(d,a,b,l,e,_) {\n",
       "            d[b]=d[b]||function(){(d[b].q=d[b].q||[]).push(arguments)};e=a.createElement(l);\n",
       "            e.async=1;e.charset='utf-8';e.src='//static.dable.io/dist/plugin.min.js';\n",
       "            _=a.getElementsByTagName(l)[0];_.parentNode.insertBefore(e,_);\n",
       "        })(window,document,'dable','script');\n",
       "        dable('setService', 'pressian.com');\n",
       "        dable('sendLog');\n",
       "    </script>\n",
       "</meta></meta></head>\n",
       "<body>\n",
       "<!-- Google Tag Manager (noscript) -->\n",
       "<noscript><iframe height=\"0\" src=\"https://www.googletagmanager.com/ns.html?id=GTM-TPPP29D\" style=\"display:none;visibility:hidden\" width=\"0\"></iframe></noscript>\n",
       "<!-- End Google Tag Manager (noscript) -->\n",
       "<div id=\"wrap\">\n",
       "<!-- 헤더 시작 -->\n",
       "<div id=\"header\">\n",
       "<!-- 헤더 탑 시작 -->\n",
       "<script>\n",
       "    function publish() \n",
       "    {\n",
       "        var result = confirm(\"전체게시 하시겠습니까?\");\n",
       "        if(result) {\n",
       "            location.href=\"/psUsers/storeDisplay\";\n",
       "        }\n",
       "    }\n",
       "</script>\n",
       "<div class=\"header_top\">\n",
       "<div class=\"inner\">\n",
       "<div class=\"sns_list\">\n",
       "<a href=\"http://www.facebook.com/pressian.news\" target=\"_blank\"><img alt=\"페이스북\" src=\"/images/site/common/h_icon_fb.png\"/></a>\n",
       "<a href=\"http://twitter.com/pressian_news\" target=\"_blank\"><img alt=\"트위터\" src=\"/images/site/common/h_icon_tw.png\"/></a>\n",
       "<a href=\"http://story.kakao.com/ch/pressian\" target=\"_blank\"><img alt=\"카카오스토리\" src=\"/images/site/common/h_icon_ks.png\"/></a>\n",
       "</div>\n",
       "<p class=\"editing_data\">\n",
       "            최종편집\n",
       "                            2023년 05월 12일 14시 33분\n",
       "                    </p>\n",
       "<ul class=\"utility_list\">\n",
       "<li><a href=\"/psForumQnas/create\">제보</a></li>\n",
       "<li><a href=\"/psForumQnas/1/edit\">문의</a></li>\n",
       "<li><a href=\"/psUsers/create\">회원가입</a></li>\n",
       "<li><a href=\"/psUsers/createSession\">로그인</a></li>\n",
       "</ul>\n",
       "</div>\n",
       "</div>\n",
       "<!-- 헤더 탑 끝 -->\n",
       "<!-- 헤더 미들 시작 -->\n",
       "<div class=\"header_mid\">\n",
       "<div class=\"left_banner\">\n",
       "<a href=\"/psUsers/create\"><img alt=\"프레시안 가입하기\" src=\"/images/site/21th_top_new.jpg\" style=\"width:320px;\"/></a>\n",
       "</div>\n",
       "<h1 class=\"logo\">\n",
       "<a href=\"/\"><img alt=\"프레시안\" src=\"/images/site/common/h_logo.png\"/></a>\n",
       "</h1>\n",
       "<div class=\"join_banner\">\n",
       "<script charset=\"euc-kr\" src=\"//ad.tjtune.com/cgi-bin/PelicanC.dll?impr?pageid=0DON&amp;out=script\"></script>\n",
       "</div>\n",
       "</div>\n",
       "<!-- 헤더 미들 끝 -->\n",
       "<!-- 헤더 바텀 시작 -->\n",
       "<div class=\"header_bottom\">\n",
       "<div class=\"inner\">\n",
       "<ul class=\"gnb\">\n",
       "<li><a href=\"/\">홈</a></li>\n",
       "<li><a href=\"/pages/opinion\">오피니언</a></li>\n",
       "<li><a href=\"/pages/news-politics\">정치</a></li>\n",
       "<li><a href=\"/pages/news-economy\">경제</a></li>\n",
       "<li><a href=\"/pages/news-society\">사회</a></li>\n",
       "<li><a href=\"/pages/news-world\">세계</a></li>\n",
       "<li><a href=\"/pages/news-culture\">문화</a></li>\n",
       "<li><a href=\"/pages/books\">Books</a></li>\n",
       "<li><a href=\"/pages/nation\">전국</a></li>\n",
       "<li><a href=\"/pages/with\">스페셜</a></li>\n",
       "<li><a href=\"/psForums\">협동조합</a></li>\n",
       "</ul>\n",
       "<div class=\"lnb\">\n",
       "<ul>\n",
       "</ul>\n",
       "<ul>\n",
       "</ul>\n",
       "<ul>\n",
       "</ul>\n",
       "<ul>\n",
       "</ul>\n",
       "<ul>\n",
       "</ul>\n",
       "<ul>\n",
       "</ul>\n",
       "<ul>\n",
       "</ul>\n",
       "<ul>\n",
       "</ul>\n",
       "<ul>\n",
       "<li><a href=\"/pages/nation-kw\">강원</a></li>\n",
       "<li><a href=\"/pages/nation-bu\">부산/울산</a></li>\n",
       "<li><a href=\"/pages/nation-kn\">경남</a></li>\n",
       "<li><a href=\"/pages/nation-kj\">광주/전남</a></li>\n",
       "<li><a href=\"/pages/nation-sc\">대전/세종/충청</a></li>\n",
       "<li><a href=\"/pages/nation-jb\">전북</a></li>\n",
       "<li><a href=\"/pages/nation-dk\">대구/경북</a></li>\n",
       "<li><a href=\"/pages/nation-jj\">제주</a></li>\n",
       "<li><a href=\"/pages/nation-gg\">경기/인천</a></li>\n",
       "</ul>\n",
       "<ul>\n",
       "<li><a href=\"/pages/coop-visit\">협동조합 탐방</a></li>\n",
       "<li><a href=\"/pages/with\">함께자리</a></li>\n",
       "<li><a href=\"/pages/news-press\">언론네트워크</a></li>\n",
       "<li><a href=\"/pages/china\">차이나인사이트</a></li>\n",
       "<li><a href=\"/pages/huschool\">인문학습원</a></li>\n",
       "</ul>\n",
       "<ul>\n",
       "</ul>\n",
       "</div>\n",
       "<form action=\"/pages/search\" id=\"search_form\" method=\"get\">\n",
       "<input name=\"sort\" type=\"hidden\" value=\"1\"/>\n",
       "<div class=\"search\">\n",
       "<input id=\"search\" name=\"search\" onkeypress=\"return searchKeyPress(event);\" type=\"text\"/>\n",
       "<span class=\"search_btn\"><a href=\"javascript:search_submit();\"><img alt=\"검색\" src=\"/images/site/common/h_icon_search.png\"/></a></span>\n",
       "</div>\n",
       "</form>\n",
       "</div>\n",
       "<div class=\"total_menu_wrap\">\n",
       "<div class=\"inner\">\n",
       "<ul>\n",
       "<li>\n",
       "<p class=\"title\"><a href=\"/\">홈</a></p>\n",
       "<ul>\n",
       "</ul>\n",
       "</li>\n",
       "<li>\n",
       "<p class=\"title\"><a href=\"/pages/opinion\">오피니언</a></p>\n",
       "<ul>\n",
       "</ul>\n",
       "</li>\n",
       "<li>\n",
       "<p class=\"title\"><a href=\"/pages/news-politics\">정치</a></p>\n",
       "<ul>\n",
       "</ul>\n",
       "</li>\n",
       "<li>\n",
       "<p class=\"title\"><a href=\"/pages/news-economy\">경제</a></p>\n",
       "<ul>\n",
       "</ul>\n",
       "</li>\n",
       "<li>\n",
       "<p class=\"title\"><a href=\"/pages/news-society\">사회</a></p>\n",
       "<ul>\n",
       "</ul>\n",
       "</li>\n",
       "<li>\n",
       "<p class=\"title\"><a href=\"/pages/news-world\">세계</a></p>\n",
       "<ul>\n",
       "</ul>\n",
       "</li>\n",
       "<li>\n",
       "<p class=\"title\"><a href=\"/pages/news-culture\">문화</a></p>\n",
       "<ul>\n",
       "</ul>\n",
       "</li>\n",
       "<li>\n",
       "<p class=\"title\"><a href=\"/pages/books\">Books</a></p>\n",
       "<ul>\n",
       "</ul>\n",
       "</li>\n",
       "<li>\n",
       "<p class=\"title\"><a href=\"/pages/nation\">전국</a></p>\n",
       "<ul>\n",
       "<li><a href=\"/pages/nation-kw\">강원</a></li>\n",
       "<li><a href=\"/pages/nation-bu\">부산/울산</a></li>\n",
       "<li><a href=\"/pages/nation-kn\">경남</a></li>\n",
       "<li><a href=\"/pages/nation-kj\">광주/전남</a></li>\n",
       "<li><a href=\"/pages/nation-sc\">대전/세종/충청</a></li>\n",
       "<li><a href=\"/pages/nation-jb\">전북</a></li>\n",
       "<li><a href=\"/pages/nation-dk\">대구/경북</a></li>\n",
       "<li><a href=\"/pages/nation-jj\">제주</a></li>\n",
       "<li><a href=\"/pages/nation-gg\">경기/인천</a></li>\n",
       "</ul>\n",
       "</li>\n",
       "<li>\n",
       "<p class=\"title\"><a href=\"/pages/with\">스페셜</a></p>\n",
       "<ul>\n",
       "<li><a href=\"/pages/coop-visit\">협동조합 탐방</a></li>\n",
       "<li><a href=\"/pages/with\">함께자리</a></li>\n",
       "<li><a href=\"/pages/news-press\">언론네트워크</a></li>\n",
       "<li><a href=\"/pages/china\">차이나인사이트</a></li>\n",
       "<li><a href=\"/pages/huschool\">인문학습원</a></li>\n",
       "</ul>\n",
       "</li>\n",
       "<li>\n",
       "<p class=\"title\"><a href=\"/psForums\">협동조합</a></p>\n",
       "<ul>\n",
       "</ul>\n",
       "</li>\n",
       "</ul>\n",
       "</div>\n",
       "</div>\n",
       "</div>\n",
       "<!-- 헤더 바텀 끝 -->\n",
       "<script>\n",
       "    function onSubmit()\n",
       "    {\n",
       "        $('#search_form').submit();\n",
       "    }\n",
       "    function searchKeyPress(e)\n",
       "    {\n",
       "        e = e || window.event;\n",
       "        if (e.keyCode == 13)\n",
       "        {\n",
       "            var keyword = $('#search').val();\n",
       "            if(keyword === '') {\n",
       "                alert('검색어를 입력해 주세요.');\n",
       "                return false;\n",
       "            } else {\n",
       "                onSubmit();\n",
       "                return false;\n",
       "            }\n",
       "        }\n",
       "\n",
       "    }\n",
       "    function search_submit() {\n",
       "        var keyword = $('#search').val();\n",
       "        if(keyword === '') {\n",
       "            alert('검색어를 입력해 주세요.');\n",
       "            return false;\n",
       "        } else {\n",
       "            onSubmit();\n",
       "            return false;\n",
       "        }\n",
       "    }\n",
       "</script>\n",
       "</div>\n",
       "<!-- 헤더 끝 -->\n",
       "<div id=\"container\">\n",
       "<div class=\"inner\">\n",
       "<!-- 윙 배너 시작 -->\n",
       "<div class=\"wing_banner\">\n",
       "<div class=\"wb_left\">\n",
       "<div class=\"banner\"><script charset=\"euc-kr\" src=\"//ad.tjtune.com/cgi-bin/PelicanC.dll?impr?pageid=02Op&amp;out=script\"></script></div>\n",
       "<div class=\"h30\"></div>\n",
       "<div class=\"banner\"><script charset=\"euc-kr\" src=\"//ad.tjtune.com/cgi-bin/PelicanC.dll?impr?pageid=03vn&amp;out=script\"></script></div>\n",
       "</div>\n",
       "<div class=\"wb_right\">\n",
       "<div class=\"banner\"><script charset=\"euc-kr\" src=\"//ad.tjtune.com/cgi-bin/PelicanC.dll?impr?pageid=02Sg&amp;out=script\"></script></div>\n",
       "<div class=\"h30\"></div>\n",
       "<div class=\"banner\"><script charset=\"euc-kr\" src=\"//ad.tjtune.com/cgi-bin/PelicanC.dll?impr?pageid=01HO&amp;out=script\"></script></div>\n",
       "</div>\n",
       "</div>\n",
       "<!-- 윙 배너 끝 -->\n",
       "<script>\n",
       "    $(function() {\n",
       "        //윙배너 높이 조절 떄문에 광고 container inner로 위치 이동\n",
       "        if($(\".article_view_top_ad\")) {\n",
       "            $(\"#container > .inner\").eq(0).prepend($(\".article_view_top_ad\"));\n",
       "        }\n",
       "        //console.log($(\".wb_left .banner\").offset().top);\n",
       "        if($(\".wb_left .banner\").eq(0).length) {\n",
       "            var wingBannerTop = $(\".wb_left .banner\").eq(0).offset().top;\n",
       "        }\n",
       "        if($(\".wb_left .banner\").eq(1).length) {\n",
       "        \tvar wingBannerTop2 = $(\".wb_left .banner\").eq(1).offset().top;\n",
       "        }\n",
       "        var Article_ViewTopAd = 0;\n",
       "        /*$(window).scroll(function() {\n",
       "            if(!Article_ViewTopAd && $(\".article_view_top_ad\").eq(0).length) {\n",
       "                Article_ViewTopAd = $(\".article_view_top_ad\").height();\n",
       "                wingBannerTop+= Article_ViewTopAd;\n",
       "                wingBannerTop2+= Article_ViewTopAd;\n",
       "            }\n",
       "            var scrollTop = $(this).scrollTop();\n",
       "            if(wingBannerTop2) {\n",
       "                if(scrollTop >= wingBannerTop2) {\n",
       "                    $(\".wb_left\").css(\"top\", (scrollTop - wingBannerTop2) + 60);\n",
       "                    $(\".wb_right\").css(\"top\", (scrollTop - wingBannerTop2) + 60);\n",
       "                } else {\n",
       "                    $(\".wb_left\").css(\"top\", \"0px\");\n",
       "                    $(\".wb_right\").css(\"top\", \"0px\");\n",
       "                }\n",
       "            } else if (wingBannerTop) {\n",
       "                if(scrollTop >= wingBannerTop) {\n",
       "                    $(\".wb_left\").css(\"top\", (scrollTop - wingBannerTop) + 60);\n",
       "                    $(\".wb_right\").css(\"top\", (scrollTop - wingBannerTop) + 60);\n",
       "                } else {\n",
       "                    $(\".wb_left\").css(\"top\", \"0px\");\n",
       "                    $(\".wb_right\").css(\"top\", \"0px\");\n",
       "                }\n",
       "\t\t\t}\n",
       "        }) ;*/\n",
       "    });\n",
       "</script>\n",
       "<div class=\"section list_arl_group\">\n",
       "<h2 class=\"list_arl_group_title\">뉴스 &gt; 세계 리스트</h2>\n",
       "<!-- 기사 리스트 022 시작 -->\n",
       "<div class=\"arl_022\">\n",
       "<ul class=\"list\">\n",
       "<li>\n",
       "<div class=\"h30 bt1\"></div>\n",
       "<div class=\"thumb\">\n",
       "<a href=\"/pages/articles/2023041912215229781\">\n",
       "<div class=\"arl_img\" style=\"background-image:url('/_resources/10/2023/04/19/2023041912411990221_l.s.jpeg')\"></div>\n",
       "</a>\n",
       "</div>\n",
       "<div class=\"box\">\n",
       "<p class=\"title\"><a href=\"/pages/articles/2023041912215229781\">유엔, 도청 정황 추가 보도에  美 공개 비판…\"유엔 헌장 부합 안 해\"</a></p>\n",
       "<p class=\"sub_title\"><a href=\"/pages/articles/2023041912215229781\">\"미국에 공식 우려 표명\"…지난주 \"놀랍지 않다\" 반응서 돌아서</a></p>\n",
       "<p class=\"body\"><a href=\"/pages/articles/2023041912215229781\">유출된 미국 기밀문건을 통해 안토니우 구테흐스 유엔(UN) 사무총장에 대한 미 정부의 도청 및 감시 정황이 추가로 보도되자 유엔이 미국을 공개적으로 비판했다.\n",
       "\n",
       "스테판 두자릭 유엔 사무총장 대변인은 18일(현지시각) 일일 브리핑에서 전날 &lt;워싱턴포스트&gt;(WP)의 미 정부가 구테흐스 사무총장을 감시한 정황을 추가로 폭로한 보도에 관한 질문을 받고 </a></p>\n",
       "<div class=\"byline\">\n",
       "<p class=\"name\">김효진 기자</p>\n",
       "<p class=\"date\">2023.04.19 13:24:53</p>\n",
       "</div>\n",
       "</div>\n",
       "<div class=\"h30\"></div>\n",
       "</li>\n",
       "<li>\n",
       "<div class=\"h30 bt1\"></div>\n",
       "<div class=\"thumb\">\n",
       "<a href=\"/pages/articles/2023041817331112256\">\n",
       "<div class=\"arl_img\" style=\"background-image:url('/_resources/10/2023/04/18/2023041817392909412_l.s.jpg')\"></div>\n",
       "</a>\n",
       "</div>\n",
       "<div class=\"box\">\n",
       "<p class=\"title\"><a href=\"/pages/articles/2023041817331112256\">\"병원이 전장으로 변했다\"…수단 군부 교전 사망자 200명 육박</a></p>\n",
       "<p class=\"sub_title\"><a href=\"/pages/articles/2023041817331112256\">정부 장악 군부 1·2위 다툼에 민간인 사상 눈덩이…국제사회 중재 시도에도 양쪽 협상 의지 안 보여</a></p>\n",
       "<p class=\"body\"><a href=\"/pages/articles/2023041817331112256\">북아프리카 수단에서 정부를 장악하고 있는 군부 세력 간 무력충돌이 사흘째 이어지며 사상자가 눈덩이처럼 불어나고 있다. 포격이 의료시설을 강타했고 미국과 유럽 외교관들까지 공격당했다. 국제사회는 거듭 중단을 요구했지만 양쪽은 협상 의지를 보이지 않고 있어 전면적 내전으로 악화할 수 있다는 우려가 커진다.\n",
       "\n",
       "&lt;로이터&gt; 통신에 따르면 17일(현지시각)</a></p>\n",
       "<div class=\"byline\">\n",
       "<p class=\"name\">김효진 기자</p>\n",
       "<p class=\"date\">2023.04.18 19:54:43</p>\n",
       "</div>\n",
       "</div>\n",
       "<div class=\"h30\"></div>\n",
       "</li>\n",
       "<li>\n",
       "<div class=\"h30 bt1\"></div>\n",
       "<div class=\"thumb\">\n",
       "<a href=\"/pages/articles/2023041716051089409\">\n",
       "<div class=\"arl_img\" style=\"background-image:url('/_resources/10/2023/04/17/2023041716363082888_l.s.jpg')\"></div>\n",
       "</a>\n",
       "</div>\n",
       "<div class=\"box\">\n",
       "<p class=\"title\"><a href=\"/pages/articles/2023041716051089409\">우크라 돕던 폴란드, '우크라 곡물 수입 금지' 발표한 이유는?</a></p>\n",
       "<p class=\"sub_title\"><a href=\"/pages/articles/2023041716051089409\">수출길 막힌 우크라 농산물 인접국 몰리며 농민 고통…EU \"단독 행동 용납 못해\" 엄포</a></p>\n",
       "<p class=\"body\"><a href=\"/pages/articles/2023041716051089409\">폴란드와 헝가리가 우크라이나 곡물 수입 금지 조치를 발표한 데 대해 유럽연합(EU)이 용납할 수 없다며 엄포를 놨다. 인접국으로서 난민부터 무기까지 우크라이나를 적극 지원했지만 전쟁 장기화로 자국민의 반발에 직면한 동유럽 국가들의 고민이 커지고 있다.\n",
       "\n",
       "&lt;로이터&gt; 통신을 보면 16일(현지시각) EU 집행위원회 대변인은 이메일 성명을 통해 전날 폴</a></p>\n",
       "<div class=\"byline\">\n",
       "<p class=\"name\">김효진 기자</p>\n",
       "<p class=\"date\">2023.04.17 17:07:06</p>\n",
       "</div>\n",
       "</div>\n",
       "<div class=\"h30\"></div>\n",
       "</li>\n",
       "<li>\n",
       "<div class=\"h30 bt1\"></div>\n",
       "<div class=\"thumb\">\n",
       "<a href=\"/pages/articles/2023041714494470687\">\n",
       "<div class=\"arl_img\" style=\"background-image:url('/_resources/10/2023/04/17/2023041714590373901_l.s.jpg')\"></div>\n",
       "</a>\n",
       "</div>\n",
       "<div class=\"box\">\n",
       "<p class=\"title\"><a href=\"/pages/articles/2023041714494470687\">중국, 기초학문인 수학 인재 양성에 힘쓰는 이유는?</a></p>\n",
       "<p class=\"sub_title\"><a href=\"/pages/articles/2023041714494470687\">[원광대 '한중관계 브리핑'] 치우청퉁 칭화대 교수 주도로 이뤄지는 수학 엘리트 양성 </a></p>\n",
       "<p class=\"body\"><a href=\"/pages/articles/2023041714494470687\">5G 인터넷과 인공지능 (Artificial Inteligence, 이하 AI) 분야의 발전으로 인해 수학의 중요성이 부각되면서 국내외에서 수학 전문가와 수학을 응용하여 5G 인터넷과 AI 분야에서 일할 수 있는 인재의 수요가 늘어나고 있다.\n",
       "\n",
       "중국도 중앙정부와 주요 대학들이 5G 인터넷과 AI 등의 신산업 진흥, 수학과 수학을 활용해야 하는 기초과학 분야</a></p>\n",
       "<div class=\"byline\">\n",
       "<p class=\"name\">조정원 원광대 한중관계연구원 동북아시아인문사회연구소 교수</p>\n",
       "<p class=\"date\">2023.04.17 15:56:44</p>\n",
       "</div>\n",
       "</div>\n",
       "<div class=\"h30\"></div>\n",
       "</li>\n",
       "<li>\n",
       "<div class=\"h30 bt1\"></div>\n",
       "<div class=\"thumb\">\n",
       "<a href=\"/pages/articles/2023041709273698063\">\n",
       "<div class=\"arl_img\" style=\"background-image:url('/_resources/10/2023/04/17/2023041709363108642_l.s.jpg')\"></div>\n",
       "</a>\n",
       "</div>\n",
       "<div class=\"box\">\n",
       "<p class=\"title\"><a href=\"/pages/articles/2023041709273698063\">후쿠시마 오염수 방류 반발 독일…G7, 공동 입장내지 않아</a></p>\n",
       "<p class=\"sub_title\"><a href=\"/pages/articles/2023041709273698063\">정부 \"오염수 처리, 과학적이고 객관적으로 안전하고 국제기준에 부합해야\"</a></p>\n",
       "<p class=\"body\"><a href=\"/pages/articles/2023041709273698063\">일본에서 개최된 주요 7개국(G7) 기후·에너지·환경 장관 회의에서 일본 후쿠시마 핵발전소 오염수의 해양 방출에 대한 동일한 입장이 나오지 못한 가운데, 정부는 이를 두고 국제원자력기구(IAEA)의 독립적인 검증 중요성을 강조한 결과라며, 과학적‧객관적‧안전한 처리가 이뤄져야 한다고 촉구했다.\n",
       "\n",
       "정부는 16일 발표한 G7 기후·에너지·환경 장관 회의 공동성</a></p>\n",
       "<div class=\"byline\">\n",
       "<p class=\"name\">이재호 기자</p>\n",
       "<p class=\"date\">2023.04.17 09:54:16</p>\n",
       "</div>\n",
       "</div>\n",
       "<div class=\"h30\"></div>\n",
       "</li>\n",
       "<li>\n",
       "<div class=\"h30 bt1\"></div>\n",
       "<div class=\"thumb\">\n",
       "<a href=\"/pages/articles/2023041615571745864\">\n",
       "<div class=\"arl_img\" style=\"background-image:url('/_resources/10/2023/04/16/2023041615594686379_l.s.jpg')\"></div>\n",
       "</a>\n",
       "</div>\n",
       "<div class=\"box\">\n",
       "<p class=\"title\"><a href=\"/pages/articles/2023041615571745864\">다시 고삐 죄는 이란…감시 카메라로 히잡 단속 시작</a></p>\n",
       "<p class=\"sub_title\"><a href=\"/pages/articles/2023041615571745864\">여성들 히잡 벗은 채 거리 활보 '저항'… \"히잡 미착용 권유자는 엄중 처벌\"</a></p>\n",
       "<p class=\"body\"><a href=\"/pages/articles/2023041615571745864\">이란 경찰이 감시 카메라를 이용한 히잡 미착용 여성 단속을 시작했다.\n",
       "\n",
       "영국에 기반을 둔 이란 전문 매체 &lt;이란인터내셔널&gt;을 보면 이란 경찰은 공공장소 및 도로에 설치된 스마트 감시 카메라를 이용한 히잡 미착용자 단속을 15일(현지시각) 개시했다. 앞서 경찰은 지난주 조치 시행을 예고하며 복장 규범을 어긴 여성에게 우선 증거와 함께 경고 메시지를</a></p>\n",
       "<div class=\"byline\">\n",
       "<p class=\"name\">김효진 기자</p>\n",
       "<p class=\"date\">2023.04.16 16:09:49</p>\n",
       "</div>\n",
       "</div>\n",
       "<div class=\"h30\"></div>\n",
       "</li>\n",
       "<li>\n",
       "<div class=\"h30 bt1\"></div>\n",
       "<div class=\"thumb\">\n",
       "<a href=\"/pages/articles/2023041614142999632\">\n",
       "<div class=\"arl_img\" style=\"background-image:url('/_resources/10/2023/04/16/2023041614244432866_l.s.jpg')\"></div>\n",
       "</a>\n",
       "</div>\n",
       "<div class=\"box\">\n",
       "<p class=\"title\"><a href=\"/pages/articles/2023041614142999632\">기시다 폭발물 테러 용의자, 범행 당시 칼·추가 폭발물도 소지</a></p>\n",
       "<p class=\"sub_title\"><a href=\"/pages/articles/2023041614142999632\">경찰, 용의자 집 수색해 화약 추정 물체 등 압수…기시다 \"폭력 용납 불가\" 규탄</a></p>\n",
       "<p class=\"body\"><a href=\"/pages/articles/2023041614142999632\">일본 경찰이 기시다 후미오 일본 총리의 보궐선거 지원 유세 현장에 폭발물을 투척한 용의자의 집을 수색해 화약 추정 물체 등을 압수했다. 습격 동기가 밝혀지지 않은 가운데 기시다 총리는 \"폭력은 용납할 수 없다\"며 강하게 규탄했다.\n",
       "\n",
       "일본 NHK 방송은 16일 오전 경찰이 전날 기시다 총리에게 폭발물로 추정되는 물체를 던진 뒤 현장에서 체포된 기무라 류지(2</a></p>\n",
       "<div class=\"byline\">\n",
       "<p class=\"name\">김효진 기자</p>\n",
       "<p class=\"date\">2023.04.16 14:47:14</p>\n",
       "</div>\n",
       "</div>\n",
       "<div class=\"h30\"></div>\n",
       "</li>\n",
       "<li>\n",
       "<div class=\"h30 bt1\"></div>\n",
       "<div class=\"thumb\">\n",
       "<a href=\"/pages/articles/2023041414093295484\">\n",
       "<div class=\"arl_img\" style=\"background-image:url('/_resources/10/2023/04/19/2023041415475222120_l.s.jpg')\"></div>\n",
       "</a>\n",
       "</div>\n",
       "<div class=\"box\">\n",
       "<p class=\"title\"><a href=\"/pages/articles/2023041414093295484\">수탈이냐 근대화냐, 민족주의자 신용하와 탈민족주의자 이영훈의 논쟁</a></p>\n",
       "<p class=\"sub_title\"><a href=\"/pages/articles/2023041414093295484\">[김재명의 전쟁범죄 이야기 15] 누구를 위한 '역사전쟁'인가 (中)  </a></p>\n",
       "<p class=\"body\"><a href=\"/pages/articles/2023041414093295484\">'신친일파'들의 주요 논리 가운데 하나가 '식민지 근대화론'이다. 변화와 개혁의 동력을 잃은 조선 왕조를 쓰러뜨린 일본의 식민 통치를 거치면서 조선이 근대화를 이루었다는 것이다. 하지만 많은 연구자들은 (학교가 많이 들어섰다느니, 철로의 길이가 길어졌다느니 하는) 통계 숫자 뒤에 가려진 식민지 근대화의 어두운 그늘을 거듭 지적해왔다. 그래서 이들은 묻는다.</a></p>\n",
       "<div class=\"byline\">\n",
       "<p class=\"name\">김재명 국제분쟁 전문기자</p>\n",
       "<p class=\"date\">2023.04.15 13:32:01</p>\n",
       "</div>\n",
       "</div>\n",
       "<div class=\"h30\"></div>\n",
       "</li>\n",
       "<li>\n",
       "<div class=\"h30 bt1\"></div>\n",
       "<div class=\"thumb\">\n",
       "<a href=\"/pages/articles/2023041411174085310\">\n",
       "<div class=\"arl_img\" style=\"background-image:url('/_resources/10/2023/04/15/2023041415324650109_l.s.jpeg')\"></div>\n",
       "</a>\n",
       "</div>\n",
       "<div class=\"box\">\n",
       "<p class=\"title\"><a href=\"/pages/articles/2023041411174085310\">6살때까지 다섯 가정 떠돈 아이가 양부모와 애착이 가능할까요?</a></p>\n",
       "<p class=\"sub_title\"><a href=\"/pages/articles/2023041411174085310\">[372명 해외입양인들의 진실 찾기] (24) 우리는 '물건'처럼 거래됐습니다</a></p>\n",
       "<p class=\"body\"><a href=\"/pages/articles/2023041411174085310\">\"넌 우리에게 마음을 열지 않아, 너무 멀게 느껴져.\"\n",
       "\"넌 우리에게 절대 아무 말도 하지 않아.\"\n",
       "\"우리는 너의 인생에서 무슨 일이 일어나고 있는지 절대 알지 못해.\"\n",
       "\n",
       "이것은 내가 어린 시절 내내, 그리고 성인이 되어서도 (입양) 부모, 주로 어머니에게로부터 일관되게 들은 이야기였습니다. 나는 그 순간에 감정이 없고, 얼어붙고, 무엇을 말해야 하는지, </a></p>\n",
       "<div class=\"byline\">\n",
       "<p class=\"name\">주례 해외입양인</p>\n",
       "<p class=\"date\">2023.04.15 05:51:52</p>\n",
       "</div>\n",
       "</div>\n",
       "<div class=\"h30\"></div>\n",
       "</li>\n",
       "<li>\n",
       "<div class=\"h30 bt1\"></div>\n",
       "<div class=\"thumb\">\n",
       "<a href=\"/pages/articles/2023041416461730369\">\n",
       "<div class=\"arl_img\" style=\"background-image:url('/_resources/10/2023/04/14/2023041417351557126_l.s.jpg')\"></div>\n",
       "</a>\n",
       "</div>\n",
       "<div class=\"box\">\n",
       "<p class=\"title\"><a href=\"/pages/articles/2023041416461730369\">미 기밀 유출한 주방위군 일병 체포…\"위조\"라던 한국 정부 '머쓱'</a></p>\n",
       "<p class=\"sub_title\"><a href=\"/pages/articles/2023041416461730369\">내부과시 목적 추정…\"우크라전 터지며 유출 시작\" 증언도</a></p>\n",
       "<p class=\"body\"><a href=\"/pages/articles/2023041416461730369\">미국 기밀 문건 유출 용의자로 미 주방위군 일병이 체포됐다.  \n",
       "\n",
       "미 연방수사국(FBI)는 13일(현지시각) 성명을 내 매사추세츠주 노스다이튼에 있는 한 주택에서 미국 정부 및 군사 기밀 문건 유출에 연루된 혐의로 잭 더글라스 테세이라(21)를 체포했다고 밝혔다. FBI는 성명에서 \"지난주 후반부터 사건을 적극적으로 추적했다\"며 \"오늘의 체포는 국가 안보를</a></p>\n",
       "<div class=\"byline\">\n",
       "<p class=\"name\">김효진 기자</p>\n",
       "<p class=\"date\">2023.04.14 20:27:48</p>\n",
       "</div>\n",
       "</div>\n",
       "<div class=\"h30\"></div>\n",
       "</li>\n",
       "</ul>\n",
       "</div>\n",
       "<!-- 기사 리스트 022 끝 -->\n",
       "<div class=\"h30 bt1\"></div>\n",
       "<ul class=\"pagination\">\n",
       "<li class=\"\">\n",
       "<a href=\"/pages/news-world-list?page=1\">◀ 처음</a>\n",
       "</li>\n",
       "<li class=\"num\">\n",
       "<a href=\"/pages/news-world-list?page=3\">3</a>\n",
       "</li>\n",
       "<li class=\"num\">\n",
       "<a href=\"/pages/news-world-list?page=4\">4</a>\n",
       "</li>\n",
       "<li class=\"active num\">\n",
       "<a href=\"/pages/news-world-list?page=5\">5</a>\n",
       "</li>\n",
       "<li class=\"num\">\n",
       "<a href=\"/pages/news-world-list?page=6\">6</a>\n",
       "</li>\n",
       "<li class=\"num\">\n",
       "<a href=\"/pages/news-world-list?page=7\">7</a>\n",
       "</li>\n",
       "<li class=\"\">\n",
       "<a href=\"/pages/news-world-list?page=2433\">마지막 ▶</a>\n",
       "</li>\n",
       "</ul>\n",
       "</div>\n",
       "<div class=\"aside\">\n",
       "<!-- 배너 시작 -->\n",
       "<div class=\"banner editor_view\" data-id=\"78\" data-mod=\"247\" data-modulable=\"2\" data-order=\"1\">\n",
       "<script src=\"https://ads.netinsight.co.kr/NetInsight/js/pressian/Pressian_Section/Page_section@Samsung_SR1\" type=\"text/javascript\"></script>\n",
       "</div>\n",
       "<!-- 배너 끝 -->\n",
       "<div class=\"h40\"></div>\n",
       "<!-- 배너 시작 -->\n",
       "<div class=\"banner editor_view\" data-id=\"78\" data-mod=\"229\" data-modulable=\"2\" data-order=\"2\">\n",
       "<a href=\"https://cafe.naver.com/huschool\" target=\"_blank\">\n",
       "<img alt=\"배너\" height=\"152\" src=\"/_resources/20/113/202003/0u4bEftMUEPzMeU3_2.png\" width=\"280\"/>\n",
       "</a>\n",
       "</div>\n",
       "<!-- 배너 끝 -->\n",
       "<div class=\"h40\"></div>\n",
       "<!-- 배너 시작 -->\n",
       "<div class=\"banner editor_view\" data-id=\"78\" data-mod=\"652\" data-modulable=\"2\" data-order=\"3\">\n",
       "<script src=\"https://ads.netinsight.co.kr/NetInsight/js/pressian/Pressian_Section/Page_section@NEW_SR4\" type=\"text/javascript\"></script>\n",
       "</div>\n",
       "<!-- 배너 끝 -->\n",
       "<div class=\"h40\"></div>\n",
       "<!-- 배너 시작 -->\n",
       "<div class=\"banner editor_view\" data-id=\"78\" data-mod=\"116\" data-modulable=\"2\" data-order=\"4\">\n",
       "<script charset=\"euc-kr\" src=\"//ad.tjtune.com/cgi-bin/PelicanC.dll?impr?pageid=0Cfe&amp;out=script\"></script>\n",
       "</div>\n",
       "<!-- 배너 끝 -->\n",
       "<div class=\"h40\"></div>\n",
       "<!-- 배너 시작 -->\n",
       "<div class=\"banner editor_view\" data-id=\"78\" data-mod=\"117\" data-modulable=\"2\" data-order=\"5\">\n",
       "<script charset=\"euc-kr\" src=\"//ad.tjtune.com/cgi-bin/PelicanC.dll?impr?pageid=08kj&amp;out=script\"></script>\n",
       "</div>\n",
       "<!-- 배너 끝 -->\n",
       "<div class=\"h40\"></div>\n",
       "</div>\n",
       "<div class=\"h60\"></div>\n",
       "</div>\n",
       "</div>\n",
       "<!-- 푸터 시작 -->\n",
       "<div id=\"footer\">\n",
       "<div class=\"affiliates\">\n",
       "<ul class=\"list\">\n",
       "<li style=\"height: 40px\"> </li>\n",
       "<li> </li>\n",
       "<li> </li>\n",
       "<li> </li>\n",
       "<li> </li>\n",
       "<li> </li>\n",
       "<li> </li>\n",
       "</ul>\n",
       "</div>\n",
       "<div class=\"inner\">\n",
       "<div class=\"f_logo\">\n",
       "<a href=\"/\"><img alt=\"프레시안\" src=\"/images/site/common/f_logo.png\"/></a>\n",
       "</div>\n",
       "<div class=\"info\">\n",
       "<ul class=\"services\">\n",
       "<li><a href=\"http://www.pressian.com/company\" target=\"_blank\">조합소개</a></li>\n",
       "<li><a href=\"/psForumQnas/create\">기사제보</a></li>\n",
       "<li><a href=\"javascript:doPopup('/member/agree_info/1', 600, 600, 'yes')\">저작권 정책</a></li>\n",
       "<li><a href=\"javascript:doPopup('/member/agree_info/2', 600, 600, 'yes')\">이메일 무단수집거부</a></li>\n",
       "<li><a href=\"javascript:doPopup('/member/agree_info/3', 600, 600, 'yes')\">개인정보취급방침</a></li>\n",
       "<li><a href=\"javascript:doPopup('/member/agree_info/4', 600, 600, 'yes')\">청소년보호방침</a></li>\n",
       "<li><a href=\"/rss\" target=\"_blank\">RSS</a></li>\n",
       "</ul>\n",
       "<p class=\"company_info\">\n",
       "\t\t\t\t프레시안협동조합 | 사업자번호 101-81-69524 | 대표 전홍기혜<br/>\n",
       "\t\t\t\t제호: 프레시안 | 신문사업·인터넷신문사업 등록번호 서울아00083 | 창간 2001.9.24 | 등록 2005.10.12 | 발행인·편집인 전홍기혜 | 청소년보호책임자 김봉규 <br/>\n",
       "\t\t\t\t(04043) 서울시 마포구 서교동 395-73 BK빌딩 101호(양화로 10길 49 BK빌딩 101호) | 02-722-8494 | FAX 02-6008-8400\n",
       "\t\t\t</p>\n",
       "<p class=\"copyright\">Copyrightⓒ Pressian Coop. All rights reserved.</p>\n",
       "</div>\n",
       "</div>\n",
       "</div>\n",
       "<!-- 푸터 끝 -->\n",
       "<div id=\"wc_react_site_modal_mod\"></div>\n",
       "</div>\n",
       "</body>\n",
       "</html>"
      ]
     },
     "execution_count": 72,
     "metadata": {},
     "output_type": "execute_result"
    }
   ],
   "source": [
    "soup = BeautifulSoup(html, 'html.parser')\n",
    "soup"
   ]
  },
  {
   "cell_type": "code",
   "execution_count": 61,
   "id": "7282b9a8-be10-44bd-b65c-cac19ab4fed8",
   "metadata": {
    "collapsed": true,
    "jupyter": {
     "outputs_hidden": true
    },
    "tags": []
   },
   "outputs": [
    {
     "data": {
      "text/plain": [
       "[<p class=\"title\"><a href=\"/\">홈</a></p>,\n",
       " <p class=\"title\"><a href=\"/pages/opinion\">오피니언</a></p>,\n",
       " <p class=\"title\"><a href=\"/pages/news-politics\">정치</a></p>,\n",
       " <p class=\"title\"><a href=\"/pages/news-economy\">경제</a></p>,\n",
       " <p class=\"title\"><a href=\"/pages/news-society\">사회</a></p>,\n",
       " <p class=\"title\"><a href=\"/pages/news-world\">세계</a></p>,\n",
       " <p class=\"title\"><a href=\"/pages/news-culture\">문화</a></p>,\n",
       " <p class=\"title\"><a href=\"/pages/books\">Books</a></p>,\n",
       " <p class=\"title\"><a href=\"/pages/nation\">전국</a></p>,\n",
       " <p class=\"title\"><a href=\"/pages/with\">스페셜</a></p>,\n",
       " <p class=\"title\"><a href=\"/psForums\">협동조합</a></p>,\n",
       " <p class=\"title\"><a href=\"/pages/articles/2023051209180646558\">2023년의 한국과 동북아는 독립운동가를 기념할 수 있나</a></p>,\n",
       " <p class=\"title\"><a href=\"/pages/articles/2023051117422597725\">이스라엘, 가자지구 3일째 공습, 대체 왜 이러나?</a></p>,\n",
       " <p class=\"title\"><a href=\"/pages/articles/2023051016301277418\">성폭력 민사 패소한 트럼프, '차원이 다른 타격' 받을까</a></p>,\n",
       " <p class=\"title\"><a href=\"/pages/articles/2023050917580611561\">푸틴, 우크라전 \"전쟁\" 규정…\"길들여지지 않는 오만함 탓\"</a></p>,\n",
       " <p class=\"title\"><a href=\"/pages/articles/2023050916233747391\">\"러, 자포리자 원전 직원 철수 준비\"…핵물질 사고 위기감 고조</a></p>,\n",
       " <p class=\"title\"><a href=\"/pages/articles/2023050819224795064\">텍사스서 '혐오 범죄' 의심 총기난사 이어 이민자 보호소 인근 차량 돌진</a></p>,\n",
       " <p class=\"title\"><a href=\"/pages/articles/2023050816411410443\">가까워진 한일 정상, 관계도 훈풍? \"좋아질 것\" 응답 12% 그쳐</a></p>,\n",
       " <p class=\"title\"><a href=\"/pages/articles/2023050816175699024\">사우디발 훈풍 타고 시리아 '도살자' 알아사드 아랍연맹 복귀</a></p>,\n",
       " <p class=\"title\"><a href=\"/pages/articles/2023050713505464975\">英 찰스3세, 성공회 집전 대관식에서 \"신앙'들'의 수호자 되겠다\"</a></p>,\n",
       " <p class=\"title\"><a href=\"/pages/articles/2023050310581567573\">60·70대 한인 여성들의 특별한 고국 여행 \"친가족을 만났습니다\"</a></p>]"
      ]
     },
     "execution_count": 61,
     "metadata": {},
     "output_type": "execute_result"
    }
   ],
   "source": [
    "title = soup.find_all(class_ = 'title')\n",
    "title"
   ]
  },
  {
   "cell_type": "code",
   "execution_count": 65,
   "id": "d8fb5fe5-1d3c-4039-adfb-9865e11541f3",
   "metadata": {
    "collapsed": true,
    "jupyter": {
     "outputs_hidden": true
    },
    "tags": []
   },
   "outputs": [
    {
     "data": {
      "text/plain": [
       "[<p class=\"body\"><a href=\"/pages/articles/2023051209180646558\">중국 국민당 육군군관학교(일명 황포군관학교)\n",
       " \n",
       " 코로나 팬데믹의 맹위도 어느 정도 잡힌 것 같다. 팬데믹으로 중국지역 한국독립운동 사적지 답사단의 활동이 중지된 지도 3년이 넘었다. 또한 동북아의 국제정세로 인해 한중관계 역시 코로나 팬데믹 이전 시기와는 사뭇 다른 분위기이다. 1992년 8월 한중수교 이후 한국과 중국은 경제적 파트너를 넘어 동북아 평화의 </a></p>,\n",
       " <p class=\"body\"><a href=\"/pages/articles/2023051117422597725\">팔레스타인 가자지구에 대한 이스라엘의 공습이 사흘째 이어지며 20명이 넘는 팔레스타인인이 사망했다. 가자지구 쪽에서도 500발이 넘는 로켓을 발사하며 양쪽의 충돌이 격화되고 있다. \n",
       " \n",
       " 이번 충돌로 사법 개편 관련 국내 반발에 부딪힌 베냐민 네타냐후 이스라엘 총리가 지지층 결집 효과를 누리는 동시에 팔레스타인에 대한 강경 대응을 주문해 온 연정 내 극우도 달</a></p>,\n",
       " <p class=\"body\"><a href=\"/pages/articles/2023051016301277418\">도널드 트럼프 미국 전 대통령이 27년 전 저지른 성폭력 관련 민사 소송에서 패소해 피해 여성에게 500만 달러(약 66억 원)를 배상하게 됐다. 차기 대선 출마를 선언한 트럼프 전 대통령은 지난 3월 미국 전·현직 대통령 중 처음으로 형사 기소된 뒤에도 굳건한 지지율을 유지했지만 사안의 성격상 이번 평결의 영향력은 차원이 다를 수 있다는 관측이 나온다.\n",
       " </a></p>,\n",
       " <p class=\"body\"><a href=\"/pages/articles/2023050917580611561\">블라디미르 푸틴 러시아 대통령이 2차 세계대전 당시 러시아가 독일에 승리한 것을 기념하는 전승절 행사에서 9일(현지시각) 우크라이나 침공을 \"전쟁\"으로 규정했다.\n",
       " \n",
       " &lt;로이터&gt; 통신, 영국 BBC 방송 등을 종합하면 이날 모스크바 붉은 광장에서 열린 78주년 전승절 기념행사에서 연설에 나선 푸틴 대통령은 \"오늘날 문명은 다시금 결정적 전환점을 맞았</a></p>,\n",
       " <p class=\"body\"><a href=\"/pages/articles/2023050916233747391\">러시아가 주말 우크라이나 남부 자포리자 원전 지역 주민들을 대피시킨 데 이어 수천 명에 이르는 원전 직원들까지 철수시키려 한다는 주장이 나오면서 핵물질 사고에 대한 위기감이 고조되고 있다.\n",
       " \n",
       " &lt;워싱턴포스트&gt;(WP)는 8일(현지시각) 우크라이나 국영 원전기업 에네르고아톰의 페트로 코틴 대표가 러시아 당국이 3100명에 이르는 자포리자 원전 직원 대</a></p>,\n",
       " <p class=\"body\"><a href=\"/pages/articles/2023050819224795064\">지난 6일(현지시각) 8명의 희생자를 낳은 미국 텍사스주 댈러스 교외 쇼핑몰 총격범이 백인우월주의에 경도된 것으로 보이는 정황이 드러나 혐오 범죄 가능성이 떠오르는 가운데 7일 텍사스 남부 국경 도시 이민자 보호소 근처에 차량이 돌진해 8명이 목숨을 잃었다.\n",
       " \n",
       " &lt;뉴욕타임스&gt;(NYT)에 따르면 7일 텍사스 공공안전국은 전날 오후 3시30분께 댈러스</a></p>,\n",
       " <p class=\"body\"><a href=\"/pages/articles/2023050816411410443\">한일 양국 정상이 두 달 만에 다시 한국에서 만나 회담을 가졌지만 한일 관계에 변화가 있을 것이라는 기대는 크지 않은 것으로 나타났다.\n",
       " \n",
       " 일본 포털 사이트 '야후 재팬'은 7일 '한일 셔틀외교 재개, 일본과 한국의 관계는 어떻게 될 것으로 보나'라는 제목의 온라인 설문을 실시했다. 8일 현재 약 1만 5000명 정도가 참여한 이 설문에서 응답자의 68.2%</a></p>,\n",
       " <p class=\"body\"><a href=\"/pages/articles/2023050816175699024\">바샤르 알아사드 정권의 인권 탄압으로 아랍연맹(AL)에서 퇴출됐던 시리아가 12년 만에 회원국 지위를 회복하게 됐다. 인근국의 시리아 난민 부담 호소와 더불어 사우디아라비아와 이란의 관계 정상화가 발판으로 작용했다. 인권단체는 알아사드 정권에 면죄부를 주는 것이라며 비판했고 미국과 영국도 부정적 반응을 보였다.\n",
       " \n",
       " &lt;AP&gt; 통신은 7일(현지시각) </a></p>,\n",
       " <p class=\"body\"><a href=\"/pages/articles/2023050713505464975\">찰스3세 영국 국왕이 6일(현지시간) 대관식을 갖고 '그레이트브리튼과 북아일랜드 연합왕국' 및 14개 영연방국의 군주로 정식 즉위했다.\n",
       " \n",
       " 찰스 왕은 이날 오전 11시 영국 런언 웨스트민스터 사원에서 영국 국교회(성공회) 최고위 성직자인 저스틴 웰비 캔터베리 대주교가 수여한 2.23킬로그램 무게의 왕관을 썼다.\n",
       " \n",
       " 찰스 왕은 즉위 선서에서 국왕으로서 정의와 자</a></p>,\n",
       " <p class=\"body\"><a href=\"/pages/articles/2023050310581567573\">지난 4월 19일부터 5월 1일까지 미국, 캐나다, 스웨덴에서 사는 한국 출신 60-70대 여성 37명이 한국을 찾았다. 서울, 여수, 보성, 부산, 제주도 등을 방문한 이 여행이 특별한 이유는 이들이 모두 어릴 때 해외로 입양된 입양인들이라는 사실이다. 이들은 관광, 문화체험, 홈스테이, 학교 방문 뿐 아니라 홀트아동복지회, 동방사회복지회, 대한사회복지회</a></p>]"
      ]
     },
     "execution_count": 65,
     "metadata": {},
     "output_type": "execute_result"
    }
   ],
   "source": [
    "titles = soup.find_all(class_ = 'body')\n",
    "titles"
   ]
  },
  {
   "cell_type": "code",
   "execution_count": 67,
   "id": "fd8ba648-e07e-47c4-ade8-5651442484b6",
   "metadata": {},
   "outputs": [
    {
     "data": {
      "text/plain": [
       "10"
      ]
     },
     "execution_count": 67,
     "metadata": {},
     "output_type": "execute_result"
    }
   ],
   "source": [
    "len(titles)"
   ]
  },
  {
   "cell_type": "code",
   "execution_count": 66,
   "id": "9e7b0230-2446-40d0-aba9-9f6d7beef10f",
   "metadata": {},
   "outputs": [
    {
     "data": {
      "text/plain": [
       "'지난 6일(현지시각) 8명의 희생자를 낳은 미국 텍사스주 댈러스 교외 쇼핑몰 총격범이 백인우월주의에 경도된 것으로 보이는 정황이 드러나 혐오 범죄 가능성이 떠오르는 가운데 7일 텍사스 남부 국경 도시 이민자 보호소 근처에 차량이 돌진해 8명이 목숨을 잃었다.\\n\\n<뉴욕타임스>(NYT)에 따르면 7일 텍사스 공공안전국은 전날 오후 3시30분께 댈러스'"
      ]
     },
     "execution_count": 66,
     "metadata": {},
     "output_type": "execute_result"
    }
   ],
   "source": [
    "titles[5].text"
   ]
  },
  {
   "cell_type": "code",
   "execution_count": 70,
   "id": "658b3c15-aaa0-4069-96e4-165dbfc61781",
   "metadata": {
    "collapsed": true,
    "jupyter": {
     "outputs_hidden": true
    },
    "tags": []
   },
   "outputs": [
    {
     "name": "stdout",
     "output_type": "stream",
     "text": [
      "중국 국민당 육군군관학교(일명 황포군관학교)\n",
      "\n",
      "코로나 팬데믹의 맹위도 어느 정도 잡힌 것 같다. 팬데믹으로 중국지역 한국독립운동 사적지 답사단의 활동이 중지된 지도 3년이 넘었다. 또한 동북아의 국제정세로 인해 한중관계 역시 코로나 팬데믹 이전 시기와는 사뭇 다른 분위기이다. 1992년 8월 한중수교 이후 한국과 중국은 경제적 파트너를 넘어 동북아 평화의 \n",
      "팔레스타인 가자지구에 대한 이스라엘의 공습이 사흘째 이어지며 20명이 넘는 팔레스타인인이 사망했다. 가자지구 쪽에서도 500발이 넘는 로켓을 발사하며 양쪽의 충돌이 격화되고 있다. \n",
      "\n",
      "이번 충돌로 사법 개편 관련 국내 반발에 부딪힌 베냐민 네타냐후 이스라엘 총리가 지지층 결집 효과를 누리는 동시에 팔레스타인에 대한 강경 대응을 주문해 온 연정 내 극우도 달\n",
      "도널드 트럼프 미국 전 대통령이 27년 전 저지른 성폭력 관련 민사 소송에서 패소해 피해 여성에게 500만 달러(약 66억 원)를 배상하게 됐다. 차기 대선 출마를 선언한 트럼프 전 대통령은 지난 3월 미국 전·현직 대통령 중 처음으로 형사 기소된 뒤에도 굳건한 지지율을 유지했지만 사안의 성격상 이번 평결의 영향력은 차원이 다를 수 있다는 관측이 나온다.\n",
      "\n",
      "블라디미르 푸틴 러시아 대통령이 2차 세계대전 당시 러시아가 독일에 승리한 것을 기념하는 전승절 행사에서 9일(현지시각) 우크라이나 침공을 \"전쟁\"으로 규정했다.\n",
      "\n",
      "<로이터> 통신, 영국 BBC 방송 등을 종합하면 이날 모스크바 붉은 광장에서 열린 78주년 전승절 기념행사에서 연설에 나선 푸틴 대통령은 \"오늘날 문명은 다시금 결정적 전환점을 맞았\n",
      "러시아가 주말 우크라이나 남부 자포리자 원전 지역 주민들을 대피시킨 데 이어 수천 명에 이르는 원전 직원들까지 철수시키려 한다는 주장이 나오면서 핵물질 사고에 대한 위기감이 고조되고 있다.\n",
      "\n",
      "<워싱턴포스트>(WP)는 8일(현지시각) 우크라이나 국영 원전기업 에네르고아톰의 페트로 코틴 대표가 러시아 당국이 3100명에 이르는 자포리자 원전 직원 대\n",
      "지난 6일(현지시각) 8명의 희생자를 낳은 미국 텍사스주 댈러스 교외 쇼핑몰 총격범이 백인우월주의에 경도된 것으로 보이는 정황이 드러나 혐오 범죄 가능성이 떠오르는 가운데 7일 텍사스 남부 국경 도시 이민자 보호소 근처에 차량이 돌진해 8명이 목숨을 잃었다.\n",
      "\n",
      "<뉴욕타임스>(NYT)에 따르면 7일 텍사스 공공안전국은 전날 오후 3시30분께 댈러스\n",
      "한일 양국 정상이 두 달 만에 다시 한국에서 만나 회담을 가졌지만 한일 관계에 변화가 있을 것이라는 기대는 크지 않은 것으로 나타났다.\n",
      "\n",
      "일본 포털 사이트 '야후 재팬'은 7일 '한일 셔틀외교 재개, 일본과 한국의 관계는 어떻게 될 것으로 보나'라는 제목의 온라인 설문을 실시했다. 8일 현재 약 1만 5000명 정도가 참여한 이 설문에서 응답자의 68.2%\n",
      "바샤르 알아사드 정권의 인권 탄압으로 아랍연맹(AL)에서 퇴출됐던 시리아가 12년 만에 회원국 지위를 회복하게 됐다. 인근국의 시리아 난민 부담 호소와 더불어 사우디아라비아와 이란의 관계 정상화가 발판으로 작용했다. 인권단체는 알아사드 정권에 면죄부를 주는 것이라며 비판했고 미국과 영국도 부정적 반응을 보였다.\n",
      "\n",
      "<AP> 통신은 7일(현지시각) \n",
      "찰스3세 영국 국왕이 6일(현지시간) 대관식을 갖고 '그레이트브리튼과 북아일랜드 연합왕국' 및 14개 영연방국의 군주로 정식 즉위했다.\n",
      "\n",
      "찰스 왕은 이날 오전 11시 영국 런언 웨스트민스터 사원에서 영국 국교회(성공회) 최고위 성직자인 저스틴 웰비 캔터베리 대주교가 수여한 2.23킬로그램 무게의 왕관을 썼다.\n",
      "\n",
      "찰스 왕은 즉위 선서에서 국왕으로서 정의와 자\n",
      "지난 4월 19일부터 5월 1일까지 미국, 캐나다, 스웨덴에서 사는 한국 출신 60-70대 여성 37명이 한국을 찾았다. 서울, 여수, 보성, 부산, 제주도 등을 방문한 이 여행이 특별한 이유는 이들이 모두 어릴 때 해외로 입양된 입양인들이라는 사실이다. 이들은 관광, 문화체험, 홈스테이, 학교 방문 뿐 아니라 홀트아동복지회, 동방사회복지회, 대한사회복지회\n",
      "'21세기의 지성'으로 일컬어지는 언어학자 노엄 촘스키(1928년생)는 1990년 스페인에 강연을 갔다가 충격을 받았던 적이 있다. 뜻밖에도 그곳 젊은이들이 스페인의 어두운 과거사를 잘 모르고 있다는 사실을 깨달았기 때문이었다. 잘 알려져 있듯이, 스페인은 1936년부터 1939년까지 3년 동안 내전이 벌어져 35만 명이 죽은 비극을 겪었다. 제2공화국에서\n",
      "우리나라의 경제 버팀목인 수출이 흔들리고 있어 경제성장에 빨간불이 켜졌다. 산업통상자원부에 따르면 무역수지 적자가 14개월째 지속되고 있다. 우리의 수출 시장 1위인 중국에 이어 2위였던 아세안(ASEAN)에 대한 수출이 지난해 10월부터 4월까지 7개월 연속 전년 동기대비 감소세를 보이고 있어 경제성장의 심각성이 더욱 고조되고 있다.\n",
      "\n",
      "반면 우리나라와 달\n",
      "저와 덴마크 입양인들이 함께 덴마크한국인진상규명그룹(DKRG)을 설립하기로 결정한 지 1년이 지났습니다. 이 단체는 한국 입양에 대한 진실을 밝히고 자신의 진정한 정체성과 친생부모를 알 권리를 위한 활동을 위해 만들어졌습니다.\n",
      "\n",
      "1년 전 저희는 열린 마음과 궁금증으로 이 일을 시작했습니다. 지난 20년 동안 위조된 서류와 한국에서 극적으로 친부모와 재회한 \n",
      "러시아가 우크라이나 쪽이 무인기(드론)로 대통령궁을 공격해 블라디미르 푸틴 러시아 대통령을 암살하려 했다고 주장했다. 볼로디미르 젤렌스키 우크라이나 대통령은 즉각 부인했다. 양쪽 주장이 엇갈리는 가운데 우크라이나의 봄 반격을 앞두고 러시아 쪽이 선동 작전을 시도하고 있다는 주장도 나온다.\n",
      "\n",
      "3일(현지시각) 러시아 대통령궁(크렘린)은 성명을 내 이날 새벽 \"\n",
      "미국 할리우드 영화 및 방송 프로그램 작가들이 파업에 돌입함에 따라 미국 주요 방송 프로그램들이 줄줄이 재방송을 예고했다. 작가들은 방송 산업 구조가 넷플릭스 등 스트리밍 서비스 위주로 바뀐 데다 작문 능력을 갖춘 인공지능(AI)까지 등장하며 작가들이 \"실존적\" 위기에 처해 있다고 호소했다. \n",
      "\n",
      "<뉴욕타임스>(NYT)는 미국작가조합(WGA)이 2\n",
      "미국 백악관이 지난해 말부터 5달 간 우크라이나 전쟁에서 러시아군 사망자 수가 2만 명에 이를 것으로 추정했다. 우크라이나 쪽이 봄 대반격이 임박했음을 시사한 가운데 최근 며칠 간 우크라이나 전역에 러시아의 공습이 이어졌다. 이런 가운데 우크라이나에 대한 \"백지 수표\"는 없다고 공언했던 케빈 매카시 미 하원의장이 돌연 우크라이나 지원에 대한 지지를 천명해 \n",
      "기시다 후미오(岸田文雄) 일본 총리가 오는 7~8일 한국에 방문할 예정인 것으로 전해졌다. 강제동원 피해자들의 대법원 배상 판결 이행에서 일본 기업의 책임을 면제해준 정부의 선조치에 일본의 '성의있는 호응'이 있을지 주목된다.\n",
      "\n",
      "2일 일본 <교도통신>은 가나에 방문한 기시다 총리가 1일(현지시각) 기자들에게 \"7~8일 일정으로 한국을 방문해 윤석\n",
      "21세기 세계패권을 놓고 미국과 중국 간의 갈등이 심화되고 있다. 나아가 우크라이나 전쟁을 기화로 미·일·유럽 대 러시아·중국·북한 간의 신냉전이 본격화되고 있다.\n",
      "\n",
      "세계질서가 격변하는 가운데 윤석열 대통령은 '균형 있는 외교'를 던져버리고 미·일과의 동맹 강화를 향해 돌진하고 있다. 특히 일본 제국주의의 강제동원에 대한 손해배상 요구를 일방적으로 쓰레기통\n",
      "제 이름은 니아 경자 리 고 토프타거(Nia Kyeong Ja Lee Koh Toftager)이고, 저는 4살 때 덴마크 가정에 입양돼, 현재는 덴마크인 남편, 아들(21), 딸(12)과 함께 덴마크에 살고 있습니다. 다른 많은 입양인들처럼, 제 이름은 입양되기 전 한국 이름과 입양된 가족에 의해 지어진 이름이 합쳐진 독특한 조합입니다. 제 삶에 대해 짧은\n",
      "독도에 대해 쓰려니 축구선수 박종우의 얼굴이 떠오른다. 그는 지난 2012년 런던 올림픽 축구 3,4위 전에서 한국이 일본을 2 대 0으로 이긴 뒤 '독도는 우리 땅'이라 적힌 피켓을 들고 축구장을 돌았다. 그 때문에 FIFA로부터 징계를 받고 동메달 시상식에도 오르지 못했다. \"올림픽 시설이나 경기장 등에서 정치적 선전 활동을 금지하는 올림픽 헌장을 어겼\n",
      "일본이 한국을 수출 우대국 '화이트리스트'에 복원시키는 절차에 돌입했다. 지난 3월16일 도쿄 한일정상회담 이후 43일만, 윤석열 대통령이 국무회의에서 '한국 쪽이 먼저 일본을 화이트리스트에 복원시키라'는 지시를 한 지 38일 만, 한국 측의 선제 조치가 완료된 지 4일 만이다.\n",
      "\n",
      "일본 경제산업성은 28일 오후 홈페이지에 게시한 보도자료에서 \"한국을 수출무\n",
      "중국이 한미정상회담 공동성명에서 대만 문제가 거론된 것과 확장억제 관련 한미 간 정례 협의체인 햅혁의그룹(NCG) 창설 및 미국 전략핵잠수함의 한국 기항을 명시한 워싱턴 선언에 대해 거듭 날을 세웠다. 외교 채널을 통한 공식 항의까지 나섰다.\n",
      "\n",
      "28일 <베이징일보>는 전날 밤 중국 외교부 류진쑹 아주사 사장(아시아 담당 국장)이 강상욱 주중 한국\n",
      "대만 차이잉원(蔡英文) 총통이 3월말 중남미 수교국을 방문했다. 귀국길에는 뉴욕과 로스앤젤레스를 거쳤다. 로스앤젤레스에서는 미국 연방하원의회 의장 매카시(Kevin McCarthy)와 회면했다. 미국과 중국이 수교한 1979년 이래 대만 영도자가 미국에서 만난 최고위층 인사이다.\n",
      "\n",
      "관례대로 중국은 차이 총통을 환대한 매카시의 행동에 강렬한 항의를 제출했다.\n",
      "영미권 주요 외신들은 한미 간 핵협의그룹(NCG) 신설을 골자로 한 '워싱턴 선언'이 미국의 한국 내 핵무장 여론을 달래기 위한 시도로 봤다. 외신들은 이번 선언이 한국 여론을 만족시킬지에 대해 의문을 표하는 동시에 핵전략잠수함 한국 기항이 동북아 불안정성을 키울 것이라고 우려했다. \n",
      "\n",
      "<워싱턴포스트>(WP), <뉴욕타임스>(NYT),\n",
      "코로나19 백신이 개발되어 이미 고소득 국가들에서는 2020년 말부터 접종이 시작되었지만, 여전히 세계적 감염병 위기, 즉 팬데믹은 지속되고 있다. 그 이유는 고소득 국가들의 '백신 이기주의'와 글로벌 백신 불평등으로 인해 세계적으로 집단면역이 형성되지 못했고, 그 사이에 코로나 변이 바이러스들이 계속 발생하고 있기 때문이다. 가령, 2022년 4월 4일 \n",
      "조 바이든 미국 대통령이 2024년 대선 출마를 공식 발표했다. 지지율이 신통치 않고 고령에 대한 우려도 상당하지만 경쟁자인 도널드 트럼프 전 대통령과의 재대결 땐 승기를 쥘 가능성이 있다는 전망이 나온다.\n",
      "\n",
      "바이든 대통령은 25일(현지시각) 공개한 3분 가량의 영상에서 \"이제 일을 끝내자\"며 재선 도전을 공식화했다. 2021년 1월6일 트럼프 전 대통령 \n",
      "군벌 간 무력 충돌이 벌어지고 있는 수단에서 미국의 중재로 25일(현지시각)부터 사흘 간 휴전이 선언됐다. 각국의 교민 철수가 진행되고 있는 가운데 외교 인력 철수로 수단 내부 상황이 악화할 수 있다는 불안감도 감돈다. 한편 수단에서 대피한 한국 교민 28명은 이날 서울 공항에 무사히 도착했다.\n",
      "\n",
      "토니 블링컨 미 국무장관은 이날 성명을 내 \"지난 48시간 \n",
      "윤석열 대통령의 미국 국빈방문을 앞두고 <워싱턴포스트>(WP)는 젠더 문제가 윤 대통령의 \"가장 분열적 행보\"라고 지적했다. \n",
      "\n",
      "매체는 24일(현지시각) 윤 대통령의 인터뷰와 함께 생애 및 최근 행보에 대해 간략히 평가한 기사를 실으며 이같이 분석했다. 매체는 윤 대통령이 자사와의 인터뷰에서 \"100년 전 역사 때문에 일본이 무릎을 꿇고 용서를 \n",
      "한 도시가 있다. 오랫동안 나라 전체에서 그렇게 돋보이는 도시는 아니었지만, 미래의 재벌 한 사람이 새로운 산업에 모험 투자를 하면서 운명이 바뀌었다. 새 산업이란 자동차 산업이었다. 이후 이 도시는 줄곧 자동차의 도시였다.\n",
      "\n",
      "이 문단을 읽고 한국인이라면 누구나 울산을 떠올릴 것이다. '재벌'이란 정주영을 뜻하고 '자동차' 이야기는 현재의 현대기아자동차를 \n",
      "러시아의 우크라이나 침공과 그에 따른 서방과 비 서방의 대립으로 지난해 군사 관련 비용 지출은 사상 최고치를 기록한 것으로 나타났다.\n",
      "\n",
      "24일(현지시각) 스웨덴 소재 국제분쟁 및 군축 전문 연구소인 스톡홀름 국제평화연구소(SIPRI)는 '2022 세계 군비지출 동향'을 발표했는데, 지난해 전 세계의 군사비 지출액은 2021년보다 3.7% 상승한 2조 240\n",
      "조 바이든 미국 대통령이 오는 25일 두 번째 대통령 임기에 도전할 것이라는 발표를 앞두고 있는 가운데, 미국인의 대다수는 바이든 대통령과 도널드 트럼프 전 대통령의 재대결에 대해 부정적인 시각을 가지고 있는 것으로 조사됐다.\n",
      "\n",
      "23일(현지시각) 야후뉴스와 여론조사 전문기관 유고브는 지난 14~17일 미 전역의 등록유권자 1530명을 상대로 조사한 결과(오\n",
      "\"2020년도 팬데믹이 전 세계를 강타했을 때 입양인들이 계시는 14개 국가 26개 공관을 통해 정부가 37만 장의 마스크를 보내드린 적이 있습니다. 여기 계신 분들 중에서 그 마스크를 재외동포재단으로부터 받으신 분들이 있을지 모르겠지만 팬데믹 때 그런 지원을 하기도 했습니다.\"\n",
      "\n",
      "21일 서울 여의도 국회의원회관에서 개최된 '해외입양 70년, 해외입양을 다\n",
      "한반도를 강탈한 일제는 곧바로 토지조사(정식 이름은 '조선토지조사사업')에 들어갔다. 1910년부터 1918년까지 햇수로 9년에 걸쳐 이뤄진 토지조사의 목적은 한반도를 보다 효율적으로 수탈하기 위한 것이었음은 말할 나위 없다. 지난 주 글에서 살펴봤듯이, 신용하(전 서울대교수, 사회학)의 연구에 따르면, 조선총독부가 조선 왕실 소유였던 농경지, 임야, 미개\n",
      "지난해 가을 372명의 해외입양인들이 한국 진실·화해를위한과거사정리위원회(이하 진실화해위원회)에 해외입양 과정에서의 인권 침해에 대한 조사를 요청했고, 진실화해위는 그해 12월 8일 이들 중 34명에 대한 조사 개시를 결정했다고 밝혔다. 한국 정부 기관에서 해외입양에 대한 조사는 처음 있는 일이다. \n",
      "\n",
      "현재 국회에서도 해외입양과 관련된 법안 3건이 계류 중\n",
      "철학자 마이클 샌델의 책을 오랜만에 읽었다. 원래 영어 제목은 <민주주의의 불만(Democracy's Discontent)>이다. 책 이름부터 범상치 않다. 샌델은 미국 민주주의가 정상괘도에서 이탈했다고 판단한다. 미국은 상당 기간 민주주의 그 자체였다. 그러나 국회의사당 폭동 등을 복기해본다면 미국 민주주의가 심각한 위기에 처한 것을 알 수 있\n",
      "승자 없는 우크라이나전쟁은 1년이 넘도록 출구전략을 찾지 못하고 있다. 러시아의 우크라이나 침공으로 비롯된 전쟁이지만 미국과 러시아의 힘이 우크라이나에서 충돌하면서 빗어진 강대국 국제정치의 비극에 가깝다. 유럽은 에너지와 안보를 미국에 의존하게 되고 러시아는 정치적, 경제적으로 중국에 더 의존하게 되면서 정작 전쟁의 이익은 미국과 중국으로 귀결되고 있다.\n",
      "\n",
      "최근 중국인들 사이에서 옌볜조선족자치주(이하 옌볜주)가 가장 핫한 여행지 중 하나로 떠오르고 있다. 그 이유는 바로 길고 긴 코로나 기간 한국 여행을 희망하는 중국 관광객들이 한국에 방문하지 못하게 되면서 “중국의 작은 한국” 이라고 불리는 옌볜주를 찾고 있기 때문이다.\n",
      "\n",
      "옌볜주는 중국 지린성 동부에 위치한 조선족 자치주로 러시아 및 북한과 국경을 맞대고 \n",
      "윤석열 대통령이 전날 외신 인터뷰에서 우크라이나에 대한 무기 지원 가능성을 열어둔 데 대해 러시아가 북한과 대립 중인 한국 상황을 상기시키며 거듭 으름장을 놨다. \n",
      "\n",
      "러시아 국영 <타스> 통신은 20일(현지시각) 마리야 자하로바 러시아 외무부 대변인이 전날 윤 대통령이 <로이터> 통신에 한국이 우크라이나에 대한 무기 지원 가능성을 시사\n",
      "루이스 이나시우 룰라 다시우바 브라질 대통령이 우크라이나 침공에 대한 반대 입장을 밝히며 브라질이 중립에서 벗어났다는 미국의 비판을 잠재우려는 듯한 모습을 보였다. 룰라 대통령은 최근 중국 등을 방문하며 미국과 유럽이 전쟁을 \"조장\"하고 있다고 발언해 서방의 비난을 받았다.\n",
      "\n",
      "<로이터> 통신, 카타르 알자지라 방송 등을 보면 18일(현지시각) 룰\n",
      "사우디아라비아(이하 사우디)가 이란과 관계 개선을 시작으로 시리아와도 관계 복원에 나서면서 중동 지역에 우호적인 분위기가 조성되고 있다. 윤석열 대통령이 우크라이나에 대한 살상무기 지원 가능성을 열어두면서 냉전 구도 고착화를 재촉하고 있는 것과는 확연히 다른 모습이다.\n",
      "\n",
      "18일(현지 시각) 카타르 방송 <알자지라>는 시리아를 방문한 파이살 빈 파\n",
      "유출된 미국 기밀문건을 통해 안토니우 구테흐스 유엔(UN) 사무총장에 대한 미 정부의 도청 및 감시 정황이 추가로 보도되자 유엔이 미국을 공개적으로 비판했다.\n",
      "\n",
      "스테판 두자릭 유엔 사무총장 대변인은 18일(현지시각) 일일 브리핑에서 전날 <워싱턴포스트>(WP)의 미 정부가 구테흐스 사무총장을 감시한 정황을 추가로 폭로한 보도에 관한 질문을 받고 \n",
      "북아프리카 수단에서 정부를 장악하고 있는 군부 세력 간 무력충돌이 사흘째 이어지며 사상자가 눈덩이처럼 불어나고 있다. 포격이 의료시설을 강타했고 미국과 유럽 외교관들까지 공격당했다. 국제사회는 거듭 중단을 요구했지만 양쪽은 협상 의지를 보이지 않고 있어 전면적 내전으로 악화할 수 있다는 우려가 커진다.\n",
      "\n",
      "<로이터> 통신에 따르면 17일(현지시각)\n",
      "폴란드와 헝가리가 우크라이나 곡물 수입 금지 조치를 발표한 데 대해 유럽연합(EU)이 용납할 수 없다며 엄포를 놨다. 인접국으로서 난민부터 무기까지 우크라이나를 적극 지원했지만 전쟁 장기화로 자국민의 반발에 직면한 동유럽 국가들의 고민이 커지고 있다.\n",
      "\n",
      "<로이터> 통신을 보면 16일(현지시각) EU 집행위원회 대변인은 이메일 성명을 통해 전날 폴\n",
      "5G 인터넷과 인공지능 (Artificial Inteligence, 이하 AI) 분야의 발전으로 인해 수학의 중요성이 부각되면서 국내외에서 수학 전문가와 수학을 응용하여 5G 인터넷과 AI 분야에서 일할 수 있는 인재의 수요가 늘어나고 있다.\n",
      "\n",
      "중국도 중앙정부와 주요 대학들이 5G 인터넷과 AI 등의 신산업 진흥, 수학과 수학을 활용해야 하는 기초과학 분야\n",
      "일본에서 개최된 주요 7개국(G7) 기후·에너지·환경 장관 회의에서 일본 후쿠시마 핵발전소 오염수의 해양 방출에 대한 동일한 입장이 나오지 못한 가운데, 정부는 이를 두고 국제원자력기구(IAEA)의 독립적인 검증 중요성을 강조한 결과라며, 과학적‧객관적‧안전한 처리가 이뤄져야 한다고 촉구했다.\n",
      "\n",
      "정부는 16일 발표한 G7 기후·에너지·환경 장관 회의 공동성\n",
      "이란 경찰이 감시 카메라를 이용한 히잡 미착용 여성 단속을 시작했다.\n",
      "\n",
      "영국에 기반을 둔 이란 전문 매체 <이란인터내셔널>을 보면 이란 경찰은 공공장소 및 도로에 설치된 스마트 감시 카메라를 이용한 히잡 미착용자 단속을 15일(현지시각) 개시했다. 앞서 경찰은 지난주 조치 시행을 예고하며 복장 규범을 어긴 여성에게 우선 증거와 함께 경고 메시지를\n",
      "일본 경찰이 기시다 후미오 일본 총리의 보궐선거 지원 유세 현장에 폭발물을 투척한 용의자의 집을 수색해 화약 추정 물체 등을 압수했다. 습격 동기가 밝혀지지 않은 가운데 기시다 총리는 \"폭력은 용납할 수 없다\"며 강하게 규탄했다.\n",
      "\n",
      "일본 NHK 방송은 16일 오전 경찰이 전날 기시다 총리에게 폭발물로 추정되는 물체를 던진 뒤 현장에서 체포된 기무라 류지(2\n",
      "'신친일파'들의 주요 논리 가운데 하나가 '식민지 근대화론'이다. 변화와 개혁의 동력을 잃은 조선 왕조를 쓰러뜨린 일본의 식민 통치를 거치면서 조선이 근대화를 이루었다는 것이다. 하지만 많은 연구자들은 (학교가 많이 들어섰다느니, 철로의 길이가 길어졌다느니 하는) 통계 숫자 뒤에 가려진 식민지 근대화의 어두운 그늘을 거듭 지적해왔다. 그래서 이들은 묻는다.\n",
      "\"넌 우리에게 마음을 열지 않아, 너무 멀게 느껴져.\"\n",
      "\"넌 우리에게 절대 아무 말도 하지 않아.\"\n",
      "\"우리는 너의 인생에서 무슨 일이 일어나고 있는지 절대 알지 못해.\"\n",
      "\n",
      "이것은 내가 어린 시절 내내, 그리고 성인이 되어서도 (입양) 부모, 주로 어머니에게로부터 일관되게 들은 이야기였습니다. 나는 그 순간에 감정이 없고, 얼어붙고, 무엇을 말해야 하는지, \n",
      "미국 기밀 문건 유출 용의자로 미 주방위군 일병이 체포됐다.  \n",
      "\n",
      "미 연방수사국(FBI)는 13일(현지시각) 성명을 내 매사추세츠주 노스다이튼에 있는 한 주택에서 미국 정부 및 군사 기밀 문건 유출에 연루된 혐의로 잭 더글라스 테세이라(21)를 체포했다고 밝혔다. FBI는 성명에서 \"지난주 후반부터 사건을 적극적으로 추적했다\"며 \"오늘의 체포는 국가 안보를\n"
     ]
    }
   ],
   "source": [
    "for i in range(1,6):\n",
    "      url = 'https://www.pressian.com/pages/news-world-list?page='+str(i)\n",
    "      html = urllib.request.urlopen(url).read()\n",
    "      html.decode(encoding='utf-8')\n",
    "      \n",
    "      soup = BeautifulSoup(html, 'html.parser')\n",
    "      titles = soup.find_all(class_ = 'body')\n",
    "\n",
    "      for title in titles:\n",
    "            print(title.text)"
   ]
  },
  {
   "cell_type": "code",
   "execution_count": 73,
   "id": "7b5b37e3-0e91-44a5-b4c5-e58750ba355c",
   "metadata": {
    "collapsed": true,
    "jupyter": {
     "outputs_hidden": true
    },
    "tags": []
   },
   "outputs": [
    {
     "data": {
      "text/html": [
       "<div>\n",
       "<style scoped>\n",
       "    .dataframe tbody tr th:only-of-type {\n",
       "        vertical-align: middle;\n",
       "    }\n",
       "\n",
       "    .dataframe tbody tr th {\n",
       "        vertical-align: top;\n",
       "    }\n",
       "\n",
       "    .dataframe thead th {\n",
       "        text-align: right;\n",
       "    }\n",
       "</style>\n",
       "<table border=\"1\" class=\"dataframe\">\n",
       "  <thead>\n",
       "    <tr style=\"text-align: right;\">\n",
       "      <th></th>\n",
       "      <th>0</th>\n",
       "    </tr>\n",
       "  </thead>\n",
       "  <tbody>\n",
       "    <tr>\n",
       "      <th>0</th>\n",
       "      <td>중국 국민당 육군군관학교(일명 황포군관학교)\\n\\n코로나 팬데믹의 맹위도 어느 정도...</td>\n",
       "    </tr>\n",
       "    <tr>\n",
       "      <th>1</th>\n",
       "      <td>팔레스타인 가자지구에 대한 이스라엘의 공습이 사흘째 이어지며 20명이 넘는 팔레스타...</td>\n",
       "    </tr>\n",
       "    <tr>\n",
       "      <th>2</th>\n",
       "      <td>도널드 트럼프 미국 전 대통령이 27년 전 저지른 성폭력 관련 민사 소송에서 패소해...</td>\n",
       "    </tr>\n",
       "    <tr>\n",
       "      <th>3</th>\n",
       "      <td>블라디미르 푸틴 러시아 대통령이 2차 세계대전 당시 러시아가 독일에 승리한 것을 기...</td>\n",
       "    </tr>\n",
       "    <tr>\n",
       "      <th>4</th>\n",
       "      <td>러시아가 주말 우크라이나 남부 자포리자 원전 지역 주민들을 대피시킨 데 이어 수천 ...</td>\n",
       "    </tr>\n",
       "    <tr>\n",
       "      <th>5</th>\n",
       "      <td>지난 6일(현지시각) 8명의 희생자를 낳은 미국 텍사스주 댈러스 교외 쇼핑몰 총격범...</td>\n",
       "    </tr>\n",
       "    <tr>\n",
       "      <th>6</th>\n",
       "      <td>한일 양국 정상이 두 달 만에 다시 한국에서 만나 회담을 가졌지만 한일 관계에 변화...</td>\n",
       "    </tr>\n",
       "    <tr>\n",
       "      <th>7</th>\n",
       "      <td>바샤르 알아사드 정권의 인권 탄압으로 아랍연맹(AL)에서 퇴출됐던 시리아가 12년 ...</td>\n",
       "    </tr>\n",
       "    <tr>\n",
       "      <th>8</th>\n",
       "      <td>찰스3세 영국 국왕이 6일(현지시간) 대관식을 갖고 '그레이트브리튼과 북아일랜드 연...</td>\n",
       "    </tr>\n",
       "    <tr>\n",
       "      <th>9</th>\n",
       "      <td>지난 4월 19일부터 5월 1일까지 미국, 캐나다, 스웨덴에서 사는 한국 출신 60...</td>\n",
       "    </tr>\n",
       "    <tr>\n",
       "      <th>10</th>\n",
       "      <td>'21세기의 지성'으로 일컬어지는 언어학자 노엄 촘스키(1928년생)는 1990년 ...</td>\n",
       "    </tr>\n",
       "    <tr>\n",
       "      <th>11</th>\n",
       "      <td>우리나라의 경제 버팀목인 수출이 흔들리고 있어 경제성장에 빨간불이 켜졌다. 산업통상...</td>\n",
       "    </tr>\n",
       "    <tr>\n",
       "      <th>12</th>\n",
       "      <td>저와 덴마크 입양인들이 함께 덴마크한국인진상규명그룹(DKRG)을 설립하기로 결정한 ...</td>\n",
       "    </tr>\n",
       "    <tr>\n",
       "      <th>13</th>\n",
       "      <td>러시아가 우크라이나 쪽이 무인기(드론)로 대통령궁을 공격해 블라디미르 푸틴 러시아 ...</td>\n",
       "    </tr>\n",
       "    <tr>\n",
       "      <th>14</th>\n",
       "      <td>미국 할리우드 영화 및 방송 프로그램 작가들이 파업에 돌입함에 따라 미국 주요 방송...</td>\n",
       "    </tr>\n",
       "    <tr>\n",
       "      <th>15</th>\n",
       "      <td>미국 백악관이 지난해 말부터 5달 간 우크라이나 전쟁에서 러시아군 사망자 수가 2만...</td>\n",
       "    </tr>\n",
       "    <tr>\n",
       "      <th>16</th>\n",
       "      <td>기시다 후미오(岸田文雄) 일본 총리가 오는 7~8일 한국에 방문할 예정인 것으로 전...</td>\n",
       "    </tr>\n",
       "    <tr>\n",
       "      <th>17</th>\n",
       "      <td>21세기 세계패권을 놓고 미국과 중국 간의 갈등이 심화되고 있다. 나아가 우크라이나...</td>\n",
       "    </tr>\n",
       "    <tr>\n",
       "      <th>18</th>\n",
       "      <td>제 이름은 니아 경자 리 고 토프타거(Nia Kyeong Ja Lee Koh Tof...</td>\n",
       "    </tr>\n",
       "    <tr>\n",
       "      <th>19</th>\n",
       "      <td>독도에 대해 쓰려니 축구선수 박종우의 얼굴이 떠오른다. 그는 지난 2012년 런던 ...</td>\n",
       "    </tr>\n",
       "    <tr>\n",
       "      <th>20</th>\n",
       "      <td>일본이 한국을 수출 우대국 '화이트리스트'에 복원시키는 절차에 돌입했다. 지난 3월...</td>\n",
       "    </tr>\n",
       "    <tr>\n",
       "      <th>21</th>\n",
       "      <td>중국이 한미정상회담 공동성명에서 대만 문제가 거론된 것과 확장억제 관련 한미 간 정...</td>\n",
       "    </tr>\n",
       "    <tr>\n",
       "      <th>22</th>\n",
       "      <td>대만 차이잉원(蔡英文) 총통이 3월말 중남미 수교국을 방문했다. 귀국길에는 뉴욕과 ...</td>\n",
       "    </tr>\n",
       "    <tr>\n",
       "      <th>23</th>\n",
       "      <td>영미권 주요 외신들은 한미 간 핵협의그룹(NCG) 신설을 골자로 한 '워싱턴 선언'...</td>\n",
       "    </tr>\n",
       "    <tr>\n",
       "      <th>24</th>\n",
       "      <td>코로나19 백신이 개발되어 이미 고소득 국가들에서는 2020년 말부터 접종이 시작되...</td>\n",
       "    </tr>\n",
       "    <tr>\n",
       "      <th>25</th>\n",
       "      <td>조 바이든 미국 대통령이 2024년 대선 출마를 공식 발표했다. 지지율이 신통치 않...</td>\n",
       "    </tr>\n",
       "    <tr>\n",
       "      <th>26</th>\n",
       "      <td>군벌 간 무력 충돌이 벌어지고 있는 수단에서 미국의 중재로 25일(현지시각)부터 사...</td>\n",
       "    </tr>\n",
       "    <tr>\n",
       "      <th>27</th>\n",
       "      <td>윤석열 대통령의 미국 국빈방문을 앞두고 &lt;워싱턴포스트&gt;(WP)는 젠더 문제가 윤 대...</td>\n",
       "    </tr>\n",
       "    <tr>\n",
       "      <th>28</th>\n",
       "      <td>한 도시가 있다. 오랫동안 나라 전체에서 그렇게 돋보이는 도시는 아니었지만, 미래의...</td>\n",
       "    </tr>\n",
       "    <tr>\n",
       "      <th>29</th>\n",
       "      <td>러시아의 우크라이나 침공과 그에 따른 서방과 비 서방의 대립으로 지난해 군사 관련 ...</td>\n",
       "    </tr>\n",
       "    <tr>\n",
       "      <th>30</th>\n",
       "      <td>조 바이든 미국 대통령이 오는 25일 두 번째 대통령 임기에 도전할 것이라는 발표를...</td>\n",
       "    </tr>\n",
       "    <tr>\n",
       "      <th>31</th>\n",
       "      <td>\"2020년도 팬데믹이 전 세계를 강타했을 때 입양인들이 계시는 14개 국가 26개...</td>\n",
       "    </tr>\n",
       "    <tr>\n",
       "      <th>32</th>\n",
       "      <td>한반도를 강탈한 일제는 곧바로 토지조사(정식 이름은 '조선토지조사사업')에 들어갔다...</td>\n",
       "    </tr>\n",
       "    <tr>\n",
       "      <th>33</th>\n",
       "      <td>지난해 가을 372명의 해외입양인들이 한국 진실·화해를위한과거사정리위원회(이하 진실...</td>\n",
       "    </tr>\n",
       "    <tr>\n",
       "      <th>34</th>\n",
       "      <td>철학자 마이클 샌델의 책을 오랜만에 읽었다. 원래 영어 제목은 &lt;민주주의의 불만(D...</td>\n",
       "    </tr>\n",
       "    <tr>\n",
       "      <th>35</th>\n",
       "      <td>승자 없는 우크라이나전쟁은 1년이 넘도록 출구전략을 찾지 못하고 있다. 러시아의 우...</td>\n",
       "    </tr>\n",
       "    <tr>\n",
       "      <th>36</th>\n",
       "      <td>최근 중국인들 사이에서 옌볜조선족자치주(이하 옌볜주)가 가장 핫한 여행지 중 하나로...</td>\n",
       "    </tr>\n",
       "    <tr>\n",
       "      <th>37</th>\n",
       "      <td>윤석열 대통령이 전날 외신 인터뷰에서 우크라이나에 대한 무기 지원 가능성을 열어둔 ...</td>\n",
       "    </tr>\n",
       "    <tr>\n",
       "      <th>38</th>\n",
       "      <td>루이스 이나시우 룰라 다시우바 브라질 대통령이 우크라이나 침공에 대한 반대 입장을 ...</td>\n",
       "    </tr>\n",
       "    <tr>\n",
       "      <th>39</th>\n",
       "      <td>사우디아라비아(이하 사우디)가 이란과 관계 개선을 시작으로 시리아와도 관계 복원에 ...</td>\n",
       "    </tr>\n",
       "    <tr>\n",
       "      <th>40</th>\n",
       "      <td>유출된 미국 기밀문건을 통해 안토니우 구테흐스 유엔(UN) 사무총장에 대한 미 정부...</td>\n",
       "    </tr>\n",
       "    <tr>\n",
       "      <th>41</th>\n",
       "      <td>북아프리카 수단에서 정부를 장악하고 있는 군부 세력 간 무력충돌이 사흘째 이어지며 ...</td>\n",
       "    </tr>\n",
       "    <tr>\n",
       "      <th>42</th>\n",
       "      <td>폴란드와 헝가리가 우크라이나 곡물 수입 금지 조치를 발표한 데 대해 유럽연합(EU)...</td>\n",
       "    </tr>\n",
       "    <tr>\n",
       "      <th>43</th>\n",
       "      <td>5G 인터넷과 인공지능 (Artificial Inteligence, 이하 AI) 분...</td>\n",
       "    </tr>\n",
       "    <tr>\n",
       "      <th>44</th>\n",
       "      <td>일본에서 개최된 주요 7개국(G7) 기후·에너지·환경 장관 회의에서 일본 후쿠시마 ...</td>\n",
       "    </tr>\n",
       "    <tr>\n",
       "      <th>45</th>\n",
       "      <td>이란 경찰이 감시 카메라를 이용한 히잡 미착용 여성 단속을 시작했다.\\n\\n영국에 ...</td>\n",
       "    </tr>\n",
       "    <tr>\n",
       "      <th>46</th>\n",
       "      <td>일본 경찰이 기시다 후미오 일본 총리의 보궐선거 지원 유세 현장에 폭발물을 투척한 ...</td>\n",
       "    </tr>\n",
       "    <tr>\n",
       "      <th>47</th>\n",
       "      <td>'신친일파'들의 주요 논리 가운데 하나가 '식민지 근대화론'이다. 변화와 개혁의 동...</td>\n",
       "    </tr>\n",
       "    <tr>\n",
       "      <th>48</th>\n",
       "      <td>\"넌 우리에게 마음을 열지 않아, 너무 멀게 느껴져.\"\\n\"넌 우리에게 절대 아무 ...</td>\n",
       "    </tr>\n",
       "    <tr>\n",
       "      <th>49</th>\n",
       "      <td>미국 기밀 문건 유출 용의자로 미 주방위군 일병이 체포됐다.  \\n\\n미 연방수사국...</td>\n",
       "    </tr>\n",
       "  </tbody>\n",
       "</table>\n",
       "</div>"
      ],
      "text/plain": [
       "                                                    0\n",
       "0   중국 국민당 육군군관학교(일명 황포군관학교)\\n\\n코로나 팬데믹의 맹위도 어느 정도...\n",
       "1   팔레스타인 가자지구에 대한 이스라엘의 공습이 사흘째 이어지며 20명이 넘는 팔레스타...\n",
       "2   도널드 트럼프 미국 전 대통령이 27년 전 저지른 성폭력 관련 민사 소송에서 패소해...\n",
       "3   블라디미르 푸틴 러시아 대통령이 2차 세계대전 당시 러시아가 독일에 승리한 것을 기...\n",
       "4   러시아가 주말 우크라이나 남부 자포리자 원전 지역 주민들을 대피시킨 데 이어 수천 ...\n",
       "5   지난 6일(현지시각) 8명의 희생자를 낳은 미국 텍사스주 댈러스 교외 쇼핑몰 총격범...\n",
       "6   한일 양국 정상이 두 달 만에 다시 한국에서 만나 회담을 가졌지만 한일 관계에 변화...\n",
       "7   바샤르 알아사드 정권의 인권 탄압으로 아랍연맹(AL)에서 퇴출됐던 시리아가 12년 ...\n",
       "8   찰스3세 영국 국왕이 6일(현지시간) 대관식을 갖고 '그레이트브리튼과 북아일랜드 연...\n",
       "9   지난 4월 19일부터 5월 1일까지 미국, 캐나다, 스웨덴에서 사는 한국 출신 60...\n",
       "10  '21세기의 지성'으로 일컬어지는 언어학자 노엄 촘스키(1928년생)는 1990년 ...\n",
       "11  우리나라의 경제 버팀목인 수출이 흔들리고 있어 경제성장에 빨간불이 켜졌다. 산업통상...\n",
       "12  저와 덴마크 입양인들이 함께 덴마크한국인진상규명그룹(DKRG)을 설립하기로 결정한 ...\n",
       "13  러시아가 우크라이나 쪽이 무인기(드론)로 대통령궁을 공격해 블라디미르 푸틴 러시아 ...\n",
       "14  미국 할리우드 영화 및 방송 프로그램 작가들이 파업에 돌입함에 따라 미국 주요 방송...\n",
       "15  미국 백악관이 지난해 말부터 5달 간 우크라이나 전쟁에서 러시아군 사망자 수가 2만...\n",
       "16  기시다 후미오(岸田文雄) 일본 총리가 오는 7~8일 한국에 방문할 예정인 것으로 전...\n",
       "17  21세기 세계패권을 놓고 미국과 중국 간의 갈등이 심화되고 있다. 나아가 우크라이나...\n",
       "18  제 이름은 니아 경자 리 고 토프타거(Nia Kyeong Ja Lee Koh Tof...\n",
       "19  독도에 대해 쓰려니 축구선수 박종우의 얼굴이 떠오른다. 그는 지난 2012년 런던 ...\n",
       "20  일본이 한국을 수출 우대국 '화이트리스트'에 복원시키는 절차에 돌입했다. 지난 3월...\n",
       "21  중국이 한미정상회담 공동성명에서 대만 문제가 거론된 것과 확장억제 관련 한미 간 정...\n",
       "22  대만 차이잉원(蔡英文) 총통이 3월말 중남미 수교국을 방문했다. 귀국길에는 뉴욕과 ...\n",
       "23  영미권 주요 외신들은 한미 간 핵협의그룹(NCG) 신설을 골자로 한 '워싱턴 선언'...\n",
       "24  코로나19 백신이 개발되어 이미 고소득 국가들에서는 2020년 말부터 접종이 시작되...\n",
       "25  조 바이든 미국 대통령이 2024년 대선 출마를 공식 발표했다. 지지율이 신통치 않...\n",
       "26  군벌 간 무력 충돌이 벌어지고 있는 수단에서 미국의 중재로 25일(현지시각)부터 사...\n",
       "27  윤석열 대통령의 미국 국빈방문을 앞두고 <워싱턴포스트>(WP)는 젠더 문제가 윤 대...\n",
       "28  한 도시가 있다. 오랫동안 나라 전체에서 그렇게 돋보이는 도시는 아니었지만, 미래의...\n",
       "29  러시아의 우크라이나 침공과 그에 따른 서방과 비 서방의 대립으로 지난해 군사 관련 ...\n",
       "30  조 바이든 미국 대통령이 오는 25일 두 번째 대통령 임기에 도전할 것이라는 발표를...\n",
       "31  \"2020년도 팬데믹이 전 세계를 강타했을 때 입양인들이 계시는 14개 국가 26개...\n",
       "32  한반도를 강탈한 일제는 곧바로 토지조사(정식 이름은 '조선토지조사사업')에 들어갔다...\n",
       "33  지난해 가을 372명의 해외입양인들이 한국 진실·화해를위한과거사정리위원회(이하 진실...\n",
       "34  철학자 마이클 샌델의 책을 오랜만에 읽었다. 원래 영어 제목은 <민주주의의 불만(D...\n",
       "35  승자 없는 우크라이나전쟁은 1년이 넘도록 출구전략을 찾지 못하고 있다. 러시아의 우...\n",
       "36  최근 중국인들 사이에서 옌볜조선족자치주(이하 옌볜주)가 가장 핫한 여행지 중 하나로...\n",
       "37  윤석열 대통령이 전날 외신 인터뷰에서 우크라이나에 대한 무기 지원 가능성을 열어둔 ...\n",
       "38  루이스 이나시우 룰라 다시우바 브라질 대통령이 우크라이나 침공에 대한 반대 입장을 ...\n",
       "39  사우디아라비아(이하 사우디)가 이란과 관계 개선을 시작으로 시리아와도 관계 복원에 ...\n",
       "40  유출된 미국 기밀문건을 통해 안토니우 구테흐스 유엔(UN) 사무총장에 대한 미 정부...\n",
       "41  북아프리카 수단에서 정부를 장악하고 있는 군부 세력 간 무력충돌이 사흘째 이어지며 ...\n",
       "42  폴란드와 헝가리가 우크라이나 곡물 수입 금지 조치를 발표한 데 대해 유럽연합(EU)...\n",
       "43  5G 인터넷과 인공지능 (Artificial Inteligence, 이하 AI) 분...\n",
       "44  일본에서 개최된 주요 7개국(G7) 기후·에너지·환경 장관 회의에서 일본 후쿠시마 ...\n",
       "45  이란 경찰이 감시 카메라를 이용한 히잡 미착용 여성 단속을 시작했다.\\n\\n영국에 ...\n",
       "46  일본 경찰이 기시다 후미오 일본 총리의 보궐선거 지원 유세 현장에 폭발물을 투척한 ...\n",
       "47  '신친일파'들의 주요 논리 가운데 하나가 '식민지 근대화론'이다. 변화와 개혁의 동...\n",
       "48  \"넌 우리에게 마음을 열지 않아, 너무 멀게 느껴져.\"\\n\"넌 우리에게 절대 아무 ...\n",
       "49  미국 기밀 문건 유출 용의자로 미 주방위군 일병이 체포됐다.  \\n\\n미 연방수사국..."
      ]
     },
     "execution_count": 73,
     "metadata": {},
     "output_type": "execute_result"
    }
   ],
   "source": [
    "li = []\n",
    "for i in range(1,6):\n",
    "      url = 'https://www.pressian.com/pages/news-world-list?page='+str(i)\n",
    "      html = urllib.request.urlopen(url).read()\n",
    "      html.decode(encoding='utf-8')\n",
    "      \n",
    "      soup = BeautifulSoup(html, 'html.parser')\n",
    "      titles = soup.find_all(class_ = 'body')\n",
    "\n",
    "      for title in titles:\n",
    "            li.append(title.text)\n",
    "            \n",
    "df = pd.DataFrame(li)\n",
    "df"
   ]
  },
  {
   "cell_type": "code",
   "execution_count": 77,
   "id": "28d74aae-0ad8-46a4-9e9c-30c19a2957a7",
   "metadata": {
    "collapsed": true,
    "jupyter": {
     "outputs_hidden": true
    },
    "tags": []
   },
   "outputs": [
    {
     "data": {
      "text/html": [
       "<div>\n",
       "<style scoped>\n",
       "    .dataframe tbody tr th:only-of-type {\n",
       "        vertical-align: middle;\n",
       "    }\n",
       "\n",
       "    .dataframe tbody tr th {\n",
       "        vertical-align: top;\n",
       "    }\n",
       "\n",
       "    .dataframe thead th {\n",
       "        text-align: right;\n",
       "    }\n",
       "</style>\n",
       "<table border=\"1\" class=\"dataframe\">\n",
       "  <thead>\n",
       "    <tr style=\"text-align: right;\">\n",
       "      <th></th>\n",
       "      <th>소제목</th>\n",
       "      <th>첫줄</th>\n",
       "    </tr>\n",
       "  </thead>\n",
       "  <tbody>\n",
       "    <tr>\n",
       "      <th>0</th>\n",
       "      <td>[원광대 '한중관계 브리핑'] 중국 광저우 묘지에 안장되어 있는 독립운동가, 김근제...</td>\n",
       "      <td>중국 국민당 육군군관학교(일명 황포군관학교)\\n\\n코로나 팬데믹의 맹위도 어느 정도...</td>\n",
       "    </tr>\n",
       "    <tr>\n",
       "      <th>1</th>\n",
       "      <td>팔레스타인 27명 사망에 무장단체 인사 추가 살해로 휴전 멀어져</td>\n",
       "      <td>팔레스타인 가자지구에 대한 이스라엘의 공습이 사흘째 이어지며 20명이 넘는 팔레스타...</td>\n",
       "    </tr>\n",
       "    <tr>\n",
       "      <th>2</th>\n",
       "      <td>뉴욕 배심원단, 27년전 성폭력 가해에 500만 달러 배상 평결</td>\n",
       "      <td>도널드 트럼프 미국 전 대통령이 27년 전 저지른 성폭력 관련 민사 소송에서 패소해...</td>\n",
       "    </tr>\n",
       "    <tr>\n",
       "      <th>3</th>\n",
       "      <td>기념 연설서 이례적 발언…전쟁 원인 '오만한 서방'에 돌려</td>\n",
       "      <td>블라디미르 푸틴 러시아 대통령이 2차 세계대전 당시 러시아가 독일에 승리한 것을 기...</td>\n",
       "    </tr>\n",
       "    <tr>\n",
       "      <th>4</th>\n",
       "      <td>러, 주말 인근 주민 1600명 대피시켜…'원전 인근 격전지 될라' 커지는 우려</td>\n",
       "      <td>러시아가 주말 우크라이나 남부 자포리자 원전 지역 주민들을 대피시킨 데 이어 수천 ...</td>\n",
       "    </tr>\n",
       "    <tr>\n",
       "      <th>5</th>\n",
       "      <td>6일 쇼핑몰 총격범 백인우월주의 경도 정황…7일엔 국경 도시 차량 돌진으로 이민자 ...</td>\n",
       "      <td>지난 6일(현지시각) 8명의 희생자를 낳은 미국 텍사스주 댈러스 교외 쇼핑몰 총격범...</td>\n",
       "    </tr>\n",
       "    <tr>\n",
       "      <th>6</th>\n",
       "      <td>일본 포털 사이트 조사 결과 약 70% \"변하지 않을 것\"</td>\n",
       "      <td>한일 양국 정상이 두 달 만에 다시 한국에서 만나 회담을 가졌지만 한일 관계에 변화...</td>\n",
       "    </tr>\n",
       "    <tr>\n",
       "      <th>7</th>\n",
       "      <td>인근국 난민 부담 더해 사우디·이란 관계 정상화가 발판…미 \"시리아 재가입 자격 없...</td>\n",
       "      <td>바샤르 알아사드 정권의 인권 탄압으로 아랍연맹(AL)에서 퇴출됐던 시리아가 12년 ...</td>\n",
       "    </tr>\n",
       "    <tr>\n",
       "      <th>8</th>\n",
       "      <td>'최장기간 왕세자' 꼬리표 떼고 즉위…해리는 참석, 마클은 불참</td>\n",
       "      <td>찰스3세 영국 국왕이 6일(현지시간) 대관식을 갖고 '그레이트브리튼과 북아일랜드 연...</td>\n",
       "    </tr>\n",
       "    <tr>\n",
       "      <th>9</th>\n",
       "      <td>입양인 고국 방문 등 돕는 美 뉴저지 비영리기관 세종문화교육원</td>\n",
       "      <td>지난 4월 19일부터 5월 1일까지 미국, 캐나다, 스웨덴에서 사는 한국 출신 60...</td>\n",
       "    </tr>\n",
       "    <tr>\n",
       "      <th>10</th>\n",
       "      <td>[김재명의 전쟁범죄 이야기 18] 누구를 위한 '역사전쟁'인가 (下3)</td>\n",
       "      <td>'21세기의 지성'으로 일컬어지는 언어학자 노엄 촘스키(1928년생)는 1990년 ...</td>\n",
       "    </tr>\n",
       "    <tr>\n",
       "      <th>11</th>\n",
       "      <td>[원광대 '한중관계 브리핑'] 안정적인 아세안 수출 시장 확보 시급</td>\n",
       "      <td>우리나라의 경제 버팀목인 수출이 흔들리고 있어 경제성장에 빨간불이 켜졌다. 산업통상...</td>\n",
       "    </tr>\n",
       "    <tr>\n",
       "      <th>12</th>\n",
       "      <td>[372명 해외입양인들의 진실 찾기] 입양인들이 지난 1년간 밝혀낸 사실들</td>\n",
       "      <td>저와 덴마크 입양인들이 함께 덴마크한국인진상규명그룹(DKRG)을 설립하기로 결정한 ...</td>\n",
       "    </tr>\n",
       "    <tr>\n",
       "      <th>13</th>\n",
       "      <td>우크라 즉각 부인…일각선 '우크라 봄 반격 앞두고 서방 분열·내부 결속 위한 위장 ...</td>\n",
       "      <td>러시아가 우크라이나 쪽이 무인기(드론)로 대통령궁을 공격해 블라디미르 푸틴 러시아 ...</td>\n",
       "    </tr>\n",
       "    <tr>\n",
       "      <th>14</th>\n",
       "      <td>스트리밍 구조 확산·AI 등장 맞물리며 \"직업적 글쓰기 실존 위기 처해\"</td>\n",
       "      <td>미국 할리우드 영화 및 방송 프로그램 작가들이 파업에 돌입함에 따라 미국 주요 방송...</td>\n",
       "    </tr>\n",
       "    <tr>\n",
       "      <th>15</th>\n",
       "      <td>러, 3일 만에 우크라 재차 공습…\"백지 수표\" 안된다던 매카시는 \"우크라 지원 지...</td>\n",
       "      <td>미국 백악관이 지난해 말부터 5달 간 우크라이나 전쟁에서 러시아군 사망자 수가 2만...</td>\n",
       "    </tr>\n",
       "    <tr>\n",
       "      <th>16</th>\n",
       "      <td>일본 교도통신 \"7~8일 일정으로 한국 방문 조율 중\"</td>\n",
       "      <td>기시다 후미오(岸田文雄) 일본 총리가 오는 7~8일 한국에 방문할 예정인 것으로 전...</td>\n",
       "    </tr>\n",
       "    <tr>\n",
       "      <th>17</th>\n",
       "      <td>[화보] 미군 전진기지 오키나와 현지에는…</td>\n",
       "      <td>21세기 세계패권을 놓고 미국과 중국 간의 갈등이 심화되고 있다. 나아가 우크라이나...</td>\n",
       "    </tr>\n",
       "    <tr>\n",
       "      <th>18</th>\n",
       "      <td>[372명 해외입양인들의 진실 찾기] (25) 입양인들도 동등한 권리가 있습니다</td>\n",
       "      <td>제 이름은 니아 경자 리 고 토프타거(Nia Kyeong Ja Lee Koh Tof...</td>\n",
       "    </tr>\n",
       "    <tr>\n",
       "      <th>19</th>\n",
       "      <td>[김재명의 전쟁범죄 이야기 17] 누구를 위한 '역사전쟁'인가 (下②)</td>\n",
       "      <td>독도에 대해 쓰려니 축구선수 박종우의 얼굴이 떠오른다. 그는 지난 2012년 런던 ...</td>\n",
       "    </tr>\n",
       "    <tr>\n",
       "      <th>20</th>\n",
       "      <td>한국은 관보게재까지 마쳤는데…日경산성 \"수출무역관리령 개정 의견수렴 시작\"</td>\n",
       "      <td>일본이 한국을 수출 우대국 '화이트리스트'에 복원시키는 절차에 돌입했다. 지난 3월...</td>\n",
       "    </tr>\n",
       "    <tr>\n",
       "      <th>21</th>\n",
       "      <td>중 외교부 \"워싱턴 선언, 한반도 비핵화 목표와 정반대\"…관영지 \"핵잠 북한 자극 ...</td>\n",
       "      <td>중국이 한미정상회담 공동성명에서 대만 문제가 거론된 것과 확장억제 관련 한미 간 정...</td>\n",
       "    </tr>\n",
       "    <tr>\n",
       "      <th>22</th>\n",
       "      <td>[원광대 '한중관계 브리핑'] 대만해협 전쟁과 한국의 입장</td>\n",
       "      <td>대만 차이잉원(蔡英文) 총통이 3월말 중남미 수교국을 방문했다. 귀국길에는 뉴욕과 ...</td>\n",
       "    </tr>\n",
       "    <tr>\n",
       "      <th>23</th>\n",
       "      <td>워싱턴 선언 평가…\"尹, 미 관심 이끌어낸 것 강조하겠지만 수사에 그쳐\" 분석도</td>\n",
       "      <td>영미권 주요 외신들은 한미 간 핵협의그룹(NCG) 신설을 골자로 한 '워싱턴 선언'...</td>\n",
       "    </tr>\n",
       "    <tr>\n",
       "      <th>24</th>\n",
       "      <td>[서리풀 연구通] 코로나19 백신과 치료제의 지식재산권 유예에 관한 남반구 보건의료...</td>\n",
       "      <td>코로나19 백신이 개발되어 이미 고소득 국가들에서는 2020년 말부터 접종이 시작되...</td>\n",
       "    </tr>\n",
       "    <tr>\n",
       "      <th>25</th>\n",
       "      <td>트럼프 복귀 막으려는 부동층 표심·임신중지권 옹호 여론은 '희망'</td>\n",
       "      <td>조 바이든 미국 대통령이 2024년 대선 출마를 공식 발표했다. 지지율이 신통치 않...</td>\n",
       "    </tr>\n",
       "    <tr>\n",
       "      <th>26</th>\n",
       "      <td>독일 400명·프랑스 500명 등 EU 시민 1000명 이상 대피…한국 교민 28명...</td>\n",
       "      <td>군벌 간 무력 충돌이 벌어지고 있는 수단에서 미국의 중재로 25일(현지시각)부터 사...</td>\n",
       "    </tr>\n",
       "    <tr>\n",
       "      <th>27</th>\n",
       "      <td>미 국빈 방문 앞두고 평가…\"윤, 여가부 폐지 두고 비난 받아\"</td>\n",
       "      <td>윤석열 대통령의 미국 국빈방문을 앞두고 &lt;워싱턴포스트&gt;(WP)는 젠더 문제가 윤 대...</td>\n",
       "    </tr>\n",
       "    <tr>\n",
       "      <th>28</th>\n",
       "      <td>[장석준 칼럼] 신자유주의 앞에 퇴락했대도 여전히 남은 자유의 기억</td>\n",
       "      <td>한 도시가 있다. 오랫동안 나라 전체에서 그렇게 돋보이는 도시는 아니었지만, 미래의...</td>\n",
       "    </tr>\n",
       "    <tr>\n",
       "      <th>29</th>\n",
       "      <td>미국과 중국·한국·일본 등 동아시아도 군비 증강 박차…\"세계 불안정 높아져\" 어두운 전망</td>\n",
       "      <td>러시아의 우크라이나 침공과 그에 따른 서방과 비 서방의 대립으로 지난해 군사 관련 ...</td>\n",
       "    </tr>\n",
       "    <tr>\n",
       "      <th>30</th>\n",
       "      <td>바이든, 공화당 후보에 모두 근소하게 앞서…2024년 대선 가장 중요한 이슈는 \"인...</td>\n",
       "      <td>조 바이든 미국 대통령이 오는 25일 두 번째 대통령 임기에 도전할 것이라는 발표를...</td>\n",
       "    </tr>\n",
       "    <tr>\n",
       "      <th>31</th>\n",
       "      <td>[현장] 해외입양인들이 직접 쓴 입양 서사…\"한국 정부, 합당한 사과해야\"</td>\n",
       "      <td>\"2020년도 팬데믹이 전 세계를 강타했을 때 입양인들이 계시는 14개 국가 26개...</td>\n",
       "    </tr>\n",
       "    <tr>\n",
       "      <th>32</th>\n",
       "      <td>[김재명의 전쟁범죄 이야기 16] 누구를 위한 '역사전쟁'인가 (下①)</td>\n",
       "      <td>한반도를 강탈한 일제는 곧바로 토지조사(정식 이름은 '조선토지조사사업')에 들어갔다...</td>\n",
       "    </tr>\n",
       "    <tr>\n",
       "      <th>33</th>\n",
       "      <td>[372명 해외입양인들의 진실 찾기]  입양인 당사자 운동에 대한 백래시</td>\n",
       "      <td>지난해 가을 372명의 해외입양인들이 한국 진실·화해를위한과거사정리위원회(이하 진실...</td>\n",
       "    </tr>\n",
       "    <tr>\n",
       "      <th>34</th>\n",
       "      <td>[인문견문록] 마이클 샌델의 &lt;당신이 모르는 민주주의&gt;</td>\n",
       "      <td>철학자 마이클 샌델의 책을 오랜만에 읽었다. 원래 영어 제목은 &lt;민주주의의 불만(D...</td>\n",
       "    </tr>\n",
       "    <tr>\n",
       "      <th>35</th>\n",
       "      <td>[원광대 '한중관계 브리핑'] 한중, 한러관계 우호적 유지 위해 신중한 외교적 행보...</td>\n",
       "      <td>승자 없는 우크라이나전쟁은 1년이 넘도록 출구전략을 찾지 못하고 있다. 러시아의 우...</td>\n",
       "    </tr>\n",
       "    <tr>\n",
       "      <th>36</th>\n",
       "      <td>[기고] 옌볜을 통해 동북 3성, 더 나아가 중국으로 뻗어가는 계기 만들어야</td>\n",
       "      <td>최근 중국인들 사이에서 옌볜조선족자치주(이하 옌볜주)가 가장 핫한 여행지 중 하나로...</td>\n",
       "    </tr>\n",
       "    <tr>\n",
       "      <th>37</th>\n",
       "      <td>러 외무부·주한 러대사관 등 연이어 한반도 상황 언급…푸틴 측근 \"러 무기 북한 보...</td>\n",
       "      <td>윤석열 대통령이 전날 외신 인터뷰에서 우크라이나에 대한 무기 지원 가능성을 열어둔 ...</td>\n",
       "    </tr>\n",
       "    <tr>\n",
       "      <th>38</th>\n",
       "      <td>최근 중국·러시아 관계 강화하며 \"미국이 전쟁 조장\" 발언</td>\n",
       "      <td>루이스 이나시우 룰라 다시우바 브라질 대통령이 우크라이나 침공에 대한 반대 입장을 ...</td>\n",
       "    </tr>\n",
       "    <tr>\n",
       "      <th>39</th>\n",
       "      <td>이란과 관계 개선한 사우디, 시리아와도 관계 복원 추진…'아랍 정체성' 보존</td>\n",
       "      <td>사우디아라비아(이하 사우디)가 이란과 관계 개선을 시작으로 시리아와도 관계 복원에 ...</td>\n",
       "    </tr>\n",
       "    <tr>\n",
       "      <th>40</th>\n",
       "      <td>\"미국에 공식 우려 표명\"…지난주 \"놀랍지 않다\" 반응서 돌아서</td>\n",
       "      <td>유출된 미국 기밀문건을 통해 안토니우 구테흐스 유엔(UN) 사무총장에 대한 미 정부...</td>\n",
       "    </tr>\n",
       "    <tr>\n",
       "      <th>41</th>\n",
       "      <td>정부 장악 군부 1·2위 다툼에 민간인 사상 눈덩이…국제사회 중재 시도에도 양쪽 협...</td>\n",
       "      <td>북아프리카 수단에서 정부를 장악하고 있는 군부 세력 간 무력충돌이 사흘째 이어지며 ...</td>\n",
       "    </tr>\n",
       "    <tr>\n",
       "      <th>42</th>\n",
       "      <td>수출길 막힌 우크라 농산물 인접국 몰리며 농민 고통…EU \"단독 행동 용납 못해\" 엄포</td>\n",
       "      <td>폴란드와 헝가리가 우크라이나 곡물 수입 금지 조치를 발표한 데 대해 유럽연합(EU)...</td>\n",
       "    </tr>\n",
       "    <tr>\n",
       "      <th>43</th>\n",
       "      <td>[원광대 '한중관계 브리핑'] 치우청퉁 칭화대 교수 주도로 이뤄지는 수학 엘리트 양성</td>\n",
       "      <td>5G 인터넷과 인공지능 (Artificial Inteligence, 이하 AI) 분...</td>\n",
       "    </tr>\n",
       "    <tr>\n",
       "      <th>44</th>\n",
       "      <td>정부 \"오염수 처리, 과학적이고 객관적으로 안전하고 국제기준에 부합해야\"</td>\n",
       "      <td>일본에서 개최된 주요 7개국(G7) 기후·에너지·환경 장관 회의에서 일본 후쿠시마 ...</td>\n",
       "    </tr>\n",
       "    <tr>\n",
       "      <th>45</th>\n",
       "      <td>여성들 히잡 벗은 채 거리 활보 '저항'… \"히잡 미착용 권유자는 엄중 처벌\"</td>\n",
       "      <td>이란 경찰이 감시 카메라를 이용한 히잡 미착용 여성 단속을 시작했다.\\n\\n영국에 ...</td>\n",
       "    </tr>\n",
       "    <tr>\n",
       "      <th>46</th>\n",
       "      <td>경찰, 용의자 집 수색해 화약 추정 물체 등 압수…기시다 \"폭력 용납 불가\" 규탄</td>\n",
       "      <td>일본 경찰이 기시다 후미오 일본 총리의 보궐선거 지원 유세 현장에 폭발물을 투척한 ...</td>\n",
       "    </tr>\n",
       "    <tr>\n",
       "      <th>47</th>\n",
       "      <td>[김재명의 전쟁범죄 이야기 15] 누구를 위한 '역사전쟁'인가 (中)</td>\n",
       "      <td>'신친일파'들의 주요 논리 가운데 하나가 '식민지 근대화론'이다. 변화와 개혁의 동...</td>\n",
       "    </tr>\n",
       "    <tr>\n",
       "      <th>48</th>\n",
       "      <td>[372명 해외입양인들의 진실 찾기] (24) 우리는 '물건'처럼 거래됐습니다</td>\n",
       "      <td>\"넌 우리에게 마음을 열지 않아, 너무 멀게 느껴져.\"\\n\"넌 우리에게 절대 아무 ...</td>\n",
       "    </tr>\n",
       "    <tr>\n",
       "      <th>49</th>\n",
       "      <td>내부과시 목적 추정…\"우크라전 터지며 유출 시작\" 증언도</td>\n",
       "      <td>미국 기밀 문건 유출 용의자로 미 주방위군 일병이 체포됐다.  \\n\\n미 연방수사국...</td>\n",
       "    </tr>\n",
       "  </tbody>\n",
       "</table>\n",
       "</div>"
      ],
      "text/plain": [
       "                                                  소제목  \\\n",
       "0   [원광대 '한중관계 브리핑'] 중국 광저우 묘지에 안장되어 있는 독립운동가, 김근제...   \n",
       "1                 팔레스타인 27명 사망에 무장단체 인사 추가 살해로 휴전 멀어져   \n",
       "2                 뉴욕 배심원단, 27년전 성폭력 가해에 500만 달러 배상 평결   \n",
       "3                    기념 연설서 이례적 발언…전쟁 원인 '오만한 서방'에 돌려   \n",
       "4        러, 주말 인근 주민 1600명 대피시켜…'원전 인근 격전지 될라' 커지는 우려   \n",
       "5   6일 쇼핑몰 총격범 백인우월주의 경도 정황…7일엔 국경 도시 차량 돌진으로 이민자 ...   \n",
       "6                    일본 포털 사이트 조사 결과 약 70% \"변하지 않을 것\"   \n",
       "7   인근국 난민 부담 더해 사우디·이란 관계 정상화가 발판…미 \"시리아 재가입 자격 없...   \n",
       "8                 '최장기간 왕세자' 꼬리표 떼고 즉위…해리는 참석, 마클은 불참   \n",
       "9                  입양인 고국 방문 등 돕는 美 뉴저지 비영리기관 세종문화교육원   \n",
       "10          [김재명의 전쟁범죄 이야기 18] 누구를 위한 '역사전쟁'인가 (下3)     \n",
       "11              [원광대 '한중관계 브리핑'] 안정적인 아세안 수출 시장 확보 시급   \n",
       "12          [372명 해외입양인들의 진실 찾기] 입양인들이 지난 1년간 밝혀낸 사실들   \n",
       "13  우크라 즉각 부인…일각선 '우크라 봄 반격 앞두고 서방 분열·내부 결속 위한 위장 ...   \n",
       "14           스트리밍 구조 확산·AI 등장 맞물리며 \"직업적 글쓰기 실존 위기 처해\"   \n",
       "15  러, 3일 만에 우크라 재차 공습…\"백지 수표\" 안된다던 매카시는 \"우크라 지원 지...   \n",
       "16                     일본 교도통신 \"7~8일 일정으로 한국 방문 조율 중\"   \n",
       "17                            [화보] 미군 전진기지 오키나와 현지에는…   \n",
       "18       [372명 해외입양인들의 진실 찾기] (25) 입양인들도 동등한 권리가 있습니다   \n",
       "19          [김재명의 전쟁범죄 이야기 17] 누구를 위한 '역사전쟁'인가 (下②)     \n",
       "20          한국은 관보게재까지 마쳤는데…日경산성 \"수출무역관리령 개정 의견수렴 시작\"   \n",
       "21  중 외교부 \"워싱턴 선언, 한반도 비핵화 목표와 정반대\"…관영지 \"핵잠 북한 자극 ...   \n",
       "22                   [원광대 '한중관계 브리핑'] 대만해협 전쟁과 한국의 입장   \n",
       "23       워싱턴 선언 평가…\"尹, 미 관심 이끌어낸 것 강조하겠지만 수사에 그쳐\" 분석도   \n",
       "24  [서리풀 연구通] 코로나19 백신과 치료제의 지식재산권 유예에 관한 남반구 보건의료...   \n",
       "25               트럼프 복귀 막으려는 부동층 표심·임신중지권 옹호 여론은 '희망'   \n",
       "26  독일 400명·프랑스 500명 등 EU 시민 1000명 이상 대피…한국 교민 28명...   \n",
       "27                미 국빈 방문 앞두고 평가…\"윤, 여가부 폐지 두고 비난 받아\"   \n",
       "28              [장석준 칼럼] 신자유주의 앞에 퇴락했대도 여전히 남은 자유의 기억   \n",
       "29  미국과 중국·한국·일본 등 동아시아도 군비 증강 박차…\"세계 불안정 높아져\" 어두운 전망   \n",
       "30  바이든, 공화당 후보에 모두 근소하게 앞서…2024년 대선 가장 중요한 이슈는 \"인...   \n",
       "31          [현장] 해외입양인들이 직접 쓴 입양 서사…\"한국 정부, 합당한 사과해야\"   \n",
       "32          [김재명의 전쟁범죄 이야기 16] 누구를 위한 '역사전쟁'인가 (下①)     \n",
       "33           [372명 해외입양인들의 진실 찾기]  입양인 당사자 운동에 대한 백래시   \n",
       "34                     [인문견문록] 마이클 샌델의 <당신이 모르는 민주주의>   \n",
       "35  [원광대 '한중관계 브리핑'] 한중, 한러관계 우호적 유지 위해 신중한 외교적 행보...   \n",
       "36         [기고] 옌볜을 통해 동북 3성, 더 나아가 중국으로 뻗어가는 계기 만들어야   \n",
       "37  러 외무부·주한 러대사관 등 연이어 한반도 상황 언급…푸틴 측근 \"러 무기 북한 보...   \n",
       "38                   최근 중국·러시아 관계 강화하며 \"미국이 전쟁 조장\" 발언   \n",
       "39         이란과 관계 개선한 사우디, 시리아와도 관계 복원 추진…'아랍 정체성' 보존   \n",
       "40                \"미국에 공식 우려 표명\"…지난주 \"놀랍지 않다\" 반응서 돌아서   \n",
       "41  정부 장악 군부 1·2위 다툼에 민간인 사상 눈덩이…국제사회 중재 시도에도 양쪽 협...   \n",
       "42   수출길 막힌 우크라 농산물 인접국 몰리며 농민 고통…EU \"단독 행동 용납 못해\" 엄포   \n",
       "43   [원광대 '한중관계 브리핑'] 치우청퉁 칭화대 교수 주도로 이뤄지는 수학 엘리트 양성    \n",
       "44           정부 \"오염수 처리, 과학적이고 객관적으로 안전하고 국제기준에 부합해야\"   \n",
       "45        여성들 히잡 벗은 채 거리 활보 '저항'… \"히잡 미착용 권유자는 엄중 처벌\"   \n",
       "46      경찰, 용의자 집 수색해 화약 추정 물체 등 압수…기시다 \"폭력 용납 불가\" 규탄   \n",
       "47           [김재명의 전쟁범죄 이야기 15] 누구를 위한 '역사전쟁'인가 (中)     \n",
       "48        [372명 해외입양인들의 진실 찾기] (24) 우리는 '물건'처럼 거래됐습니다   \n",
       "49                    내부과시 목적 추정…\"우크라전 터지며 유출 시작\" 증언도   \n",
       "\n",
       "                                                   첫줄  \n",
       "0   중국 국민당 육군군관학교(일명 황포군관학교)\\n\\n코로나 팬데믹의 맹위도 어느 정도...  \n",
       "1   팔레스타인 가자지구에 대한 이스라엘의 공습이 사흘째 이어지며 20명이 넘는 팔레스타...  \n",
       "2   도널드 트럼프 미국 전 대통령이 27년 전 저지른 성폭력 관련 민사 소송에서 패소해...  \n",
       "3   블라디미르 푸틴 러시아 대통령이 2차 세계대전 당시 러시아가 독일에 승리한 것을 기...  \n",
       "4   러시아가 주말 우크라이나 남부 자포리자 원전 지역 주민들을 대피시킨 데 이어 수천 ...  \n",
       "5   지난 6일(현지시각) 8명의 희생자를 낳은 미국 텍사스주 댈러스 교외 쇼핑몰 총격범...  \n",
       "6   한일 양국 정상이 두 달 만에 다시 한국에서 만나 회담을 가졌지만 한일 관계에 변화...  \n",
       "7   바샤르 알아사드 정권의 인권 탄압으로 아랍연맹(AL)에서 퇴출됐던 시리아가 12년 ...  \n",
       "8   찰스3세 영국 국왕이 6일(현지시간) 대관식을 갖고 '그레이트브리튼과 북아일랜드 연...  \n",
       "9   지난 4월 19일부터 5월 1일까지 미국, 캐나다, 스웨덴에서 사는 한국 출신 60...  \n",
       "10  '21세기의 지성'으로 일컬어지는 언어학자 노엄 촘스키(1928년생)는 1990년 ...  \n",
       "11  우리나라의 경제 버팀목인 수출이 흔들리고 있어 경제성장에 빨간불이 켜졌다. 산업통상...  \n",
       "12  저와 덴마크 입양인들이 함께 덴마크한국인진상규명그룹(DKRG)을 설립하기로 결정한 ...  \n",
       "13  러시아가 우크라이나 쪽이 무인기(드론)로 대통령궁을 공격해 블라디미르 푸틴 러시아 ...  \n",
       "14  미국 할리우드 영화 및 방송 프로그램 작가들이 파업에 돌입함에 따라 미국 주요 방송...  \n",
       "15  미국 백악관이 지난해 말부터 5달 간 우크라이나 전쟁에서 러시아군 사망자 수가 2만...  \n",
       "16  기시다 후미오(岸田文雄) 일본 총리가 오는 7~8일 한국에 방문할 예정인 것으로 전...  \n",
       "17  21세기 세계패권을 놓고 미국과 중국 간의 갈등이 심화되고 있다. 나아가 우크라이나...  \n",
       "18  제 이름은 니아 경자 리 고 토프타거(Nia Kyeong Ja Lee Koh Tof...  \n",
       "19  독도에 대해 쓰려니 축구선수 박종우의 얼굴이 떠오른다. 그는 지난 2012년 런던 ...  \n",
       "20  일본이 한국을 수출 우대국 '화이트리스트'에 복원시키는 절차에 돌입했다. 지난 3월...  \n",
       "21  중국이 한미정상회담 공동성명에서 대만 문제가 거론된 것과 확장억제 관련 한미 간 정...  \n",
       "22  대만 차이잉원(蔡英文) 총통이 3월말 중남미 수교국을 방문했다. 귀국길에는 뉴욕과 ...  \n",
       "23  영미권 주요 외신들은 한미 간 핵협의그룹(NCG) 신설을 골자로 한 '워싱턴 선언'...  \n",
       "24  코로나19 백신이 개발되어 이미 고소득 국가들에서는 2020년 말부터 접종이 시작되...  \n",
       "25  조 바이든 미국 대통령이 2024년 대선 출마를 공식 발표했다. 지지율이 신통치 않...  \n",
       "26  군벌 간 무력 충돌이 벌어지고 있는 수단에서 미국의 중재로 25일(현지시각)부터 사...  \n",
       "27  윤석열 대통령의 미국 국빈방문을 앞두고 <워싱턴포스트>(WP)는 젠더 문제가 윤 대...  \n",
       "28  한 도시가 있다. 오랫동안 나라 전체에서 그렇게 돋보이는 도시는 아니었지만, 미래의...  \n",
       "29  러시아의 우크라이나 침공과 그에 따른 서방과 비 서방의 대립으로 지난해 군사 관련 ...  \n",
       "30  조 바이든 미국 대통령이 오는 25일 두 번째 대통령 임기에 도전할 것이라는 발표를...  \n",
       "31  \"2020년도 팬데믹이 전 세계를 강타했을 때 입양인들이 계시는 14개 국가 26개...  \n",
       "32  한반도를 강탈한 일제는 곧바로 토지조사(정식 이름은 '조선토지조사사업')에 들어갔다...  \n",
       "33  지난해 가을 372명의 해외입양인들이 한국 진실·화해를위한과거사정리위원회(이하 진실...  \n",
       "34  철학자 마이클 샌델의 책을 오랜만에 읽었다. 원래 영어 제목은 <민주주의의 불만(D...  \n",
       "35  승자 없는 우크라이나전쟁은 1년이 넘도록 출구전략을 찾지 못하고 있다. 러시아의 우...  \n",
       "36  최근 중국인들 사이에서 옌볜조선족자치주(이하 옌볜주)가 가장 핫한 여행지 중 하나로...  \n",
       "37  윤석열 대통령이 전날 외신 인터뷰에서 우크라이나에 대한 무기 지원 가능성을 열어둔 ...  \n",
       "38  루이스 이나시우 룰라 다시우바 브라질 대통령이 우크라이나 침공에 대한 반대 입장을 ...  \n",
       "39  사우디아라비아(이하 사우디)가 이란과 관계 개선을 시작으로 시리아와도 관계 복원에 ...  \n",
       "40  유출된 미국 기밀문건을 통해 안토니우 구테흐스 유엔(UN) 사무총장에 대한 미 정부...  \n",
       "41  북아프리카 수단에서 정부를 장악하고 있는 군부 세력 간 무력충돌이 사흘째 이어지며 ...  \n",
       "42  폴란드와 헝가리가 우크라이나 곡물 수입 금지 조치를 발표한 데 대해 유럽연합(EU)...  \n",
       "43  5G 인터넷과 인공지능 (Artificial Inteligence, 이하 AI) 분...  \n",
       "44  일본에서 개최된 주요 7개국(G7) 기후·에너지·환경 장관 회의에서 일본 후쿠시마 ...  \n",
       "45  이란 경찰이 감시 카메라를 이용한 히잡 미착용 여성 단속을 시작했다.\\n\\n영국에 ...  \n",
       "46  일본 경찰이 기시다 후미오 일본 총리의 보궐선거 지원 유세 현장에 폭발물을 투척한 ...  \n",
       "47  '신친일파'들의 주요 논리 가운데 하나가 '식민지 근대화론'이다. 변화와 개혁의 동...  \n",
       "48  \"넌 우리에게 마음을 열지 않아, 너무 멀게 느껴져.\"\\n\"넌 우리에게 절대 아무 ...  \n",
       "49  미국 기밀 문건 유출 용의자로 미 주방위군 일병이 체포됐다.  \\n\\n미 연방수사국...  "
      ]
     },
     "execution_count": 77,
     "metadata": {},
     "output_type": "execute_result"
    }
   ],
   "source": [
    "li1 = []\n",
    "li2 = []\n",
    "for i in range(1,6):\n",
    "      url = 'https://www.pressian.com/pages/news-world-list?page='+str(i)\n",
    "      html = urllib.request.urlopen(url).read()\n",
    "      html.decode(encoding='utf-8')\n",
    "      \n",
    "      soup = BeautifulSoup(html, 'html.parser')\n",
    "      titles = soup.find_all(class_ = 'body')\n",
    "\n",
    "      for title in titles: \n",
    "            li1.append(title.text)\n",
    "       \n",
    "\n",
    "      sub_titles = soup.find_all(class_ = 'sub_title')\n",
    "\n",
    "      for sub_title in sub_titles:\n",
    "            li2.append(sub_title.text)\n",
    "      \n",
    "      \n",
    "df = pd.DataFrame({'소제목' : li2 , \"첫줄\" : li1})\n",
    "df"
   ]
  },
  {
   "cell_type": "markdown",
   "id": "ac529763-aa24-44e9-bb65-1df5520ca229",
   "metadata": {},
   "source": [
    "# 6교시"
   ]
  },
  {
   "cell_type": "code",
   "execution_count": null,
   "id": "5e5ab04a-c18b-44da-97c6-106553b72254",
   "metadata": {},
   "outputs": [],
   "source": [
    "https://search.daum.net/search?w=news&DA=PGD&enc=utf8&cluster=y&cluster_page=1&q=%ED%8A%B8%EC%99%80%EC%9D%B4%EC%8A%A4&p=1"
   ]
  },
  {
   "cell_type": "code",
   "execution_count": 80,
   "id": "7f4767fc-4c45-4f84-9054-96e44b62013e",
   "metadata": {},
   "outputs": [
    {
     "data": {
      "text/plain": [
       "[]"
      ]
     },
     "execution_count": 80,
     "metadata": {},
     "output_type": "execute_result"
    }
   ],
   "source": [
    "li = []\n",
    "for i in range(1,6):\n",
    "      url = 'https://search.daum.net/search?w=news&DA=PGD&enc=utf8&cluster=y&cluster_page=1&q=%ED%8A%B8%EC%99%80%EC%9D%B4%EC%8A%A4&p=1'\n",
    "      html = urllib.request.urlopen(url).read()\n",
    "      html.decode(encoding='utf-8')\n",
    "      \n",
    "      soup = BeautifulSoup(html, 'html.parser')\n",
    "      titles = soup.find_all(class_ = 'body')\n",
    "\n",
    "      for title in titles: \n",
    "            li1.append(title.text)\n",
    "       \n",
    "li"
   ]
  },
  {
   "cell_type": "code",
   "execution_count": 83,
   "id": "d42af7f9-a36f-478d-afff-1af76b68950e",
   "metadata": {},
   "outputs": [
    {
     "data": {
      "text/plain": [
       "[]"
      ]
     },
     "execution_count": 83,
     "metadata": {},
     "output_type": "execute_result"
    }
   ],
   "source": [
    "titles"
   ]
  },
  {
   "cell_type": "code",
   "execution_count": 85,
   "id": "3c070e13-3edc-4f2e-8ce5-a17af23351dc",
   "metadata": {},
   "outputs": [
    {
     "data": {
      "text/plain": [
       "b'<script type=\"text/javascript\">\\nlocation.replace( \"https://captcha.search.daum.net/show?redirect=http%3A%2F%2Fsearch.daum.net%2Fsearch%3Fw%3Dnews%26DA%3DPGD%26enc%3Dutf8%26cluster%3Dy%26cluster_page%3D1%26q%3D%25ED%258A%25B8%25EC%2599%2580%25EC%259D%25B4%25EC%258A%25A4%26p%3D1\" );\\n</script>\\n'"
      ]
     },
     "execution_count": 85,
     "metadata": {},
     "output_type": "execute_result"
    }
   ],
   "source": [
    "html"
   ]
  },
  {
   "cell_type": "code",
   "execution_count": null,
   "id": "a5cc134f-e6d2-4b6c-99af-75d72b55f065",
   "metadata": {},
   "outputs": [],
   "source": [
    "## header\n",
    "## user agent\n",
    "### -> 주소 request 막힌 거 뚫어서 가져오기\n",
    "\n",
    "## request(구버전) -> requests(새버전)"
   ]
  },
  {
   "cell_type": "code",
   "execution_count": 87,
   "id": "f55e9a6f-40c4-4841-b8ce-e640eb977f80",
   "metadata": {},
   "outputs": [],
   "source": [
    "import requests\n",
    "\n",
    "url = 'https://search.daum.net/search?w=news&DA=PGD&enc=utf8&cluster=y&cluster_page=1&q=%ED%8A%B8%EC%99%80%EC%9D%B4%EC%8A%A4&p=1'\n",
    "\n",
    "headers = {'User-Agent': \"Mozilla/5.0 (Windows NT 10.0; Win64; x64) AppleWebKit/537.36 (KHTML, like Gecko) Chrome/113.0.0.0 Safari/537.36\"}\n",
    "\n",
    "# html = urllib.request.urlopen(url).read()\n",
    "# html.decode(encoding='utf-8')\n",
    "\n",
    "html = requests.get(url, headers = headers)\n",
    "      \n",
    "      \n",
    "soup = BeautifulSoup(html.text, 'html.parser')\n",
    "titles = soup.find_all(class_ = 'tit_main fn_tit_u')\n"
   ]
  },
  {
   "cell_type": "code",
   "execution_count": 88,
   "id": "ccf96d2f-2b44-432f-a62d-6adaac84d9b1",
   "metadata": {},
   "outputs": [
    {
     "data": {
      "text/plain": [
       "<Response [200]>"
      ]
     },
     "execution_count": 88,
     "metadata": {},
     "output_type": "execute_result"
    }
   ],
   "source": [
    "html"
   ]
  },
  {
   "cell_type": "code",
   "execution_count": 89,
   "id": "afbcff08-5a87-4b6c-87eb-945a231610ab",
   "metadata": {},
   "outputs": [
    {
     "data": {
      "text/plain": [
       "[<a class=\"tit_main fn_tit_u\" href=\"https://v.daum.net/v/20230512070444431?f=o\" onclick='smartLog(this, \"dc=NNS&amp;d=26rrnbLuAuUPp1fBqp&amp;pg=1&amp;r=1&amp;p=4&amp;rc=10&amp;e1=16fEGriEE1VVeRH5aC&amp;e3=0&amp;ext=dsid=26rrnbLuAuUPp1fBqp\", event, {\"cpid\": {\"value\": \"16fEGriEE1VVeRH5aC\"}});' target=\"_blank\"><b>TWICE</b>(<b>트와이스</b>) ‘오사카로 월드투어 떠나요~’[포토엔HD]</a>,\n",
       " <a class=\"tit_main fn_tit_u\" href=\"https://v.daum.net/v/20230512114046779?f=o\" onclick='smartLog(this, \"dc=NNS&amp;d=265_bnSXVWlmzq5mwJ&amp;pg=1&amp;r=2&amp;p=4&amp;rc=10&amp;e1=16Tr4PLF2A9hpwE3H3&amp;e3=0&amp;ext=dsid=265_bnSXVWlmzq5mwJ\", event, {\"cpid\": {\"value\": \"16Tr4PLF2A9hpwE3H3\"}});' target=\"_blank\"><b>트와이스</b> 채영, '멋스럽게' [사진]</a>,\n",
       " <a class=\"tit_main fn_tit_u\" href=\"https://v.daum.net/v/20230512114018760?f=o\" onclick='smartLog(this, \"dc=NNS&amp;d=26wMqEMi6Z4oLOT-5j&amp;pg=1&amp;r=3&amp;p=4&amp;rc=10&amp;e1=16Tr4PLF2A9hpwE3H3&amp;e3=0&amp;ext=dsid=26wMqEMi6Z4oLOT-5j\", event, {\"cpid\": {\"value\": \"16Tr4PLF2A9hpwE3H3\"}});' target=\"_blank\"><b>트와이스</b> 미나, '청순미 흩날리며' [사진]</a>,\n",
       " <a class=\"tit_main fn_tit_u\" href=\"https://v.daum.net/v/20230512120042476?f=o\" onclick='smartLog(this, \"dc=NNS&amp;d=263pBbaEselV8dTdOe&amp;pg=1&amp;r=4&amp;p=4&amp;rc=10&amp;e1=16Tr4PLF2A9hpwE3H3&amp;e3=0&amp;ext=dsid=263pBbaEselV8dTdOe\", event, {\"cpid\": {\"value\": \"16Tr4PLF2A9hpwE3H3\"}});' target=\"_blank\"><b>트와이스</b> 쯔위, 하트 청바지 [사진]</a>,\n",
       " <a class=\"tit_main fn_tit_u\" href=\"https://v.daum.net/v/20230512114517947?f=o\" onclick='smartLog(this, \"dc=NNS&amp;d=26Lt6KPz1VTFhllqWC&amp;pg=1&amp;r=5&amp;p=4&amp;rc=10&amp;e1=16Tr4PLF2A9hpwE3H3&amp;e3=0&amp;ext=dsid=26Lt6KPz1VTFhllqWC\", event, {\"cpid\": {\"value\": \"16Tr4PLF2A9hpwE3H3\"}});' target=\"_blank\">‘아침에도 빛나는 트둥이들’ <b>트와이스</b>(<b>TWICE</b>) 출국 [O! STAR]</a>,\n",
       " <a class=\"tit_main fn_tit_u\" href=\"https://v.daum.net/v/20230512115146170?f=o\" onclick='smartLog(this, \"dc=NNS&amp;d=26zqSDSvm0L3iI_8mI&amp;pg=1&amp;r=6&amp;p=4&amp;rc=10&amp;e1=16Tr4PLF2A9hpwE3H3&amp;e3=0&amp;ext=dsid=26zqSDSvm0L3iI_8mI\", event, {\"cpid\": {\"value\": \"16Tr4PLF2A9hpwE3H3\"}});' target=\"_blank\"><b>트와이스</b> 채영 '금발 헤어스타일' [사진]</a>,\n",
       " <a class=\"tit_main fn_tit_u\" href=\"https://v.daum.net/v/20230512071217541?f=o\" onclick='smartLog(this, \"dc=NNS&amp;d=263tIN1CvsVN9OjndY&amp;pg=1&amp;r=7&amp;p=4&amp;rc=10&amp;e1=16LejXKUJH-lny6LlF&amp;e3=0&amp;ext=dsid=263tIN1CvsVN9OjndY\", event, {\"cpid\": {\"value\": \"16LejXKUJH-lny6LlF\"}});' target=\"_blank\">[MD포토] <b>트와이스</b> 나연 '콜록콜록, 환절기 힘들어'</a>,\n",
       " <a class=\"tit_main fn_tit_u\" href=\"https://v.daum.net/v/20230512115148171?f=o\" onclick='smartLog(this, \"dc=NNS&amp;d=26zL92s-ty_uwcwg4A&amp;pg=1&amp;r=8&amp;p=4&amp;rc=10&amp;e1=16Tr4PLF2A9hpwE3H3&amp;e3=0&amp;ext=dsid=26zL92s-ty_uwcwg4A\", event, {\"cpid\": {\"value\": \"16Tr4PLF2A9hpwE3H3\"}});' target=\"_blank\"><b>트와이스</b>, 일본 오사카 월드투어 떠나요 [사진]</a>,\n",
       " <a class=\"tit_main fn_tit_u\" href=\"https://v.daum.net/v/20230512070708491?f=o\" onclick='smartLog(this, \"dc=NNS&amp;d=26w1JH_ijHY5xMpN9f&amp;pg=1&amp;r=9&amp;p=4&amp;rc=10&amp;e1=16FcCE4DCiMb6a4Fz6&amp;e3=0&amp;ext=dsid=26w1JH_ijHY5xMpN9f\", event, {\"cpid\": {\"value\": \"16FcCE4DCiMb6a4Fz6\"}});' target=\"_blank\"><b>트와이스</b> 미나 '청초한 미모'[★포토]</a>,\n",
       " <a class=\"tit_main fn_tit_u\" href=\"https://v.daum.net/v/20230512071325559?f=o\" onclick='smartLog(this, \"dc=NNS&amp;d=26698BrxebhjKNahoR&amp;pg=1&amp;r=10&amp;p=4&amp;rc=10&amp;e1=16FcCE4DCiMb6a4Fz6&amp;e3=0&amp;ext=dsid=26698BrxebhjKNahoR\", event, {\"cpid\": {\"value\": \"16FcCE4DCiMb6a4Fz6\"}});' target=\"_blank\"><b>트와이스</b> 나연-정연 '일본공연 떠나요'[★포토]</a>]"
      ]
     },
     "execution_count": 89,
     "metadata": {},
     "output_type": "execute_result"
    }
   ],
   "source": [
    "titles"
   ]
  },
  {
   "cell_type": "code",
   "execution_count": null,
   "id": "801c3c06-8a43-45cc-9537-1934d5a21b5b",
   "metadata": {},
   "outputs": [],
   "source": []
  }
 ],
 "metadata": {
  "kernelspec": {
   "display_name": "Python 3 (ipykernel)",
   "language": "python",
   "name": "python3"
  },
  "language_info": {
   "codemirror_mode": {
    "name": "ipython",
    "version": 3
   },
   "file_extension": ".py",
   "mimetype": "text/x-python",
   "name": "python",
   "nbconvert_exporter": "python",
   "pygments_lexer": "ipython3",
   "version": "3.10.9"
  }
 },
 "nbformat": 4,
 "nbformat_minor": 5
}
