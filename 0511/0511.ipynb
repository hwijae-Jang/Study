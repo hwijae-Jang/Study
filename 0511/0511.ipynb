{
 "cells": [
  {
   "cell_type": "code",
   "execution_count": 1,
   "id": "c61e0c79-bf63-4b3b-b4c2-1748b94b6795",
   "metadata": {},
   "outputs": [],
   "source": [
    "# 1교시 : 과제 "
   ]
  },
  {
   "cell_type": "markdown",
   "id": "d928b896-25e9-4391-b4bb-8bd9fa182721",
   "metadata": {},
   "source": [
    "## 1. 감성 분석에 대한 다음 문장의 빈칸을 채우시오.\n",
    "\n",
    "감정 분석에 쓰이는 감성 사전 (_______ ) 은 긍정, 부정감성의 정도를 의미하는 수치를 가지고 있는데, 이 수치를 (_______) 라고 한다."
   ]
  },
  {
   "cell_type": "raw",
   "id": "cfea292b-6c80-4fac-837d-48dbd61a4ac8",
   "metadata": {},
   "source": [
    "Lexicon, 감성지수"
   ]
  },
  {
   "cell_type": "markdown",
   "id": "95d83562-d652-4df0-89c8-06f7cac58a78",
   "metadata": {},
   "source": [
    "## 2. 피처 벡터화 중에서 (________) 기반의 벡터화는?\n",
    "\n",
    "개별 문서에서 자주 나타나는 단어에는 높은 가중치를, 모든 문서에서 전반적으로 자주 나타나는 단어는 페널티를 주는 방식이다. 카운트 방식보다 더 좋은 예측 성능을 보장한다"
   ]
  },
  {
   "cell_type": "raw",
   "id": "b1801482-3679-458c-bfbf-2d649f6c5e5a",
   "metadata": {},
   "source": [
    "TF-IDF"
   ]
  },
  {
   "cell_type": "markdown",
   "id": "e2c2b55a-ced6-469b-aea8-db49612538bc",
   "metadata": {},
   "source": [
    "## 3. 다음 설명에 대한 답은?"
   ]
  },
  {
   "cell_type": "code",
   "execution_count": 8,
   "id": "cf562d4c-9a51-4fa8-aab8-fd480f7fb0e5",
   "metadata": {},
   "outputs": [
    {
     "ename": "SyntaxError",
     "evalue": "invalid syntax (4174346204.py, line 1)",
     "output_type": "error",
     "traceback": [
      "\u001b[1;36m  Cell \u001b[1;32mIn[8], line 1\u001b[1;36m\u001b[0m\n\u001b[1;33m    1. 이로 인해 더 직관적인 머신러닝 모델 코드를 생성할 수 있을 뿐만 아니라 수행시간을 절약할 수 있다는 장점이 있다.\u001b[0m\n\u001b[1;37m       ^\u001b[0m\n\u001b[1;31mSyntaxError\u001b[0m\u001b[1;31m:\u001b[0m invalid syntax\n"
     ]
    }
   ],
   "source": [
    "1. 이로 인해 더 직관적인 머신러닝 모델 코드를 생성할 수 있을 뿐만 아니라 수행시간을 절약할 수 있다는 장점이 있다. \n",
    "2. 객체 변수명과 클래스 객체가 들어간 튜플들을 묶은 리스트이 형태로 선언하여 사용한다.\n",
    "3. 피처 벡터화와 머신러닝 알고리즘 학습 및 예측을 위한 코드 등등 .. 작성을 한 번에 진행할 수 있다.\n",
    "\n",
    "파이프라인"
   ]
  },
  {
   "cell_type": "markdown",
   "id": "c3fcdcd5-cb7f-4112-ab56-7afbb3ed0662",
   "metadata": {},
   "source": [
    "## 4. 다음 빈칸에 들어갈 알맞은 코드를 쓰세요"
   ]
  },
  {
   "cell_type": "code",
   "execution_count": null,
   "id": "d74b1c60-e51c-4fbe-a347-4fb081389cb2",
   "metadata": {},
   "outputs": [],
   "source": [
    "516p ~ 517p 참조"
   ]
  },
  {
   "cell_type": "code",
   "execution_count": 9,
   "id": "360cf291-78a7-47cd-817e-06371c31198b",
   "metadata": {},
   "outputs": [
    {
     "ename": "SyntaxError",
     "evalue": "invalid syntax (1490983040.py, line 1)",
     "output_type": "error",
     "traceback": [
      "\u001b[1;36m  Cell \u001b[1;32mIn[9], line 1\u001b[1;36m\u001b[0m\n\u001b[1;33m    1. TfidVectorizer\u001b[0m\n\u001b[1;37m       ^\u001b[0m\n\u001b[1;31mSyntaxError\u001b[0m\u001b[1;31m:\u001b[0m invalid syntax\n"
     ]
    }
   ],
   "source": [
    "1. TfidVectorizer\n",
    "2. LogisticRegression\n",
    "3. fit\n",
    "4. predict"
   ]
  },
  {
   "cell_type": "code",
   "execution_count": 10,
   "id": "3c8abd96-41a6-4766-a860-f127ba10c448",
   "metadata": {},
   "outputs": [],
   "source": [
    "## 5. 다음 빈칸에 들어갈 알맞은 코드를 쓰세요 (512p 참조)"
   ]
  },
  {
   "cell_type": "code",
   "execution_count": 11,
   "id": "654945e7-0420-4f53-8660-d67e5c64cee9",
   "metadata": {},
   "outputs": [
    {
     "ename": "SyntaxError",
     "evalue": "invalid syntax (1276052060.py, line 1)",
     "output_type": "error",
     "traceback": [
      "\u001b[1;36m  Cell \u001b[1;32mIn[11], line 1\u001b[1;36m\u001b[0m\n\u001b[1;33m    1. subset\u001b[0m\n\u001b[1;37m       ^\u001b[0m\n\u001b[1;31mSyntaxError\u001b[0m\u001b[1;31m:\u001b[0m invalid syntax\n"
     ]
    }
   ],
   "source": [
    "1. subset\n",
    "2. remove"
   ]
  },
  {
   "cell_type": "code",
   "execution_count": 12,
   "id": "8b687623-0e6d-4847-a23e-368cf03a1390",
   "metadata": {},
   "outputs": [],
   "source": [
    "## 6. 다음과 같은 단어와 품사 딕셔너리가 있습니다. lemmatize를 써서 단어의 어근들만 추출하세요"
   ]
  },
  {
   "cell_type": "code",
   "execution_count": 21,
   "id": "e40aff2c-dfd0-4a5d-a730-b2f357f21217",
   "metadata": {},
   "outputs": [],
   "source": [
    "words = {'happiest' : 'a', 'swam' : 'v', 'apples':'n', 'fallen':'v', 'busier':'a', 'cries':'v' }"
   ]
  },
  {
   "cell_type": "code",
   "execution_count": 14,
   "id": "f6daef14-5c48-4c7e-86a0-999834fb455f",
   "metadata": {},
   "outputs": [],
   "source": [
    "from nltk.stem import WordNetLemmatizer"
   ]
  },
  {
   "cell_type": "code",
   "execution_count": 16,
   "id": "644559a6-8807-4843-9678-166d8a385348",
   "metadata": {},
   "outputs": [
    {
     "name": "stdout",
     "output_type": "stream",
     "text": [
      "happy\n",
      "swim\n",
      "apple\n",
      "fall\n",
      "busy\n",
      "cry\n"
     ]
    }
   ],
   "source": [
    "lemma = WordNetLemmatizer()\n",
    "\n",
    "print(lemma.lemmatize('happiest' ,'a'))\n",
    "print(lemma.lemmatize('swam', 'v'))\n",
    "print(lemma.lemmatize('apples','n'))\n",
    "print(lemma.lemmatize('fallen','v'))\n",
    "print(lemma.lemmatize('busier','a'))\n",
    "print(lemma.lemmatize('cries','v'))"
   ]
  },
  {
   "cell_type": "code",
   "execution_count": 19,
   "id": "48327ccb-34d0-4ce6-a3ea-37bf486d9a40",
   "metadata": {},
   "outputs": [],
   "source": [
    "### 6-2. for 문을 사용해서 작성해보세요"
   ]
  },
  {
   "cell_type": "code",
   "execution_count": 26,
   "id": "81f67837-8144-4ecb-a206-92514b900ce5",
   "metadata": {},
   "outputs": [
    {
     "data": {
      "text/plain": [
       "dict_values(['a', 'v', 'n', 'v', 'a', 'v'])"
      ]
     },
     "execution_count": 26,
     "metadata": {},
     "output_type": "execute_result"
    }
   ],
   "source": [
    "words.values()"
   ]
  },
  {
   "cell_type": "code",
   "execution_count": 42,
   "id": "940e0c97-cb0c-463c-8d16-b474c5c412df",
   "metadata": {},
   "outputs": [
    {
     "data": {
      "text/plain": [
       "dict_keys(['happiest', 'swam', 'apples', 'fallen', 'busier', 'cries'])"
      ]
     },
     "execution_count": 42,
     "metadata": {},
     "output_type": "execute_result"
    }
   ],
   "source": [
    "words.keys()"
   ]
  },
  {
   "cell_type": "code",
   "execution_count": 30,
   "id": "35263aea-a505-4737-bd36-bb92e8b128a8",
   "metadata": {},
   "outputs": [
    {
     "data": {
      "text/plain": [
       "dict_items([('happiest', 'a'), ('swam', 'v'), ('apples', 'n'), ('fallen', 'v'), ('busier', 'a'), ('cries', 'v')])"
      ]
     },
     "execution_count": 30,
     "metadata": {},
     "output_type": "execute_result"
    }
   ],
   "source": [
    "words.items()"
   ]
  },
  {
   "cell_type": "code",
   "execution_count": 40,
   "id": "7ac75ecb-5ed0-4585-b4df-f063665aa8b3",
   "metadata": {},
   "outputs": [
    {
     "data": {
      "text/plain": [
       "<function dict.items>"
      ]
     },
     "execution_count": 40,
     "metadata": {},
     "output_type": "execute_result"
    }
   ],
   "source": [
    "words.items"
   ]
  },
  {
   "cell_type": "code",
   "execution_count": 45,
   "id": "d7d13cfd-ed8c-4cb2-90e6-5c3c9dfe06ed",
   "metadata": {},
   "outputs": [
    {
     "name": "stdout",
     "output_type": "stream",
     "text": [
      "happy\n",
      "swim\n",
      "apple\n",
      "fall\n",
      "busy\n",
      "cry\n"
     ]
    }
   ],
   "source": [
    "for i,j in words.items():\n",
    "      print(lemma.lemmatize(i,j))"
   ]
  },
  {
   "cell_type": "markdown",
   "id": "c20feaf5-942c-4ce3-af87-cd913b92f3cc",
   "metadata": {},
   "source": [
    "## 7. pipeline 내에 벡터화 도구들을 나열할 때, 어떤 자료구조여야 하는가?"
   ]
  },
  {
   "cell_type": "raw",
   "id": "7715221a-56ed-4857-9ca5-55a6ef0c74c2",
   "metadata": {},
   "source": [
    "[ ( , ) , ( , ) , ( , ) ]\n",
    "\n",
    "-> 리스트 안에 튜플 형태. 튜플의 요소는 (객체명, 클래스명(하이퍼파라미터))"
   ]
  },
  {
   "cell_type": "markdown",
   "id": "fce68549-0255-4e10-ba33-44f7f75272fa",
   "metadata": {},
   "source": [
    "## 8. 유사도를 측정하는 방법은?"
   ]
  },
  {
   "cell_type": "raw",
   "id": "141d8e00-7576-441c-9d27-3182e8f2eddb",
   "metadata": {},
   "source": [
    "코사인 유사도"
   ]
  },
  {
   "cell_type": "markdown",
   "id": "2384d49f-0202-4f22-9f73-62a2300de322",
   "metadata": {},
   "source": [
    "### 8-2. 다음 변수의 코사인 유사도를 구하세요\n",
    "\n",
    "a = (3,4)\n",
    "b = (4,1)"
   ]
  },
  {
   "cell_type": "code",
   "execution_count": 51,
   "id": "c59150f5-97af-41dc-8a6b-8bf4eaceab69",
   "metadata": {},
   "outputs": [],
   "source": [
    "import numpy as np"
   ]
  },
  {
   "cell_type": "code",
   "execution_count": 52,
   "id": "68e5412f-37b4-446e-b61d-48d95f3740d5",
   "metadata": {},
   "outputs": [
    {
     "data": {
      "text/plain": [
       "0.7761140001162655"
      ]
     },
     "execution_count": 52,
     "metadata": {},
     "output_type": "execute_result"
    }
   ],
   "source": [
    "a = np.array((3,4))\n",
    "b = np.array((4,1))\n",
    "def cosine_similarity(a, b):\n",
    "        return (a @ b) / (np.sqrt(sum(np.square(a)))*np.sqrt(sum(np.square(b))))\n",
    "cosine_similarity(a, b) "
   ]
  },
  {
   "cell_type": "markdown",
   "id": "e0f3cf12-c801-46e1-a780-e73132d1410f",
   "metadata": {},
   "source": [
    "## 9. TF-IDF 의 식을 한글로 쓰세요"
   ]
  },
  {
   "cell_type": "markdown",
   "id": "038f85a6-b25d-437b-918b-2fcecc46d16f",
   "metadata": {},
   "source": [
    "### $ TF_i * log(\\frac{N}{DF_i}) $\n",
    "\n",
    "### $TF_i$ : 개별 문서에서의 단어 i 빈도  \n",
    "### $DF_i$ : 단어 i를 가지고 있는 문서 개수  \n",
    "### N : 전체 문서 개수"
   ]
  },
  {
   "cell_type": "markdown",
   "id": "785a9412-25c6-4b64-86f2-551011eaf880",
   "metadata": {},
   "source": [
    "## 10. polarity_scores() : 부정, 긍정의 범위는?"
   ]
  },
  {
   "cell_type": "raw",
   "id": "20de433e-84e0-4f0c-aa27-341928124e45",
   "metadata": {},
   "source": [
    "-1 ~ +1"
   ]
  },
  {
   "cell_type": "markdown",
   "id": "cb8e57f7-f0ef-4d9d-a6c5-e0decb5eebd9",
   "metadata": {},
   "source": [
    "## 11. 로지스틱 회귀와 릿지, 라쏘, 엘라스틱넷에서 규제의 강도를 조절하는 하이퍼 파라미터와 하이퍼 파라미터가 증가할수록 규제는 어떻게 되는가?"
   ]
  },
  {
   "cell_type": "raw",
   "id": "e7f9d71d-b5b3-4c89-82ae-4d78727a52ca",
   "metadata": {},
   "source": [
    "alpha 이 증가할수록 규제의 강도는 ______ \n",
    "\n",
    "-> 세진다"
   ]
  },
  {
   "cell_type": "markdown",
   "id": "91f3afc5-833b-435c-8c74-b14c466b5113",
   "metadata": {},
   "source": [
    "# 2교시 : 한글 텍스트 처리 : 558p ~"
   ]
  },
  {
   "cell_type": "markdown",
   "id": "00a44cc0-49a2-457c-b181-9359866547f8",
   "metadata": {},
   "source": [
    "### KoNLPy 설치"
   ]
  },
  {
   "cell_type": "code",
   "execution_count": 58,
   "id": "3fcd22df-716b-4d89-bed5-e0e6aaf9a880",
   "metadata": {},
   "outputs": [],
   "source": [
    "import konlpy"
   ]
  },
  {
   "cell_type": "markdown",
   "id": "d5d8eb05-699a-445a-8a58-a50f4f3b415d",
   "metadata": {},
   "source": [
    "### 562p : 데이터 로딩"
   ]
  },
  {
   "cell_type": "code",
   "execution_count": 59,
   "id": "1bb847e7-3a80-47d3-afd3-01dcaef880f8",
   "metadata": {},
   "outputs": [],
   "source": [
    "import pandas as pd"
   ]
  },
  {
   "cell_type": "code",
   "execution_count": 62,
   "id": "66a7d795-12b0-48b2-b2f2-651bae8034c0",
   "metadata": {},
   "outputs": [
    {
     "data": {
      "text/html": [
       "<div>\n",
       "<style scoped>\n",
       "    .dataframe tbody tr th:only-of-type {\n",
       "        vertical-align: middle;\n",
       "    }\n",
       "\n",
       "    .dataframe tbody tr th {\n",
       "        vertical-align: top;\n",
       "    }\n",
       "\n",
       "    .dataframe thead th {\n",
       "        text-align: right;\n",
       "    }\n",
       "</style>\n",
       "<table border=\"1\" class=\"dataframe\">\n",
       "  <thead>\n",
       "    <tr style=\"text-align: right;\">\n",
       "      <th></th>\n",
       "      <th>id</th>\n",
       "      <th>document</th>\n",
       "      <th>label</th>\n",
       "    </tr>\n",
       "  </thead>\n",
       "  <tbody>\n",
       "    <tr>\n",
       "      <th>0</th>\n",
       "      <td>8112052</td>\n",
       "      <td>어릴때보고 지금다시봐도 재밌어요ㅋㅋ</td>\n",
       "      <td>1</td>\n",
       "    </tr>\n",
       "    <tr>\n",
       "      <th>1</th>\n",
       "      <td>8132799</td>\n",
       "      <td>디자인을 배우는 학생으로, 외국디자이너와 그들이 일군 전통을 통해 발전해가는 문화산...</td>\n",
       "      <td>1</td>\n",
       "    </tr>\n",
       "    <tr>\n",
       "      <th>2</th>\n",
       "      <td>4655635</td>\n",
       "      <td>폴리스스토리 시리즈는 1부터 뉴까지 버릴께 하나도 없음.. 최고.</td>\n",
       "      <td>1</td>\n",
       "    </tr>\n",
       "    <tr>\n",
       "      <th>3</th>\n",
       "      <td>9251303</td>\n",
       "      <td>와.. 연기가 진짜 개쩔구나.. 지루할거라고 생각했는데 몰입해서 봤다.. 그래 이런...</td>\n",
       "      <td>1</td>\n",
       "    </tr>\n",
       "    <tr>\n",
       "      <th>4</th>\n",
       "      <td>10067386</td>\n",
       "      <td>안개 자욱한 밤하늘에 떠 있는 초승달 같은 영화.</td>\n",
       "      <td>1</td>\n",
       "    </tr>\n",
       "    <tr>\n",
       "      <th>...</th>\n",
       "      <td>...</td>\n",
       "      <td>...</td>\n",
       "      <td>...</td>\n",
       "    </tr>\n",
       "    <tr>\n",
       "      <th>199995</th>\n",
       "      <td>8963373</td>\n",
       "      <td>포켓 몬스터 짜가 ㅡㅡ;;</td>\n",
       "      <td>0</td>\n",
       "    </tr>\n",
       "    <tr>\n",
       "      <th>199996</th>\n",
       "      <td>3302770</td>\n",
       "      <td>쓰.레.기</td>\n",
       "      <td>0</td>\n",
       "    </tr>\n",
       "    <tr>\n",
       "      <th>199997</th>\n",
       "      <td>5458175</td>\n",
       "      <td>완전 사이코영화. 마지막은 더욱더 이 영화의질을 떨어트린다.</td>\n",
       "      <td>0</td>\n",
       "    </tr>\n",
       "    <tr>\n",
       "      <th>199998</th>\n",
       "      <td>6908648</td>\n",
       "      <td>왜난 재미없었지 ㅠㅠ 라따뚜이 보고나서 스머프 봐서 그런가 ㅋㅋ</td>\n",
       "      <td>0</td>\n",
       "    </tr>\n",
       "    <tr>\n",
       "      <th>199999</th>\n",
       "      <td>8548411</td>\n",
       "      <td>포풍저그가나가신다영차영차영차</td>\n",
       "      <td>0</td>\n",
       "    </tr>\n",
       "  </tbody>\n",
       "</table>\n",
       "<p>200000 rows × 3 columns</p>\n",
       "</div>"
      ],
      "text/plain": [
       "              id                                           document  label\n",
       "0        8112052                                어릴때보고 지금다시봐도 재밌어요ㅋㅋ      1\n",
       "1        8132799  디자인을 배우는 학생으로, 외국디자이너와 그들이 일군 전통을 통해 발전해가는 문화산...      1\n",
       "2        4655635               폴리스스토리 시리즈는 1부터 뉴까지 버릴께 하나도 없음.. 최고.      1\n",
       "3        9251303  와.. 연기가 진짜 개쩔구나.. 지루할거라고 생각했는데 몰입해서 봤다.. 그래 이런...      1\n",
       "4       10067386                        안개 자욱한 밤하늘에 떠 있는 초승달 같은 영화.      1\n",
       "...          ...                                                ...    ...\n",
       "199995   8963373                                     포켓 몬스터 짜가 ㅡㅡ;;      0\n",
       "199996   3302770                                              쓰.레.기      0\n",
       "199997   5458175                  완전 사이코영화. 마지막은 더욱더 이 영화의질을 떨어트린다.      0\n",
       "199998   6908648                왜난 재미없었지 ㅠㅠ 라따뚜이 보고나서 스머프 봐서 그런가 ㅋㅋ      0\n",
       "199999   8548411                                    포풍저그가나가신다영차영차영차      0\n",
       "\n",
       "[200000 rows x 3 columns]"
      ]
     },
     "execution_count": 62,
     "metadata": {},
     "output_type": "execute_result"
    }
   ],
   "source": [
    "pd.read_csv('ratings.txt', sep='\\t')"
   ]
  },
  {
   "cell_type": "code",
   "execution_count": 63,
   "id": "3bfddcee-635d-4ff5-9f8f-338860f455ff",
   "metadata": {},
   "outputs": [],
   "source": [
    "train_df = pd.read_csv('ratings_train.txt', sep='\\t')"
   ]
  },
  {
   "cell_type": "code",
   "execution_count": 65,
   "id": "1e51fab6-539b-4fd7-97f0-7ea97bb433d3",
   "metadata": {},
   "outputs": [
    {
     "data": {
      "text/html": [
       "<div>\n",
       "<style scoped>\n",
       "    .dataframe tbody tr th:only-of-type {\n",
       "        vertical-align: middle;\n",
       "    }\n",
       "\n",
       "    .dataframe tbody tr th {\n",
       "        vertical-align: top;\n",
       "    }\n",
       "\n",
       "    .dataframe thead th {\n",
       "        text-align: right;\n",
       "    }\n",
       "</style>\n",
       "<table border=\"1\" class=\"dataframe\">\n",
       "  <thead>\n",
       "    <tr style=\"text-align: right;\">\n",
       "      <th></th>\n",
       "      <th>id</th>\n",
       "      <th>document</th>\n",
       "      <th>label</th>\n",
       "    </tr>\n",
       "  </thead>\n",
       "  <tbody>\n",
       "    <tr>\n",
       "      <th>0</th>\n",
       "      <td>9976970</td>\n",
       "      <td>아 더빙.. 진짜 짜증나네요 목소리</td>\n",
       "      <td>0</td>\n",
       "    </tr>\n",
       "    <tr>\n",
       "      <th>1</th>\n",
       "      <td>3819312</td>\n",
       "      <td>흠...포스터보고 초딩영화줄....오버연기조차 가볍지 않구나</td>\n",
       "      <td>1</td>\n",
       "    </tr>\n",
       "    <tr>\n",
       "      <th>2</th>\n",
       "      <td>10265843</td>\n",
       "      <td>너무재밓었다그래서보는것을추천한다</td>\n",
       "      <td>0</td>\n",
       "    </tr>\n",
       "    <tr>\n",
       "      <th>3</th>\n",
       "      <td>9045019</td>\n",
       "      <td>교도소 이야기구먼 ..솔직히 재미는 없다..평점 조정</td>\n",
       "      <td>0</td>\n",
       "    </tr>\n",
       "    <tr>\n",
       "      <th>4</th>\n",
       "      <td>6483659</td>\n",
       "      <td>사이몬페그의 익살스런 연기가 돋보였던 영화!스파이더맨에서 늙어보이기만 했던 커스틴 ...</td>\n",
       "      <td>1</td>\n",
       "    </tr>\n",
       "  </tbody>\n",
       "</table>\n",
       "</div>"
      ],
      "text/plain": [
       "         id                                           document  label\n",
       "0   9976970                                아 더빙.. 진짜 짜증나네요 목소리      0\n",
       "1   3819312                  흠...포스터보고 초딩영화줄....오버연기조차 가볍지 않구나      1\n",
       "2  10265843                                  너무재밓었다그래서보는것을추천한다      0\n",
       "3   9045019                      교도소 이야기구먼 ..솔직히 재미는 없다..평점 조정      0\n",
       "4   6483659  사이몬페그의 익살스런 연기가 돋보였던 영화!스파이더맨에서 늙어보이기만 했던 커스틴 ...      1"
      ]
     },
     "execution_count": 65,
     "metadata": {},
     "output_type": "execute_result"
    }
   ],
   "source": [
    "train_df[:5]"
   ]
  },
  {
   "cell_type": "code",
   "execution_count": 66,
   "id": "017a67b0-4232-4e08-a4ae-209295bce319",
   "metadata": {},
   "outputs": [
    {
     "data": {
      "text/plain": [
       "0    75173\n",
       "1    74827\n",
       "Name: label, dtype: int64"
      ]
     },
     "execution_count": 66,
     "metadata": {},
     "output_type": "execute_result"
    }
   ],
   "source": [
    "train_df['label'].value_counts()"
   ]
  },
  {
   "cell_type": "code",
   "execution_count": 67,
   "id": "918e4d82-6474-4f23-9c6d-01e666b431ba",
   "metadata": {},
   "outputs": [
    {
     "data": {
      "text/plain": [
       "1    25173\n",
       "0    24827\n",
       "Name: label, dtype: int64"
      ]
     },
     "execution_count": 67,
     "metadata": {},
     "output_type": "execute_result"
    }
   ],
   "source": [
    "test_df = pd.read_csv('ratings_test.txt', sep='\\t')\n",
    "test_df['label'].value_counts()"
   ]
  },
  {
   "cell_type": "code",
   "execution_count": 68,
   "id": "5f7dec32-e33a-4951-be30-8b4a3d52e4e3",
   "metadata": {},
   "outputs": [],
   "source": [
    "train_df = train_df.fillna(\" \")\n",
    "test_df = test_df.fillna(\" \")"
   ]
  },
  {
   "cell_type": "code",
   "execution_count": 69,
   "id": "77a51815-5491-4483-8822-1bad0248d1ac",
   "metadata": {},
   "outputs": [],
   "source": [
    "import re"
   ]
  },
  {
   "cell_type": "code",
   "execution_count": 71,
   "id": "76289997-b885-4e4c-9e41-f64b654f9c8b",
   "metadata": {},
   "outputs": [],
   "source": [
    "# 정규 표현식을 이용해 숫자를 공백으로 변경\n",
    "train_df['document'] = train_df['document'].apply(lambda x: re.sub(r\"\\d+\", \" \", x))\n",
    "test_df['document'] = test_df['document'].apply(lambda x: re.sub(r\"\\d+\", \" \", x))"
   ]
  },
  {
   "cell_type": "code",
   "execution_count": 72,
   "id": "aed8dac6-9004-4e93-b6cf-451b6d3fc47f",
   "metadata": {},
   "outputs": [],
   "source": [
    "# id 칼럼 삭제\n",
    "train_df.drop('id', axis=1, inplace=True)\n",
    "test_df.drop('id', axis=1, inplace=True)"
   ]
  },
  {
   "cell_type": "markdown",
   "id": "bffc5a74-6be1-4c81-aabe-07a9e2b8318a",
   "metadata": {},
   "source": [
    "### train_df의 10% 만 랜덤하게 뽑기"
   ]
  },
  {
   "cell_type": "code",
   "execution_count": 75,
   "id": "16a48ff5-f713-40df-91e2-57e163b4e319",
   "metadata": {},
   "outputs": [],
   "source": [
    "train_df = train_df.sample(frac=0.1)\n",
    "test_df = test_df.sample(frac=0.1)"
   ]
  },
  {
   "cell_type": "code",
   "execution_count": 76,
   "id": "12354604-eb80-4e1c-9513-4194e18a9b5c",
   "metadata": {},
   "outputs": [],
   "source": [
    "from konlpy.tag import Twitter"
   ]
  },
  {
   "cell_type": "code",
   "execution_count": 77,
   "id": "f9d5efbe-19d0-4636-b669-ecbc651285ef",
   "metadata": {},
   "outputs": [
    {
     "name": "stderr",
     "output_type": "stream",
     "text": [
      "C:\\Users\\user\\anaconda3\\lib\\site-packages\\konlpy\\tag\\_okt.py:17: UserWarning: \"Twitter\" has changed to \"Okt\" since KoNLPy v0.4.5.\n",
      "  warn('\"Twitter\" has changed to \"Okt\" since KoNLPy v0.4.5.')\n"
     ]
    }
   ],
   "source": [
    "twitter = Twitter()"
   ]
  },
  {
   "cell_type": "code",
   "execution_count": 79,
   "id": "5f0e5b81-47cb-44ca-a035-d5c31657090f",
   "metadata": {},
   "outputs": [],
   "source": [
    "# Twitter -> Okt 로 수정\n",
    "\n",
    "from konlpy.tag import Okt\n",
    "okt = Okt()"
   ]
  },
  {
   "cell_type": "code",
   "execution_count": 80,
   "id": "d867d6d3-b666-4be0-8708-43076bfc15f9",
   "metadata": {},
   "outputs": [],
   "source": [
    "def tw_tokenizer(text):\n",
    "      tokens_ko = twitter.morphs(text)\n",
    "      return tokens_ko"
   ]
  },
  {
   "cell_type": "code",
   "execution_count": 85,
   "id": "229a747e-9f80-439a-8197-117f996b6f09",
   "metadata": {},
   "outputs": [],
   "source": [
    "text_sample = 'Turn your wounds into wisdom.\\\n",
    "               Life is either a daring adventure or nothing at all.\\\n",
    "               The two most important days in your life are the day you are born and the day you find out why.' "
   ]
  },
  {
   "cell_type": "code",
   "execution_count": 86,
   "id": "16866f5e-50a3-401c-a67b-a34b59eb6fd6",
   "metadata": {
    "collapsed": true,
    "jupyter": {
     "outputs_hidden": true
    },
    "tags": []
   },
   "outputs": [
    {
     "data": {
      "text/plain": [
       "['Turn',\n",
       " 'your',\n",
       " 'wounds',\n",
       " 'into',\n",
       " 'wisdom',\n",
       " '.',\n",
       " 'Life',\n",
       " 'is',\n",
       " 'either',\n",
       " 'a',\n",
       " 'daring',\n",
       " 'adventure',\n",
       " 'or',\n",
       " 'nothing',\n",
       " 'at',\n",
       " 'all',\n",
       " '.',\n",
       " 'The',\n",
       " 'two',\n",
       " 'most',\n",
       " 'important',\n",
       " 'days',\n",
       " 'in',\n",
       " 'your',\n",
       " 'life',\n",
       " 'are',\n",
       " 'the',\n",
       " 'day',\n",
       " 'you',\n",
       " 'are',\n",
       " 'born',\n",
       " 'and',\n",
       " 'the',\n",
       " 'day',\n",
       " 'you',\n",
       " 'find',\n",
       " 'out',\n",
       " 'why',\n",
       " '.']"
      ]
     },
     "execution_count": 86,
     "metadata": {},
     "output_type": "execute_result"
    }
   ],
   "source": [
    "tw_tokenizer(text_sample)"
   ]
  },
  {
   "cell_type": "markdown",
   "id": "e83342d1-c56e-4fec-9036-d08c5d33c575",
   "metadata": {},
   "source": [
    "# 3교시"
   ]
  },
  {
   "cell_type": "markdown",
   "id": "c189596e-c63a-46eb-916d-0f0674e384d2",
   "metadata": {},
   "source": [
    "## Logistic Regression 으로 분류했을 때, test에 대한 정확도는?"
   ]
  },
  {
   "cell_type": "code",
   "execution_count": 87,
   "id": "17736144-a13e-43e5-bfcf-c6e6f1be7d31",
   "metadata": {},
   "outputs": [
    {
     "name": "stderr",
     "output_type": "stream",
     "text": [
      "C:\\Users\\user\\anaconda3\\lib\\site-packages\\sklearn\\feature_extraction\\text.py:528: UserWarning: The parameter 'token_pattern' will not be used since 'tokenizer' is not None'\n",
      "  warnings.warn(\n"
     ]
    },
    {
     "data": {
      "text/plain": [
       "0.809"
      ]
     },
     "execution_count": 87,
     "metadata": {},
     "output_type": "execute_result"
    }
   ],
   "source": [
    "from sklearn.feature_extraction.text import TfidfVectorizer\n",
    "from sklearn.linear_model import LogisticRegression\n",
    "from sklearn.model_selection import GridSearchCV\n",
    "from sklearn.metrics import accuracy_score\n",
    "\n",
    "tfidf_vect = TfidfVectorizer(tokenizer=tw_tokenizer, ngram_range=(1,2),min_df=3,max_df=0.9)\n",
    "tfidf_vect.fit(train_df['document'])\n",
    "tfidf_matrix_train = tfidf_vect.transform(train_df['document'])\n",
    "tfidf_matrix_test = tfidf_vect.transform(test_df['document'])\n",
    "\n",
    "lg_clf = LogisticRegression(random_state=0, solver = 'liblinear')\n",
    "lg_clf.fit(tfidf_matrix_train, train_df['label'])\n",
    "pred = lg_clf.predict(tfidf_matrix_test)\n",
    "accuracy_score(test_df['label'],pred)"
   ]
  },
  {
   "cell_type": "markdown",
   "id": "40636fdc-82a1-4e10-a021-a37f4178a456",
   "metadata": {},
   "source": [
    "## 추천시스템 584p ~ "
   ]
  },
  {
   "cell_type": "code",
   "execution_count": null,
   "id": "f97621f0-d95d-46de-8af3-3f88ccb3bc06",
   "metadata": {},
   "outputs": [],
   "source": []
  },
  {
   "cell_type": "code",
   "execution_count": 90,
   "id": "4b20427d-d8ca-42e3-8f57-d29cd8334f26",
   "metadata": {},
   "outputs": [],
   "source": [
    "# 6교시 : 625p ~"
   ]
  },
  {
   "cell_type": "code",
   "execution_count": 92,
   "id": "bb7e56f4-a9f4-4b97-9edb-b17792b7d4c8",
   "metadata": {},
   "outputs": [],
   "source": [
    "# Surprise 패키지 : 629p ~"
   ]
  },
  {
   "cell_type": "code",
   "execution_count": 94,
   "id": "8fa306fe-6151-4043-aadd-ca5d798c6e1d",
   "metadata": {},
   "outputs": [],
   "source": [
    "from surprise import SVD\n",
    "from surprise import Dataset\n",
    "from surprise import accuracy\n",
    "from surprise.model_selection import train_test_split"
   ]
  },
  {
   "cell_type": "code",
   "execution_count": 95,
   "id": "94d7148e-96b0-43d8-a981-11eb87e97e7e",
   "metadata": {},
   "outputs": [
    {
     "name": "stdout",
     "output_type": "stream",
     "text": [
      "Dataset ml-100k could not be found. Do you want to download it? [Y/n] "
     ]
    },
    {
     "name": "stdin",
     "output_type": "stream",
     "text": [
      " Y\n"
     ]
    },
    {
     "name": "stdout",
     "output_type": "stream",
     "text": [
      "Trying to download dataset from https://files.grouplens.org/datasets/movielens/ml-100k.zip...\n",
      "Done! Dataset ml-100k has been saved to C:\\Users\\user/.surprise_data/ml-100k\n"
     ]
    },
    {
     "data": {
      "text/plain": [
       "<surprise.dataset.DatasetAutoFolds at 0x291cd1b6560>"
      ]
     },
     "execution_count": 95,
     "metadata": {},
     "output_type": "execute_result"
    }
   ],
   "source": [
    "data = Dataset.load_builtin('ml-100k')\n",
    "data"
   ]
  },
  {
   "cell_type": "code",
   "execution_count": 96,
   "id": "9ba7eb72-8475-4ed4-834f-324fa019050b",
   "metadata": {},
   "outputs": [],
   "source": [
    "train, test = train_test_split(data, test_size=0.25, random_state=0)"
   ]
  },
  {
   "cell_type": "code",
   "execution_count": 97,
   "id": "53a26411-9311-4e26-9bda-bcccc353fb77",
   "metadata": {},
   "outputs": [],
   "source": [
    "algo = SVD()\n",
    "algo.fit(train)"
   ]
  },
  {
   "cell_type": "code",
   "execution_count": 100,
   "id": "fe215711-1f64-43ee-a2e7-7b4746fab2c1",
   "metadata": {},
   "outputs": [],
   "source": [
    "preds = algo.test(test)"
   ]
  },
  {
   "cell_type": "code",
   "execution_count": 101,
   "id": "efe22a79-de64-453d-b2de-9516cbafa2bf",
   "metadata": {},
   "outputs": [
    {
     "data": {
      "text/plain": [
       "[Prediction(uid='120', iid='282', r_ui=4.0, est=3.780911729142858, details={'was_impossible': False}),\n",
       " Prediction(uid='882', iid='291', r_ui=4.0, est=3.725799972832935, details={'was_impossible': False})]"
      ]
     },
     "execution_count": 101,
     "metadata": {},
     "output_type": "execute_result"
    }
   ],
   "source": [
    "preds[:2]"
   ]
  },
  {
   "cell_type": "code",
   "execution_count": 102,
   "id": "7cfad568-1826-4fd5-9428-f9eb1d97a7ea",
   "metadata": {},
   "outputs": [
    {
     "data": {
      "text/plain": [
       "'120'"
      ]
     },
     "execution_count": 102,
     "metadata": {},
     "output_type": "execute_result"
    }
   ],
   "source": [
    "preds[0].uid"
   ]
  },
  {
   "cell_type": "code",
   "execution_count": 104,
   "id": "629ee326-8271-458e-bb1f-f0fa5d651fd3",
   "metadata": {},
   "outputs": [
    {
     "name": "stdout",
     "output_type": "stream",
     "text": [
      "120 282 4.0 3.780911729142858\n",
      "882 291 4.0 3.725799972832935\n",
      "535 507 5.0 4.006666786354635\n",
      "697 244 5.0 3.454507057094464\n",
      "751 385 4.0 3.3815057517547644\n",
      "219 82 1.0 3.991339101307778\n",
      "279 571 4.0 2.762208948651057\n",
      "429 568 3.0 3.27551674863438\n",
      "456 100 3.0 4.017900970327582\n",
      "249 23 4.0 4.521613684422094\n"
     ]
    }
   ],
   "source": [
    "for pred in preds[0:10]:\n",
    "      print(pred.uid, pred.iid, pred.r_ui, pred.est)"
   ]
  },
  {
   "cell_type": "code",
   "execution_count": 105,
   "id": "9420ff3c-802c-4c3f-9040-7949da4f5595",
   "metadata": {},
   "outputs": [
    {
     "data": {
      "text/plain": [
       "Prediction(uid='120', iid='282', r_ui=None, est=3.780911729142858, details={'was_impossible': False})"
      ]
     },
     "execution_count": 105,
     "metadata": {},
     "output_type": "execute_result"
    }
   ],
   "source": [
    "algo.predict(str(120),str(282))"
   ]
  },
  {
   "cell_type": "code",
   "execution_count": null,
   "id": "9fb0de9a-4cbc-4223-8234-97f8a4a5a47d",
   "metadata": {},
   "outputs": [],
   "source": []
  }
 ],
 "metadata": {
  "kernelspec": {
   "display_name": "Python 3 (ipykernel)",
   "language": "python",
   "name": "python3"
  },
  "language_info": {
   "codemirror_mode": {
    "name": "ipython",
    "version": 3
   },
   "file_extension": ".py",
   "mimetype": "text/x-python",
   "name": "python",
   "nbconvert_exporter": "python",
   "pygments_lexer": "ipython3",
   "version": "3.10.9"
  }
 },
 "nbformat": 4,
 "nbformat_minor": 5
}
